{
 "cells": [
  {
   "cell_type": "code",
   "execution_count": 47,
   "metadata": {
    "scrolled": true
   },
   "outputs": [
    {
     "name": "stdout",
     "output_type": "stream",
     "text": [
      "Filesystem      Size  Used Avail Use% Mounted on\r\n",
      "udev            213G     0  213G   0% /dev\r\n",
      "tmpfs            43G  4.1G   39G  10% /run\r\n",
      "/dev/sda1        62G   32G   30G  52% /\r\n",
      "tmpfs           213G  212K  213G   1% /dev/shm\r\n",
      "tmpfs           5.0M     0  5.0M   0% /run/lock\r\n",
      "tmpfs           213G     0  213G   0% /sys/fs/cgroup\r\n",
      "/dev/sdb1       851G   75G  733G  10% /mnt\r\n",
      "tmpfs            43G  204K   43G   1% /run/user/1000\r\n"
     ]
    }
   ],
   "source": [
    "!df -h"
   ]
  },
  {
   "cell_type": "code",
   "execution_count": 48,
   "metadata": {},
   "outputs": [],
   "source": [
    "from IPython.core.interactiveshell import InteractiveShell\n",
    "InteractiveShell.ast_node_interactivity = \"all\"\n",
    "\n",
    "import numpy as np\n",
    "import pandas as pd\n",
    "from matplotlib import pyplot as plt\n",
    "import random\n",
    "import sklearn\n",
    "from sklearn import metrics\n",
    "import sklearn.model_selection\n",
    "import datetime\n",
    "import time\n",
    "import os\n",
    "import math\n",
    "random.seed(1)\n",
    "%matplotlib inline"
   ]
  },
  {
   "cell_type": "code",
   "execution_count": 49,
   "metadata": {},
   "outputs": [
    {
     "data": {
      "text/plain": [
       "64"
      ]
     },
     "execution_count": 49,
     "metadata": {},
     "output_type": "execute_result"
    }
   ],
   "source": [
    "import multiprocessing as mp\n",
    "mp.cpu_count()"
   ]
  },
  {
   "cell_type": "code",
   "execution_count": 50,
   "metadata": {},
   "outputs": [],
   "source": [
    "# import mine_concept\n",
    "# import importlib\n",
    "# from multiprocessing import Pool\n",
    "# importlib.reload(mine_concept)"
   ]
  },
  {
   "cell_type": "code",
   "execution_count": 51,
   "metadata": {},
   "outputs": [],
   "source": [
    "DATA_FOLDER = 'CreditScoring-master'"
   ]
  },
  {
   "cell_type": "code",
   "execution_count": 52,
   "metadata": {},
   "outputs": [],
   "source": [
    "TARGET_NAME = 'Status'\n",
    "\n",
    "df_train = pd.read_csv(os.path.join(DATA_FOLDER, 'df_train.csv'), index_col=0)\n",
    "df_test = pd.read_csv(os.path.join(DATA_FOLDER, 'df_test.csv'), index_col=0)"
   ]
  },
  {
   "cell_type": "code",
   "execution_count": 53,
   "metadata": {},
   "outputs": [
    {
     "data": {
      "text/plain": [
       "('Status', 1    2256\n",
       " 2     862\n",
       " 0       1\n",
       " Name: Status, dtype: int64)"
      ]
     },
     "execution_count": 53,
     "metadata": {},
     "output_type": "execute_result"
    },
    {
     "data": {
      "text/plain": [
       "('Seniority', 0     379\n",
       " 1     362\n",
       " 2     312\n",
       " 3     226\n",
       " 5     200\n",
       " 10    171\n",
       " 4     165\n",
       " 6     133\n",
       " 15    120\n",
       " 8     117\n",
       " 20     99\n",
       " 12     89\n",
       " 7      86\n",
       " 14     73\n",
       " 11     70\n",
       " 13     65\n",
       " 9      56\n",
       " 16     45\n",
       " 25     44\n",
       " 18     42\n",
       " 17     38\n",
       " 30     36\n",
       " 19     28\n",
       " 22     26\n",
       " 23     20\n",
       " 24     14\n",
       " 21     14\n",
       " 28     11\n",
       " 26     10\n",
       " 27     10\n",
       " 40      9\n",
       " 31      9\n",
       " 35      7\n",
       " 29      7\n",
       " 32      6\n",
       " 33      4\n",
       " 36      3\n",
       " 38      3\n",
       " 37      3\n",
       " 43      1\n",
       " 48      1\n",
       " 42      1\n",
       " 41      1\n",
       " 45      1\n",
       " 39      1\n",
       " 47      1\n",
       " Name: Seniority, dtype: int64)"
      ]
     },
     "execution_count": 53,
     "metadata": {},
     "output_type": "execute_result"
    },
    {
     "data": {
      "text/plain": [
       "('Home', 2    1467\n",
       " 1     674\n",
       " 5     553\n",
       " 6     241\n",
       " 3     167\n",
       " 4      14\n",
       " 0       3\n",
       " Name: Home, dtype: int64)"
      ]
     },
     "execution_count": 53,
     "metadata": {},
     "output_type": "execute_result"
    },
    {
     "data": {
      "text/plain": [
       "('Time', 60    1333\n",
       " 36     659\n",
       " 48     606\n",
       " 24     259\n",
       " 12     105\n",
       " 18      60\n",
       " 30      40\n",
       " 6       24\n",
       " 42      22\n",
       " 54      10\n",
       " 72       1\n",
       " Name: Time, dtype: int64)"
      ]
     },
     "execution_count": 53,
     "metadata": {},
     "output_type": "execute_result"
    },
    {
     "data": {
      "text/plain": [
       "('Age', 28    116\n",
       " 27    114\n",
       " 32    113\n",
       " 30    112\n",
       " 24    111\n",
       " 34    109\n",
       " 37    107\n",
       " 26    106\n",
       " 36    104\n",
       " 31    100\n",
       " 40     97\n",
       " 29     95\n",
       " 23     92\n",
       " 38     91\n",
       " 25     90\n",
       " 39     89\n",
       " 35     89\n",
       " 33     89\n",
       " 41     84\n",
       " 22     82\n",
       " 42     73\n",
       " 43     69\n",
       " 46     69\n",
       " 49     65\n",
       " 45     63\n",
       " 47     61\n",
       " 51     60\n",
       " 50     56\n",
       " 52     55\n",
       " 21     53\n",
       " 44     52\n",
       " 53     48\n",
       " 55     46\n",
       " 48     45\n",
       " 54     40\n",
       " 20     36\n",
       " 56     33\n",
       " 58     31\n",
       " 60     28\n",
       " 61     24\n",
       " 59     23\n",
       " 19     21\n",
       " 57     19\n",
       " 62     15\n",
       " 64     12\n",
       " 63     10\n",
       " 65      8\n",
       " 66      7\n",
       " 18      6\n",
       " 68      1\n",
       " Name: Age, dtype: int64)"
      ]
     },
     "execution_count": 53,
     "metadata": {},
     "output_type": "execute_result"
    },
    {
     "data": {
      "text/plain": [
       "('Marital', 2    2256\n",
       " 1     693\n",
       " 4      83\n",
       " 3      58\n",
       " 5      29\n",
       " Name: Marital, dtype: int64)"
      ]
     },
     "execution_count": 53,
     "metadata": {},
     "output_type": "execute_result"
    },
    {
     "data": {
      "text/plain": [
       "('Records', 1    2560\n",
       " 2     559\n",
       " Name: Records, dtype: int64)"
      ]
     },
     "execution_count": 53,
     "metadata": {},
     "output_type": "execute_result"
    },
    {
     "data": {
      "text/plain": [
       "('Job', 1    1940\n",
       " 3     730\n",
       " 2     324\n",
       " 4     125\n",
       " Name: Job, dtype: int64)"
      ]
     },
     "execution_count": 53,
     "metadata": {},
     "output_type": "execute_result"
    },
    {
     "data": {
      "text/plain": [
       "('Expenses', 35     866\n",
       " 45     579\n",
       " 60     535\n",
       " 75     406\n",
       " 90     139\n",
       " 105     23\n",
       " 47      22\n",
       " 57      19\n",
       " 54      18\n",
       " 46      18\n",
       " 70      17\n",
       " 74      15\n",
       " 53      14\n",
       " 58      14\n",
       " 42      14\n",
       " 50      14\n",
       " 44      13\n",
       " 66      13\n",
       " 55      13\n",
       " 59      13\n",
       " 56      13\n",
       " 85      12\n",
       " 43      12\n",
       " 49      11\n",
       " 51      11\n",
       " 52      11\n",
       " 82      11\n",
       " 41      10\n",
       " 77      10\n",
       " 88       9\n",
       "       ... \n",
       " 113      4\n",
       " 40       3\n",
       " 83       3\n",
       " 64       3\n",
       " 92       3\n",
       " 101      3\n",
       " 102      2\n",
       " 98       2\n",
       " 110      2\n",
       " 38       2\n",
       " 173      1\n",
       " 104      1\n",
       " 180      1\n",
       " 131      1\n",
       " 119      1\n",
       " 115      1\n",
       " 109      1\n",
       " 107      1\n",
       " 39       1\n",
       " 37       1\n",
       " 153      1\n",
       " 106      1\n",
       " 150      1\n",
       " 140      1\n",
       " 130      1\n",
       " 126      1\n",
       " 118      1\n",
       " 114      1\n",
       " 112      1\n",
       " 168      1\n",
       " Name: Expenses, Length: 90, dtype: int64)"
      ]
     },
     "execution_count": 53,
     "metadata": {},
     "output_type": "execute_result"
    },
    {
     "data": {
      "text/plain": [
       "('Income', 0           237\n",
       " 100         107\n",
       " 120          83\n",
       " 150          79\n",
       " 110          62\n",
       " 80           62\n",
       " 90           55\n",
       " 125          48\n",
       " 140          48\n",
       " 130          47\n",
       " 70           46\n",
       " 60           46\n",
       " 160          46\n",
       " 200          46\n",
       " 250          40\n",
       " 105          35\n",
       " 115          33\n",
       " 95           30\n",
       " 75           29\n",
       " 85           28\n",
       " 92           27\n",
       " 170          26\n",
       " 180          26\n",
       " 99999999     26\n",
       " 300          25\n",
       " 135          25\n",
       " 145          25\n",
       " 50           25\n",
       " 107          24\n",
       " 128          20\n",
       "            ... \n",
       " 390           1\n",
       " 384           1\n",
       " 359           1\n",
       " 355           1\n",
       " 196           1\n",
       " 345           1\n",
       " 206           1\n",
       " 226           1\n",
       " 232           1\n",
       " 234           1\n",
       " 248           1\n",
       " 341           1\n",
       " 256           1\n",
       " 264           1\n",
       " 266           1\n",
       " 276           1\n",
       " 288           1\n",
       " 292           1\n",
       " 294           1\n",
       " 296           1\n",
       " 306           1\n",
       " 310           1\n",
       " 312           1\n",
       " 346           1\n",
       " 352           1\n",
       " 356           1\n",
       " 360           1\n",
       " 364           1\n",
       " 382           1\n",
       " 478           1\n",
       " Name: Income, Length: 328, dtype: int64)"
      ]
     },
     "execution_count": 53,
     "metadata": {},
     "output_type": "execute_result"
    },
    {
     "data": {
      "text/plain": [
       "('Assets', 0           1130\n",
       " 4000         231\n",
       " 5000         196\n",
       " 3000         189\n",
       " 3500         137\n",
       " 6000         116\n",
       " 8000          99\n",
       " 10000         93\n",
       " 7000          84\n",
       " 2500          77\n",
       " 2000          73\n",
       " 4500          57\n",
       " 15000         49\n",
       " 12000         41\n",
       " 99999999      36\n",
       " 9000          35\n",
       " 20000         30\n",
       " 5500          28\n",
       " 1500          24\n",
       " 14000         21\n",
       " 25000         21\n",
       " 18000         18\n",
       " 30000         18\n",
       " 6500          18\n",
       " 7500          18\n",
       " 16000         16\n",
       " 13000         13\n",
       " 11000         13\n",
       " 8500          11\n",
       " 17000         10\n",
       "             ... \n",
       " 11900          1\n",
       " 3750           1\n",
       " 53000          1\n",
       " 3850           1\n",
       " 16200          1\n",
       " 4030           1\n",
       " 44000          1\n",
       " 7100           1\n",
       " 13600          1\n",
       " 875            1\n",
       " 1434           1\n",
       " 110000         1\n",
       " 1600           1\n",
       " 59000          1\n",
       " 1750           1\n",
       " 2100           1\n",
       " 6200           1\n",
       " 6300           1\n",
       " 2250           1\n",
       " 31000          1\n",
       " 47500          1\n",
       " 14800          1\n",
       " 150000         1\n",
       " 2600           1\n",
       " 6700           1\n",
       " 2650           1\n",
       " 97000          1\n",
       " 93000          1\n",
       " 2900           1\n",
       " 18500          1\n",
       " Name: Assets, Length: 143, dtype: int64)"
      ]
     },
     "execution_count": 53,
     "metadata": {},
     "output_type": "execute_result"
    },
    {
     "data": {
      "text/plain": [
       "('Debt', 0           2574\n",
       " 1500          40\n",
       " 2000          36\n",
       " 3000          34\n",
       " 1000          23\n",
       " 2500          19\n",
       " 1200          16\n",
       " 200           16\n",
       " 500           15\n",
       " 400           15\n",
       " 300           14\n",
       " 99999999      13\n",
       " 900           11\n",
       " 800           11\n",
       " 4000          10\n",
       " 600           10\n",
       " 700           10\n",
       " 1700           9\n",
       " 5000           8\n",
       " 4500           8\n",
       " 3500           7\n",
       " 350            7\n",
       " 1300           7\n",
       " 1800           7\n",
       " 1600           6\n",
       " 100            6\n",
       " 1100           5\n",
       " 50             5\n",
       " 2800           5\n",
       " 2400           5\n",
       "             ... \n",
       " 1728           1\n",
       " 1750           1\n",
       " 2100           1\n",
       " 45             1\n",
       " 6000           1\n",
       " 1950           1\n",
       " 1978           1\n",
       " 1980           1\n",
       " 325            1\n",
       " 1250           1\n",
       " 39             1\n",
       " 6500           1\n",
       " 672            1\n",
       " 991            1\n",
       " 23500          1\n",
       " 933            1\n",
       " 2880           1\n",
       " 770            1\n",
       " 792            1\n",
       " 2850           1\n",
       " 15000          1\n",
       " 870            1\n",
       " 2520           1\n",
       " 960            1\n",
       " 435            1\n",
       " 3055           1\n",
       " 2432           1\n",
       " 1122           1\n",
       " 1172           1\n",
       " 4090           1\n",
       " Name: Debt, Length: 144, dtype: int64)"
      ]
     },
     "execution_count": 53,
     "metadata": {},
     "output_type": "execute_result"
    },
    {
     "data": {
      "text/plain": [
       "('Amount', 1000    367\n",
       " 1500    155\n",
       " 1100    154\n",
       " 800     148\n",
       " 1200    146\n",
       " 1300    138\n",
       " 600     134\n",
       " 900     132\n",
       " 500     129\n",
       " 700     118\n",
       " 1400    109\n",
       " 400      79\n",
       " 1250     61\n",
       " 1350     57\n",
       " 1150     56\n",
       " 850      55\n",
       " 1600     53\n",
       " 750      51\n",
       " 2000     48\n",
       " 950      47\n",
       " 650      46\n",
       " 300      39\n",
       " 1450     36\n",
       " 1800     36\n",
       " 1700     35\n",
       " 450      35\n",
       " 1050     34\n",
       " 200      31\n",
       " 250      26\n",
       " 350      26\n",
       "        ... \n",
       " 983       1\n",
       " 1126      1\n",
       " 1460      1\n",
       " 1120      1\n",
       " 2380      1\n",
       " 1078      1\n",
       " 1035      1\n",
       " 1055      1\n",
       " 1065      1\n",
       " 1048      1\n",
       " 949       1\n",
       " 1270      1\n",
       " 1298      1\n",
       " 943       1\n",
       " 1442      1\n",
       " 1440      1\n",
       " 1426      1\n",
       " 1897      1\n",
       " 887       1\n",
       " 1390      1\n",
       " 1380      1\n",
       " 915       1\n",
       " 933       1\n",
       " 1332      1\n",
       " 1330      1\n",
       " 1320      1\n",
       " 1318      1\n",
       " 1310      1\n",
       " 1308      1\n",
       " 1033      1\n",
       " Name: Amount, Length: 246, dtype: int64)"
      ]
     },
     "execution_count": 53,
     "metadata": {},
     "output_type": "execute_result"
    },
    {
     "data": {
      "text/plain": [
       "('Price', 1200    35\n",
       " 1600    31\n",
       " 1500    30\n",
       " 1400    29\n",
       " 1700    28\n",
       " 1300    28\n",
       " 1100    26\n",
       " 950     22\n",
       " 550     22\n",
       " 1350    22\n",
       " 800     21\n",
       " 1000    19\n",
       " 1150    19\n",
       " 850     18\n",
       " 1800    18\n",
       " 1250    17\n",
       " 1850    17\n",
       " 700     16\n",
       " 1450    16\n",
       " 650     16\n",
       " 975     16\n",
       " 750     16\n",
       " 500     15\n",
       " 1650    14\n",
       " 600     14\n",
       " 400     13\n",
       " 450     12\n",
       " 1550    12\n",
       " 900     12\n",
       " 875     11\n",
       "         ..\n",
       " 2216     1\n",
       " 2212     1\n",
       " 2206     1\n",
       " 2202     1\n",
       " 2194     1\n",
       " 2354     1\n",
       " 2360     1\n",
       " 2362     1\n",
       " 2440     1\n",
       " 2504     1\n",
       " 2502     1\n",
       " 5000     1\n",
       " 435      1\n",
       " 2478     1\n",
       " 2472     1\n",
       " 2468     1\n",
       " 2460     1\n",
       " 2448     1\n",
       " 2438     1\n",
       " 6468     1\n",
       " 2436     1\n",
       " 2432     1\n",
       " 2428     1\n",
       " 2420     1\n",
       " 2414     1\n",
       " 365      1\n",
       " 363      1\n",
       " 6500     1\n",
       " 355      1\n",
       " 4100     1\n",
       " Name: Price, Length: 1226, dtype: int64)"
      ]
     },
     "execution_count": 53,
     "metadata": {},
     "output_type": "execute_result"
    }
   ],
   "source": [
    "for col in df_train.columns:\n",
    "    col, df_train[col].value_counts()"
   ]
  },
  {
   "cell_type": "code",
   "execution_count": 54,
   "metadata": {},
   "outputs": [],
   "source": [
    "categ_features = ['Home', 'Marital', 'Job']"
   ]
  },
  {
   "cell_type": "code",
   "execution_count": 55,
   "metadata": {},
   "outputs": [
    {
     "data": {
      "text/plain": [
       "OneHotEncoder(categorical_features=None, categories='auto',\n",
       "       dtype=<class 'numpy.float64'>, handle_unknown='ignore',\n",
       "       n_values=None, sparse=False)"
      ]
     },
     "execution_count": 55,
     "metadata": {},
     "output_type": "execute_result"
    }
   ],
   "source": [
    "from sklearn.preprocessing import OneHotEncoder\n",
    "ohe = OneHotEncoder(categories='auto', sparse=False, handle_unknown='ignore')\n",
    "ohe.fit(df_train[categ_features])\n",
    "\n",
    "df_train_categ = pd.DataFrame(ohe.transform(df_train[categ_features])).astype(int)\n",
    "df_test_categ = pd.DataFrame(ohe.transform(df_test[categ_features])).astype(int)"
   ]
  },
  {
   "cell_type": "code",
   "execution_count": 56,
   "metadata": {},
   "outputs": [
    {
     "data": {
      "text/plain": [
       "RangeIndex(start=0, stop=16, step=1)"
      ]
     },
     "execution_count": 56,
     "metadata": {},
     "output_type": "execute_result"
    }
   ],
   "source": [
    "df_train_categ.columns"
   ]
  },
  {
   "cell_type": "code",
   "execution_count": 57,
   "metadata": {},
   "outputs": [],
   "source": [
    "for i in range(16):\n",
    "    df_train[i] = df_train_categ.values.astype(int)[:,i]\n",
    "    df_test[i] = df_test_categ.values.astype(int)[:,i]"
   ]
  },
  {
   "cell_type": "code",
   "execution_count": 58,
   "metadata": {},
   "outputs": [],
   "source": [
    "df_train.drop(categ_features, axis=1, inplace=True)\n",
    "df_test.drop(categ_features, axis=1, inplace=True)"
   ]
  },
  {
   "cell_type": "code",
   "execution_count": 59,
   "metadata": {},
   "outputs": [],
   "source": [
    "df_train.loc[(df_train['Income'] == 0) | (df_train['Income'] == 99999999), 'Income'] = np.nan\n",
    "df_train.loc[(df_train['Assets'] == 99999999), 'Assets'] = np.nan\n",
    "df_train.loc[(df_train['Debt'] == 99999999), 'Debt'] = np.nan\n",
    "\n",
    "df_test.loc[(df_test['Income'] == 0) | (df_test['Income'] == 99999999), 'Income'] = np.nan\n",
    "df_test.loc[(df_test['Assets'] == 99999999), 'Assets'] = np.nan\n",
    "df_test.loc[(df_test['Debt'] == 99999999), 'Debt'] = np.nan"
   ]
  },
  {
   "cell_type": "code",
   "execution_count": 60,
   "metadata": {},
   "outputs": [
    {
     "data": {
      "text/html": [
       "<div>\n",
       "<style scoped>\n",
       "    .dataframe tbody tr th:only-of-type {\n",
       "        vertical-align: middle;\n",
       "    }\n",
       "\n",
       "    .dataframe tbody tr th {\n",
       "        vertical-align: top;\n",
       "    }\n",
       "\n",
       "    .dataframe thead th {\n",
       "        text-align: right;\n",
       "    }\n",
       "</style>\n",
       "<table border=\"1\" class=\"dataframe\">\n",
       "  <thead>\n",
       "    <tr style=\"text-align: right;\">\n",
       "      <th></th>\n",
       "      <th>Seniority</th>\n",
       "      <th>Time</th>\n",
       "      <th>Age</th>\n",
       "      <th>Records</th>\n",
       "      <th>Expenses</th>\n",
       "      <th>Income</th>\n",
       "      <th>Assets</th>\n",
       "      <th>Debt</th>\n",
       "      <th>Amount</th>\n",
       "      <th>Price</th>\n",
       "      <th>...</th>\n",
       "      <th>6</th>\n",
       "      <th>7</th>\n",
       "      <th>8</th>\n",
       "      <th>9</th>\n",
       "      <th>10</th>\n",
       "      <th>11</th>\n",
       "      <th>12</th>\n",
       "      <th>13</th>\n",
       "      <th>14</th>\n",
       "      <th>15</th>\n",
       "    </tr>\n",
       "  </thead>\n",
       "  <tbody>\n",
       "    <tr>\n",
       "      <th>2</th>\n",
       "      <td>10</td>\n",
       "      <td>36</td>\n",
       "      <td>46</td>\n",
       "      <td>2</td>\n",
       "      <td>90</td>\n",
       "      <td>200.0</td>\n",
       "      <td>3000.0</td>\n",
       "      <td>0.0</td>\n",
       "      <td>2000</td>\n",
       "      <td>2985</td>\n",
       "      <td>...</td>\n",
       "      <td>0</td>\n",
       "      <td>0</td>\n",
       "      <td>1</td>\n",
       "      <td>0</td>\n",
       "      <td>0</td>\n",
       "      <td>0</td>\n",
       "      <td>0</td>\n",
       "      <td>0</td>\n",
       "      <td>1</td>\n",
       "      <td>0</td>\n",
       "    </tr>\n",
       "    <tr>\n",
       "      <th>9</th>\n",
       "      <td>0</td>\n",
       "      <td>48</td>\n",
       "      <td>41</td>\n",
       "      <td>1</td>\n",
       "      <td>90</td>\n",
       "      <td>80.0</td>\n",
       "      <td>0.0</td>\n",
       "      <td>0.0</td>\n",
       "      <td>1200</td>\n",
       "      <td>1468</td>\n",
       "      <td>...</td>\n",
       "      <td>0</td>\n",
       "      <td>0</td>\n",
       "      <td>1</td>\n",
       "      <td>0</td>\n",
       "      <td>0</td>\n",
       "      <td>0</td>\n",
       "      <td>0</td>\n",
       "      <td>1</td>\n",
       "      <td>0</td>\n",
       "      <td>0</td>\n",
       "    </tr>\n",
       "    <tr>\n",
       "      <th>18</th>\n",
       "      <td>0</td>\n",
       "      <td>48</td>\n",
       "      <td>36</td>\n",
       "      <td>1</td>\n",
       "      <td>45</td>\n",
       "      <td>130.0</td>\n",
       "      <td>750.0</td>\n",
       "      <td>0.0</td>\n",
       "      <td>1100</td>\n",
       "      <td>1511</td>\n",
       "      <td>...</td>\n",
       "      <td>0</td>\n",
       "      <td>0</td>\n",
       "      <td>1</td>\n",
       "      <td>0</td>\n",
       "      <td>0</td>\n",
       "      <td>0</td>\n",
       "      <td>0</td>\n",
       "      <td>1</td>\n",
       "      <td>0</td>\n",
       "      <td>0</td>\n",
       "    </tr>\n",
       "    <tr>\n",
       "      <th>20</th>\n",
       "      <td>2</td>\n",
       "      <td>60</td>\n",
       "      <td>25</td>\n",
       "      <td>1</td>\n",
       "      <td>46</td>\n",
       "      <td>107.0</td>\n",
       "      <td>0.0</td>\n",
       "      <td>0.0</td>\n",
       "      <td>1500</td>\n",
       "      <td>2189</td>\n",
       "      <td>...</td>\n",
       "      <td>0</td>\n",
       "      <td>1</td>\n",
       "      <td>0</td>\n",
       "      <td>0</td>\n",
       "      <td>0</td>\n",
       "      <td>0</td>\n",
       "      <td>1</td>\n",
       "      <td>0</td>\n",
       "      <td>0</td>\n",
       "      <td>0</td>\n",
       "    </tr>\n",
       "    <tr>\n",
       "      <th>22</th>\n",
       "      <td>1</td>\n",
       "      <td>60</td>\n",
       "      <td>45</td>\n",
       "      <td>1</td>\n",
       "      <td>105</td>\n",
       "      <td>112.0</td>\n",
       "      <td>2000.0</td>\n",
       "      <td>500.0</td>\n",
       "      <td>600</td>\n",
       "      <td>1332</td>\n",
       "      <td>...</td>\n",
       "      <td>0</td>\n",
       "      <td>0</td>\n",
       "      <td>1</td>\n",
       "      <td>0</td>\n",
       "      <td>0</td>\n",
       "      <td>0</td>\n",
       "      <td>0</td>\n",
       "      <td>1</td>\n",
       "      <td>0</td>\n",
       "      <td>0</td>\n",
       "    </tr>\n",
       "  </tbody>\n",
       "</table>\n",
       "<p>5 rows × 26 columns</p>\n",
       "</div>"
      ],
      "text/plain": [
       "    Seniority  Time  Age  Records  Expenses  Income  Assets   Debt  Amount  \\\n",
       "2          10    36   46        2        90   200.0  3000.0    0.0    2000   \n",
       "9           0    48   41        1        90    80.0     0.0    0.0    1200   \n",
       "18          0    48   36        1        45   130.0   750.0    0.0    1100   \n",
       "20          2    60   25        1        46   107.0     0.0    0.0    1500   \n",
       "22          1    60   45        1       105   112.0  2000.0  500.0     600   \n",
       "\n",
       "    Price ...  6  7  8  9  10  11  12  13  14  15  \n",
       "2    2985 ...  0  0  1  0   0   0   0   0   1   0  \n",
       "9    1468 ...  0  0  1  0   0   0   0   1   0   0  \n",
       "18   1511 ...  0  0  1  0   0   0   0   1   0   0  \n",
       "20   2189 ...  0  1  0  0   0   0   1   0   0   0  \n",
       "22   1332 ...  0  0  1  0   0   0   0   1   0   0  \n",
       "\n",
       "[5 rows x 26 columns]"
      ]
     },
     "execution_count": 60,
     "metadata": {},
     "output_type": "execute_result"
    }
   ],
   "source": [
    "df_train = df_train.query(TARGET_NAME + \"!= 0\")\n",
    "df_test = df_test.query(TARGET_NAME + \"!= 0\")\n",
    "\n",
    "df_train[TARGET_NAME] = df_train[TARGET_NAME].replace({1:0, 2:1})\n",
    "df_test[TARGET_NAME] = df_test[TARGET_NAME].replace({1:0, 2:1})\n",
    "\n",
    "y_train = df_train[TARGET_NAME]\n",
    "y_test = df_test[TARGET_NAME]\n",
    "\n",
    "df_train_pos = df_train[df_train[TARGET_NAME]==1].drop(TARGET_NAME,axis=1)\n",
    "df_train_neg = df_train[df_train[TARGET_NAME]==0].drop(TARGET_NAME,axis=1)\n",
    "\n",
    "df_train_pos.head()"
   ]
  },
  {
   "cell_type": "code",
   "execution_count": 62,
   "metadata": {},
   "outputs": [
    {
     "data": {
      "text/plain": [
       "(3118, 27)"
      ]
     },
     "execution_count": 62,
     "metadata": {},
     "output_type": "execute_result"
    },
    {
     "data": {
      "text/plain": [
       "(1336, 27)"
      ]
     },
     "execution_count": 62,
     "metadata": {},
     "output_type": "execute_result"
    }
   ],
   "source": [
    "df_train.shape\n",
    "df_test.shape"
   ]
  },
  {
   "cell_type": "code",
   "execution_count": 63,
   "metadata": {},
   "outputs": [],
   "source": [
    "df_train = df_train.drop(TARGET_NAME,axis=1)\n",
    "df_test = df_test.drop(TARGET_NAME,axis=1)"
   ]
  },
  {
   "cell_type": "code",
   "execution_count": 64,
   "metadata": {},
   "outputs": [],
   "source": [
    "df_train_pos.to_csv(os.path.join(DATA_FOLDER, 'df_train_pos.csv'))\n",
    "df_train_neg.to_csv(os.path.join(DATA_FOLDER, 'df_train_neg.csv'))"
   ]
  },
  {
   "cell_type": "code",
   "execution_count": 65,
   "metadata": {},
   "outputs": [],
   "source": [
    "df_train_pos = pd.read_csv(os.path.join(DATA_FOLDER, 'df_train_pos.csv'),index_col=0)\n",
    "df_train_neg = pd.read_csv(os.path.join(DATA_FOLDER, 'df_train_neg.csv'),index_col=0)"
   ]
  },
  {
   "cell_type": "code",
   "execution_count": 66,
   "metadata": {},
   "outputs": [
    {
     "data": {
      "text/html": [
       "<div>\n",
       "<style scoped>\n",
       "    .dataframe tbody tr th:only-of-type {\n",
       "        vertical-align: middle;\n",
       "    }\n",
       "\n",
       "    .dataframe tbody tr th {\n",
       "        vertical-align: top;\n",
       "    }\n",
       "\n",
       "    .dataframe thead th {\n",
       "        text-align: right;\n",
       "    }\n",
       "</style>\n",
       "<table border=\"1\" class=\"dataframe\">\n",
       "  <thead>\n",
       "    <tr style=\"text-align: right;\">\n",
       "      <th></th>\n",
       "      <th>Seniority</th>\n",
       "      <th>Time</th>\n",
       "      <th>Age</th>\n",
       "      <th>Records</th>\n",
       "      <th>Expenses</th>\n",
       "      <th>Income</th>\n",
       "      <th>Assets</th>\n",
       "      <th>Debt</th>\n",
       "      <th>Amount</th>\n",
       "      <th>Price</th>\n",
       "      <th>...</th>\n",
       "      <th>6</th>\n",
       "      <th>7</th>\n",
       "      <th>8</th>\n",
       "      <th>9</th>\n",
       "      <th>10</th>\n",
       "      <th>11</th>\n",
       "      <th>12</th>\n",
       "      <th>13</th>\n",
       "      <th>14</th>\n",
       "      <th>15</th>\n",
       "    </tr>\n",
       "  </thead>\n",
       "  <tbody>\n",
       "    <tr>\n",
       "      <th>2</th>\n",
       "      <td>10</td>\n",
       "      <td>36</td>\n",
       "      <td>46</td>\n",
       "      <td>2</td>\n",
       "      <td>90</td>\n",
       "      <td>200.0</td>\n",
       "      <td>3000.0</td>\n",
       "      <td>0.0</td>\n",
       "      <td>2000</td>\n",
       "      <td>2985</td>\n",
       "      <td>...</td>\n",
       "      <td>0</td>\n",
       "      <td>0</td>\n",
       "      <td>1</td>\n",
       "      <td>0</td>\n",
       "      <td>0</td>\n",
       "      <td>0</td>\n",
       "      <td>0</td>\n",
       "      <td>0</td>\n",
       "      <td>1</td>\n",
       "      <td>0</td>\n",
       "    </tr>\n",
       "    <tr>\n",
       "      <th>9</th>\n",
       "      <td>0</td>\n",
       "      <td>48</td>\n",
       "      <td>41</td>\n",
       "      <td>1</td>\n",
       "      <td>90</td>\n",
       "      <td>80.0</td>\n",
       "      <td>0.0</td>\n",
       "      <td>0.0</td>\n",
       "      <td>1200</td>\n",
       "      <td>1468</td>\n",
       "      <td>...</td>\n",
       "      <td>0</td>\n",
       "      <td>0</td>\n",
       "      <td>1</td>\n",
       "      <td>0</td>\n",
       "      <td>0</td>\n",
       "      <td>0</td>\n",
       "      <td>0</td>\n",
       "      <td>1</td>\n",
       "      <td>0</td>\n",
       "      <td>0</td>\n",
       "    </tr>\n",
       "    <tr>\n",
       "      <th>18</th>\n",
       "      <td>0</td>\n",
       "      <td>48</td>\n",
       "      <td>36</td>\n",
       "      <td>1</td>\n",
       "      <td>45</td>\n",
       "      <td>130.0</td>\n",
       "      <td>750.0</td>\n",
       "      <td>0.0</td>\n",
       "      <td>1100</td>\n",
       "      <td>1511</td>\n",
       "      <td>...</td>\n",
       "      <td>0</td>\n",
       "      <td>0</td>\n",
       "      <td>1</td>\n",
       "      <td>0</td>\n",
       "      <td>0</td>\n",
       "      <td>0</td>\n",
       "      <td>0</td>\n",
       "      <td>1</td>\n",
       "      <td>0</td>\n",
       "      <td>0</td>\n",
       "    </tr>\n",
       "    <tr>\n",
       "      <th>20</th>\n",
       "      <td>2</td>\n",
       "      <td>60</td>\n",
       "      <td>25</td>\n",
       "      <td>1</td>\n",
       "      <td>46</td>\n",
       "      <td>107.0</td>\n",
       "      <td>0.0</td>\n",
       "      <td>0.0</td>\n",
       "      <td>1500</td>\n",
       "      <td>2189</td>\n",
       "      <td>...</td>\n",
       "      <td>0</td>\n",
       "      <td>1</td>\n",
       "      <td>0</td>\n",
       "      <td>0</td>\n",
       "      <td>0</td>\n",
       "      <td>0</td>\n",
       "      <td>1</td>\n",
       "      <td>0</td>\n",
       "      <td>0</td>\n",
       "      <td>0</td>\n",
       "    </tr>\n",
       "    <tr>\n",
       "      <th>22</th>\n",
       "      <td>1</td>\n",
       "      <td>60</td>\n",
       "      <td>45</td>\n",
       "      <td>1</td>\n",
       "      <td>105</td>\n",
       "      <td>112.0</td>\n",
       "      <td>2000.0</td>\n",
       "      <td>500.0</td>\n",
       "      <td>600</td>\n",
       "      <td>1332</td>\n",
       "      <td>...</td>\n",
       "      <td>0</td>\n",
       "      <td>0</td>\n",
       "      <td>1</td>\n",
       "      <td>0</td>\n",
       "      <td>0</td>\n",
       "      <td>0</td>\n",
       "      <td>0</td>\n",
       "      <td>1</td>\n",
       "      <td>0</td>\n",
       "      <td>0</td>\n",
       "    </tr>\n",
       "  </tbody>\n",
       "</table>\n",
       "<p>5 rows × 26 columns</p>\n",
       "</div>"
      ],
      "text/plain": [
       "    Seniority  Time  Age  Records  Expenses  Income  Assets   Debt  Amount  \\\n",
       "2          10    36   46        2        90   200.0  3000.0    0.0    2000   \n",
       "9           0    48   41        1        90    80.0     0.0    0.0    1200   \n",
       "18          0    48   36        1        45   130.0   750.0    0.0    1100   \n",
       "20          2    60   25        1        46   107.0     0.0    0.0    1500   \n",
       "22          1    60   45        1       105   112.0  2000.0  500.0     600   \n",
       "\n",
       "    Price ...  6  7  8  9  10  11  12  13  14  15  \n",
       "2    2985 ...  0  0  1  0   0   0   0   0   1   0  \n",
       "9    1468 ...  0  0  1  0   0   0   0   1   0   0  \n",
       "18   1511 ...  0  0  1  0   0   0   0   1   0   0  \n",
       "20   2189 ...  0  1  0  0   0   0   1   0   0   0  \n",
       "22   1332 ...  0  0  1  0   0   0   0   1   0   0  \n",
       "\n",
       "[5 rows x 26 columns]"
      ]
     },
     "execution_count": 66,
     "metadata": {},
     "output_type": "execute_result"
    }
   ],
   "source": [
    "df_train_pos.head()"
   ]
  },
  {
   "cell_type": "code",
   "execution_count": 67,
   "metadata": {
    "scrolled": true
   },
   "outputs": [
    {
     "data": {
      "text/plain": [
       "(2256, 26)"
      ]
     },
     "execution_count": 67,
     "metadata": {},
     "output_type": "execute_result"
    }
   ],
   "source": [
    "df_train_neg.shape"
   ]
  },
  {
   "cell_type": "code",
   "execution_count": 68,
   "metadata": {},
   "outputs": [],
   "source": [
    "X_pos = df_train_pos.values\n",
    "X_neg = df_train_neg.values\n",
    "X_test = df_test.values"
   ]
  },
  {
   "cell_type": "code",
   "execution_count": 69,
   "metadata": {
    "scrolled": false
   },
   "outputs": [
    {
     "data": {
      "text/plain": [
       "(1336, 26)"
      ]
     },
     "execution_count": 69,
     "metadata": {},
     "output_type": "execute_result"
    }
   ],
   "source": [
    "X_test.shape"
   ]
  },
  {
   "cell_type": "markdown",
   "metadata": {},
   "source": [
    "### PatternStructuresMiner"
   ]
  },
  {
   "cell_type": "code",
   "execution_count": 21,
   "metadata": {},
   "outputs": [],
   "source": [
    "def nunique_percol_sort(a):\n",
    "    \"\"\"Number of unique values in a row of array\"\"\"\n",
    "    b = np.sort(a,axis=1)\n",
    "    return (b[:,1:] != b[:,:-1]).sum(axis=1)+1\n",
    "\n",
    "class PatternStructuresMiner():\n",
    "    \"\"\"\n",
    "    Basic class to explore intersections of objects and build hypotheses\n",
    "    \"\"\"\n",
    "    def __init__(self, data_pos, data_neg, feature_list):\n",
    "        \"\"\"\n",
    "        :param data_pos: Pandas.DataFrame with objects from class 1\n",
    "        :param data_neg: Pandas.DataFrame with objects from class 0\n",
    "        :param feature_list: list of column names used as features\n",
    "        \"\"\"\n",
    "        self.data_pos = data_pos[feature_list]\n",
    "        self.data_neg = data_neg[feature_list]\n",
    "        self.X_pos_expanded = np.expand_dims(self.data_pos.values, 0)\n",
    "        self.X_neg_expanded = np.expand_dims(self.data_neg.values, 0)\n",
    "        self.feature_list = feature_list\n",
    "        self.is_nan_X_pos_expanded = np.isnan(self.X_pos_expanded)\n",
    "        self.is_nan_X_neg_expanded = np.isnan(self.X_neg_expanded)\n",
    "    \n",
    "    def mine_obj_intersections(self, n_obj, subs_size, concepts_type):\n",
    "        # np.random.choice is too slow\n",
    "        print(\"Mining {} intersections\".format(n_obj))\n",
    "        data = self.data_pos if concepts_type == 'pos' else self.data_neg\n",
    "        indexes = np.random.randint(0, data.shape[0], size=(n_obj, subs_size))\n",
    "\n",
    "        # provide objects in subsamples are unique\n",
    "        n_unique = nunique_percol_sort(indexes)\n",
    "        indexes = indexes[n_unique == subs_size]\n",
    "        \n",
    "        # left & right borders of interval pattern structures\n",
    "        concepts_min = np.expand_dims(np.nanmin(data.values[indexes], axis=1), 1)\n",
    "        concepts_max = np.expand_dims(np.nanmax(data.values[indexes], axis=1), 1)\n",
    "\n",
    "        # \n",
    "        num_neg_objs_in_concepts = ((((concepts_min <= self.X_neg_expanded) | np.isnan(concepts_min)) & \n",
    "                                    ((concepts_max >= self.X_neg_expanded) | np.isnan(concepts_max))) | \n",
    "                                    self.is_nan_X_neg_expanded).all(axis=2).sum(axis=1)\n",
    "        num_pos_objs_in_concepts = ((((concepts_min <= self.X_pos_expanded) | np.isnan(concepts_min)) & \n",
    "                                    ((concepts_max >= self.X_pos_expanded) | np.isnan(concepts_max))) | \n",
    "                                    self.is_nan_X_pos_expanded).all(axis=2).sum(axis=1)\n",
    "        \n",
    "        # stats\n",
    "        pos_support = num_pos_objs_in_concepts / self.data_pos.shape[0]\n",
    "        neg_support = num_neg_objs_in_concepts / self.data_neg.shape[0]\n",
    "        pos_confidence = num_pos_objs_in_concepts / (num_pos_objs_in_concepts + num_neg_objs_in_concepts) \n",
    "        neg_confidence = num_neg_objs_in_concepts / (num_pos_objs_in_concepts + num_neg_objs_in_concepts) \n",
    "        \n",
    "#         print(\"Mining obj Finished\")\n",
    "        return concepts_min[:,0,:], concepts_max[:,0,:], \\\n",
    "                pd.DataFrame({'N_pos_in_concepts':num_pos_objs_in_concepts,\n",
    "                              'N_neg_in_concepts':num_neg_objs_in_concepts,\n",
    "                              'concepts_type':[concepts_type]*num_pos_objs_in_concepts.shape[0],\n",
    "                              'subs_size':[subs_size]*num_pos_objs_in_concepts.shape[0],\n",
    "                              'N_pos_all':[self.data_pos.shape[0]]*num_pos_objs_in_concepts.shape[0],\n",
    "                              'N_neg_all':[self.data_neg.shape[0]]*num_pos_objs_in_concepts.shape[0],\n",
    "                              'pos_support' : pos_support,\n",
    "                              'neg_support' : neg_support,\n",
    "                              'pos_confidence' : pos_confidence,\n",
    "                              'neg_confidence' : neg_confidence\n",
    "                               })\n",
    "    \n",
    "    \n",
    "    def mine_hypotheses(self, alpha, hypo_type, subs_size,\n",
    "                      N_hypo_need = None, N_iterations = None, batch_size = 1000, save_path = None):\n",
    "        N_mined_hypo = 0\n",
    "        hypotheses_min_LIST = []\n",
    "        hypotheses_max_LIST = []\n",
    "        iter_total = 0\n",
    "        \n",
    "        while N_mined_hypo < N_hypo_need:\n",
    "            concepts_min, concepts_max, stats_concepts = self.mine_obj_intersections(batch_size, subs_size, hypo_type)\n",
    "            good_hypos_idxs = stats_concepts.query(hypo_type + \"_confidence >= \" + str(alpha)).index\n",
    "            hypotheses_min_LIST.append(concepts_min[good_hypos_idxs])\n",
    "            hypotheses_max_LIST.append(concepts_max[good_hypos_idxs])\n",
    "            N_mined_hypo += good_hypos_idxs.shape[0]\n",
    "            print(\"N_mined_hypos of type \" + hypo_type, N_mined_hypo)\n",
    "            iter_total += batch_size\n",
    "            if N_iterations and iter_total >= N_iterations:\n",
    "                break\n",
    "            \n",
    "        hypotheses_min = np.concatenate(hypotheses_min_LIST)\n",
    "        hypotheses_max = np.concatenate(hypotheses_max_LIST)\n",
    "        if N_hypo_need:\n",
    "            hypotheses_min = hypotheses_min[:N_hypo_need]\n",
    "            hypotheses_max = hypotheses_max[:N_hypo_need]\n",
    "        \n",
    "        if save_path:\n",
    "            pd.DataFrame(hypotheses_min).to_csv(os.path.join(save_path, \"hypotheses_min.csv\"), header=None, index=None)\n",
    "            pd.DataFrame(hypotheses_max).to_csv(os.path.join(save_path, \"hypotheses_max.csv\"), header=None, index=None)\n",
    "        \n",
    "        return hypotheses_min, hypotheses_max\n",
    "        \n"
   ]
  },
  {
   "cell_type": "code",
   "execution_count": 22,
   "metadata": {},
   "outputs": [],
   "source": [
    "features = ['Seniority', 'Time', 'Age', 'Records',\n",
    "       'Expenses', 'Income', 'Assets', 'Debt', 'Amount', 'Price'] + list(map(str,range(16)))"
   ]
  },
  {
   "cell_type": "code",
   "execution_count": 23,
   "metadata": {},
   "outputs": [
    {
     "name": "stdout",
     "output_type": "stream",
     "text": [
      "CPU times: user 6.21 ms, sys: 1.06 ms, total: 7.27 ms\n",
      "Wall time: 5.87 ms\n"
     ]
    }
   ],
   "source": [
    "%%time\n",
    "PSM = PatternStructuresMiner(df_train_pos, df_train_neg, features)"
   ]
  },
  {
   "cell_type": "code",
   "execution_count": 24,
   "metadata": {},
   "outputs": [],
   "source": [
    "# %%time\n",
    "# _, _, stats_concepts_pos = PSM.mine_obj_intersections(10000, 3, 'pos')\n",
    "# _, _, stats_concepts_neg = PSM.mine_obj_intersections(10000, 3, 'neg')"
   ]
  },
  {
   "cell_type": "markdown",
   "metadata": {},
   "source": [
    "### Mine positive hypotheses"
   ]
  },
  {
   "cell_type": "code",
   "execution_count": 25,
   "metadata": {},
   "outputs": [
    {
     "name": "stdout",
     "output_type": "stream",
     "text": [
      "Mining 10000 intersections\n"
     ]
    },
    {
     "name": "stderr",
     "output_type": "stream",
     "text": [
      "/home/autodeploy/.local/lib/python3.5/site-packages/ipykernel_launcher.py:39: RuntimeWarning: invalid value encountered in less_equal\n",
      "/home/autodeploy/.local/lib/python3.5/site-packages/ipykernel_launcher.py:40: RuntimeWarning: invalid value encountered in greater_equal\n",
      "/home/autodeploy/.local/lib/python3.5/site-packages/ipykernel_launcher.py:42: RuntimeWarning: invalid value encountered in less_equal\n",
      "/home/autodeploy/.local/lib/python3.5/site-packages/ipykernel_launcher.py:43: RuntimeWarning: invalid value encountered in greater_equal\n"
     ]
    },
    {
     "data": {
      "text/plain": [
       "<matplotlib.axes._subplots.AxesSubplot at 0x7fcf5f0df1d0>"
      ]
     },
     "execution_count": 25,
     "metadata": {},
     "output_type": "execute_result"
    },
    {
     "data": {
      "image/png": "[encoded data removed]",
      "text/plain": [
       "<Figure size 432x288 with 1 Axes>"
      ]
     },
     "metadata": {
      "needs_background": "light"
     },
     "output_type": "display_data"
    }
   ],
   "source": [
    "_, _, stats_concepts_pos = PSM.mine_obj_intersections(10000, 20, 'pos')\n",
    "stats_concepts_pos['pos_confidence'].hist(alpha = 0.5, bins = 30)"
   ]
  },
  {
   "cell_type": "code",
   "execution_count": 189,
   "metadata": {},
   "outputs": [
    {
     "name": "stdout",
     "output_type": "stream",
     "text": [
      "Mining 10000 intersections\n",
      "Mining 10000 intersections\n"
     ]
    },
    {
     "name": "stderr",
     "output_type": "stream",
     "text": [
      "/home/autodeploy/.local/lib/python3.5/site-packages/ipykernel_launcher.py:35: RuntimeWarning: All-NaN slice encountered\n"
     ]
    },
    {
     "name": "stdout",
     "output_type": "stream",
     "text": [
      "Mining 10000 intersections\n"
     ]
    },
    {
     "name": "stderr",
     "output_type": "stream",
     "text": [
      "/home/autodeploy/.local/lib/python3.5/site-packages/ipykernel_launcher.py:36: RuntimeWarning: All-NaN slice encountered\n"
     ]
    },
    {
     "name": "stdout",
     "output_type": "stream",
     "text": [
      "Mining 10000 intersections\n"
     ]
    },
    {
     "name": "stderr",
     "output_type": "stream",
     "text": [
      "/home/autodeploy/.local/lib/python3.5/site-packages/ipykernel_launcher.py:35: RuntimeWarning: All-NaN slice encountered\n"
     ]
    },
    {
     "name": "stdout",
     "output_type": "stream",
     "text": [
      "Mining 10000 intersections\n"
     ]
    },
    {
     "name": "stderr",
     "output_type": "stream",
     "text": [
      "/home/autodeploy/.local/lib/python3.5/site-packages/ipykernel_launcher.py:35: RuntimeWarning: All-NaN slice encountered\n"
     ]
    },
    {
     "name": "stdout",
     "output_type": "stream",
     "text": [
      "Mining 10000 intersections\n"
     ]
    },
    {
     "name": "stderr",
     "output_type": "stream",
     "text": [
      "/home/autodeploy/.local/lib/python3.5/site-packages/ipykernel_launcher.py:36: RuntimeWarning: All-NaN slice encountered\n",
      "/home/autodeploy/.local/lib/python3.5/site-packages/ipykernel_launcher.py:36: RuntimeWarning: All-NaN slice encountered\n"
     ]
    },
    {
     "name": "stdout",
     "output_type": "stream",
     "text": [
      "Mining 10000 intersections\n"
     ]
    },
    {
     "name": "stderr",
     "output_type": "stream",
     "text": [
      "/home/autodeploy/.local/lib/python3.5/site-packages/ipykernel_launcher.py:35: RuntimeWarning: All-NaN slice encountered\n"
     ]
    },
    {
     "name": "stdout",
     "output_type": "stream",
     "text": [
      "Mining 10000 intersections\n",
      "Mining 10000 intersections\n"
     ]
    },
    {
     "name": "stderr",
     "output_type": "stream",
     "text": [
      "/home/autodeploy/.local/lib/python3.5/site-packages/ipykernel_launcher.py:35: RuntimeWarning: All-NaN slice encountered\n",
      "/home/autodeploy/.local/lib/python3.5/site-packages/ipykernel_launcher.py:35: RuntimeWarning: All-NaN slice encountered\n",
      "/home/autodeploy/.local/lib/python3.5/site-packages/ipykernel_launcher.py:36: RuntimeWarning: All-NaN slice encountered\n"
     ]
    },
    {
     "name": "stdout",
     "output_type": "stream",
     "text": [
      "Mining 10000 intersections\n",
      "Mining 10000 intersections\n"
     ]
    },
    {
     "name": "stderr",
     "output_type": "stream",
     "text": [
      "/home/autodeploy/.local/lib/python3.5/site-packages/ipykernel_launcher.py:36: RuntimeWarning: All-NaN slice encountered\n",
      "/home/autodeploy/.local/lib/python3.5/site-packages/ipykernel_launcher.py:35: RuntimeWarning: All-NaN slice encountered\n",
      "/home/autodeploy/.local/lib/python3.5/site-packages/ipykernel_launcher.py:36: RuntimeWarning: All-NaN slice encountered\n"
     ]
    },
    {
     "name": "stdout",
     "output_type": "stream",
     "text": [
      "Mining 10000 intersections\n",
      "Mining 10000 intersections\n"
     ]
    },
    {
     "name": "stderr",
     "output_type": "stream",
     "text": [
      "/home/autodeploy/.local/lib/python3.5/site-packages/ipykernel_launcher.py:36: RuntimeWarning: All-NaN slice encountered\n"
     ]
    },
    {
     "name": "stdout",
     "output_type": "stream",
     "text": [
      "Mining 10000 intersections\n",
      "Mining 10000 intersections\n",
      "Mining 10000 intersections\n",
      "Mining 10000 intersections\n",
      "Mining 10000 intersections\n",
      "Mining 10000 intersections\n",
      "Mining 10000 intersections\n",
      "Mining 10000 intersections\n"
     ]
    },
    {
     "name": "stderr",
     "output_type": "stream",
     "text": [
      "/home/autodeploy/.local/lib/python3.5/site-packages/ipykernel_launcher.py:35: RuntimeWarning: All-NaN slice encountered\n"
     ]
    },
    {
     "name": "stdout",
     "output_type": "stream",
     "text": [
      "Mining 10000 intersections\n"
     ]
    },
    {
     "name": "stderr",
     "output_type": "stream",
     "text": [
      "/home/autodeploy/.local/lib/python3.5/site-packages/ipykernel_launcher.py:36: RuntimeWarning: All-NaN slice encountered\n"
     ]
    },
    {
     "name": "stdout",
     "output_type": "stream",
     "text": [
      "Mining 10000 intersections\n"
     ]
    },
    {
     "name": "stderr",
     "output_type": "stream",
     "text": [
      "/home/autodeploy/.local/lib/python3.5/site-packages/ipykernel_launcher.py:35: RuntimeWarning: All-NaN slice encountered\n"
     ]
    },
    {
     "name": "stdout",
     "output_type": "stream",
     "text": [
      "Mining 10000 intersections\n"
     ]
    },
    {
     "name": "stderr",
     "output_type": "stream",
     "text": [
      "/home/autodeploy/.local/lib/python3.5/site-packages/ipykernel_launcher.py:35: RuntimeWarning: All-NaN slice encountered\n",
      "/home/autodeploy/.local/lib/python3.5/site-packages/ipykernel_launcher.py:36: RuntimeWarning: All-NaN slice encountered\n"
     ]
    },
    {
     "name": "stdout",
     "output_type": "stream",
     "text": [
      "Mining 10000 intersections\n",
      "Mining 10000 intersections\n"
     ]
    },
    {
     "name": "stderr",
     "output_type": "stream",
     "text": [
      "/home/autodeploy/.local/lib/python3.5/site-packages/ipykernel_launcher.py:35: RuntimeWarning: All-NaN slice encountered\n",
      "/home/autodeploy/.local/lib/python3.5/site-packages/ipykernel_launcher.py:36: RuntimeWarning: All-NaN slice encountered\n"
     ]
    },
    {
     "name": "stdout",
     "output_type": "stream",
     "text": [
      "Mining 10000 intersections\n"
     ]
    },
    {
     "name": "stderr",
     "output_type": "stream",
     "text": [
      "/home/autodeploy/.local/lib/python3.5/site-packages/ipykernel_launcher.py:35: RuntimeWarning: All-NaN slice encountered\n",
      "/home/autodeploy/.local/lib/python3.5/site-packages/ipykernel_launcher.py:36: RuntimeWarning: All-NaN slice encountered\n",
      "/home/autodeploy/.local/lib/python3.5/site-packages/ipykernel_launcher.py:35: RuntimeWarning: All-NaN slice encountered\n",
      "/home/autodeploy/.local/lib/python3.5/site-packages/ipykernel_launcher.py:35: RuntimeWarning: All-NaN slice encountered\n",
      "/home/autodeploy/.local/lib/python3.5/site-packages/ipykernel_launcher.py:36: RuntimeWarning: All-NaN slice encountered\n"
     ]
    },
    {
     "name": "stdout",
     "output_type": "stream",
     "text": [
      "Mining 10000 intersections\n",
      "Mining 10000 intersections\n"
     ]
    },
    {
     "name": "stderr",
     "output_type": "stream",
     "text": [
      "/home/autodeploy/.local/lib/python3.5/site-packages/ipykernel_launcher.py:36: RuntimeWarning: All-NaN slice encountered\n",
      "/home/autodeploy/.local/lib/python3.5/site-packages/ipykernel_launcher.py:36: RuntimeWarning: All-NaN slice encountered\n"
     ]
    },
    {
     "name": "stdout",
     "output_type": "stream",
     "text": [
      "Mining 10000 intersections\n",
      "Mining 10000 intersections\n",
      "Mining 10000 intersections\n",
      "Mining 10000 intersections\n",
      "Mining 10000 intersections\n",
      "Mining 10000 intersections\n",
      "Mining 10000 intersections\n",
      "Mining 10000 intersections\n",
      "Mining 10000 intersections\n",
      "Mining 10000 intersections\n",
      "Mining 10000 intersections\n",
      "Mining 10000 intersections\n"
     ]
    },
    {
     "name": "stderr",
     "output_type": "stream",
     "text": [
      "/home/autodeploy/.local/lib/python3.5/site-packages/ipykernel_launcher.py:35: RuntimeWarning: All-NaN slice encountered\n"
     ]
    },
    {
     "name": "stdout",
     "output_type": "stream",
     "text": [
      "Mining 10000 intersections\n"
     ]
    },
    {
     "name": "stderr",
     "output_type": "stream",
     "text": [
      "/home/autodeploy/.local/lib/python3.5/site-packages/ipykernel_launcher.py:36: RuntimeWarning: All-NaN slice encountered\n",
      "/home/autodeploy/.local/lib/python3.5/site-packages/ipykernel_launcher.py:35: RuntimeWarning: All-NaN slice encountered\n"
     ]
    },
    {
     "name": "stdout",
     "output_type": "stream",
     "text": [
      "Mining 10000 intersections\n",
      "Mining 10000 intersections\n"
     ]
    },
    {
     "name": "stderr",
     "output_type": "stream",
     "text": [
      "/home/autodeploy/.local/lib/python3.5/site-packages/ipykernel_launcher.py:35: RuntimeWarning: All-NaN slice encountered\n",
      "/home/autodeploy/.local/lib/python3.5/site-packages/ipykernel_launcher.py:36: RuntimeWarning: All-NaN slice encountered\n"
     ]
    },
    {
     "name": "stdout",
     "output_type": "stream",
     "text": [
      "Mining 10000 intersections\n"
     ]
    },
    {
     "name": "stderr",
     "output_type": "stream",
     "text": [
      "/home/autodeploy/.local/lib/python3.5/site-packages/ipykernel_launcher.py:35: RuntimeWarning: All-NaN slice encountered\n"
     ]
    },
    {
     "name": "stdout",
     "output_type": "stream",
     "text": [
      "Mining 10000 intersections\n"
     ]
    },
    {
     "name": "stderr",
     "output_type": "stream",
     "text": [
      "/home/autodeploy/.local/lib/python3.5/site-packages/ipykernel_launcher.py:36: RuntimeWarning: All-NaN slice encountered\n",
      "/home/autodeploy/.local/lib/python3.5/site-packages/ipykernel_launcher.py:35: RuntimeWarning: All-NaN slice encountered\n"
     ]
    },
    {
     "name": "stdout",
     "output_type": "stream",
     "text": [
      "Mining 10000 intersections\n",
      "Mining 10000 intersections\n"
     ]
    },
    {
     "name": "stderr",
     "output_type": "stream",
     "text": [
      "/home/autodeploy/.local/lib/python3.5/site-packages/ipykernel_launcher.py:35: RuntimeWarning: All-NaN slice encountered\n",
      "/home/autodeploy/.local/lib/python3.5/site-packages/ipykernel_launcher.py:36: RuntimeWarning: All-NaN slice encountered\n"
     ]
    },
    {
     "name": "stdout",
     "output_type": "stream",
     "text": [
      "Mining 10000 intersections\n"
     ]
    },
    {
     "name": "stderr",
     "output_type": "stream",
     "text": [
      "/home/autodeploy/.local/lib/python3.5/site-packages/ipykernel_launcher.py:35: RuntimeWarning: All-NaN slice encountered\n"
     ]
    },
    {
     "name": "stdout",
     "output_type": "stream",
     "text": [
      "Mining 10000 intersections\n"
     ]
    },
    {
     "name": "stderr",
     "output_type": "stream",
     "text": [
      "/home/autodeploy/.local/lib/python3.5/site-packages/ipykernel_launcher.py:36: RuntimeWarning: All-NaN slice encountered\n"
     ]
    },
    {
     "name": "stdout",
     "output_type": "stream",
     "text": [
      "Mining 10000 intersections\n"
     ]
    },
    {
     "name": "stderr",
     "output_type": "stream",
     "text": [
      "/home/autodeploy/.local/lib/python3.5/site-packages/ipykernel_launcher.py:36: RuntimeWarning: All-NaN slice encountered\n"
     ]
    },
    {
     "name": "stdout",
     "output_type": "stream",
     "text": [
      "Mining 10000 intersections\n",
      "Mining 10000 intersections\n"
     ]
    },
    {
     "name": "stderr",
     "output_type": "stream",
     "text": [
      "/home/autodeploy/.local/lib/python3.5/site-packages/ipykernel_launcher.py:36: RuntimeWarning: All-NaN slice encountered\n"
     ]
    },
    {
     "name": "stdout",
     "output_type": "stream",
     "text": [
      "Mining 10000 intersections\n",
      "Mining 10000 intersections\n",
      "Mining 10000 intersections\n",
      "Mining 10000 intersections\n"
     ]
    },
    {
     "name": "stderr",
     "output_type": "stream",
     "text": [
      "/home/autodeploy/.local/lib/python3.5/site-packages/ipykernel_launcher.py:35: RuntimeWarning: All-NaN slice encountered\n"
     ]
    },
    {
     "name": "stdout",
     "output_type": "stream",
     "text": [
      "Mining 10000 intersections\n",
      "Mining 10000 intersections\n",
      "Mining 10000 intersections\n"
     ]
    },
    {
     "name": "stderr",
     "output_type": "stream",
     "text": [
      "/home/autodeploy/.local/lib/python3.5/site-packages/ipykernel_launcher.py:36: RuntimeWarning: All-NaN slice encountered\n",
      "/home/autodeploy/.local/lib/python3.5/site-packages/ipykernel_launcher.py:35: RuntimeWarning: All-NaN slice encountered\n",
      "/home/autodeploy/.local/lib/python3.5/site-packages/ipykernel_launcher.py:35: RuntimeWarning: All-NaN slice encountered\n",
      "/home/autodeploy/.local/lib/python3.5/site-packages/ipykernel_launcher.py:36: RuntimeWarning: All-NaN slice encountered\n",
      "/home/autodeploy/.local/lib/python3.5/site-packages/ipykernel_launcher.py:36: RuntimeWarning: All-NaN slice encountered\n",
      "/home/autodeploy/.local/lib/python3.5/site-packages/ipykernel_launcher.py:39: RuntimeWarning: invalid value encountered in less_equal\n",
      "/home/autodeploy/.local/lib/python3.5/site-packages/ipykernel_launcher.py:39: RuntimeWarning: invalid value encountered in less_equal\n",
      "/home/autodeploy/.local/lib/python3.5/site-packages/ipykernel_launcher.py:39: RuntimeWarning: invalid value encountered in less_equal\n",
      "/home/autodeploy/.local/lib/python3.5/site-packages/ipykernel_launcher.py:39: RuntimeWarning: invalid value encountered in less_equal\n",
      "/home/autodeploy/.local/lib/python3.5/site-packages/ipykernel_launcher.py:39: RuntimeWarning: invalid value encountered in less_equal\n",
      "/home/autodeploy/.local/lib/python3.5/site-packages/ipykernel_launcher.py:39: RuntimeWarning: invalid value encountered in less_equal\n",
      "/home/autodeploy/.local/lib/python3.5/site-packages/ipykernel_launcher.py:39: RuntimeWarning: invalid value encountered in less_equal\n",
      "/home/autodeploy/.local/lib/python3.5/site-packages/ipykernel_launcher.py:39: RuntimeWarning: invalid value encountered in less_equal\n",
      "/home/autodeploy/.local/lib/python3.5/site-packages/ipykernel_launcher.py:39: RuntimeWarning: invalid value encountered in less_equal\n",
      "/home/autodeploy/.local/lib/python3.5/site-packages/ipykernel_launcher.py:39: RuntimeWarning: invalid value encountered in less_equal\n",
      "/home/autodeploy/.local/lib/python3.5/site-packages/ipykernel_launcher.py:39: RuntimeWarning: invalid value encountered in less_equal\n",
      "/home/autodeploy/.local/lib/python3.5/site-packages/ipykernel_launcher.py:39: RuntimeWarning: invalid value encountered in less_equal\n",
      "/home/autodeploy/.local/lib/python3.5/site-packages/ipykernel_launcher.py:39: RuntimeWarning: invalid value encountered in less_equal\n",
      "/home/autodeploy/.local/lib/python3.5/site-packages/ipykernel_launcher.py:39: RuntimeWarning: invalid value encountered in less_equal\n",
      "/home/autodeploy/.local/lib/python3.5/site-packages/ipykernel_launcher.py:39: RuntimeWarning: invalid value encountered in less_equal\n",
      "/home/autodeploy/.local/lib/python3.5/site-packages/ipykernel_launcher.py:39: RuntimeWarning: invalid value encountered in less_equal\n",
      "/home/autodeploy/.local/lib/python3.5/site-packages/ipykernel_launcher.py:39: RuntimeWarning: invalid value encountered in less_equal\n",
      "/home/autodeploy/.local/lib/python3.5/site-packages/ipykernel_launcher.py:39: RuntimeWarning: invalid value encountered in less_equal\n",
      "/home/autodeploy/.local/lib/python3.5/site-packages/ipykernel_launcher.py:39: RuntimeWarning: invalid value encountered in less_equal\n",
      "/home/autodeploy/.local/lib/python3.5/site-packages/ipykernel_launcher.py:39: RuntimeWarning: invalid value encountered in less_equal\n",
      "/home/autodeploy/.local/lib/python3.5/site-packages/ipykernel_launcher.py:39: RuntimeWarning: invalid value encountered in less_equal\n",
      "/home/autodeploy/.local/lib/python3.5/site-packages/ipykernel_launcher.py:39: RuntimeWarning: invalid value encountered in less_equal\n",
      "/home/autodeploy/.local/lib/python3.5/site-packages/ipykernel_launcher.py:39: RuntimeWarning: invalid value encountered in less_equal\n",
      "/home/autodeploy/.local/lib/python3.5/site-packages/ipykernel_launcher.py:39: RuntimeWarning: invalid value encountered in less_equal\n",
      "/home/autodeploy/.local/lib/python3.5/site-packages/ipykernel_launcher.py:39: RuntimeWarning: invalid value encountered in less_equal\n",
      "/home/autodeploy/.local/lib/python3.5/site-packages/ipykernel_launcher.py:39: RuntimeWarning: invalid value encountered in less_equal\n",
      "/home/autodeploy/.local/lib/python3.5/site-packages/ipykernel_launcher.py:39: RuntimeWarning: invalid value encountered in less_equal\n",
      "/home/autodeploy/.local/lib/python3.5/site-packages/ipykernel_launcher.py:39: RuntimeWarning: invalid value encountered in less_equal\n",
      "/home/autodeploy/.local/lib/python3.5/site-packages/ipykernel_launcher.py:39: RuntimeWarning: invalid value encountered in less_equal\n",
      "/home/autodeploy/.local/lib/python3.5/site-packages/ipykernel_launcher.py:39: RuntimeWarning: invalid value encountered in less_equal\n",
      "/home/autodeploy/.local/lib/python3.5/site-packages/ipykernel_launcher.py:39: RuntimeWarning: invalid value encountered in less_equal\n",
      "/home/autodeploy/.local/lib/python3.5/site-packages/ipykernel_launcher.py:39: RuntimeWarning: invalid value encountered in less_equal\n",
      "/home/autodeploy/.local/lib/python3.5/site-packages/ipykernel_launcher.py:39: RuntimeWarning: invalid value encountered in less_equal\n",
      "/home/autodeploy/.local/lib/python3.5/site-packages/ipykernel_launcher.py:39: RuntimeWarning: invalid value encountered in less_equal\n",
      "/home/autodeploy/.local/lib/python3.5/site-packages/ipykernel_launcher.py:39: RuntimeWarning: invalid value encountered in less_equal\n",
      "/home/autodeploy/.local/lib/python3.5/site-packages/ipykernel_launcher.py:39: RuntimeWarning: invalid value encountered in less_equal\n",
      "/home/autodeploy/.local/lib/python3.5/site-packages/ipykernel_launcher.py:39: RuntimeWarning: invalid value encountered in less_equal\n",
      "/home/autodeploy/.local/lib/python3.5/site-packages/ipykernel_launcher.py:39: RuntimeWarning: invalid value encountered in less_equal\n",
      "/home/autodeploy/.local/lib/python3.5/site-packages/ipykernel_launcher.py:39: RuntimeWarning: invalid value encountered in less_equal\n",
      "/home/autodeploy/.local/lib/python3.5/site-packages/ipykernel_launcher.py:39: RuntimeWarning: invalid value encountered in less_equal\n",
      "/home/autodeploy/.local/lib/python3.5/site-packages/ipykernel_launcher.py:39: RuntimeWarning: invalid value encountered in less_equal\n",
      "/home/autodeploy/.local/lib/python3.5/site-packages/ipykernel_launcher.py:39: RuntimeWarning: invalid value encountered in less_equal\n",
      "/home/autodeploy/.local/lib/python3.5/site-packages/ipykernel_launcher.py:39: RuntimeWarning: invalid value encountered in less_equal\n",
      "/home/autodeploy/.local/lib/python3.5/site-packages/ipykernel_launcher.py:39: RuntimeWarning: invalid value encountered in less_equal\n",
      "/home/autodeploy/.local/lib/python3.5/site-packages/ipykernel_launcher.py:39: RuntimeWarning: invalid value encountered in less_equal\n",
      "/home/autodeploy/.local/lib/python3.5/site-packages/ipykernel_launcher.py:39: RuntimeWarning: invalid value encountered in less_equal\n",
      "/home/autodeploy/.local/lib/python3.5/site-packages/ipykernel_launcher.py:39: RuntimeWarning: invalid value encountered in less_equal\n",
      "/home/autodeploy/.local/lib/python3.5/site-packages/ipykernel_launcher.py:39: RuntimeWarning: invalid value encountered in less_equal\n",
      "/home/autodeploy/.local/lib/python3.5/site-packages/ipykernel_launcher.py:39: RuntimeWarning: invalid value encountered in less_equal\n",
      "/home/autodeploy/.local/lib/python3.5/site-packages/ipykernel_launcher.py:39: RuntimeWarning: invalid value encountered in less_equal\n",
      "/home/autodeploy/.local/lib/python3.5/site-packages/ipykernel_launcher.py:39: RuntimeWarning: invalid value encountered in less_equal\n",
      "/home/autodeploy/.local/lib/python3.5/site-packages/ipykernel_launcher.py:39: RuntimeWarning: invalid value encountered in less_equal\n",
      "/home/autodeploy/.local/lib/python3.5/site-packages/ipykernel_launcher.py:39: RuntimeWarning: invalid value encountered in less_equal\n",
      "/home/autodeploy/.local/lib/python3.5/site-packages/ipykernel_launcher.py:39: RuntimeWarning: invalid value encountered in less_equal\n",
      "/home/autodeploy/.local/lib/python3.5/site-packages/ipykernel_launcher.py:39: RuntimeWarning: invalid value encountered in less_equal\n",
      "/home/autodeploy/.local/lib/python3.5/site-packages/ipykernel_launcher.py:39: RuntimeWarning: invalid value encountered in less_equal\n",
      "/home/autodeploy/.local/lib/python3.5/site-packages/ipykernel_launcher.py:39: RuntimeWarning: invalid value encountered in less_equal\n"
     ]
    },
    {
     "name": "stderr",
     "output_type": "stream",
     "text": [
      "/home/autodeploy/.local/lib/python3.5/site-packages/ipykernel_launcher.py:39: RuntimeWarning: invalid value encountered in less_equal\n",
      "/home/autodeploy/.local/lib/python3.5/site-packages/ipykernel_launcher.py:39: RuntimeWarning: invalid value encountered in less_equal\n",
      "/home/autodeploy/.local/lib/python3.5/site-packages/ipykernel_launcher.py:39: RuntimeWarning: invalid value encountered in less_equal\n",
      "/home/autodeploy/.local/lib/python3.5/site-packages/ipykernel_launcher.py:40: RuntimeWarning: invalid value encountered in greater_equal\n",
      "/home/autodeploy/.local/lib/python3.5/site-packages/ipykernel_launcher.py:40: RuntimeWarning: invalid value encountered in greater_equal\n",
      "/home/autodeploy/.local/lib/python3.5/site-packages/ipykernel_launcher.py:40: RuntimeWarning: invalid value encountered in greater_equal\n",
      "/home/autodeploy/.local/lib/python3.5/site-packages/ipykernel_launcher.py:40: RuntimeWarning: invalid value encountered in greater_equal\n",
      "/home/autodeploy/.local/lib/python3.5/site-packages/ipykernel_launcher.py:40: RuntimeWarning: invalid value encountered in greater_equal\n",
      "/home/autodeploy/.local/lib/python3.5/site-packages/ipykernel_launcher.py:40: RuntimeWarning: invalid value encountered in greater_equal\n",
      "/home/autodeploy/.local/lib/python3.5/site-packages/ipykernel_launcher.py:40: RuntimeWarning: invalid value encountered in greater_equal\n",
      "/home/autodeploy/.local/lib/python3.5/site-packages/ipykernel_launcher.py:40: RuntimeWarning: invalid value encountered in greater_equal\n",
      "/home/autodeploy/.local/lib/python3.5/site-packages/ipykernel_launcher.py:40: RuntimeWarning: invalid value encountered in greater_equal\n",
      "/home/autodeploy/.local/lib/python3.5/site-packages/ipykernel_launcher.py:40: RuntimeWarning: invalid value encountered in greater_equal\n",
      "/home/autodeploy/.local/lib/python3.5/site-packages/ipykernel_launcher.py:40: RuntimeWarning: invalid value encountered in greater_equal\n",
      "/home/autodeploy/.local/lib/python3.5/site-packages/ipykernel_launcher.py:40: RuntimeWarning: invalid value encountered in greater_equal\n",
      "/home/autodeploy/.local/lib/python3.5/site-packages/ipykernel_launcher.py:40: RuntimeWarning: invalid value encountered in greater_equal\n",
      "/home/autodeploy/.local/lib/python3.5/site-packages/ipykernel_launcher.py:40: RuntimeWarning: invalid value encountered in greater_equal\n",
      "/home/autodeploy/.local/lib/python3.5/site-packages/ipykernel_launcher.py:40: RuntimeWarning: invalid value encountered in greater_equal\n",
      "/home/autodeploy/.local/lib/python3.5/site-packages/ipykernel_launcher.py:40: RuntimeWarning: invalid value encountered in greater_equal\n",
      "/home/autodeploy/.local/lib/python3.5/site-packages/ipykernel_launcher.py:40: RuntimeWarning: invalid value encountered in greater_equal\n",
      "/home/autodeploy/.local/lib/python3.5/site-packages/ipykernel_launcher.py:40: RuntimeWarning: invalid value encountered in greater_equal\n",
      "/home/autodeploy/.local/lib/python3.5/site-packages/ipykernel_launcher.py:40: RuntimeWarning: invalid value encountered in greater_equal\n",
      "/home/autodeploy/.local/lib/python3.5/site-packages/ipykernel_launcher.py:40: RuntimeWarning: invalid value encountered in greater_equal\n",
      "/home/autodeploy/.local/lib/python3.5/site-packages/ipykernel_launcher.py:40: RuntimeWarning: invalid value encountered in greater_equal\n",
      "/home/autodeploy/.local/lib/python3.5/site-packages/ipykernel_launcher.py:40: RuntimeWarning: invalid value encountered in greater_equal\n",
      "/home/autodeploy/.local/lib/python3.5/site-packages/ipykernel_launcher.py:40: RuntimeWarning: invalid value encountered in greater_equal\n",
      "/home/autodeploy/.local/lib/python3.5/site-packages/ipykernel_launcher.py:40: RuntimeWarning: invalid value encountered in greater_equal\n",
      "/home/autodeploy/.local/lib/python3.5/site-packages/ipykernel_launcher.py:40: RuntimeWarning: invalid value encountered in greater_equal\n",
      "/home/autodeploy/.local/lib/python3.5/site-packages/ipykernel_launcher.py:40: RuntimeWarning: invalid value encountered in greater_equal\n",
      "/home/autodeploy/.local/lib/python3.5/site-packages/ipykernel_launcher.py:40: RuntimeWarning: invalid value encountered in greater_equal\n",
      "/home/autodeploy/.local/lib/python3.5/site-packages/ipykernel_launcher.py:40: RuntimeWarning: invalid value encountered in greater_equal\n",
      "/home/autodeploy/.local/lib/python3.5/site-packages/ipykernel_launcher.py:40: RuntimeWarning: invalid value encountered in greater_equal\n",
      "/home/autodeploy/.local/lib/python3.5/site-packages/ipykernel_launcher.py:40: RuntimeWarning: invalid value encountered in greater_equal\n",
      "/home/autodeploy/.local/lib/python3.5/site-packages/ipykernel_launcher.py:40: RuntimeWarning: invalid value encountered in greater_equal\n",
      "/home/autodeploy/.local/lib/python3.5/site-packages/ipykernel_launcher.py:42: RuntimeWarning: invalid value encountered in less_equal\n",
      "/home/autodeploy/.local/lib/python3.5/site-packages/ipykernel_launcher.py:40: RuntimeWarning: invalid value encountered in greater_equal\n",
      "/home/autodeploy/.local/lib/python3.5/site-packages/ipykernel_launcher.py:40: RuntimeWarning: invalid value encountered in greater_equal\n",
      "/home/autodeploy/.local/lib/python3.5/site-packages/ipykernel_launcher.py:42: RuntimeWarning: invalid value encountered in less_equal\n",
      "/home/autodeploy/.local/lib/python3.5/site-packages/ipykernel_launcher.py:40: RuntimeWarning: invalid value encountered in greater_equal\n",
      "/home/autodeploy/.local/lib/python3.5/site-packages/ipykernel_launcher.py:40: RuntimeWarning: invalid value encountered in greater_equal\n",
      "/home/autodeploy/.local/lib/python3.5/site-packages/ipykernel_launcher.py:40: RuntimeWarning: invalid value encountered in greater_equal\n",
      "/home/autodeploy/.local/lib/python3.5/site-packages/ipykernel_launcher.py:40: RuntimeWarning: invalid value encountered in greater_equal\n",
      "/home/autodeploy/.local/lib/python3.5/site-packages/ipykernel_launcher.py:40: RuntimeWarning: invalid value encountered in greater_equal\n",
      "/home/autodeploy/.local/lib/python3.5/site-packages/ipykernel_launcher.py:40: RuntimeWarning: invalid value encountered in greater_equal\n",
      "/home/autodeploy/.local/lib/python3.5/site-packages/ipykernel_launcher.py:40: RuntimeWarning: invalid value encountered in greater_equal\n",
      "/home/autodeploy/.local/lib/python3.5/site-packages/ipykernel_launcher.py:40: RuntimeWarning: invalid value encountered in greater_equal\n",
      "/home/autodeploy/.local/lib/python3.5/site-packages/ipykernel_launcher.py:40: RuntimeWarning: invalid value encountered in greater_equal\n",
      "/home/autodeploy/.local/lib/python3.5/site-packages/ipykernel_launcher.py:40: RuntimeWarning: invalid value encountered in greater_equal\n",
      "/home/autodeploy/.local/lib/python3.5/site-packages/ipykernel_launcher.py:40: RuntimeWarning: invalid value encountered in greater_equal\n",
      "/home/autodeploy/.local/lib/python3.5/site-packages/ipykernel_launcher.py:40: RuntimeWarning: invalid value encountered in greater_equal\n",
      "/home/autodeploy/.local/lib/python3.5/site-packages/ipykernel_launcher.py:40: RuntimeWarning: invalid value encountered in greater_equal\n",
      "/home/autodeploy/.local/lib/python3.5/site-packages/ipykernel_launcher.py:40: RuntimeWarning: invalid value encountered in greater_equal\n",
      "/home/autodeploy/.local/lib/python3.5/site-packages/ipykernel_launcher.py:40: RuntimeWarning: invalid value encountered in greater_equal\n",
      "/home/autodeploy/.local/lib/python3.5/site-packages/ipykernel_launcher.py:40: RuntimeWarning: invalid value encountered in greater_equal\n",
      "/home/autodeploy/.local/lib/python3.5/site-packages/ipykernel_launcher.py:40: RuntimeWarning: invalid value encountered in greater_equal\n",
      "/home/autodeploy/.local/lib/python3.5/site-packages/ipykernel_launcher.py:40: RuntimeWarning: invalid value encountered in greater_equal\n",
      "/home/autodeploy/.local/lib/python3.5/site-packages/ipykernel_launcher.py:42: RuntimeWarning: invalid value encountered in less_equal\n",
      "/home/autodeploy/.local/lib/python3.5/site-packages/ipykernel_launcher.py:40: RuntimeWarning: invalid value encountered in greater_equal\n",
      "/home/autodeploy/.local/lib/python3.5/site-packages/ipykernel_launcher.py:40: RuntimeWarning: invalid value encountered in greater_equal\n",
      "/home/autodeploy/.local/lib/python3.5/site-packages/ipykernel_launcher.py:40: RuntimeWarning: invalid value encountered in greater_equal\n"
     ]
    },
    {
     "name": "stderr",
     "output_type": "stream",
     "text": [
      "/home/autodeploy/.local/lib/python3.5/site-packages/ipykernel_launcher.py:40: RuntimeWarning: invalid value encountered in greater_equal\n",
      "/home/autodeploy/.local/lib/python3.5/site-packages/ipykernel_launcher.py:40: RuntimeWarning: invalid value encountered in greater_equal\n",
      "/home/autodeploy/.local/lib/python3.5/site-packages/ipykernel_launcher.py:40: RuntimeWarning: invalid value encountered in greater_equal\n",
      "/home/autodeploy/.local/lib/python3.5/site-packages/ipykernel_launcher.py:42: RuntimeWarning: invalid value encountered in less_equal\n",
      "/home/autodeploy/.local/lib/python3.5/site-packages/ipykernel_launcher.py:42: RuntimeWarning: invalid value encountered in less_equal\n",
      "/home/autodeploy/.local/lib/python3.5/site-packages/ipykernel_launcher.py:40: RuntimeWarning: invalid value encountered in greater_equal\n",
      "/home/autodeploy/.local/lib/python3.5/site-packages/ipykernel_launcher.py:40: RuntimeWarning: invalid value encountered in greater_equal\n",
      "/home/autodeploy/.local/lib/python3.5/site-packages/ipykernel_launcher.py:42: RuntimeWarning: invalid value encountered in less_equal\n",
      "/home/autodeploy/.local/lib/python3.5/site-packages/ipykernel_launcher.py:40: RuntimeWarning: invalid value encountered in greater_equal\n",
      "/home/autodeploy/.local/lib/python3.5/site-packages/ipykernel_launcher.py:42: RuntimeWarning: invalid value encountered in less_equal\n",
      "/home/autodeploy/.local/lib/python3.5/site-packages/ipykernel_launcher.py:43: RuntimeWarning: invalid value encountered in greater_equal\n",
      "/home/autodeploy/.local/lib/python3.5/site-packages/ipykernel_launcher.py:42: RuntimeWarning: invalid value encountered in less_equal\n",
      "/home/autodeploy/.local/lib/python3.5/site-packages/ipykernel_launcher.py:43: RuntimeWarning: invalid value encountered in greater_equal\n",
      "/home/autodeploy/.local/lib/python3.5/site-packages/ipykernel_launcher.py:43: RuntimeWarning: invalid value encountered in greater_equal\n",
      "/home/autodeploy/.local/lib/python3.5/site-packages/ipykernel_launcher.py:43: RuntimeWarning: invalid value encountered in greater_equal\n",
      "/home/autodeploy/.local/lib/python3.5/site-packages/ipykernel_launcher.py:42: RuntimeWarning: invalid value encountered in less_equal\n",
      "/home/autodeploy/.local/lib/python3.5/site-packages/ipykernel_launcher.py:43: RuntimeWarning: invalid value encountered in greater_equal\n",
      "/home/autodeploy/.local/lib/python3.5/site-packages/ipykernel_launcher.py:42: RuntimeWarning: invalid value encountered in less_equal\n",
      "/home/autodeploy/.local/lib/python3.5/site-packages/ipykernel_launcher.py:42: RuntimeWarning: invalid value encountered in less_equal\n",
      "/home/autodeploy/.local/lib/python3.5/site-packages/ipykernel_launcher.py:43: RuntimeWarning: invalid value encountered in greater_equal\n",
      "/home/autodeploy/.local/lib/python3.5/site-packages/ipykernel_launcher.py:43: RuntimeWarning: invalid value encountered in greater_equal\n"
     ]
    },
    {
     "name": "stdout",
     "output_type": "stream",
     "text": [
      "N_mined_hypos of type pos 8558\n",
      "Mining 10000 intersections\n"
     ]
    },
    {
     "name": "stderr",
     "output_type": "stream",
     "text": [
      "/home/autodeploy/.local/lib/python3.5/site-packages/ipykernel_launcher.py:42: RuntimeWarning: invalid value encountered in less_equal\n",
      "/home/autodeploy/.local/lib/python3.5/site-packages/ipykernel_launcher.py:43: RuntimeWarning: invalid value encountered in greater_equal\n"
     ]
    },
    {
     "name": "stdout",
     "output_type": "stream",
     "text": [
      "N_mined_hypos of type pos 9675\n",
      "Mining 10000 intersections\n"
     ]
    },
    {
     "name": "stderr",
     "output_type": "stream",
     "text": [
      "/home/autodeploy/.local/lib/python3.5/site-packages/ipykernel_launcher.py:42: RuntimeWarning: invalid value encountered in less_equal\n",
      "/home/autodeploy/.local/lib/python3.5/site-packages/ipykernel_launcher.py:42: RuntimeWarning: invalid value encountered in less_equal\n",
      "/home/autodeploy/.local/lib/python3.5/site-packages/ipykernel_launcher.py:42: RuntimeWarning: invalid value encountered in less_equal\n",
      "/home/autodeploy/.local/lib/python3.5/site-packages/ipykernel_launcher.py:42: RuntimeWarning: invalid value encountered in less_equal\n"
     ]
    },
    {
     "name": "stdout",
     "output_type": "stream",
     "text": [
      "N_mined_hypos of type pos 8838\n",
      "N_mined_hypos of type pos 9307\n",
      "Mining 10000 intersections\n",
      "Mining 10000 intersections\n"
     ]
    },
    {
     "name": "stderr",
     "output_type": "stream",
     "text": [
      "/home/autodeploy/.local/lib/python3.5/site-packages/ipykernel_launcher.py:42: RuntimeWarning: invalid value encountered in less_equal\n",
      "/home/autodeploy/.local/lib/python3.5/site-packages/ipykernel_launcher.py:42: RuntimeWarning: invalid value encountered in less_equal\n"
     ]
    },
    {
     "name": "stdout",
     "output_type": "stream",
     "text": [
      "N_mined_hypos of type pos 9428\n",
      "Mining 10000 intersections\n"
     ]
    },
    {
     "name": "stderr",
     "output_type": "stream",
     "text": [
      "/home/autodeploy/.local/lib/python3.5/site-packages/ipykernel_launcher.py:42: RuntimeWarning: invalid value encountered in less_equal\n",
      "/home/autodeploy/.local/lib/python3.5/site-packages/ipykernel_launcher.py:35: RuntimeWarning: All-NaN slice encountered\n"
     ]
    },
    {
     "name": "stdout",
     "output_type": "stream",
     "text": [
      "N_mined_hypos of type pos 9675\n"
     ]
    },
    {
     "name": "stderr",
     "output_type": "stream",
     "text": [
      "/home/autodeploy/.local/lib/python3.5/site-packages/ipykernel_launcher.py:42: RuntimeWarning: invalid value encountered in less_equal\n"
     ]
    },
    {
     "name": "stdout",
     "output_type": "stream",
     "text": [
      "Mining 10000 intersections\n"
     ]
    },
    {
     "name": "stderr",
     "output_type": "stream",
     "text": [
      "/home/autodeploy/.local/lib/python3.5/site-packages/ipykernel_launcher.py:36: RuntimeWarning: All-NaN slice encountered\n",
      "/home/autodeploy/.local/lib/python3.5/site-packages/ipykernel_launcher.py:43: RuntimeWarning: invalid value encountered in greater_equal\n"
     ]
    },
    {
     "name": "stdout",
     "output_type": "stream",
     "text": [
      "N_mined_hypos of type pos 8023\n"
     ]
    },
    {
     "name": "stderr",
     "output_type": "stream",
     "text": [
      "/home/autodeploy/.local/lib/python3.5/site-packages/ipykernel_launcher.py:42: RuntimeWarning: invalid value encountered in less_equal\n",
      "/home/autodeploy/.local/lib/python3.5/site-packages/ipykernel_launcher.py:42: RuntimeWarning: invalid value encountered in less_equal\n"
     ]
    },
    {
     "name": "stdout",
     "output_type": "stream",
     "text": [
      "Mining 10000 intersections\n"
     ]
    },
    {
     "name": "stderr",
     "output_type": "stream",
     "text": [
      "/home/autodeploy/.local/lib/python3.5/site-packages/ipykernel_launcher.py:42: RuntimeWarning: invalid value encountered in less_equal\n"
     ]
    },
    {
     "name": "stdout",
     "output_type": "stream",
     "text": [
      "N_mined_hypos of type pos 9992\n",
      "Mining 10000 intersections\n"
     ]
    },
    {
     "name": "stderr",
     "output_type": "stream",
     "text": [
      "/home/autodeploy/.local/lib/python3.5/site-packages/ipykernel_launcher.py:42: RuntimeWarning: invalid value encountered in less_equal\n",
      "/home/autodeploy/.local/lib/python3.5/site-packages/ipykernel_launcher.py:43: RuntimeWarning: invalid value encountered in greater_equal\n",
      "/home/autodeploy/.local/lib/python3.5/site-packages/ipykernel_launcher.py:43: RuntimeWarning: invalid value encountered in greater_equal\n",
      "/home/autodeploy/.local/lib/python3.5/site-packages/ipykernel_launcher.py:42: RuntimeWarning: invalid value encountered in less_equal\n",
      "/home/autodeploy/.local/lib/python3.5/site-packages/ipykernel_launcher.py:42: RuntimeWarning: invalid value encountered in less_equal\n",
      "/home/autodeploy/.local/lib/python3.5/site-packages/ipykernel_launcher.py:42: RuntimeWarning: invalid value encountered in less_equal\n",
      "/home/autodeploy/.local/lib/python3.5/site-packages/ipykernel_launcher.py:42: RuntimeWarning: invalid value encountered in less_equal\n",
      "/home/autodeploy/.local/lib/python3.5/site-packages/ipykernel_launcher.py:43: RuntimeWarning: invalid value encountered in greater_equal\n",
      "/home/autodeploy/.local/lib/python3.5/site-packages/ipykernel_launcher.py:42: RuntimeWarning: invalid value encountered in less_equal\n",
      "/home/autodeploy/.local/lib/python3.5/site-packages/ipykernel_launcher.py:42: RuntimeWarning: invalid value encountered in less_equal\n",
      "/home/autodeploy/.local/lib/python3.5/site-packages/ipykernel_launcher.py:42: RuntimeWarning: invalid value encountered in less_equal\n",
      "/home/autodeploy/.local/lib/python3.5/site-packages/ipykernel_launcher.py:42: RuntimeWarning: invalid value encountered in less_equal\n",
      "/home/autodeploy/.local/lib/python3.5/site-packages/ipykernel_launcher.py:42: RuntimeWarning: invalid value encountered in less_equal\n",
      "/home/autodeploy/.local/lib/python3.5/site-packages/ipykernel_launcher.py:43: RuntimeWarning: invalid value encountered in greater_equal\n",
      "/home/autodeploy/.local/lib/python3.5/site-packages/ipykernel_launcher.py:42: RuntimeWarning: invalid value encountered in less_equal\n",
      "/home/autodeploy/.local/lib/python3.5/site-packages/ipykernel_launcher.py:42: RuntimeWarning: invalid value encountered in less_equal\n",
      "/home/autodeploy/.local/lib/python3.5/site-packages/ipykernel_launcher.py:43: RuntimeWarning: invalid value encountered in greater_equal\n",
      "/home/autodeploy/.local/lib/python3.5/site-packages/ipykernel_launcher.py:42: RuntimeWarning: invalid value encountered in less_equal\n",
      "/home/autodeploy/.local/lib/python3.5/site-packages/ipykernel_launcher.py:42: RuntimeWarning: invalid value encountered in less_equal\n",
      "/home/autodeploy/.local/lib/python3.5/site-packages/ipykernel_launcher.py:42: RuntimeWarning: invalid value encountered in less_equal\n",
      "/home/autodeploy/.local/lib/python3.5/site-packages/ipykernel_launcher.py:43: RuntimeWarning: invalid value encountered in greater_equal\n"
     ]
    },
    {
     "name": "stdout",
     "output_type": "stream",
     "text": [
      "N_mined_hypos of type pos 9023\n",
      "Mining 10000 intersections\n"
     ]
    },
    {
     "name": "stderr",
     "output_type": "stream",
     "text": [
      "/home/autodeploy/.local/lib/python3.5/site-packages/ipykernel_launcher.py:43: RuntimeWarning: invalid value encountered in greater_equal\n",
      "/home/autodeploy/.local/lib/python3.5/site-packages/ipykernel_launcher.py:42: RuntimeWarning: invalid value encountered in less_equal\n",
      "/home/autodeploy/.local/lib/python3.5/site-packages/ipykernel_launcher.py:42: RuntimeWarning: invalid value encountered in less_equal\n",
      "/home/autodeploy/.local/lib/python3.5/site-packages/ipykernel_launcher.py:43: RuntimeWarning: invalid value encountered in greater_equal\n",
      "/home/autodeploy/.local/lib/python3.5/site-packages/ipykernel_launcher.py:42: RuntimeWarning: invalid value encountered in less_equal\n",
      "/home/autodeploy/.local/lib/python3.5/site-packages/ipykernel_launcher.py:42: RuntimeWarning: invalid value encountered in less_equal\n",
      "/home/autodeploy/.local/lib/python3.5/site-packages/ipykernel_launcher.py:43: RuntimeWarning: invalid value encountered in greater_equal\n",
      "/home/autodeploy/.local/lib/python3.5/site-packages/ipykernel_launcher.py:42: RuntimeWarning: invalid value encountered in less_equal\n",
      "/home/autodeploy/.local/lib/python3.5/site-packages/ipykernel_launcher.py:42: RuntimeWarning: invalid value encountered in less_equal\n",
      "/home/autodeploy/.local/lib/python3.5/site-packages/ipykernel_launcher.py:43: RuntimeWarning: invalid value encountered in greater_equal\n",
      "/home/autodeploy/.local/lib/python3.5/site-packages/ipykernel_launcher.py:42: RuntimeWarning: invalid value encountered in less_equal\n"
     ]
    },
    {
     "name": "stdout",
     "output_type": "stream",
     "text": [
      "N_mined_hypos of type pos 8712\n"
     ]
    },
    {
     "name": "stderr",
     "output_type": "stream",
     "text": [
      "/home/autodeploy/.local/lib/python3.5/site-packages/ipykernel_launcher.py:42: RuntimeWarning: invalid value encountered in less_equal\n"
     ]
    },
    {
     "name": "stdout",
     "output_type": "stream",
     "text": [
      "Mining 10000 intersections\n"
     ]
    },
    {
     "name": "stderr",
     "output_type": "stream",
     "text": [
      "/home/autodeploy/.local/lib/python3.5/site-packages/ipykernel_launcher.py:42: RuntimeWarning: invalid value encountered in less_equal\n",
      "/home/autodeploy/.local/lib/python3.5/site-packages/ipykernel_launcher.py:42: RuntimeWarning: invalid value encountered in less_equal\n",
      "/home/autodeploy/.local/lib/python3.5/site-packages/ipykernel_launcher.py:43: RuntimeWarning: invalid value encountered in greater_equal\n",
      "/home/autodeploy/.local/lib/python3.5/site-packages/ipykernel_launcher.py:42: RuntimeWarning: invalid value encountered in less_equal\n",
      "/home/autodeploy/.local/lib/python3.5/site-packages/ipykernel_launcher.py:42: RuntimeWarning: invalid value encountered in less_equal\n",
      "/home/autodeploy/.local/lib/python3.5/site-packages/ipykernel_launcher.py:42: RuntimeWarning: invalid value encountered in less_equal\n",
      "/home/autodeploy/.local/lib/python3.5/site-packages/ipykernel_launcher.py:42: RuntimeWarning: invalid value encountered in less_equal\n",
      "/home/autodeploy/.local/lib/python3.5/site-packages/ipykernel_launcher.py:42: RuntimeWarning: invalid value encountered in less_equal\n",
      "/home/autodeploy/.local/lib/python3.5/site-packages/ipykernel_launcher.py:42: RuntimeWarning: invalid value encountered in less_equal\n"
     ]
    },
    {
     "name": "stdout",
     "output_type": "stream",
     "text": [
      "N_mined_hypos of type pos 8250\n",
      "Mining 10000 intersections\n"
     ]
    },
    {
     "name": "stderr",
     "output_type": "stream",
     "text": [
      "/home/autodeploy/.local/lib/python3.5/site-packages/ipykernel_launcher.py:42: RuntimeWarning: invalid value encountered in less_equal\n"
     ]
    },
    {
     "name": "stdout",
     "output_type": "stream",
     "text": [
      "N_mined_hypos of type pos 8023\n",
      "Mining 10000 intersections\n"
     ]
    },
    {
     "name": "stderr",
     "output_type": "stream",
     "text": [
      "/home/autodeploy/.local/lib/python3.5/site-packages/ipykernel_launcher.py:43: RuntimeWarning: invalid value encountered in greater_equal\n",
      "/home/autodeploy/.local/lib/python3.5/site-packages/ipykernel_launcher.py:43: RuntimeWarning: invalid value encountered in greater_equal\n"
     ]
    },
    {
     "name": "stdout",
     "output_type": "stream",
     "text": [
      "N_mined_hypos of type pos 8250\n",
      "Mining 10000 intersections\n"
     ]
    },
    {
     "name": "stderr",
     "output_type": "stream",
     "text": [
      "/home/autodeploy/.local/lib/python3.5/site-packages/ipykernel_launcher.py:43: RuntimeWarning: invalid value encountered in greater_equal\n",
      "/home/autodeploy/.local/lib/python3.5/site-packages/ipykernel_launcher.py:42: RuntimeWarning: invalid value encountered in less_equal\n",
      "/home/autodeploy/.local/lib/python3.5/site-packages/ipykernel_launcher.py:43: RuntimeWarning: invalid value encountered in greater_equal\n",
      "/home/autodeploy/.local/lib/python3.5/site-packages/ipykernel_launcher.py:42: RuntimeWarning: invalid value encountered in less_equal\n",
      "/home/autodeploy/.local/lib/python3.5/site-packages/ipykernel_launcher.py:43: RuntimeWarning: invalid value encountered in greater_equal\n"
     ]
    },
    {
     "name": "stdout",
     "output_type": "stream",
     "text": [
      "N_mined_hypos of type pos 8250\n",
      "N_mined_hypos of type pos 9943\n"
     ]
    },
    {
     "name": "stderr",
     "output_type": "stream",
     "text": [
      "/home/autodeploy/.local/lib/python3.5/site-packages/ipykernel_launcher.py:42: RuntimeWarning: invalid value encountered in less_equal\n",
      "/home/autodeploy/.local/lib/python3.5/site-packages/ipykernel_launcher.py:43: RuntimeWarning: invalid value encountered in greater_equal\n"
     ]
    },
    {
     "name": "stdout",
     "output_type": "stream",
     "text": [
      "N_mined_hypos of type pos 8712\n"
     ]
    },
    {
     "name": "stderr",
     "output_type": "stream",
     "text": [
      "/home/autodeploy/.local/lib/python3.5/site-packages/ipykernel_launcher.py:43: RuntimeWarning: invalid value encountered in greater_equal\n",
      "/home/autodeploy/.local/lib/python3.5/site-packages/ipykernel_launcher.py:43: RuntimeWarning: invalid value encountered in greater_equal\n",
      "/home/autodeploy/.local/lib/python3.5/site-packages/ipykernel_launcher.py:43: RuntimeWarning: invalid value encountered in greater_equal\n"
     ]
    },
    {
     "name": "stdout",
     "output_type": "stream",
     "text": [
      "Mining 10000 intersections\n"
     ]
    },
    {
     "name": "stderr",
     "output_type": "stream",
     "text": [
      "/home/autodeploy/.local/lib/python3.5/site-packages/ipykernel_launcher.py:43: RuntimeWarning: invalid value encountered in greater_equal\n",
      "/home/autodeploy/.local/lib/python3.5/site-packages/ipykernel_launcher.py:42: RuntimeWarning: invalid value encountered in less_equal\n"
     ]
    },
    {
     "name": "stdout",
     "output_type": "stream",
     "text": [
      "Mining 10000 intersections\n",
      "Mining 10000 intersections\n"
     ]
    },
    {
     "name": "stderr",
     "output_type": "stream",
     "text": [
      "/home/autodeploy/.local/lib/python3.5/site-packages/ipykernel_launcher.py:43: RuntimeWarning: invalid value encountered in greater_equal\n"
     ]
    },
    {
     "name": "stdout",
     "output_type": "stream",
     "text": [
      "N_mined_hypos of type pos 8414\n"
     ]
    },
    {
     "name": "stderr",
     "output_type": "stream",
     "text": [
      "/home/autodeploy/.local/lib/python3.5/site-packages/ipykernel_launcher.py:42: RuntimeWarning: invalid value encountered in less_equal\n"
     ]
    },
    {
     "name": "stdout",
     "output_type": "stream",
     "text": [
      "Mining 10000 intersections\n"
     ]
    },
    {
     "name": "stderr",
     "output_type": "stream",
     "text": [
      "/home/autodeploy/.local/lib/python3.5/site-packages/ipykernel_launcher.py:43: RuntimeWarning: invalid value encountered in greater_equal\n",
      "/home/autodeploy/.local/lib/python3.5/site-packages/ipykernel_launcher.py:43: RuntimeWarning: invalid value encountered in greater_equal\n",
      "/home/autodeploy/.local/lib/python3.5/site-packages/ipykernel_launcher.py:43: RuntimeWarning: invalid value encountered in greater_equal\n"
     ]
    },
    {
     "name": "stdout",
     "output_type": "stream",
     "text": [
      "N_mined_hypos of type pos 9506\n",
      "Mining 10000 intersections\n"
     ]
    },
    {
     "name": "stderr",
     "output_type": "stream",
     "text": [
      "/home/autodeploy/.local/lib/python3.5/site-packages/ipykernel_launcher.py:43: RuntimeWarning: invalid value encountered in greater_equal\n",
      "/home/autodeploy/.local/lib/python3.5/site-packages/ipykernel_launcher.py:43: RuntimeWarning: invalid value encountered in greater_equal\n",
      "/home/autodeploy/.local/lib/python3.5/site-packages/ipykernel_launcher.py:43: RuntimeWarning: invalid value encountered in greater_equal\n",
      "/home/autodeploy/.local/lib/python3.5/site-packages/ipykernel_launcher.py:43: RuntimeWarning: invalid value encountered in greater_equal\n",
      "/home/autodeploy/.local/lib/python3.5/site-packages/ipykernel_launcher.py:43: RuntimeWarning: invalid value encountered in greater_equal\n",
      "/home/autodeploy/.local/lib/python3.5/site-packages/ipykernel_launcher.py:43: RuntimeWarning: invalid value encountered in greater_equal\n",
      "/home/autodeploy/.local/lib/python3.5/site-packages/ipykernel_launcher.py:43: RuntimeWarning: invalid value encountered in greater_equal\n",
      "/home/autodeploy/.local/lib/python3.5/site-packages/ipykernel_launcher.py:43: RuntimeWarning: invalid value encountered in greater_equal\n",
      "/home/autodeploy/.local/lib/python3.5/site-packages/ipykernel_launcher.py:43: RuntimeWarning: invalid value encountered in greater_equal\n"
     ]
    },
    {
     "name": "stdout",
     "output_type": "stream",
     "text": [
      "N_mined_hypos of type pos 9587\n",
      "Mining 10000 intersections\n",
      "N_mined_hypos of type pos 8838\n",
      "Mining 10000 intersections\n"
     ]
    },
    {
     "name": "stderr",
     "output_type": "stream",
     "text": [
      "/home/autodeploy/.local/lib/python3.5/site-packages/ipykernel_launcher.py:43: RuntimeWarning: invalid value encountered in greater_equal\n",
      "/home/autodeploy/.local/lib/python3.5/site-packages/ipykernel_launcher.py:43: RuntimeWarning: invalid value encountered in greater_equal\n",
      "/home/autodeploy/.local/lib/python3.5/site-packages/ipykernel_launcher.py:43: RuntimeWarning: invalid value encountered in greater_equal\n"
     ]
    },
    {
     "name": "stdout",
     "output_type": "stream",
     "text": [
      "N_mined_hypos of type pos 9188\n",
      "N_mined_hypos of type pos 9842\n",
      "Mining 10000 intersections\n",
      "Mining 10000 intersections\n"
     ]
    },
    {
     "name": "stderr",
     "output_type": "stream",
     "text": [
      "/home/autodeploy/.local/lib/python3.5/site-packages/ipykernel_launcher.py:43: RuntimeWarning: invalid value encountered in greater_equal\n",
      "/home/autodeploy/.local/lib/python3.5/site-packages/ipykernel_launcher.py:43: RuntimeWarning: invalid value encountered in greater_equal\n"
     ]
    },
    {
     "name": "stdout",
     "output_type": "stream",
     "text": [
      "N_mined_hypos of type pos 9771\n",
      "Mining 10000 intersections\n",
      "N_mined_hypos of type pos 9587\n",
      "Mining 10000 intersections\n",
      "N_mined_hypos of type pos 8712\n",
      "Mining 10000 intersections\n"
     ]
    },
    {
     "name": "stderr",
     "output_type": "stream",
     "text": [
      "/home/autodeploy/.local/lib/python3.5/site-packages/ipykernel_launcher.py:43: RuntimeWarning: invalid value encountered in greater_equal\n",
      "/home/autodeploy/.local/lib/python3.5/site-packages/ipykernel_launcher.py:43: RuntimeWarning: invalid value encountered in greater_equal\n"
     ]
    },
    {
     "name": "stdout",
     "output_type": "stream",
     "text": [
      "N_mined_hypos of type pos 8558\n",
      "Mining 10000 intersections\n",
      "N_mined_hypos of type pos 9771\n",
      "Mining 10000 intersections\n"
     ]
    },
    {
     "name": "stderr",
     "output_type": "stream",
     "text": [
      "/home/autodeploy/.local/lib/python3.5/site-packages/ipykernel_launcher.py:43: RuntimeWarning: invalid value encountered in greater_equal\n",
      "/home/autodeploy/.local/lib/python3.5/site-packages/ipykernel_launcher.py:43: RuntimeWarning: invalid value encountered in greater_equal\n"
     ]
    },
    {
     "name": "stdout",
     "output_type": "stream",
     "text": [
      "N_mined_hypos of type pos 9428\n",
      "N_mined_hypos of type pos 9188\n",
      "Mining 10000 intersections\n",
      "Mining 10000 intersections\n"
     ]
    },
    {
     "name": "stderr",
     "output_type": "stream",
     "text": [
      "/home/autodeploy/.local/lib/python3.5/site-packages/ipykernel_launcher.py:43: RuntimeWarning: invalid value encountered in greater_equal\n",
      "/home/autodeploy/.local/lib/python3.5/site-packages/ipykernel_launcher.py:43: RuntimeWarning: invalid value encountered in greater_equal\n"
     ]
    },
    {
     "name": "stdout",
     "output_type": "stream",
     "text": [
      "N_mined_hypos of type pos 8558\n",
      "N_mined_hypos of type pos 9506\n",
      "Mining 10000 intersections\n",
      "Mining 10000 intersections\n"
     ]
    },
    {
     "name": "stderr",
     "output_type": "stream",
     "text": [
      "/home/autodeploy/.local/lib/python3.5/site-packages/ipykernel_launcher.py:35: RuntimeWarning: All-NaN slice encountered\n"
     ]
    },
    {
     "name": "stdout",
     "output_type": "stream",
     "text": [
      "N_mined_hypos of type pos 8414\n",
      "Mining 10000 intersections\n",
      "N_mined_hypos of type pos 8414\n",
      "N_mined_hypos of type pos 9870\n",
      "Mining 10000 intersections\n",
      "Mining 10000 intersections\n"
     ]
    },
    {
     "name": "stderr",
     "output_type": "stream",
     "text": [
      "/home/autodeploy/.local/lib/python3.5/site-packages/ipykernel_launcher.py:43: RuntimeWarning: invalid value encountered in greater_equal\n",
      "/home/autodeploy/.local/lib/python3.5/site-packages/ipykernel_launcher.py:36: RuntimeWarning: All-NaN slice encountered\n",
      "/home/autodeploy/.local/lib/python3.5/site-packages/ipykernel_launcher.py:43: RuntimeWarning: invalid value encountered in greater_equal\n",
      "/home/autodeploy/.local/lib/python3.5/site-packages/ipykernel_launcher.py:43: RuntimeWarning: invalid value encountered in greater_equal\n"
     ]
    },
    {
     "name": "stdout",
     "output_type": "stream",
     "text": [
      "N_mined_hypos of type pos 8023\n"
     ]
    },
    {
     "name": "stderr",
     "output_type": "stream",
     "text": [
      "/home/autodeploy/.local/lib/python3.5/site-packages/ipykernel_launcher.py:43: RuntimeWarning: invalid value encountered in greater_equal\n"
     ]
    },
    {
     "name": "stdout",
     "output_type": "stream",
     "text": [
      "Mining 10000 intersections\n",
      "N_mined_hypos of type pos 9023\n",
      "Mining 10000 intersections\n",
      "N_mined_hypos of type pos 9842\n",
      "N_mined_hypos of type pos 9771\n",
      "Mining 10000 intersections\n",
      "Mining 10000 intersections\n"
     ]
    },
    {
     "name": "stderr",
     "output_type": "stream",
     "text": [
      "/home/autodeploy/.local/lib/python3.5/site-packages/ipykernel_launcher.py:43: RuntimeWarning: invalid value encountered in greater_equal\n"
     ]
    },
    {
     "name": "stdout",
     "output_type": "stream",
     "text": [
      "N_mined_hypos of type pos 9898\n",
      "N_mined_hypos of type pos 9188\n",
      "N_mined_hypos of type pos 9307\n",
      "Mining 10000 intersections\n",
      "Mining 10000 intersections\n",
      "Mining 10000 intersections\n",
      "N_mined_hypos of type pos 9967\n",
      "N_mined_hypos of type pos 9307\n",
      "Mining 10000 intersections\n",
      "Mining 10000 intersections\n"
     ]
    },
    {
     "name": "stderr",
     "output_type": "stream",
     "text": [
      "/home/autodeploy/.local/lib/python3.5/site-packages/ipykernel_launcher.py:43: RuntimeWarning: invalid value encountered in greater_equal\n"
     ]
    },
    {
     "name": "stdout",
     "output_type": "stream",
     "text": [
      "N_mined_hypos of type pos 9587\n",
      "Mining 10000 intersections\n",
      "N_mined_hypos of type pos 9428\n",
      "Mining 10000 intersections\n",
      "N_mined_hypos of type pos 9943\n",
      "Mining 10000 intersections\n"
     ]
    },
    {
     "name": "stderr",
     "output_type": "stream",
     "text": [
      "/home/autodeploy/.local/lib/python3.5/site-packages/ipykernel_launcher.py:35: RuntimeWarning: All-NaN slice encountered\n",
      "/home/autodeploy/.local/lib/python3.5/site-packages/ipykernel_launcher.py:36: RuntimeWarning: All-NaN slice encountered\n"
     ]
    },
    {
     "name": "stdout",
     "output_type": "stream",
     "text": [
      "N_mined_hypos of type pos 9870\n",
      "Mining 10000 intersections\n",
      "N_mined_hypos of type pos 9842\n",
      "Mining 10000 intersections\n",
      "N_mined_hypos of type pos 8838\n",
      "N_mined_hypos of type pos 9967\n",
      "Mining 10000 intersections\n",
      "Mining 10000 intersections\n",
      "N_mined_hypos of type pos 9023\n",
      "Mining 10000 intersections\n",
      "N_mined_hypos of type pos 9976\n",
      "Mining 10000 intersections\n",
      "N_mined_hypos of type pos 9506\n",
      "Mining 10000 intersections\n",
      "N_mined_hypos of type pos 9870\n",
      "Mining 10000 intersections\n",
      "N_mined_hypos of type pos 9675\n",
      "Mining 10000 intersections\n",
      "N_mined_hypos of type pos 9963\n",
      "Mining 10000 intersections\n",
      "N_mined_hypos of type pos 9943\n",
      "N_mined_hypos of type pos 9992\n",
      "Mining 10000 intersections\n",
      "Mining 10000 intersections\n",
      "N_mined_hypos of type pos 9897\n",
      "N_mined_hypos of type pos 9992\n",
      "Mining 10000 intersections\n",
      "Mining 10000 intersections\n",
      "N_mined_hypos of type pos 17142\n",
      "Mining 10000 intersections\n"
     ]
    },
    {
     "name": "stderr",
     "output_type": "stream",
     "text": [
      "/home/autodeploy/.local/lib/python3.5/site-packages/ipykernel_launcher.py:35: RuntimeWarning: All-NaN slice encountered\n",
      "/home/autodeploy/.local/lib/python3.5/site-packages/ipykernel_launcher.py:36: RuntimeWarning: All-NaN slice encountered\n"
     ]
    },
    {
     "name": "stdout",
     "output_type": "stream",
     "text": [
      "N_mined_hypos of type pos 16066\n",
      "Mining 10000 intersections\n"
     ]
    },
    {
     "name": "stderr",
     "output_type": "stream",
     "text": [
      "/home/autodeploy/.local/lib/python3.5/site-packages/ipykernel_launcher.py:35: RuntimeWarning: All-NaN slice encountered\n",
      "/home/autodeploy/.local/lib/python3.5/site-packages/ipykernel_launcher.py:36: RuntimeWarning: All-NaN slice encountered\n"
     ]
    },
    {
     "name": "stdout",
     "output_type": "stream",
     "text": [
      "N_mined_hypos of type pos 16066\n",
      "N_mined_hypos of type pos 16464\n",
      "N_mined_hypos of type pos 19354\n",
      "N_mined_hypos of type pos 17412\n",
      "Mining 10000 intersections\n"
     ]
    },
    {
     "name": "stderr",
     "output_type": "stream",
     "text": [
      "/home/autodeploy/.local/lib/python3.5/site-packages/ipykernel_launcher.py:35: RuntimeWarning: All-NaN slice encountered\n"
     ]
    },
    {
     "name": "stdout",
     "output_type": "stream",
     "text": [
      "N_mined_hypos of type pos 19768\n"
     ]
    },
    {
     "name": "stderr",
     "output_type": "stream",
     "text": [
      "/home/autodeploy/.local/lib/python3.5/site-packages/ipykernel_launcher.py:36: RuntimeWarning: All-NaN slice encountered\n"
     ]
    },
    {
     "name": "stdout",
     "output_type": "stream",
     "text": [
      "N_mined_hypos of type pos 16464\n",
      "N_mined_hypos of type pos 19984\n",
      "N_mined_hypos of type pos 17652\n",
      "N_mined_hypos of type pos 16464\n",
      "N_mined_hypos of type pos 18037\n",
      "N_mined_hypos of type pos 16821\n",
      "N_mined_hypos of type pos 16821\n",
      "N_mined_hypos of type pos 17412\n",
      "N_mined_hypos of type pos 18764\n",
      "N_mined_hypos of type pos 18573\n",
      "Mining 10000 intersections\n",
      "Mining 10000 intersections\n"
     ]
    },
    {
     "name": "stderr",
     "output_type": "stream",
     "text": [
      "/home/autodeploy/.local/lib/python3.5/site-packages/ipykernel_launcher.py:35: RuntimeWarning: All-NaN slice encountered\n"
     ]
    },
    {
     "name": "stdout",
     "output_type": "stream",
     "text": [
      "N_mined_hypos of type pos 19354\n"
     ]
    },
    {
     "name": "stderr",
     "output_type": "stream",
     "text": [
      "/home/autodeploy/.local/lib/python3.5/site-packages/ipykernel_launcher.py:36: RuntimeWarning: All-NaN slice encountered\n"
     ]
    },
    {
     "name": "stdout",
     "output_type": "stream",
     "text": [
      "Mining 10000 intersections\n",
      "N_mined_hypos of type pos 19010\n",
      "N_mined_hypos of type pos 16821\n",
      "Mining 10000 intersections\n",
      "N_mined_hypos of type pos 17412\n",
      "Mining 10000 intersections\n",
      "N_mined_hypos of type pos 17142\n",
      "N_mined_hypos of type pos 17652\n",
      "N_mined_hypos of type pos 17142\n",
      "Mining 10000 intersections\n",
      "Mining 10000 intersections\n",
      "Mining 10000 intersections\n",
      "N_mined_hypos of type pos 18037\n",
      "Mining 10000 intersections\n",
      "N_mined_hypos of type pos 16066\n",
      "Mining 10000 intersections\n",
      "Mining 10000 intersections\n",
      "N_mined_hypos of type pos 19872\n",
      "Mining 10000 intersections\n",
      "Mining 10000 intersections\n",
      "N_mined_hypos of type pos 19170\n",
      "Mining 10000 intersections\n"
     ]
    },
    {
     "name": "stderr",
     "output_type": "stream",
     "text": [
      "/home/autodeploy/.local/lib/python3.5/site-packages/ipykernel_launcher.py:35: RuntimeWarning: All-NaN slice encountered\n",
      "/home/autodeploy/.local/lib/python3.5/site-packages/ipykernel_launcher.py:36: RuntimeWarning: All-NaN slice encountered\n"
     ]
    },
    {
     "name": "stdout",
     "output_type": "stream",
     "text": [
      "N_mined_hypos of type pos 19010\n",
      "N_mined_hypos of type pos 18318\n",
      "Mining 10000 intersections\n"
     ]
    },
    {
     "name": "stderr",
     "output_type": "stream",
     "text": [
      "/home/autodeploy/.local/lib/python3.5/site-packages/ipykernel_launcher.py:35: RuntimeWarning: All-NaN slice encountered\n",
      "/home/autodeploy/.local/lib/python3.5/site-packages/ipykernel_launcher.py:36: RuntimeWarning: All-NaN slice encountered\n"
     ]
    },
    {
     "name": "stdout",
     "output_type": "stream",
     "text": [
      "Mining 10000 intersections\n",
      "N_mined_hypos of type pos 18037\n",
      "N_mined_hypos of type pos 19354\n",
      "N_mined_hypos of type pos 19170\n",
      "N_mined_hypos of type pos 19919\n",
      "Mining 10000 intersections\n",
      "N_mined_hypos of type pos 18318\n"
     ]
    },
    {
     "name": "stderr",
     "output_type": "stream",
     "text": [
      "/home/autodeploy/.local/lib/python3.5/site-packages/ipykernel_launcher.py:35: RuntimeWarning: All-NaN slice encountered\n",
      "/home/autodeploy/.local/lib/python3.5/site-packages/ipykernel_launcher.py:36: RuntimeWarning: All-NaN slice encountered\n"
     ]
    },
    {
     "name": "stdout",
     "output_type": "stream",
     "text": [
      "N_mined_hypos of type pos 18573\n",
      "N_mined_hypos of type pos 19547\n",
      "N_mined_hypos of type pos 19872\n",
      "Mining 10000 intersections\n",
      "Mining 10000 intersections\n"
     ]
    },
    {
     "name": "stderr",
     "output_type": "stream",
     "text": [
      "/home/autodeploy/.local/lib/python3.5/site-packages/ipykernel_launcher.py:35: RuntimeWarning: All-NaN slice encountered\n"
     ]
    },
    {
     "name": "stdout",
     "output_type": "stream",
     "text": [
      "N_mined_hypos of type pos 18764\n"
     ]
    },
    {
     "name": "stderr",
     "output_type": "stream",
     "text": [
      "/home/autodeploy/.local/lib/python3.5/site-packages/ipykernel_launcher.py:36: RuntimeWarning: All-NaN slice encountered\n",
      "/home/autodeploy/.local/lib/python3.5/site-packages/ipykernel_launcher.py:35: RuntimeWarning: All-NaN slice encountered\n"
     ]
    },
    {
     "name": "stdout",
     "output_type": "stream",
     "text": [
      "Mining 10000 intersections\n"
     ]
    },
    {
     "name": "stderr",
     "output_type": "stream",
     "text": [
      "/home/autodeploy/.local/lib/python3.5/site-packages/ipykernel_launcher.py:36: RuntimeWarning: All-NaN slice encountered\n"
     ]
    },
    {
     "name": "stdout",
     "output_type": "stream",
     "text": [
      "Mining 10000 intersections\n",
      "Mining 10000 intersections\n",
      "Mining 10000 intersections\n",
      "Mining 10000 intersections\n",
      "N_mined_hypos of type pos 19010\n",
      "Mining 10000 intersections\n",
      "N_mined_hypos of type pos 19932\n",
      "N_mined_hypos of type pos 17652\n",
      "N_mined_hypos of type pos 19547\n",
      "N_mined_hypos of type pos 19678\n",
      "Mining 10000 intersections\n",
      "Mining 10000 intersections\n",
      "Mining 10000 intersections\n",
      "N_mined_hypos of type pos 19868\n",
      "N_mined_hypos of type pos 19982\n",
      "N_mined_hypos of type pos 18764\n",
      "Mining 10000 intersections\n",
      "N_mined_hypos of type pos 19170\n",
      "N_mined_hypos of type pos 19678\n",
      "Mining 10000 intersections\n",
      "N_mined_hypos of type pos 18318\n",
      "Mining 10000 intersections\n",
      "Mining 10000 intersections\n",
      "Mining 10000 intersections\n"
     ]
    },
    {
     "name": "stderr",
     "output_type": "stream",
     "text": [
      "/home/autodeploy/.local/lib/python3.5/site-packages/ipykernel_launcher.py:35: RuntimeWarning: All-NaN slice encountered\n",
      "/home/autodeploy/.local/lib/python3.5/site-packages/ipykernel_launcher.py:36: RuntimeWarning: All-NaN slice encountered\n"
     ]
    },
    {
     "name": "stdout",
     "output_type": "stream",
     "text": [
      "Mining 10000 intersections\n",
      "Mining 10000 intersections\n",
      "N_mined_hypos of type pos 19768\n",
      "Mining 10000 intersections\n",
      "N_mined_hypos of type pos 19678\n",
      "N_mined_hypos of type pos 19803\n",
      "N_mined_hypos of type pos 19547\n",
      "Mining 10000 intersections\n",
      "N_mined_hypos of type pos 19932\n",
      "N_mined_hypos of type pos 18573\n",
      "Mining 10000 intersections\n"
     ]
    },
    {
     "name": "stderr",
     "output_type": "stream",
     "text": [
      "/home/autodeploy/.local/lib/python3.5/site-packages/ipykernel_launcher.py:35: RuntimeWarning: All-NaN slice encountered\n"
     ]
    },
    {
     "name": "stdout",
     "output_type": "stream",
     "text": [
      "Mining 10000 intersections\n"
     ]
    },
    {
     "name": "stderr",
     "output_type": "stream",
     "text": [
      "/home/autodeploy/.local/lib/python3.5/site-packages/ipykernel_launcher.py:36: RuntimeWarning: All-NaN slice encountered\n"
     ]
    },
    {
     "name": "stdout",
     "output_type": "stream",
     "text": [
      "Mining 10000 intersections\n",
      "Mining 10000 intersections\n",
      "N_mined_hypos of type pos 19768\n",
      "Mining 10000 intersections\n",
      "N_mined_hypos of type pos 19948\n",
      "N_mined_hypos of type pos 19984\n",
      "Mining 10000 intersections\n",
      "N_mined_hypos of type pos 19780\n",
      "Mining 10000 intersections\n",
      "Mining 10000 intersections\n",
      "Mining 10000 intersections\n",
      "Mining 10000 intersections\n",
      "Mining 10000 intersections\n",
      "Mining 10000 intersections\n",
      "Mining 10000 intersections\n",
      "Mining 10000 intersections\n",
      "Mining 10000 intersections\n",
      "Mining 10000 intersections\n",
      "Mining 10000 intersections\n",
      "Mining 10000 intersections\n",
      "Mining 10000 intersections\n",
      "Mining 10000 intersections\n",
      "N_mined_hypos of type pos 9867\n",
      "Mining 10000 intersections\n",
      "N_mined_hypos of type pos 8422\n",
      "Mining 10000 intersections\n",
      "N_mined_hypos of type pos 9845\n",
      "Mining 10000 intersections\n",
      "N_mined_hypos of type pos 9690\n",
      "Mining 10000 intersections\n",
      "N_mined_hypos of type pos 9524\n",
      "Mining 10000 intersections\n"
     ]
    },
    {
     "name": "stderr",
     "output_type": "stream",
     "text": [
      "/home/autodeploy/.local/lib/python3.5/site-packages/ipykernel_launcher.py:35: RuntimeWarning: All-NaN slice encountered\n",
      "/home/autodeploy/.local/lib/python3.5/site-packages/ipykernel_launcher.py:36: RuntimeWarning: All-NaN slice encountered\n"
     ]
    },
    {
     "name": "stdout",
     "output_type": "stream",
     "text": [
      "N_mined_hypos of type pos 8620\n",
      "Mining 10000 intersections\n",
      "N_mined_hypos of type pos 9785\n",
      "Mining 10000 intersections\n",
      "N_mined_hypos of type pos 8255\n",
      "Mining 10000 intersections\n",
      "N_mined_hypos of type pos 8534\n",
      "Mining 10000 intersections\n",
      "N_mined_hypos of type pos 9260\n",
      "Mining 10000 intersections\n",
      "N_mined_hypos of type pos 9073\n",
      "Mining 10000 intersections\n",
      "N_mined_hypos of type pos 9581\n",
      "Mining 10000 intersections\n",
      "N_mined_hypos of type pos 9714\n",
      "Mining 10000 intersections\n",
      "N_mined_hypos of type pos 9855\n",
      "Mining 10000 intersections\n",
      "N_mined_hypos of type pos 8062\n",
      "Mining 10000 intersections\n",
      "N_mined_hypos of type pos 9463\n",
      "N_mined_hypos of type pos 9600\n",
      "Mining 10000 intersections\n",
      "Mining 10000 intersections\n",
      "N_mined_hypos of type pos 9271\n",
      "Mining 10000 intersections\n"
     ]
    },
    {
     "name": "stderr",
     "output_type": "stream",
     "text": [
      "/home/autodeploy/.local/lib/python3.5/site-packages/ipykernel_launcher.py:35: RuntimeWarning: All-NaN slice encountered\n",
      "/home/autodeploy/.local/lib/python3.5/site-packages/ipykernel_launcher.py:36: RuntimeWarning: All-NaN slice encountered\n"
     ]
    },
    {
     "name": "stdout",
     "output_type": "stream",
     "text": [
      "N_mined_hypos of type pos 8768\n",
      "Mining 10000 intersections\n",
      "N_mined_hypos of type pos 9446\n",
      "Mining 10000 intersections\n",
      "N_mined_hypos of type pos 9776\n",
      "Mining 10000 intersections\n",
      "N_mined_hypos of type pos 9152\n",
      "Mining 10000 intersections\n",
      "N_mined_hypos of type pos 8898\n",
      "Mining 10000 intersections\n",
      "N_mined_hypos of type pos 9273\n",
      "Mining 10000 intersections\n",
      "N_mined_hypos of type pos 9405\n",
      "Mining 10000 intersections\n",
      "N_mined_hypos of type pos 8407\n",
      "Mining 10000 intersections\n",
      "N_mined_hypos of type pos 9005\n",
      "Mining 10000 intersections\n",
      "N_mined_hypos of type pos 8727\n",
      "Mining 10000 intersections\n",
      "N_mined_hypos of type pos 9727\n",
      "Mining 10000 intersections\n",
      "N_mined_hypos of type pos 9498\n",
      "Mining 10000 intersections\n",
      "N_mined_hypos of type pos 8079\n",
      "Mining 10000 intersections\n",
      "N_mined_hypos of type pos 8197\n",
      "Mining 10000 intersections\n",
      "N_mined_hypos of type pos 8860\n",
      "Mining 10000 intersections\n",
      "N_mined_hypos of type pos 9311\n",
      "Mining 10000 intersections\n",
      "N_mined_hypos of type pos 9134\n",
      "N_mined_hypos of type pos 9921\n",
      "Mining 10000 intersections\n",
      "Mining 10000 intersections\n",
      "N_mined_hypos of type pos 9640\n",
      "Mining 10000 intersections\n",
      "N_mined_hypos of type pos 9770\n",
      "Mining 10000 intersections\n"
     ]
    },
    {
     "name": "stderr",
     "output_type": "stream",
     "text": [
      "/home/autodeploy/.local/lib/python3.5/site-packages/ipykernel_launcher.py:35: RuntimeWarning: All-NaN slice encountered\n",
      "/home/autodeploy/.local/lib/python3.5/site-packages/ipykernel_launcher.py:36: RuntimeWarning: All-NaN slice encountered\n"
     ]
    },
    {
     "name": "stdout",
     "output_type": "stream",
     "text": [
      "N_mined_hypos of type pos 8198\n",
      "Mining 10000 intersections\n",
      "N_mined_hypos of type pos 9188\n",
      "Mining 10000 intersections\n",
      "N_mined_hypos of type pos 9729\n",
      "Mining 10000 intersections\n",
      "N_mined_hypos of type pos 7998\n",
      "Mining 10000 intersections\n",
      "N_mined_hypos of type pos 9204\n",
      "Mining 10000 intersections\n",
      "N_mined_hypos of type pos 9300\n",
      "Mining 10000 intersections\n",
      "N_mined_hypos of type pos 8489\n",
      "Mining 10000 intersections\n",
      "N_mined_hypos of type pos 8310\n",
      "N_mined_hypos of type pos 9267\n",
      "Mining 10000 intersections\n",
      "Mining 10000 intersections\n",
      "N_mined_hypos of type pos 9009\n",
      "Mining 10000 intersections\n",
      "N_mined_hypos of type pos 8808\n",
      "Mining 10000 intersections\n",
      "N_mined_hypos of type pos 9111\n",
      "Mining 10000 intersections\n",
      "N_mined_hypos of type pos 8630\n",
      "Mining 10000 intersections\n",
      "N_mined_hypos of type pos 9296\n",
      "Mining 10000 intersections\n",
      "N_mined_hypos of type pos 9246\n",
      "Mining 10000 intersections\n"
     ]
    },
    {
     "name": "stderr",
     "output_type": "stream",
     "text": [
      "/home/autodeploy/.local/lib/python3.5/site-packages/ipykernel_launcher.py:35: RuntimeWarning: All-NaN slice encountered\n",
      "/home/autodeploy/.local/lib/python3.5/site-packages/ipykernel_launcher.py:36: RuntimeWarning: All-NaN slice encountered\n"
     ]
    },
    {
     "name": "stdout",
     "output_type": "stream",
     "text": [
      "N_mined_hypos of type pos 7823\n",
      "Mining 10000 intersections\n",
      "N_mined_hypos of type pos 8893\n",
      "Mining 10000 intersections\n",
      "N_mined_hypos of type pos 9746\n",
      "Mining 10000 intersections\n",
      "N_mined_hypos of type pos 8376\n",
      "Mining 10000 intersections\n",
      "N_mined_hypos of type pos 8883\n",
      "Mining 10000 intersections\n",
      "N_mined_hypos of type pos 8011\n",
      "Mining 10000 intersections\n",
      "N_mined_hypos of type pos 7731\n",
      "Mining 10000 intersections\n",
      "N_mined_hypos of type pos 19731\n",
      "Mining 10000 intersections\n",
      "N_mined_hypos of type pos 16828\n",
      "N_mined_hypos of type pos 18580\n",
      "Mining 10000 intersections\n",
      "N_mined_hypos of type pos 17154\n",
      "Mining 10000 intersections\n",
      "N_mined_hypos of type pos 17158\n",
      "N_mined_hypos of type pos 19688\n",
      "N_mined_hypos of type pos 16455\n",
      "N_mined_hypos of type pos 18025\n",
      "N_mined_hypos of type pos 19497\n",
      "N_mined_hypos of type pos 19398\n",
      "N_mined_hypos of type pos 19046\n",
      "N_mined_hypos of type pos 18956\n",
      "N_mined_hypos of type pos 18297\n",
      "Mining 10000 intersections\n",
      "Mining 10000 intersections\n",
      "Mining 10000 intersections\n",
      "Mining 10000 intersections\n",
      "N_mined_hypos of type pos 18566\n",
      "N_mined_hypos of type pos 19561\n",
      "Mining 10000 intersections\n",
      "Mining 10000 intersections\n",
      "Mining 10000 intersections\n",
      "Mining 10000 intersections\n",
      "Mining 10000 intersections\n",
      "N_mined_hypos of type pos 18838\n",
      "Mining 10000 intersections\n",
      "N_mined_hypos of type pos 16111\n",
      "N_mined_hypos of type pos 17786\n",
      "N_mined_hypos of type pos 19186\n",
      "N_mined_hypos of type pos 19206\n",
      "N_mined_hypos of type pos 17476\n",
      "N_mined_hypos of type pos 18821\n",
      "N_mined_hypos of type pos 18505\n",
      "Mining 10000 intersections\n",
      "N_mined_hypos of type pos 16103\n",
      "N_mined_hypos of type pos 16412\n",
      "N_mined_hypos of type pos 17494\n",
      "Mining 10000 intersections\n",
      "N_mined_hypos of type pos 16818\n",
      "N_mined_hypos of type pos 16425\n",
      "N_mined_hypos of type pos 16046\n",
      "N_mined_hypos of type pos 18344\n",
      "N_mined_hypos of type pos 19445\n",
      "Mining 10000 intersections\n",
      "N_mined_hypos of type pos 18033\n",
      "N_mined_hypos of type pos 19011\n"
     ]
    },
    {
     "name": "stderr",
     "output_type": "stream",
     "text": [
      "/home/autodeploy/.local/lib/python3.5/site-packages/ipykernel_launcher.py:35: RuntimeWarning: All-NaN slice encountered\n",
      "/home/autodeploy/.local/lib/python3.5/site-packages/ipykernel_launcher.py:36: RuntimeWarning: All-NaN slice encountered\n"
     ]
    },
    {
     "name": "stdout",
     "output_type": "stream",
     "text": [
      "Mining 10000 intersections\n",
      "N_mined_hypos of type pos 19733\n",
      "N_mined_hypos of type pos 17774\n",
      "Mining 10000 intersections\n",
      "Mining 10000 intersections\n"
     ]
    },
    {
     "name": "stderr",
     "output_type": "stream",
     "text": [
      "/home/autodeploy/.local/lib/python3.5/site-packages/ipykernel_launcher.py:35: RuntimeWarning: All-NaN slice encountered\n",
      "/home/autodeploy/.local/lib/python3.5/site-packages/ipykernel_launcher.py:35: RuntimeWarning: All-NaN slice encountered\n",
      "/home/autodeploy/.local/lib/python3.5/site-packages/ipykernel_launcher.py:36: RuntimeWarning: All-NaN slice encountered\n",
      "/home/autodeploy/.local/lib/python3.5/site-packages/ipykernel_launcher.py:36: RuntimeWarning: All-NaN slice encountered\n"
     ]
    },
    {
     "name": "stdout",
     "output_type": "stream",
     "text": [
      "Mining 10000 intersections\n",
      "N_mined_hypos of type pos 19509\n",
      "Mining 10000 intersections\n",
      "Mining 10000 intersections\n",
      "Mining 10000 intersections\n",
      "N_mined_hypos of type pos 18011\n",
      "N_mined_hypos of type pos 19316\n",
      "N_mined_hypos of type pos 18547\n",
      "N_mined_hypos of type pos 16978\n",
      "Mining 10000 intersections\n",
      "N_mined_hypos of type pos 16686\n",
      "Mining 10000 intersections\n",
      "Mining 10000 intersections\n",
      "Mining 10000 intersections\n",
      "Mining 10000 intersections\n",
      "N_mined_hypos of type pos 18570\n",
      "Mining 10000 intersections\n",
      "Mining 10000 intersections\n",
      "Mining 10000 intersections\n",
      "Mining 10000 intersections\n",
      "Mining 10000 intersections\n"
     ]
    },
    {
     "name": "stderr",
     "output_type": "stream",
     "text": [
      "/home/autodeploy/.local/lib/python3.5/site-packages/ipykernel_launcher.py:35: RuntimeWarning: All-NaN slice encountered\n",
      "/home/autodeploy/.local/lib/python3.5/site-packages/ipykernel_launcher.py:36: RuntimeWarning: All-NaN slice encountered\n"
     ]
    },
    {
     "name": "stdout",
     "output_type": "stream",
     "text": [
      "N_mined_hypos of type pos 19458\n",
      "Mining 10000 intersections\n",
      "Mining 10000 intersections\n"
     ]
    },
    {
     "name": "stderr",
     "output_type": "stream",
     "text": [
      "/home/autodeploy/.local/lib/python3.5/site-packages/ipykernel_launcher.py:35: RuntimeWarning: All-NaN slice encountered\n",
      "/home/autodeploy/.local/lib/python3.5/site-packages/ipykernel_launcher.py:36: RuntimeWarning: All-NaN slice encountered\n"
     ]
    },
    {
     "name": "stdout",
     "output_type": "stream",
     "text": [
      "Mining 10000 intersections\n",
      "Mining 10000 intersections\n",
      "N_mined_hypos of type pos 18212\n",
      "Mining 10000 intersections\n"
     ]
    },
    {
     "name": "stderr",
     "output_type": "stream",
     "text": [
      "/home/autodeploy/.local/lib/python3.5/site-packages/ipykernel_launcher.py:35: RuntimeWarning: All-NaN slice encountered\n"
     ]
    },
    {
     "name": "stdout",
     "output_type": "stream",
     "text": [
      "N_mined_hypos of type pos 18365\n"
     ]
    },
    {
     "name": "stderr",
     "output_type": "stream",
     "text": [
      "/home/autodeploy/.local/lib/python3.5/site-packages/ipykernel_launcher.py:36: RuntimeWarning: All-NaN slice encountered\n"
     ]
    },
    {
     "name": "stdout",
     "output_type": "stream",
     "text": [
      "Mining 10000 intersections\n",
      "N_mined_hypos of type pos 17838\n",
      "Mining 10000 intersections\n",
      "N_mined_hypos of type pos 19446\n",
      "N_mined_hypos of type pos 18448\n",
      "N_mined_hypos of type pos 15750\n",
      "N_mined_hypos of type pos 18519\n",
      "Mining 10000 intersections\n",
      "Mining 10000 intersections\n",
      "N_mined_hypos of type pos 19861\n",
      "N_mined_hypos of type pos 17611\n",
      "N_mined_hypos of type pos 17284\n",
      "Mining 10000 intersections\n",
      "N_mined_hypos of type pos 16741\n",
      "Mining 10000 intersections\n",
      "Mining 10000 intersections\n",
      "Mining 10000 intersections\n",
      "Mining 10000 intersections\n",
      "Mining 10000 intersections\n",
      "Mining 10000 intersections\n",
      "Mining 10000 intersections\n",
      "N_mined_hypos of type pos 18522\n",
      "N_mined_hypos of type pos 19501\n",
      "Mining 10000 intersections\n",
      "N_mined_hypos of type pos 18589\n",
      "N_mined_hypos of type pos 17841\n",
      "N_mined_hypos of type pos 15526\n",
      "N_mined_hypos of type pos 16085\n",
      "Mining 10000 intersections\n",
      "Mining 10000 intersections\n",
      "Mining 10000 intersections\n",
      "Mining 10000 intersections\n",
      "Mining 10000 intersections\n",
      "Mining 10000 intersections\n",
      "Mining 10000 intersections\n",
      "Mining 10000 intersections\n",
      "Mining 10000 intersections\n",
      "N_mined_hypos of type pos 7418\n",
      "Mining 10000 intersections\n",
      "N_mined_hypos of type pos 7553\n",
      "Mining 10000 intersections\n",
      "N_mined_hypos of type pos 4594\n",
      "Mining 10000 intersections\n",
      "N_mined_hypos of type pos 5712\n",
      "Mining 10000 intersections\n",
      "N_mined_hypos of type pos 5935\n",
      "Mining 10000 intersections\n",
      "N_mined_hypos of type pos 696\n",
      "Mining 10000 intersections\n",
      "N_mined_hypos of type pos 8215\n",
      "Mining 10000 intersections\n",
      "N_mined_hypos of type pos 7191\n",
      "Mining 10000 intersections\n",
      "N_mined_hypos of type pos 6277\n",
      "Mining 10000 intersections\n",
      "N_mined_hypos of type pos 4814\n",
      "Mining 10000 intersections\n",
      "N_mined_hypos of type pos 6727\n",
      "Mining 10000 intersections\n",
      "N_mined_hypos of type pos 5364\n",
      "Mining 10000 intersections\n",
      "N_mined_hypos of type pos 6980\n",
      "Mining 10000 intersections\n",
      "N_mined_hypos of type pos 6499\n",
      "Mining 10000 intersections\n",
      "N_mined_hypos of type pos 5131\n",
      "Mining 10000 intersections\n",
      "N_mined_hypos of type pos 2286\n",
      "Mining 10000 intersections\n",
      "N_mined_hypos of type pos 9570\n",
      "Mining 10000 intersections\n",
      "N_mined_hypos of type pos 107\n",
      "Mining 10000 intersections\n",
      "N_mined_hypos of type pos 771\n",
      "Mining 10000 intersections\n",
      "N_mined_hypos of type pos 993\n",
      "Mining 10000 intersections\n",
      "N_mined_hypos of type pos 3538\n",
      "Mining 10000 intersections\n",
      "N_mined_hypos of type pos 3507\n",
      "Mining 10000 intersections\n",
      "N_mined_hypos of type pos 3112\n",
      "Mining 10000 intersections\n",
      "N_mined_hypos of type pos 1443\n",
      "Mining 10000 intersections\n",
      "N_mined_hypos of type pos 1955\n",
      "Mining 10000 intersections\n",
      "N_mined_hypos of type pos 4449\n",
      "Mining 10000 intersections\n",
      "N_mined_hypos of type pos 1602\n",
      "Mining 10000 intersections\n",
      "N_mined_hypos of type pos 1163\n",
      "Mining 10000 intersections\n",
      "N_mined_hypos of type pos 6335\n",
      "Mining 10000 intersections\n",
      "N_mined_hypos of type pos 699\n",
      "Mining 10000 intersections\n",
      "N_mined_hypos of type pos 2599\n",
      "Mining 10000 intersections\n",
      "N_mined_hypos of type pos 5135\n",
      "Mining 10000 intersections\n",
      "N_mined_hypos of type pos 1214\n",
      "Mining 10000 intersections\n",
      "N_mined_hypos of type pos 7126\n",
      "N_mined_hypos of type pos 4655\n",
      "Mining 10000 intersections\n",
      "Mining 10000 intersections\n",
      "N_mined_hypos of type pos 5718\n",
      "Mining 10000 intersections\n",
      "N_mined_hypos of type pos 4166\n",
      "Mining 10000 intersections\n",
      "N_mined_hypos of type pos 924\n",
      "Mining 10000 intersections\n",
      "N_mined_hypos of type pos 48\n",
      "Mining 10000 intersections\n",
      "N_mined_hypos of type pos 5577\n",
      "Mining 10000 intersections\n",
      "N_mined_hypos of type pos 2126\n",
      "Mining 10000 intersections\n",
      "N_mined_hypos of type pos 2799\n",
      "Mining 10000 intersections\n",
      "N_mined_hypos of type pos 267\n",
      "Mining 10000 intersections\n",
      "N_mined_hypos of type pos 1674\n",
      "Mining 10000 intersections\n",
      "N_mined_hypos of type pos 361\n",
      "Mining 10000 intersections\n",
      "N_mined_hypos of type pos 111\n",
      "Mining 10000 intersections\n",
      "N_mined_hypos of type pos 7364\n",
      "N_mined_hypos of type pos 63\n",
      "Mining 10000 intersections\n",
      "Mining 10000 intersections\n",
      "N_mined_hypos of type pos 535\n",
      "Mining 10000 intersections\n",
      "N_mined_hypos of type pos 9463\n",
      "N_mined_hypos of type pos 2698\n",
      "Mining 10000 intersections\n",
      "N_mined_hypos of type pos 172\n",
      "Mining 10000 intersections\n",
      "Mining 10000 intersections\n",
      "N_mined_hypos of type pos 9137\n",
      "Mining 10000 intersections\n",
      "N_mined_hypos of type pos 6215\n",
      "Mining 10000 intersections\n",
      "N_mined_hypos of type pos 4111\n",
      "Mining 10000 intersections\n",
      "N_mined_hypos of type pos 284\n",
      "Mining 10000 intersections\n",
      "N_mined_hypos of type pos 484\n",
      "Mining 10000 intersections\n",
      "N_mined_hypos of type pos 776\n",
      "Mining 10000 intersections\n",
      "N_mined_hypos of type pos 1146\n",
      "Mining 10000 intersections\n",
      "N_mined_hypos of type pos 9107\n",
      "N_mined_hypos of type pos 1817\n",
      "Mining 10000 intersections\n",
      "N_mined_hypos of type pos 1311\n",
      "Mining 10000 intersections\n",
      "N_mined_hypos of type pos 15088\n",
      "N_mined_hypos of type pos 14788\n",
      "N_mined_hypos of type pos 11435\n",
      "Mining 10000 intersections\n",
      "N_mined_hypos of type pos 11998\n",
      "Mining 10000 intersections\n",
      "N_mined_hypos of type pos 9692\n",
      "Mining 10000 intersections\n",
      "N_mined_hypos of type pos 10798\n",
      "Mining 10000 intersections\n",
      "Mining 10000 intersections\n",
      "N_mined_hypos of type pos 10247\n",
      "Mining 10000 intersections\n",
      "N_mined_hypos of type pos 12594\n",
      "Mining 10000 intersections\n",
      "N_mined_hypos of type pos 16417\n",
      "N_mined_hypos of type pos 13499\n",
      "N_mined_hypos of type pos 13016\n",
      "Mining 10000 intersections\n",
      "N_mined_hypos of type pos 4551\n",
      "N_mined_hypos of type pos 14390\n",
      "Mining 10000 intersections\n",
      "Mining 10000 intersections\n"
     ]
    },
    {
     "name": "stderr",
     "output_type": "stream",
     "text": [
      "/home/autodeploy/.local/lib/python3.5/site-packages/ipykernel_launcher.py:35: RuntimeWarning: All-NaN slice encountered\n"
     ]
    },
    {
     "name": "stdout",
     "output_type": "stream",
     "text": [
      "N_mined_hypos of type pos 1387\n"
     ]
    },
    {
     "name": "stderr",
     "output_type": "stream",
     "text": [
      "/home/autodeploy/.local/lib/python3.5/site-packages/ipykernel_launcher.py:36: RuntimeWarning: All-NaN slice encountered\n"
     ]
    },
    {
     "name": "stdout",
     "output_type": "stream",
     "text": [
      "N_mined_hypos of type pos 14020\n",
      "Mining 10000 intersections\n",
      "N_mined_hypos of type pos 1551\n",
      "N_mined_hypos of type pos 7078\n",
      "N_mined_hypos of type pos 19157\n",
      "Mining 10000 intersections\n",
      "Mining 10000 intersections\n",
      "N_mined_hypos of type pos 1889\n",
      "N_mined_hypos of type pos 2509\n",
      "Mining 10000 intersections\n"
     ]
    },
    {
     "name": "stderr",
     "output_type": "stream",
     "text": [
      "/home/autodeploy/.local/lib/python3.5/site-packages/ipykernel_launcher.py:35: RuntimeWarning: All-NaN slice encountered\n"
     ]
    },
    {
     "name": "stdout",
     "output_type": "stream",
     "text": [
      "N_mined_hypos of type pos 5268\n",
      "Mining 10000 intersections\n"
     ]
    },
    {
     "name": "stderr",
     "output_type": "stream",
     "text": [
      "/home/autodeploy/.local/lib/python3.5/site-packages/ipykernel_launcher.py:36: RuntimeWarning: All-NaN slice encountered\n"
     ]
    },
    {
     "name": "stdout",
     "output_type": "stream",
     "text": [
      "Mining 10000 intersections\n"
     ]
    },
    {
     "name": "stderr",
     "output_type": "stream",
     "text": [
      "/home/autodeploy/.local/lib/python3.5/site-packages/ipykernel_launcher.py:35: RuntimeWarning: All-NaN slice encountered\n",
      "/home/autodeploy/.local/lib/python3.5/site-packages/ipykernel_launcher.py:36: RuntimeWarning: All-NaN slice encountered\n"
     ]
    },
    {
     "name": "stdout",
     "output_type": "stream",
     "text": [
      "N_mined_hypos of type pos 2767\n",
      "N_mined_hypos of type pos 189\n",
      "Mining 10000 intersections\n",
      "N_mined_hypos of type pos 8925\n",
      "Mining 10000 intersections\n",
      "Mining 10000 intersections\n",
      "Mining 10000 intersections\n",
      "Mining 10000 intersections\n",
      "N_mined_hypos of type pos 7056\n",
      "Mining 10000 intersections\n",
      "N_mined_hypos of type pos 2285\n",
      "N_mined_hypos of type pos 6246\n",
      "Mining 10000 intersections\n",
      "Mining 10000 intersections\n",
      "Mining 10000 intersections\n",
      "N_mined_hypos of type pos 3912\n",
      "N_mined_hypos of type pos 3241\n",
      "Mining 10000 intersections\n",
      "Mining 10000 intersections\n",
      "Mining 10000 intersections\n",
      "N_mined_hypos of type pos 5361\n",
      "Mining 10000 intersections\n",
      "Mining 10000 intersections\n"
     ]
    },
    {
     "name": "stderr",
     "output_type": "stream",
     "text": [
      "/home/autodeploy/.local/lib/python3.5/site-packages/ipykernel_launcher.py:35: RuntimeWarning: All-NaN slice encountered\n",
      "/home/autodeploy/.local/lib/python3.5/site-packages/ipykernel_launcher.py:36: RuntimeWarning: All-NaN slice encountered\n"
     ]
    },
    {
     "name": "stdout",
     "output_type": "stream",
     "text": [
      "N_mined_hypos of type pos 5583\n"
     ]
    },
    {
     "name": "stderr",
     "output_type": "stream",
     "text": [
      "/home/autodeploy/.local/lib/python3.5/site-packages/ipykernel_launcher.py:35: RuntimeWarning: All-NaN slice encountered\n",
      "/home/autodeploy/.local/lib/python3.5/site-packages/ipykernel_launcher.py:36: RuntimeWarning: All-NaN slice encountered\n"
     ]
    },
    {
     "name": "stdout",
     "output_type": "stream",
     "text": [
      "N_mined_hypos of type pos 94\n",
      "Mining 10000 intersections\n",
      "N_mined_hypos of type pos 12628\n",
      "N_mined_hypos of type pos 241\n",
      "Mining 10000 intersections\n",
      "Mining 10000 intersections\n",
      "Mining 10000 intersections\n",
      "N_mined_hypos of type pos 1894\n",
      "N_mined_hypos of type pos 9266\n",
      "N_mined_hypos of type pos 11400\n",
      "Mining 10000 intersections\n",
      "N_mined_hypos of type pos 10268\n",
      "N_mined_hypos of type pos 8183\n",
      "Mining 10000 intersections\n",
      "N_mined_hypos of type pos 132\n",
      "Mining 10000 intersections\n",
      "N_mined_hypos of type pos 506\n",
      "N_mined_hypos of type pos 14199\n",
      "Mining 10000 intersections\n",
      "Mining 10000 intersections\n",
      "N_mined_hypos of type pos 3354\n",
      "Mining 10000 intersections\n",
      "N_mined_hypos of type pos 347\n",
      "Mining 10000 intersections\n",
      "N_mined_hypos of type pos 710\n",
      "N_mined_hypos of type pos 4325\n",
      "Mining 10000 intersections\n",
      "Mining 10000 intersections\n",
      "Mining 10000 intersections\n",
      "Mining 10000 intersections\n",
      "N_mined_hypos of type pos 18950\n",
      "N_mined_hypos of type pos 1059\n",
      "N_mined_hypos of type pos 11188\n",
      "Mining 10000 intersections\n",
      "Mining 10000 intersections\n",
      "Mining 10000 intersections\n",
      "N_mined_hypos of type pos 14722\n",
      "N_mined_hypos of type pos 94\n",
      "Mining 10000 intersections\n",
      "N_mined_hypos of type pos 8086\n",
      "N_mined_hypos of type pos 575\n",
      "Mining 10000 intersections\n",
      "Mining 10000 intersections\n",
      "Mining 10000 intersections\n",
      "N_mined_hypos of type pos 18260\n",
      "N_mined_hypos of type pos 974\n",
      "N_mined_hypos of type pos 12532\n",
      "N_mined_hypos of type pos 168\n",
      "Mining 10000 intersections\n",
      "Mining 10000 intersections\n",
      "Mining 10000 intersections\n",
      "N_mined_hypos of type pos 1542\n",
      "Mining 10000 intersections\n",
      "Mining 10000 intersections\n",
      "N_mined_hypos of type pos 25\n",
      "Mining 10000 intersections\n",
      "N_mined_hypos of type pos 65\n",
      "Mining 10000 intersections\n",
      "N_mined_hypos of type pos 1\n",
      "Mining 10000 intersections\n",
      "N_mined_hypos of type pos 2283\n",
      "Mining 10000 intersections\n",
      "Mining 10000 intersections\n",
      "Mining 10000 intersections\n",
      "N_mined_hypos of type pos 37\n",
      "Mining 10000 intersections\n",
      "N_mined_hypos of type pos 3662\n",
      "N_mined_hypos of type pos 6\n",
      "Mining 10000 intersections\n",
      "N_mined_hypos of type pos 11\n",
      "Mining 10000 intersections\n",
      "Mining 10000 intersections\n",
      "N_mined_hypos of type pos 2\n",
      "Mining 10000 intersections\n",
      "N_mined_hypos of type pos 4\n",
      "Mining 10000 intersections\n",
      "N_mined_hypos of type pos 1\n",
      "Mining 10000 intersections\n",
      "N_mined_hypos of type pos 9031\n",
      "Mining 10000 intersections\n",
      "N_mined_hypos of type pos 1\n",
      "Mining 10000 intersections\n",
      "N_mined_hypos of type pos 312\n",
      "Mining 10000 intersections\n",
      "N_mined_hypos of type pos 0\n",
      "Mining 10000 intersections\n",
      "N_mined_hypos of type pos 5446\n",
      "Mining 10000 intersections\n",
      "N_mined_hypos of type pos 0\n",
      "Mining 10000 intersections\n",
      "N_mined_hypos of type pos 1\n",
      "Mining 10000 intersections\n",
      "N_mined_hypos of type pos 209\n",
      "Mining 10000 intersections\n",
      "N_mined_hypos of type pos 2950\n",
      "Mining 10000 intersections\n",
      "N_mined_hypos of type pos 410\n",
      "Mining 10000 intersections\n",
      "N_mined_hypos of type pos 1\n",
      "Mining 10000 intersections\n",
      "N_mined_hypos of type pos 0\n",
      "Mining 10000 intersections\n",
      "N_mined_hypos of type pos 0\n",
      "Mining 10000 intersections\n",
      "N_mined_hypos of type pos 61\n",
      "Mining 10000 intersections\n",
      "N_mined_hypos of type pos 0\n",
      "N_mined_hypos of type pos 33\n",
      "Mining 10000 intersections\n",
      "Mining 10000 intersections\n",
      "N_mined_hypos of type pos 104\n",
      "Mining 10000 intersections\n",
      "N_mined_hypos of type pos 1521\n",
      "Mining 10000 intersections\n",
      "N_mined_hypos of type pos 774\n",
      "Mining 10000 intersections\n",
      "N_mined_hypos of type pos 2\n",
      "Mining 10000 intersections\n",
      "N_mined_hypos of type pos 0\n",
      "Mining 10000 intersections\n",
      "N_mined_hypos of type pos 16\n",
      "Mining 10000 intersections\n",
      "N_mined_hypos of type pos 4403\n",
      "Mining 10000 intersections\n",
      "N_mined_hypos of type pos 0\n",
      "Mining 10000 intersections\n",
      "N_mined_hypos of type pos 1794\n",
      "Mining 10000 intersections\n",
      "N_mined_hypos of type pos 727\n",
      "Mining 10000 intersections\n",
      "N_mined_hypos of type pos 8582\n",
      "Mining 10000 intersections\n",
      "N_mined_hypos of type pos 49\n",
      "Mining 10000 intersections\n",
      "N_mined_hypos of type pos 120\n",
      "Mining 10000 intersections\n",
      "N_mined_hypos of type pos 0\n",
      "Mining 10000 intersections\n",
      "N_mined_hypos of type pos 0\n",
      "Mining 10000 intersections\n",
      "N_mined_hypos of type pos 0\n",
      "Mining 10000 intersections\n",
      "N_mined_hypos of type pos 0\n",
      "Mining 10000 intersections\n",
      "N_mined_hypos of type pos 203\n",
      "Mining 10000 intersections\n",
      "N_mined_hypos of type pos 4\n",
      "Mining 10000 intersections\n",
      "N_mined_hypos of type pos 15\n",
      "Mining 10000 intersections\n",
      "N_mined_hypos of type pos 0\n",
      "Mining 10000 intersections\n",
      "N_mined_hypos of type pos 6\n",
      "Mining 10000 intersections\n",
      "N_mined_hypos of type pos 1\n",
      "Mining 10000 intersections\n",
      "N_mined_hypos of type pos 33\n",
      "Mining 10000 intersections\n",
      "N_mined_hypos of type pos 43\n",
      "Mining 10000 intersections\n",
      "N_mined_hypos of type pos 8156\n",
      "Mining 10000 intersections\n",
      "N_mined_hypos of type pos 358\n",
      "Mining 10000 intersections\n",
      "N_mined_hypos of type pos 4\n",
      "Mining 10000 intersections\n",
      "N_mined_hypos of type pos 1\n",
      "Mining 10000 intersections\n",
      "N_mined_hypos of type pos 9\n",
      "Mining 10000 intersections\n",
      "N_mined_hypos of type pos 330\n",
      "N_mined_hypos of type pos 3418\n",
      "Mining 10000 intersections\n",
      "Mining 10000 intersections\n",
      "N_mined_hypos of type pos 115\n",
      "Mining 10000 intersections\n",
      "N_mined_hypos of type pos 0\n",
      "Mining 10000 intersections\n",
      "N_mined_hypos of type pos 71\n",
      "N_mined_hypos of type pos 127\n",
      "Mining 10000 intersections\n",
      "N_mined_hypos of type pos 0\n",
      "Mining 10000 intersections\n",
      "N_mined_hypos of type pos 1141\n",
      "Mining 10000 intersections\n",
      "Mining 10000 intersections\n",
      "N_mined_hypos of type pos 0\n",
      "Mining 10000 intersections\n",
      "N_mined_hypos of type pos 9\n",
      "Mining 10000 intersections\n",
      "N_mined_hypos of type pos 2\n",
      "N_mined_hypos of type pos 4\n",
      "Mining 10000 intersections\n",
      "Mining 10000 intersections\n"
     ]
    },
    {
     "name": "stderr",
     "output_type": "stream",
     "text": [
      "/home/autodeploy/.local/lib/python3.5/site-packages/ipykernel_launcher.py:35: RuntimeWarning: All-NaN slice encountered\n",
      "/home/autodeploy/.local/lib/python3.5/site-packages/ipykernel_launcher.py:36: RuntimeWarning: All-NaN slice encountered\n"
     ]
    },
    {
     "name": "stdout",
     "output_type": "stream",
     "text": [
      "N_mined_hypos of type pos 0\n",
      "Mining 10000 intersections\n",
      "N_mined_hypos of type pos 24\n",
      "Mining 10000 intersections\n",
      "N_mined_hypos of type pos 9\n",
      "Mining 10000 intersections\n",
      "N_mined_hypos of type pos 18105\n",
      "N_mined_hypos of type pos 1\n",
      "Mining 10000 intersections\n",
      "N_mined_hypos of type pos 0\n",
      "Mining 10000 intersections\n",
      "N_mined_hypos of type pos 0\n",
      "Mining 10000 intersections\n",
      "N_mined_hypos of type pos 401\n",
      "Mining 10000 intersections\n",
      "N_mined_hypos of type pos 1\n",
      "Mining 10000 intersections\n",
      "Mining 10000 intersections\n",
      "N_mined_hypos of type pos 3\n",
      "N_mined_hypos of type pos 0\n",
      "Mining 10000 intersections\n",
      "Mining 10000 intersections\n",
      "N_mined_hypos of type pos 215\n",
      "Mining 10000 intersections\n",
      "N_mined_hypos of type pos 0\n",
      "Mining 10000 intersections\n",
      "N_mined_hypos of type pos 5\n",
      "Mining 10000 intersections\n",
      "N_mined_hypos of type pos 635\n",
      "N_mined_hypos of type pos 68\n",
      "Mining 10000 intersections\n",
      "Mining 10000 intersections\n",
      "N_mined_hypos of type pos 0\n",
      "Mining 10000 intersections\n",
      "N_mined_hypos of type pos 5835\n",
      "N_mined_hypos of type pos 10963\n",
      "N_mined_hypos of type pos 3018\n",
      "N_mined_hypos of type pos 8809\n",
      "Mining 10000 intersections\n",
      "N_mined_hypos of type pos 8\n",
      "Mining 10000 intersections\n",
      "Mining 10000 intersections\n",
      "N_mined_hypos of type pos 3656\n",
      "N_mined_hypos of type pos 116\n",
      "N_mined_hypos of type pos 27\n",
      "Mining 10000 intersections\n",
      "Mining 10000 intersections\n"
     ]
    },
    {
     "name": "stderr",
     "output_type": "stream",
     "text": [
      "/home/autodeploy/.local/lib/python3.5/site-packages/ipykernel_launcher.py:35: RuntimeWarning: All-NaN slice encountered\n",
      "/home/autodeploy/.local/lib/python3.5/site-packages/ipykernel_launcher.py:36: RuntimeWarning: All-NaN slice encountered\n"
     ]
    },
    {
     "name": "stdout",
     "output_type": "stream",
     "text": [
      "N_mined_hypos of type pos 0\n",
      "N_mined_hypos of type pos 812\n",
      "Mining 10000 intersections\n",
      "N_mined_hypos of type pos 1518\n",
      "Mining 10000 intersections\n",
      "Mining 10000 intersections\n",
      "Mining 10000 intersections\n",
      "Mining 10000 intersections\n",
      "Mining 10000 intersections\n",
      "N_mined_hypos of type pos 1469\n",
      "N_mined_hypos of type pos 0\n",
      "N_mined_hypos of type pos 0\n",
      "Mining 10000 intersections\n",
      "Mining 10000 intersections\n",
      "Mining 10000 intersections\n",
      "N_mined_hypos of type pos 0\n",
      "Mining 10000 intersections\n",
      "N_mined_hypos of type pos 9\n",
      "N_mined_hypos of type pos 17093\n",
      "Mining 10000 intersections\n",
      "N_mined_hypos of type pos 0\n",
      "Mining 10000 intersections\n",
      "N_mined_hypos of type pos 88\n",
      "Mining 10000 intersections\n",
      "N_mined_hypos of type pos 238\n",
      "Mining 10000 intersections\n",
      "N_mined_hypos of type pos 0\n",
      "Mining 10000 intersections\n",
      "N_mined_hypos of type pos 0\n",
      "Mining 10000 intersections\n",
      "Mining 10000 intersections\n",
      "N_mined_hypos of type pos 0\n",
      "Mining 10000 intersections\n",
      "N_mined_hypos of type pos 61\n",
      "Mining 10000 intersections\n",
      "N_mined_hypos of type pos 0\n",
      "Mining 10000 intersections\n",
      "N_mined_hypos of type pos 0\n",
      "Mining 10000 intersections\n",
      "N_mined_hypos of type pos 11\n",
      "Mining 10000 intersections\n",
      "N_mined_hypos of type pos 37\n",
      "N_mined_hypos of type pos 0\n",
      "Mining 10000 intersections\n",
      "Mining 10000 intersections\n",
      "N_mined_hypos of type pos 2\n",
      "Mining 10000 intersections\n",
      "N_mined_hypos of type pos 0\n",
      "Mining 10000 intersections\n",
      "N_mined_hypos of type pos 46\n",
      "Mining 10000 intersections\n",
      "N_mined_hypos of type pos 6\n",
      "Mining 10000 intersections\n",
      "N_mined_hypos of type pos 18\n",
      "Mining 10000 intersections\n",
      "N_mined_hypos of type pos 211\n",
      "Mining 10000 intersections\n",
      "N_mined_hypos of type pos 16376\n",
      "N_mined_hypos of type pos 717\n",
      "N_mined_hypos of type pos 6863\n",
      "N_mined_hypos of type pos 1\n",
      "Mining 10000 intersections\n",
      "N_mined_hypos of type pos 0\n",
      "Mining 10000 intersections\n",
      "Mining 10000 intersections\n",
      "N_mined_hypos of type pos 0\n",
      "Mining 10000 intersections\n",
      "N_mined_hypos of type pos 2311\n",
      "Mining 10000 intersections\n",
      "Mining 10000 intersections\n",
      "N_mined_hypos of type pos 718\n",
      "Mining 10000 intersections\n",
      "Mining 10000 intersections\n",
      "N_mined_hypos of type pos 2996\n",
      "Mining 10000 intersections\n",
      "N_mined_hypos of type pos 0\n",
      "Mining 10000 intersections\n",
      "N_mined_hypos of type pos 170\n",
      "Mining 10000 intersections\n",
      "N_mined_hypos of type pos 8067\n",
      "Mining 10000 intersections\n",
      "N_mined_hypos of type pos 2\n",
      "Mining 10000 intersections\n",
      "N_mined_hypos of type pos 0\n",
      "Mining 10000 intersections\n",
      "N_mined_hypos of type pos 1\n",
      "Mining 10000 intersections\n",
      "N_mined_hypos of type pos 0\n",
      "N_mined_hypos of type pos 0\n",
      "Mining 10000 intersections\n",
      "Mining 10000 intersections\n",
      "N_mined_hypos of type pos 18\n",
      "N_mined_hypos of type pos 0\n",
      "Mining 10000 intersections\n",
      "Mining 10000 intersections\n",
      "N_mined_hypos of type pos 0\n",
      "Mining 10000 intersections\n",
      "N_mined_hypos of type pos 0\n",
      "Mining 10000 intersections\n",
      "N_mined_hypos of type pos 0\n",
      "Mining 10000 intersections\n",
      "N_mined_hypos of type pos 0\n",
      "Mining 10000 intersections\n",
      "N_mined_hypos of type pos 0\n",
      "Mining 10000 intersections\n",
      "N_mined_hypos of type pos 0\n",
      "Mining 10000 intersections\n",
      "N_mined_hypos of type pos 0\n",
      "Mining 10000 intersections\n",
      "N_mined_hypos of type pos 7038\n",
      "Mining 10000 intersections\n",
      "N_mined_hypos of type pos 458\n",
      "Mining 10000 intersections\n",
      "N_mined_hypos of type pos 2278\n",
      "Mining 10000 intersections\n",
      "N_mined_hypos of type pos 0\n",
      "Mining 10000 intersections\n",
      "N_mined_hypos of type pos 0\n",
      "Mining 10000 intersections\n",
      "N_mined_hypos of type pos 3\n",
      "Mining 10000 intersections\n",
      "N_mined_hypos of type pos 0\n",
      "N_mined_hypos of type pos 0\n",
      "Mining 10000 intersections\n",
      "Mining 10000 intersections\n",
      "N_mined_hypos of type pos 0\n",
      "Mining 10000 intersections\n",
      "N_mined_hypos of type pos 0\n",
      "Mining 10000 intersections\n",
      "N_mined_hypos of type pos 0\n",
      "Mining 10000 intersections\n",
      "N_mined_hypos of type pos 105\n",
      "Mining 10000 intersections\n",
      "N_mined_hypos of type pos 0\n",
      "Mining 10000 intersections\n",
      "N_mined_hypos of type pos 0\n",
      "Mining 10000 intersections\n",
      "N_mined_hypos of type pos 0\n",
      "Mining 10000 intersections\n",
      "N_mined_hypos of type pos 21\n",
      "Mining 10000 intersections\n",
      "N_mined_hypos of type pos 0\n",
      "Mining 10000 intersections\n",
      "N_mined_hypos of type pos 0\n",
      "Mining 10000 intersections\n",
      "N_mined_hypos of type pos 0\n",
      "Mining 10000 intersections\n",
      "N_mined_hypos of type pos 0\n",
      "N_mined_hypos of type pos 0\n",
      "Mining 10000 intersections\n",
      "Mining 10000 intersections\n",
      "N_mined_hypos of type pos 0\n",
      "Mining 10000 intersections\n",
      "N_mined_hypos of type pos 0\n",
      "Mining 10000 intersections\n",
      "N_mined_hypos of type pos 0\n",
      "Mining 10000 intersections\n",
      "N_mined_hypos of type pos 6980\n",
      "Mining 10000 intersections\n",
      "N_mined_hypos of type pos 0\n",
      "Mining 10000 intersections\n"
     ]
    },
    {
     "name": "stderr",
     "output_type": "stream",
     "text": [
      "/home/autodeploy/.local/lib/python3.5/site-packages/ipykernel_launcher.py:35: RuntimeWarning: All-NaN slice encountered\n",
      "/home/autodeploy/.local/lib/python3.5/site-packages/ipykernel_launcher.py:36: RuntimeWarning: All-NaN slice encountered\n"
     ]
    },
    {
     "name": "stdout",
     "output_type": "stream",
     "text": [
      "N_mined_hypos of type pos 0\n",
      "N_mined_hypos of type pos 42\n",
      "Mining 10000 intersections\n",
      "Mining 10000 intersections\n",
      "N_mined_hypos of type pos 2087\n",
      "Mining 10000 intersections\n",
      "N_mined_hypos of type pos 6\n",
      "Mining 10000 intersections\n",
      "N_mined_hypos of type pos 0\n",
      "Mining 10000 intersections\n",
      "N_mined_hypos of type pos 0\n",
      "Mining 10000 intersections\n",
      "N_mined_hypos of type pos 336\n",
      "Mining 10000 intersections\n",
      "N_mined_hypos of type pos 0\n",
      "Mining 10000 intersections\n",
      "N_mined_hypos of type pos 0\n",
      "Mining 10000 intersections\n",
      "N_mined_hypos of type pos 2\n",
      "Mining 10000 intersections\n",
      "N_mined_hypos of type pos 0\n",
      "Mining 10000 intersections\n",
      "N_mined_hypos of type pos 81\n",
      "Mining 10000 intersections\n",
      "N_mined_hypos of type pos 0\n",
      "Mining 10000 intersections\n",
      "N_mined_hypos of type pos 0\n",
      "Mining 10000 intersections\n",
      "N_mined_hypos of type pos 0\n",
      "Mining 10000 intersections\n",
      "N_mined_hypos of type pos 0\n",
      "Mining 10000 intersections\n",
      "N_mined_hypos of type pos 0\n",
      "Mining 10000 intersections\n",
      "N_mined_hypos of type pos 0\n",
      "Mining 10000 intersections\n"
     ]
    },
    {
     "name": "stderr",
     "output_type": "stream",
     "text": [
      "/home/autodeploy/.local/lib/python3.5/site-packages/ipykernel_launcher.py:35: RuntimeWarning: All-NaN slice encountered\n"
     ]
    },
    {
     "name": "stdout",
     "output_type": "stream",
     "text": [
      "N_mined_hypos of type pos 2\n"
     ]
    },
    {
     "name": "stderr",
     "output_type": "stream",
     "text": [
      "/home/autodeploy/.local/lib/python3.5/site-packages/ipykernel_launcher.py:36: RuntimeWarning: All-NaN slice encountered\n"
     ]
    },
    {
     "name": "stdout",
     "output_type": "stream",
     "text": [
      "Mining 10000 intersections\n",
      "N_mined_hypos of type pos 0\n",
      "Mining 10000 intersections\n",
      "N_mined_hypos of type pos 336\n",
      "N_mined_hypos of type pos 0\n",
      "Mining 10000 intersections\n",
      "Mining 10000 intersections\n",
      "N_mined_hypos of type pos 0\n",
      "N_mined_hypos of type pos 5\n",
      "Mining 10000 intersections\n",
      "Mining 10000 intersections\n",
      "N_mined_hypos of type pos 0\n",
      "Mining 10000 intersections\n",
      "N_mined_hypos of type pos 1501\n",
      "N_mined_hypos of type pos 5891\n",
      "N_mined_hypos of type pos 0\n",
      "Mining 10000 intersections\n",
      "Mining 10000 intersections\n",
      "N_mined_hypos of type pos 16150\n",
      "Mining 10000 intersections\n",
      "N_mined_hypos of type pos 0\n",
      "Mining 10000 intersections\n",
      "N_mined_hypos of type pos 0\n",
      "N_mined_hypos of type pos 0\n",
      "Mining 10000 intersections\n",
      "Mining 10000 intersections\n",
      "Mining 10000 intersections\n",
      "N_mined_hypos of type pos 0\n",
      "Mining 10000 intersections\n",
      "N_mined_hypos of type pos 29\n",
      "Mining 10000 intersections\n",
      "N_mined_hypos of type pos 0\n",
      "Mining 10000 intersections\n"
     ]
    },
    {
     "name": "stderr",
     "output_type": "stream",
     "text": [
      "/home/autodeploy/.local/lib/python3.5/site-packages/ipykernel_launcher.py:35: RuntimeWarning: All-NaN slice encountered\n"
     ]
    },
    {
     "name": "stdout",
     "output_type": "stream",
     "text": [
      "N_mined_hypos of type pos 0\n"
     ]
    },
    {
     "name": "stderr",
     "output_type": "stream",
     "text": [
      "/home/autodeploy/.local/lib/python3.5/site-packages/ipykernel_launcher.py:36: RuntimeWarning: All-NaN slice encountered\n"
     ]
    },
    {
     "name": "stdout",
     "output_type": "stream",
     "text": [
      "Mining 10000 intersections\n",
      "N_mined_hypos of type pos 0\n",
      "Mining 10000 intersections\n",
      "N_mined_hypos of type pos 0\n",
      "Mining 10000 intersections\n",
      "N_mined_hypos of type pos 0\n",
      "Mining 10000 intersections\n",
      "N_mined_hypos of type pos 4611\n",
      "N_mined_hypos of type pos 0\n",
      "Mining 10000 intersections\n",
      "N_mined_hypos of type pos 0\n",
      "N_mined_hypos of type pos 0\n",
      "Mining 10000 intersections\n",
      "Mining 10000 intersections\n",
      "N_mined_hypos of type pos 197\n",
      "Mining 10000 intersections\n",
      "Mining 10000 intersections\n",
      "N_mined_hypos of type pos 0\n",
      "Mining 10000 intersections\n",
      "N_mined_hypos of type pos 7\n",
      "Mining 10000 intersections\n",
      "N_mined_hypos of type pos 14085\n",
      "N_mined_hypos of type pos 0\n",
      "Mining 10000 intersections\n",
      "N_mined_hypos of type pos 0\n",
      "Mining 10000 intersections\n",
      "N_mined_hypos of type pos 0\n",
      "Mining 10000 intersections\n",
      "N_mined_hypos of type pos 0\n",
      "N_mined_hypos of type pos 917\n",
      "Mining 10000 intersections\n",
      "Mining 10000 intersections\n",
      "N_mined_hypos of type pos 1\n",
      "Mining 10000 intersections\n",
      "N_mined_hypos of type pos 0\n",
      "Mining 10000 intersections\n",
      "Mining 10000 intersections\n",
      "N_mined_hypos of type pos 42\n",
      "Mining 10000 intersections\n",
      "N_mined_hypos of type pos 0\n",
      "Mining 10000 intersections\n",
      "N_mined_hypos of type pos 0\n",
      "Mining 10000 intersections\n",
      "N_mined_hypos of type pos 6638\n",
      "Mining 10000 intersections\n",
      "N_mined_hypos of type pos 0\n",
      "Mining 10000 intersections\n",
      "N_mined_hypos of type pos 219\n",
      "Mining 10000 intersections\n",
      "N_mined_hypos of type pos 13952\n",
      "N_mined_hypos of type pos 1518\n",
      "Mining 10000 intersections\n",
      "N_mined_hypos of type pos 17\n",
      "N_mined_hypos of type pos 0\n",
      "Mining 10000 intersections\n",
      "Mining 10000 intersections\n",
      "N_mined_hypos of type pos 90\n",
      "N_mined_hypos of type pos 0\n",
      "Mining 10000 intersections\n",
      "Mining 10000 intersections\n",
      "Mining 10000 intersections\n",
      "N_mined_hypos of type pos 4209\n",
      "N_mined_hypos of type pos 676\n",
      "N_mined_hypos of type pos 0\n",
      "Mining 10000 intersections\n",
      "N_mined_hypos of type pos 0\n",
      "Mining 10000 intersections\n",
      "Mining 10000 intersections\n",
      "N_mined_hypos of type pos 0\n",
      "Mining 10000 intersections\n",
      "Mining 10000 intersections\n",
      "N_mined_hypos of type pos 0\n",
      "N_mined_hypos of type pos 0\n",
      "Mining 10000 intersections\n",
      "Mining 10000 intersections\n",
      "N_mined_hypos of type pos 2\n",
      "Mining 10000 intersections\n",
      "N_mined_hypos of type pos 0\n",
      "Mining 10000 intersections\n",
      "N_mined_hypos of type pos 0\n",
      "Mining 10000 intersections\n",
      "N_mined_hypos of type pos 38\n",
      "Mining 10000 intersections\n",
      "N_mined_hypos of type pos 0\n",
      "Mining 10000 intersections\n",
      "N_mined_hypos of type pos 0\n",
      "Mining 10000 intersections\n",
      "N_mined_hypos of type pos 0\n",
      "Mining 10000 intersections\n",
      "N_mined_hypos of type pos 3\n",
      "Mining 10000 intersections\n",
      "N_mined_hypos of type pos 0\n",
      "Mining 10000 intersections\n",
      "N_mined_hypos of type pos 0\n",
      "Mining 10000 intersections\n",
      "N_mined_hypos of type pos 0\n",
      "Mining 10000 intersections\n",
      "N_mined_hypos of type pos 0\n",
      "Mining 10000 intersections\n",
      "N_mined_hypos of type pos 0\n",
      "Mining 10000 intersections\n",
      "N_mined_hypos of type pos 0\n",
      "Mining 10000 intersections\n",
      "N_mined_hypos of type pos 0\n",
      "Mining 10000 intersections\n",
      "N_mined_hypos of type pos 0\n",
      "Mining 10000 intersections\n",
      "N_mined_hypos of type pos 0\n",
      "Mining 10000 intersections\n",
      "N_mined_hypos of type pos 6454\n",
      "Mining 10000 intersections\n",
      "N_mined_hypos of type pos 0\n",
      "Mining 10000 intersections\n",
      "N_mined_hypos of type pos 1135\n",
      "Mining 10000 intersections\n",
      "N_mined_hypos of type pos 16\n",
      "Mining 10000 intersections\n",
      "N_mined_hypos of type pos 0\n",
      "Mining 10000 intersections\n",
      "N_mined_hypos of type pos 0\n",
      "Mining 10000 intersections\n",
      "N_mined_hypos of type pos 110\n",
      "Mining 10000 intersections\n",
      "N_mined_hypos of type pos 1\n",
      "Mining 10000 intersections\n",
      "N_mined_hypos of type pos 0\n",
      "Mining 10000 intersections\n"
     ]
    },
    {
     "name": "stderr",
     "output_type": "stream",
     "text": [
      "/home/autodeploy/.local/lib/python3.5/site-packages/ipykernel_launcher.py:35: RuntimeWarning: All-NaN slice encountered\n",
      "/home/autodeploy/.local/lib/python3.5/site-packages/ipykernel_launcher.py:36: RuntimeWarning: All-NaN slice encountered\n"
     ]
    },
    {
     "name": "stdout",
     "output_type": "stream",
     "text": [
      "N_mined_hypos of type pos 0\n",
      "Mining 10000 intersections\n",
      "N_mined_hypos of type pos 0\n",
      "Mining 10000 intersections\n",
      "N_mined_hypos of type pos 0\n",
      "Mining 10000 intersections\n",
      "N_mined_hypos of type pos 0\n",
      "Mining 10000 intersections\n",
      "N_mined_hypos of type pos 0\n",
      "N_mined_hypos of type pos 0\n",
      "Mining 10000 intersections\n",
      "Mining 10000 intersections\n",
      "N_mined_hypos of type pos 0\n",
      "Mining 10000 intersections\n",
      "N_mined_hypos of type pos 0\n",
      "Mining 10000 intersections\n",
      "N_mined_hypos of type pos 0\n",
      "Mining 10000 intersections\n",
      "N_mined_hypos of type pos 0\n",
      "N_mined_hypos of type pos 0\n",
      "Mining 10000 intersections\n",
      "Mining 10000 intersections\n",
      "N_mined_hypos of type pos 0\n",
      "Mining 10000 intersections\n",
      "N_mined_hypos of type pos 0\n",
      "Mining 10000 intersections\n",
      "N_mined_hypos of type pos 0\n",
      "Mining 10000 intersections\n",
      "N_mined_hypos of type pos 0\n",
      "Mining 10000 intersections\n",
      "N_mined_hypos of type pos 977\n",
      "Mining 10000 intersections\n",
      "N_mined_hypos of type pos 0\n",
      "Mining 10000 intersections\n",
      "N_mined_hypos of type pos 6448\n",
      "Mining 10000 intersections\n",
      "N_mined_hypos of type pos 0\n",
      "Mining 10000 intersections\n",
      "N_mined_hypos of type pos 7\n",
      "Mining 10000 intersections\n",
      "N_mined_hypos of type pos 1\n",
      "Mining 10000 intersections\n",
      "N_mined_hypos of type pos 77\n",
      "Mining 10000 intersections\n",
      "N_mined_hypos of type pos 13296\n",
      "N_mined_hypos of type pos 440\n",
      "Mining 10000 intersections\n",
      "N_mined_hypos of type pos 0\n",
      "Mining 10000 intersections\n",
      "N_mined_hypos of type pos 0\n",
      "Mining 10000 intersections\n",
      "N_mined_hypos of type pos 3088\n",
      "N_mined_hypos of type pos 0\n",
      "Mining 10000 intersections\n",
      "N_mined_hypos of type pos 0\n",
      "Mining 10000 intersections\n",
      "N_mined_hypos of type pos 0\n",
      "Mining 10000 intersections\n",
      "Mining 10000 intersections\n",
      "N_mined_hypos of type pos 0\n",
      "Mining 10000 intersections\n",
      "N_mined_hypos of type pos 0\n",
      "Mining 10000 intersections\n",
      "Mining 10000 intersections\n",
      "N_mined_hypos of type pos 0\n",
      "N_mined_hypos of type pos 0\n",
      "Mining 10000 intersections\n",
      "Mining 10000 intersections\n",
      "N_mined_hypos of type pos 0\n",
      "Mining 10000 intersections\n",
      "N_mined_hypos of type pos 0\n",
      "Mining 10000 intersections\n",
      "N_mined_hypos of type pos 0\n",
      "Mining 10000 intersections\n",
      "N_mined_hypos of type pos 0\n",
      "N_mined_hypos of type pos 71\n",
      "Mining 10000 intersections\n",
      "Mining 10000 intersections\n",
      "N_mined_hypos of type pos 0\n",
      "Mining 10000 intersections\n",
      "N_mined_hypos of type pos 0\n",
      "Mining 10000 intersections\n",
      "N_mined_hypos of type pos 0\n",
      "Mining 10000 intersections\n",
      "N_mined_hypos of type pos 0\n",
      "Mining 10000 intersections\n",
      "N_mined_hypos of type pos 0\n",
      "Mining 10000 intersections\n",
      "N_mined_hypos of type pos 0\n",
      "Mining 10000 intersections\n",
      "N_mined_hypos of type pos 0\n",
      "Mining 10000 intersections\n",
      "N_mined_hypos of type pos 0\n",
      "Mining 10000 intersections\n",
      "N_mined_hypos of type pos 6\n",
      "Mining 10000 intersections\n",
      "N_mined_hypos of type pos 0\n",
      "Mining 10000 intersections\n",
      "N_mined_hypos of type pos 0\n",
      "Mining 10000 intersections\n",
      "N_mined_hypos of type pos 0\n",
      "Mining 10000 intersections\n",
      "N_mined_hypos of type pos 0\n",
      "Mining 10000 intersections\n",
      "N_mined_hypos of type pos 28\n",
      "Mining 10000 intersections\n",
      "N_mined_hypos of type pos 2231\n",
      "N_mined_hypos of type pos 0\n",
      "Mining 10000 intersections\n",
      "N_mined_hypos of type pos 12922\n",
      "Mining 10000 intersections\n",
      "N_mined_hypos of type pos 0\n",
      "Mining 10000 intersections\n",
      "N_mined_hypos of type pos 0\n",
      "N_mined_hypos of type pos 0\n",
      "Mining 10000 intersections\n",
      "Mining 10000 intersections\n",
      "N_mined_hypos of type pos 1\n",
      "N_mined_hypos of type pos 241\n",
      "Mining 10000 intersections\n",
      "Mining 10000 intersections\n",
      "N_mined_hypos of type pos 0\n",
      "Mining 10000 intersections\n",
      "N_mined_hypos of type pos 6418\n",
      "Mining 10000 intersections\n",
      "Mining 10000 intersections\n",
      "N_mined_hypos of type pos 0\n",
      "Mining 10000 intersections\n",
      "N_mined_hypos of type pos 0\n",
      "Mining 10000 intersections\n",
      "N_mined_hypos of type pos 928\n",
      "N_mined_hypos of type pos 1\n",
      "Mining 10000 intersections\n",
      "Mining 10000 intersections\n",
      "N_mined_hypos of type pos 0\n",
      "Mining 10000 intersections\n",
      "N_mined_hypos of type pos 0\n",
      "N_mined_hypos of type pos 12802\n",
      "Mining 10000 intersections\n",
      "N_mined_hypos of type pos 54\n",
      "Mining 10000 intersections\n",
      "N_mined_hypos of type pos 0\n",
      "Mining 10000 intersections\n",
      "N_mined_hypos of type pos 0\n",
      "N_mined_hypos of type pos 0\n",
      "N_mined_hypos of type pos 0\n",
      "N_mined_hypos of type pos 0\n",
      "N_mined_hypos of type pos 0\n",
      "N_mined_hypos of type pos 0\n",
      "N_mined_hypos of type pos 1916\n",
      "N_mined_hypos of type pos 1\n",
      "N_mined_hypos of type pos 3\n",
      "Mining 10000 intersections\n",
      "N_mined_hypos of type pos 12\n",
      "N_mined_hypos of type pos 0\n",
      "N_mined_hypos of type pos 154\n",
      "N_mined_hypos of type pos 0\n",
      "N_mined_hypos of type pos 0\n",
      "N_mined_hypos of type pos 0\n",
      "Mining 10000 intersections\n",
      "N_mined_hypos of type pos 0\n",
      "N_mined_hypos of type pos 0\n",
      "Mining 10000 intersections\n",
      "N_mined_hypos of type pos 0\n",
      "Mining 10000 intersections\n",
      "N_mined_hypos of type pos 0\n",
      "N_mined_hypos of type pos 0\n",
      "Mining 10000 intersections\n",
      "N_mined_hypos of type pos 0\n",
      "Mining 10000 intersections\n",
      "N_mined_hypos of type pos 0\n",
      "N_mined_hypos of type pos 0\n",
      "N_mined_hypos of type pos 0\n",
      "N_mined_hypos of type pos 0\n",
      "Mining 10000 intersections\n",
      "N_mined_hypos of type pos 0\n",
      "Mining 10000 intersections\n",
      "N_mined_hypos of type pos 0\n",
      "Mining 10000 intersections\n",
      "N_mined_hypos of type pos 0\n",
      "N_mined_hypos of type pos 0\n",
      "N_mined_hypos of type pos 0\n",
      "N_mined_hypos of type pos 0\n",
      "Mining 10000 intersections\n",
      "N_mined_hypos of type pos 0\n",
      "Mining 10000 intersections\n",
      "N_mined_hypos of type pos 0\n",
      "Mining 10000 intersections\n",
      "N_mined_hypos of type pos 0\n",
      "Mining 10000 intersections\n",
      "N_mined_hypos of type pos 0\n",
      "Mining 10000 intersections\n",
      "N_mined_hypos of type pos 0\n",
      "Mining 10000 intersections\n",
      "N_mined_hypos of type pos 0\n",
      "N_mined_hypos of type pos 3\n",
      "Mining 10000 intersections\n",
      "Mining 10000 intersections\n",
      "N_mined_hypos of type pos 0\n",
      "Mining 10000 intersections\n",
      "N_mined_hypos of type pos 0\n",
      "Mining 10000 intersections\n",
      "N_mined_hypos of type pos 0\n",
      "Mining 10000 intersections\n",
      "N_mined_hypos of type pos 0\n",
      "Mining 10000 intersections\n",
      "N_mined_hypos of type pos 0\n",
      "Mining 10000 intersections\n",
      "N_mined_hypos of type pos 6382\n",
      "Mining 10000 intersections\n",
      "N_mined_hypos of type pos 0\n",
      "Mining 10000 intersections\n",
      "N_mined_hypos of type pos 1878\n",
      "N_mined_hypos of type pos 66\n",
      "Mining 10000 intersections\n",
      "N_mined_hypos of type pos 0\n",
      "Mining 10000 intersections\n",
      "N_mined_hypos of type pos 0\n",
      "Mining 10000 intersections\n",
      "N_mined_hypos of type pos 0\n",
      "Mining 10000 intersections\n",
      "N_mined_hypos of type pos 902\n",
      "Mining 10000 intersections\n",
      "N_mined_hypos of type pos 0\n",
      "Mining 10000 intersections\n",
      "N_mined_hypos of type pos 0\n",
      "Mining 10000 intersections\n",
      "N_mined_hypos of type pos 0\n",
      "Mining 10000 intersections\n",
      "N_mined_hypos of type pos 12666\n",
      "N_mined_hypos of type pos 0\n",
      "Mining 10000 intersections\n",
      "N_mined_hypos of type pos 0\n",
      "Mining 10000 intersections\n",
      "N_mined_hypos of type pos 117\n",
      "N_mined_hypos of type pos 0\n",
      "N_mined_hypos of type pos 0\n",
      "N_mined_hypos of type pos 0\n",
      "Mining 10000 intersections\n",
      "N_mined_hypos of type pos 0\n",
      "N_mined_hypos of type pos 0\n",
      "N_mined_hypos of type pos 3\n",
      "N_mined_hypos of type pos 0\n",
      "N_mined_hypos of type pos 0\n",
      "N_mined_hypos of type pos 2\n",
      "N_mined_hypos of type pos 0\n",
      "N_mined_hypos of type pos 0\n",
      "N_mined_hypos of type pos 0\n",
      "N_mined_hypos of type pos 0\n",
      "N_mined_hypos of type pos 0\n",
      "N_mined_hypos of type pos 4\n",
      "N_mined_hypos of type pos 0\n",
      "N_mined_hypos of type pos 0\n",
      "N_mined_hypos of type pos 0\n",
      "N_mined_hypos of type pos 0\n",
      "N_mined_hypos of type pos 0\n",
      "N_mined_hypos of type pos 0\n",
      "N_mined_hypos of type pos 0\n",
      "N_mined_hypos of type pos 12766\n",
      "N_mined_hypos of type pos 0\n",
      "N_mined_hypos of type pos 0\n",
      "N_mined_hypos of type pos 0\n",
      "N_mined_hypos of type pos 0\n",
      "N_mined_hypos of type pos 0\n",
      "N_mined_hypos of type pos 0\n",
      "N_mined_hypos of type pos 124\n",
      "N_mined_hypos of type pos 0\n",
      "N_mined_hypos of type pos 0\n",
      "N_mined_hypos of type pos 0\n",
      "N_mined_hypos of type pos 0\n",
      "N_mined_hypos of type pos 1870\n",
      "N_mined_hypos of type pos 0\n",
      "CPU times: user 6.02 s, sys: 3.48 s, total: 9.5 s\n",
      "Wall time: 2min\n"
     ]
    }
   ],
   "source": [
    "%%time\n",
    "from sklearn.model_selection import ParameterGrid\n",
    "import multiprocessing\n",
    "\n",
    "param_grid = {\n",
    "    'subs_size': list(range(2,21)),\n",
    "    'alpha': np.linspace(0,1,21), \n",
    "    'hypo_type' : ['pos'],\n",
    "    'N_hypo_need' : [10000],\n",
    "    'N_iterations' : [20000],\n",
    "    'batch_size' : [10000],\n",
    "}\n",
    "\n",
    "### WARNING! round(params['alpha'], 4) ---> for readable folder names\n",
    "MyParamGrid = []\n",
    "for params in ParameterGrid(param_grid):\n",
    "    save_path = os.path.join(DATA_FOLDER, \n",
    "                             'Hypotheses',\n",
    "                             params['hypo_type'] + '_' + \n",
    "                             str(params['subs_size']) + '_' + \n",
    "                             str(round(params['alpha'], 4)))\n",
    "    if not os.path.exists(save_path):\n",
    "        os.mkdir(save_path)\n",
    "    params['save_path'] = save_path\n",
    "    MyParamGrid.append(params)\n",
    "\n",
    "pool = multiprocessing.Pool(processes=60) #use all available cores, otherwise specify the number you want as an argument\n",
    "for args in MyParamGrid:\n",
    "    pool.apply_async(PSM.mine_hypotheses, args=(args['alpha'],\n",
    "                                                args['hypo_type'],\n",
    "                                                args['subs_size'],\n",
    "                                                args['N_hypo_need'],\n",
    "                                                args['N_iterations'],\n",
    "                                                args['batch_size'],\n",
    "                                                args['save_path'],\n",
    "                                               ))\n",
    "pool.close()\n",
    "pool.join()"
   ]
  },
  {
   "cell_type": "markdown",
   "metadata": {},
   "source": [
    "### Mine negative hypotheses"
   ]
  },
  {
   "cell_type": "code",
   "execution_count": 190,
   "metadata": {},
   "outputs": [
    {
     "name": "stdout",
     "output_type": "stream",
     "text": [
      "Mining 10000 intersections\n"
     ]
    },
    {
     "name": "stderr",
     "output_type": "stream",
     "text": [
      "/home/autodeploy/.local/lib/python3.5/site-packages/ipykernel_launcher.py:39: RuntimeWarning: invalid value encountered in less_equal\n",
      "/home/autodeploy/.local/lib/python3.5/site-packages/ipykernel_launcher.py:40: RuntimeWarning: invalid value encountered in greater_equal\n",
      "/home/autodeploy/.local/lib/python3.5/site-packages/ipykernel_launcher.py:42: RuntimeWarning: invalid value encountered in less_equal\n",
      "/home/autodeploy/.local/lib/python3.5/site-packages/ipykernel_launcher.py:43: RuntimeWarning: invalid value encountered in greater_equal\n"
     ]
    },
    {
     "data": {
      "text/plain": [
       "<matplotlib.axes._subplots.AxesSubplot at 0x7f85b7a420f0>"
      ]
     },
     "execution_count": 190,
     "metadata": {},
     "output_type": "execute_result"
    },
    {
     "data": {
      "image/png": "[encoded data removed]",
      "text/plain": [
       "<Figure size 432x288 with 1 Axes>"
      ]
     },
     "metadata": {
      "needs_background": "light"
     },
     "output_type": "display_data"
    }
   ],
   "source": [
    "_, _, stats_concepts_pos = PSM.mine_obj_intersections(10000, 20, 'neg')\n",
    "stats_concepts_pos['neg_confidence'].hist(alpha = 0.5, bins = 30)"
   ]
  },
  {
   "cell_type": "code",
   "execution_count": 191,
   "metadata": {},
   "outputs": [
    {
     "data": {
      "text/plain": [
       "('alpha',\n",
       " array([0.7 , 0.71, 0.72, 0.73, 0.74, 0.75, 0.76, 0.77, 0.78, 0.79, 0.8 ,\n",
       "        0.81, 0.82, 0.83, 0.84, 0.85, 0.86, 0.87, 0.88, 0.89, 0.9 , 0.91,\n",
       "        0.92, 0.93, 0.94, 0.95, 0.96, 0.97, 0.98, 0.99, 1.  ]))"
      ]
     },
     "execution_count": 191,
     "metadata": {},
     "output_type": "execute_result"
    }
   ],
   "source": [
    "'alpha', np.linspace(0.7,1,31)"
   ]
  },
  {
   "cell_type": "code",
   "execution_count": 192,
   "metadata": {},
   "outputs": [
    {
     "name": "stdout",
     "output_type": "stream",
     "text": [
      "Mining 10000 intersections\n",
      "Mining 10000 intersections\n"
     ]
    },
    {
     "name": "stderr",
     "output_type": "stream",
     "text": [
      "/home/autodeploy/.local/lib/python3.5/site-packages/ipykernel_launcher.py:35: RuntimeWarning: All-NaN slice encountered\n"
     ]
    },
    {
     "name": "stdout",
     "output_type": "stream",
     "text": [
      "Mining 10000 intersections\n"
     ]
    },
    {
     "name": "stderr",
     "output_type": "stream",
     "text": [
      "/home/autodeploy/.local/lib/python3.5/site-packages/ipykernel_launcher.py:36: RuntimeWarning: All-NaN slice encountered\n",
      "/home/autodeploy/.local/lib/python3.5/site-packages/ipykernel_launcher.py:35: RuntimeWarning: All-NaN slice encountered\n"
     ]
    },
    {
     "name": "stdout",
     "output_type": "stream",
     "text": [
      "Mining 10000 intersections\n"
     ]
    },
    {
     "name": "stderr",
     "output_type": "stream",
     "text": [
      "/home/autodeploy/.local/lib/python3.5/site-packages/ipykernel_launcher.py:36: RuntimeWarning: All-NaN slice encountered\n"
     ]
    },
    {
     "name": "stdout",
     "output_type": "stream",
     "text": [
      "Mining 10000 intersections\n",
      "Mining 10000 intersections\n"
     ]
    },
    {
     "name": "stderr",
     "output_type": "stream",
     "text": [
      "/home/autodeploy/.local/lib/python3.5/site-packages/ipykernel_launcher.py:35: RuntimeWarning: All-NaN slice encountered\n"
     ]
    },
    {
     "name": "stdout",
     "output_type": "stream",
     "text": [
      "Mining 10000 intersections\n",
      "Mining 10000 intersections\n"
     ]
    },
    {
     "name": "stderr",
     "output_type": "stream",
     "text": [
      "/home/autodeploy/.local/lib/python3.5/site-packages/ipykernel_launcher.py:35: RuntimeWarning: All-NaN slice encountered\n"
     ]
    },
    {
     "name": "stdout",
     "output_type": "stream",
     "text": [
      "Mining 10000 intersections\n"
     ]
    },
    {
     "name": "stderr",
     "output_type": "stream",
     "text": [
      "/home/autodeploy/.local/lib/python3.5/site-packages/ipykernel_launcher.py:36: RuntimeWarning: All-NaN slice encountered\n"
     ]
    },
    {
     "name": "stdout",
     "output_type": "stream",
     "text": [
      "Mining 10000 intersections\n"
     ]
    },
    {
     "name": "stderr",
     "output_type": "stream",
     "text": [
      "/home/autodeploy/.local/lib/python3.5/site-packages/ipykernel_launcher.py:35: RuntimeWarning: All-NaN slice encountered\n",
      "/home/autodeploy/.local/lib/python3.5/site-packages/ipykernel_launcher.py:35: RuntimeWarning: All-NaN slice encountered\n",
      "/home/autodeploy/.local/lib/python3.5/site-packages/ipykernel_launcher.py:36: RuntimeWarning: All-NaN slice encountered\n"
     ]
    },
    {
     "name": "stdout",
     "output_type": "stream",
     "text": [
      "Mining 10000 intersections\n",
      "Mining 10000 intersections\n"
     ]
    },
    {
     "name": "stderr",
     "output_type": "stream",
     "text": [
      "/home/autodeploy/.local/lib/python3.5/site-packages/ipykernel_launcher.py:35: RuntimeWarning: All-NaN slice encountered\n",
      "/home/autodeploy/.local/lib/python3.5/site-packages/ipykernel_launcher.py:36: RuntimeWarning: All-NaN slice encountered\n",
      "/home/autodeploy/.local/lib/python3.5/site-packages/ipykernel_launcher.py:35: RuntimeWarning: All-NaN slice encountered\n"
     ]
    },
    {
     "name": "stdout",
     "output_type": "stream",
     "text": [
      "Mining 10000 intersections\n"
     ]
    },
    {
     "name": "stderr",
     "output_type": "stream",
     "text": [
      "/home/autodeploy/.local/lib/python3.5/site-packages/ipykernel_launcher.py:36: RuntimeWarning: All-NaN slice encountered\n"
     ]
    },
    {
     "name": "stdout",
     "output_type": "stream",
     "text": [
      "Mining 10000 intersections\n",
      "Mining 10000 intersections\n",
      "Mining 10000 intersections\n"
     ]
    },
    {
     "name": "stderr",
     "output_type": "stream",
     "text": [
      "/home/autodeploy/.local/lib/python3.5/site-packages/ipykernel_launcher.py:36: RuntimeWarning: All-NaN slice encountered\n",
      "/home/autodeploy/.local/lib/python3.5/site-packages/ipykernel_launcher.py:36: RuntimeWarning: All-NaN slice encountered\n"
     ]
    },
    {
     "name": "stdout",
     "output_type": "stream",
     "text": [
      "Mining 10000 intersections\n",
      "Mining 10000 intersections\n",
      "Mining 10000 intersections\n",
      "Mining 10000 intersections\n",
      "Mining 10000 intersections\n"
     ]
    },
    {
     "name": "stderr",
     "output_type": "stream",
     "text": [
      "/home/autodeploy/.local/lib/python3.5/site-packages/ipykernel_launcher.py:35: RuntimeWarning: All-NaN slice encountered\n"
     ]
    },
    {
     "name": "stdout",
     "output_type": "stream",
     "text": [
      "Mining 10000 intersections\n"
     ]
    },
    {
     "name": "stderr",
     "output_type": "stream",
     "text": [
      "/home/autodeploy/.local/lib/python3.5/site-packages/ipykernel_launcher.py:36: RuntimeWarning: All-NaN slice encountered\n"
     ]
    },
    {
     "name": "stdout",
     "output_type": "stream",
     "text": [
      "Mining 10000 intersections\n",
      "Mining 10000 intersections\n"
     ]
    },
    {
     "name": "stderr",
     "output_type": "stream",
     "text": [
      "/home/autodeploy/.local/lib/python3.5/site-packages/ipykernel_launcher.py:35: RuntimeWarning: All-NaN slice encountered\n",
      "/home/autodeploy/.local/lib/python3.5/site-packages/ipykernel_launcher.py:35: RuntimeWarning: All-NaN slice encountered\n",
      "/home/autodeploy/.local/lib/python3.5/site-packages/ipykernel_launcher.py:36: RuntimeWarning: All-NaN slice encountered\n"
     ]
    },
    {
     "name": "stdout",
     "output_type": "stream",
     "text": [
      "Mining 10000 intersections\n"
     ]
    },
    {
     "name": "stderr",
     "output_type": "stream",
     "text": [
      "/home/autodeploy/.local/lib/python3.5/site-packages/ipykernel_launcher.py:35: RuntimeWarning: All-NaN slice encountered\n"
     ]
    },
    {
     "name": "stdout",
     "output_type": "stream",
     "text": [
      "Mining 10000 intersections\n"
     ]
    },
    {
     "name": "stderr",
     "output_type": "stream",
     "text": [
      "/home/autodeploy/.local/lib/python3.5/site-packages/ipykernel_launcher.py:35: RuntimeWarning: All-NaN slice encountered\n",
      "/home/autodeploy/.local/lib/python3.5/site-packages/ipykernel_launcher.py:36: RuntimeWarning: All-NaN slice encountered\n",
      "/home/autodeploy/.local/lib/python3.5/site-packages/ipykernel_launcher.py:36: RuntimeWarning: All-NaN slice encountered\n"
     ]
    },
    {
     "name": "stdout",
     "output_type": "stream",
     "text": [
      "Mining 10000 intersections\n",
      "Mining 10000 intersections\n"
     ]
    },
    {
     "name": "stderr",
     "output_type": "stream",
     "text": [
      "/home/autodeploy/.local/lib/python3.5/site-packages/ipykernel_launcher.py:35: RuntimeWarning: All-NaN slice encountered\n",
      "/home/autodeploy/.local/lib/python3.5/site-packages/ipykernel_launcher.py:36: RuntimeWarning: All-NaN slice encountered\n",
      "/home/autodeploy/.local/lib/python3.5/site-packages/ipykernel_launcher.py:35: RuntimeWarning: All-NaN slice encountered\n"
     ]
    },
    {
     "name": "stdout",
     "output_type": "stream",
     "text": [
      "Mining 10000 intersections\n",
      "Mining 10000 intersections\n"
     ]
    },
    {
     "name": "stderr",
     "output_type": "stream",
     "text": [
      "/home/autodeploy/.local/lib/python3.5/site-packages/ipykernel_launcher.py:36: RuntimeWarning: All-NaN slice encountered\n",
      "/home/autodeploy/.local/lib/python3.5/site-packages/ipykernel_launcher.py:35: RuntimeWarning: All-NaN slice encountered\n"
     ]
    },
    {
     "name": "stdout",
     "output_type": "stream",
     "text": [
      "Mining 10000 intersections\n"
     ]
    },
    {
     "name": "stderr",
     "output_type": "stream",
     "text": [
      "/home/autodeploy/.local/lib/python3.5/site-packages/ipykernel_launcher.py:36: RuntimeWarning: All-NaN slice encountered\n"
     ]
    },
    {
     "name": "stdout",
     "output_type": "stream",
     "text": [
      "Mining 10000 intersections\n",
      "Mining 10000 intersections\n"
     ]
    },
    {
     "name": "stderr",
     "output_type": "stream",
     "text": [
      "/home/autodeploy/.local/lib/python3.5/site-packages/ipykernel_launcher.py:36: RuntimeWarning: All-NaN slice encountered\n"
     ]
    },
    {
     "name": "stdout",
     "output_type": "stream",
     "text": [
      "Mining 10000 intersections\n",
      "Mining 10000 intersections\n",
      "Mining 10000 intersections\n",
      "Mining 10000 intersections\n",
      "Mining 10000 intersections\n",
      "Mining 10000 intersections\n",
      "Mining 10000 intersections\n",
      "Mining 10000 intersections\n"
     ]
    },
    {
     "name": "stderr",
     "output_type": "stream",
     "text": [
      "/home/autodeploy/.local/lib/python3.5/site-packages/ipykernel_launcher.py:35: RuntimeWarning: All-NaN slice encountered\n"
     ]
    },
    {
     "name": "stdout",
     "output_type": "stream",
     "text": [
      "Mining 10000 intersections\n",
      "Mining 10000 intersections\n"
     ]
    },
    {
     "name": "stderr",
     "output_type": "stream",
     "text": [
      "/home/autodeploy/.local/lib/python3.5/site-packages/ipykernel_launcher.py:36: RuntimeWarning: All-NaN slice encountered\n",
      "/home/autodeploy/.local/lib/python3.5/site-packages/ipykernel_launcher.py:35: RuntimeWarning: All-NaN slice encountered\n"
     ]
    },
    {
     "name": "stdout",
     "output_type": "stream",
     "text": [
      "Mining 10000 intersections\n",
      "Mining 10000 intersections\n"
     ]
    },
    {
     "name": "stderr",
     "output_type": "stream",
     "text": [
      "/home/autodeploy/.local/lib/python3.5/site-packages/ipykernel_launcher.py:35: RuntimeWarning: All-NaN slice encountered\n"
     ]
    },
    {
     "name": "stdout",
     "output_type": "stream",
     "text": [
      "Mining 10000 intersections\n"
     ]
    },
    {
     "name": "stderr",
     "output_type": "stream",
     "text": [
      "/home/autodeploy/.local/lib/python3.5/site-packages/ipykernel_launcher.py:36: RuntimeWarning: All-NaN slice encountered\n"
     ]
    },
    {
     "name": "stdout",
     "output_type": "stream",
     "text": [
      "Mining 10000 intersections\n"
     ]
    },
    {
     "name": "stderr",
     "output_type": "stream",
     "text": [
      "/home/autodeploy/.local/lib/python3.5/site-packages/ipykernel_launcher.py:35: RuntimeWarning: All-NaN slice encountered\n",
      "/home/autodeploy/.local/lib/python3.5/site-packages/ipykernel_launcher.py:36: RuntimeWarning: All-NaN slice encountered\n",
      "/home/autodeploy/.local/lib/python3.5/site-packages/ipykernel_launcher.py:35: RuntimeWarning: All-NaN slice encountered\n"
     ]
    },
    {
     "name": "stdout",
     "output_type": "stream",
     "text": [
      "Mining 10000 intersections\n"
     ]
    },
    {
     "name": "stderr",
     "output_type": "stream",
     "text": [
      "/home/autodeploy/.local/lib/python3.5/site-packages/ipykernel_launcher.py:35: RuntimeWarning: All-NaN slice encountered\n"
     ]
    },
    {
     "name": "stdout",
     "output_type": "stream",
     "text": [
      "Mining 10000 intersections\n"
     ]
    },
    {
     "name": "stderr",
     "output_type": "stream",
     "text": [
      "/home/autodeploy/.local/lib/python3.5/site-packages/ipykernel_launcher.py:36: RuntimeWarning: All-NaN slice encountered\n"
     ]
    },
    {
     "name": "stdout",
     "output_type": "stream",
     "text": [
      "Mining 10000 intersections\n"
     ]
    },
    {
     "name": "stderr",
     "output_type": "stream",
     "text": [
      "/home/autodeploy/.local/lib/python3.5/site-packages/ipykernel_launcher.py:35: RuntimeWarning: All-NaN slice encountered\n"
     ]
    },
    {
     "name": "stdout",
     "output_type": "stream",
     "text": [
      "Mining 10000 intersections\n"
     ]
    },
    {
     "name": "stderr",
     "output_type": "stream",
     "text": [
      "/home/autodeploy/.local/lib/python3.5/site-packages/ipykernel_launcher.py:36: RuntimeWarning: All-NaN slice encountered\n"
     ]
    },
    {
     "name": "stdout",
     "output_type": "stream",
     "text": [
      "Mining 10000 intersections\n"
     ]
    },
    {
     "name": "stderr",
     "output_type": "stream",
     "text": [
      "/home/autodeploy/.local/lib/python3.5/site-packages/ipykernel_launcher.py:35: RuntimeWarning: All-NaN slice encountered\n"
     ]
    },
    {
     "name": "stdout",
     "output_type": "stream",
     "text": [
      "Mining 10000 intersections\n"
     ]
    },
    {
     "name": "stderr",
     "output_type": "stream",
     "text": [
      "/home/autodeploy/.local/lib/python3.5/site-packages/ipykernel_launcher.py:36: RuntimeWarning: All-NaN slice encountered\n"
     ]
    },
    {
     "name": "stdout",
     "output_type": "stream",
     "text": [
      "Mining 10000 intersections\n",
      "Mining 10000 intersections\n"
     ]
    },
    {
     "name": "stderr",
     "output_type": "stream",
     "text": [
      "/home/autodeploy/.local/lib/python3.5/site-packages/ipykernel_launcher.py:36: RuntimeWarning: All-NaN slice encountered\n"
     ]
    },
    {
     "name": "stdout",
     "output_type": "stream",
     "text": [
      "Mining 10000 intersections\n"
     ]
    },
    {
     "name": "stderr",
     "output_type": "stream",
     "text": [
      "/home/autodeploy/.local/lib/python3.5/site-packages/ipykernel_launcher.py:36: RuntimeWarning: All-NaN slice encountered\n"
     ]
    },
    {
     "name": "stdout",
     "output_type": "stream",
     "text": [
      "Mining 10000 intersections\n",
      "Mining 10000 intersections\n"
     ]
    },
    {
     "name": "stderr",
     "output_type": "stream",
     "text": [
      "/home/autodeploy/.local/lib/python3.5/site-packages/ipykernel_launcher.py:35: RuntimeWarning: All-NaN slice encountered\n",
      "/home/autodeploy/.local/lib/python3.5/site-packages/ipykernel_launcher.py:36: RuntimeWarning: All-NaN slice encountered\n"
     ]
    },
    {
     "name": "stdout",
     "output_type": "stream",
     "text": [
      "Mining 10000 intersections\n",
      "Mining 10000 intersections\n"
     ]
    },
    {
     "name": "stderr",
     "output_type": "stream",
     "text": [
      "/home/autodeploy/.local/lib/python3.5/site-packages/ipykernel_launcher.py:35: RuntimeWarning: All-NaN slice encountered\n",
      "/home/autodeploy/.local/lib/python3.5/site-packages/ipykernel_launcher.py:36: RuntimeWarning: All-NaN slice encountered\n",
      "/home/autodeploy/.local/lib/python3.5/site-packages/ipykernel_launcher.py:35: RuntimeWarning: All-NaN slice encountered\n",
      "/home/autodeploy/.local/lib/python3.5/site-packages/ipykernel_launcher.py:36: RuntimeWarning: All-NaN slice encountered\n",
      "/home/autodeploy/.local/lib/python3.5/site-packages/ipykernel_launcher.py:39: RuntimeWarning: invalid value encountered in less_equal\n",
      "/home/autodeploy/.local/lib/python3.5/site-packages/ipykernel_launcher.py:39: RuntimeWarning: invalid value encountered in less_equal\n",
      "/home/autodeploy/.local/lib/python3.5/site-packages/ipykernel_launcher.py:39: RuntimeWarning: invalid value encountered in less_equal\n",
      "/home/autodeploy/.local/lib/python3.5/site-packages/ipykernel_launcher.py:39: RuntimeWarning: invalid value encountered in less_equal\n",
      "/home/autodeploy/.local/lib/python3.5/site-packages/ipykernel_launcher.py:39: RuntimeWarning: invalid value encountered in less_equal\n",
      "/home/autodeploy/.local/lib/python3.5/site-packages/ipykernel_launcher.py:39: RuntimeWarning: invalid value encountered in less_equal\n",
      "/home/autodeploy/.local/lib/python3.5/site-packages/ipykernel_launcher.py:39: RuntimeWarning: invalid value encountered in less_equal\n",
      "/home/autodeploy/.local/lib/python3.5/site-packages/ipykernel_launcher.py:39: RuntimeWarning: invalid value encountered in less_equal\n",
      "/home/autodeploy/.local/lib/python3.5/site-packages/ipykernel_launcher.py:39: RuntimeWarning: invalid value encountered in less_equal\n",
      "/home/autodeploy/.local/lib/python3.5/site-packages/ipykernel_launcher.py:39: RuntimeWarning: invalid value encountered in less_equal\n",
      "/home/autodeploy/.local/lib/python3.5/site-packages/ipykernel_launcher.py:39: RuntimeWarning: invalid value encountered in less_equal\n",
      "/home/autodeploy/.local/lib/python3.5/site-packages/ipykernel_launcher.py:39: RuntimeWarning: invalid value encountered in less_equal\n",
      "/home/autodeploy/.local/lib/python3.5/site-packages/ipykernel_launcher.py:39: RuntimeWarning: invalid value encountered in less_equal\n",
      "/home/autodeploy/.local/lib/python3.5/site-packages/ipykernel_launcher.py:39: RuntimeWarning: invalid value encountered in less_equal\n",
      "/home/autodeploy/.local/lib/python3.5/site-packages/ipykernel_launcher.py:39: RuntimeWarning: invalid value encountered in less_equal\n",
      "/home/autodeploy/.local/lib/python3.5/site-packages/ipykernel_launcher.py:39: RuntimeWarning: invalid value encountered in less_equal\n",
      "/home/autodeploy/.local/lib/python3.5/site-packages/ipykernel_launcher.py:39: RuntimeWarning: invalid value encountered in less_equal\n",
      "/home/autodeploy/.local/lib/python3.5/site-packages/ipykernel_launcher.py:39: RuntimeWarning: invalid value encountered in less_equal\n",
      "/home/autodeploy/.local/lib/python3.5/site-packages/ipykernel_launcher.py:39: RuntimeWarning: invalid value encountered in less_equal\n",
      "/home/autodeploy/.local/lib/python3.5/site-packages/ipykernel_launcher.py:39: RuntimeWarning: invalid value encountered in less_equal\n",
      "/home/autodeploy/.local/lib/python3.5/site-packages/ipykernel_launcher.py:39: RuntimeWarning: invalid value encountered in less_equal\n",
      "/home/autodeploy/.local/lib/python3.5/site-packages/ipykernel_launcher.py:39: RuntimeWarning: invalid value encountered in less_equal\n",
      "/home/autodeploy/.local/lib/python3.5/site-packages/ipykernel_launcher.py:39: RuntimeWarning: invalid value encountered in less_equal\n",
      "/home/autodeploy/.local/lib/python3.5/site-packages/ipykernel_launcher.py:39: RuntimeWarning: invalid value encountered in less_equal\n",
      "/home/autodeploy/.local/lib/python3.5/site-packages/ipykernel_launcher.py:39: RuntimeWarning: invalid value encountered in less_equal\n",
      "/home/autodeploy/.local/lib/python3.5/site-packages/ipykernel_launcher.py:39: RuntimeWarning: invalid value encountered in less_equal\n",
      "/home/autodeploy/.local/lib/python3.5/site-packages/ipykernel_launcher.py:39: RuntimeWarning: invalid value encountered in less_equal\n",
      "/home/autodeploy/.local/lib/python3.5/site-packages/ipykernel_launcher.py:39: RuntimeWarning: invalid value encountered in less_equal\n",
      "/home/autodeploy/.local/lib/python3.5/site-packages/ipykernel_launcher.py:39: RuntimeWarning: invalid value encountered in less_equal\n",
      "/home/autodeploy/.local/lib/python3.5/site-packages/ipykernel_launcher.py:39: RuntimeWarning: invalid value encountered in less_equal\n",
      "/home/autodeploy/.local/lib/python3.5/site-packages/ipykernel_launcher.py:39: RuntimeWarning: invalid value encountered in less_equal\n",
      "/home/autodeploy/.local/lib/python3.5/site-packages/ipykernel_launcher.py:40: RuntimeWarning: invalid value encountered in greater_equal\n",
      "/home/autodeploy/.local/lib/python3.5/site-packages/ipykernel_launcher.py:39: RuntimeWarning: invalid value encountered in less_equal\n",
      "/home/autodeploy/.local/lib/python3.5/site-packages/ipykernel_launcher.py:39: RuntimeWarning: invalid value encountered in less_equal\n",
      "/home/autodeploy/.local/lib/python3.5/site-packages/ipykernel_launcher.py:39: RuntimeWarning: invalid value encountered in less_equal\n",
      "/home/autodeploy/.local/lib/python3.5/site-packages/ipykernel_launcher.py:39: RuntimeWarning: invalid value encountered in less_equal\n",
      "/home/autodeploy/.local/lib/python3.5/site-packages/ipykernel_launcher.py:39: RuntimeWarning: invalid value encountered in less_equal\n",
      "/home/autodeploy/.local/lib/python3.5/site-packages/ipykernel_launcher.py:39: RuntimeWarning: invalid value encountered in less_equal\n",
      "/home/autodeploy/.local/lib/python3.5/site-packages/ipykernel_launcher.py:39: RuntimeWarning: invalid value encountered in less_equal\n",
      "/home/autodeploy/.local/lib/python3.5/site-packages/ipykernel_launcher.py:39: RuntimeWarning: invalid value encountered in less_equal\n",
      "/home/autodeploy/.local/lib/python3.5/site-packages/ipykernel_launcher.py:39: RuntimeWarning: invalid value encountered in less_equal\n",
      "/home/autodeploy/.local/lib/python3.5/site-packages/ipykernel_launcher.py:39: RuntimeWarning: invalid value encountered in less_equal\n",
      "/home/autodeploy/.local/lib/python3.5/site-packages/ipykernel_launcher.py:39: RuntimeWarning: invalid value encountered in less_equal\n",
      "/home/autodeploy/.local/lib/python3.5/site-packages/ipykernel_launcher.py:39: RuntimeWarning: invalid value encountered in less_equal\n",
      "/home/autodeploy/.local/lib/python3.5/site-packages/ipykernel_launcher.py:39: RuntimeWarning: invalid value encountered in less_equal\n",
      "/home/autodeploy/.local/lib/python3.5/site-packages/ipykernel_launcher.py:39: RuntimeWarning: invalid value encountered in less_equal\n",
      "/home/autodeploy/.local/lib/python3.5/site-packages/ipykernel_launcher.py:39: RuntimeWarning: invalid value encountered in less_equal\n",
      "/home/autodeploy/.local/lib/python3.5/site-packages/ipykernel_launcher.py:39: RuntimeWarning: invalid value encountered in less_equal\n",
      "/home/autodeploy/.local/lib/python3.5/site-packages/ipykernel_launcher.py:39: RuntimeWarning: invalid value encountered in less_equal\n",
      "/home/autodeploy/.local/lib/python3.5/site-packages/ipykernel_launcher.py:39: RuntimeWarning: invalid value encountered in less_equal\n",
      "/home/autodeploy/.local/lib/python3.5/site-packages/ipykernel_launcher.py:39: RuntimeWarning: invalid value encountered in less_equal\n",
      "/home/autodeploy/.local/lib/python3.5/site-packages/ipykernel_launcher.py:39: RuntimeWarning: invalid value encountered in less_equal\n",
      "/home/autodeploy/.local/lib/python3.5/site-packages/ipykernel_launcher.py:39: RuntimeWarning: invalid value encountered in less_equal\n",
      "/home/autodeploy/.local/lib/python3.5/site-packages/ipykernel_launcher.py:39: RuntimeWarning: invalid value encountered in less_equal\n",
      "/home/autodeploy/.local/lib/python3.5/site-packages/ipykernel_launcher.py:39: RuntimeWarning: invalid value encountered in less_equal\n",
      "/home/autodeploy/.local/lib/python3.5/site-packages/ipykernel_launcher.py:39: RuntimeWarning: invalid value encountered in less_equal\n",
      "/home/autodeploy/.local/lib/python3.5/site-packages/ipykernel_launcher.py:39: RuntimeWarning: invalid value encountered in less_equal\n",
      "/home/autodeploy/.local/lib/python3.5/site-packages/ipykernel_launcher.py:39: RuntimeWarning: invalid value encountered in less_equal\n"
     ]
    },
    {
     "name": "stderr",
     "output_type": "stream",
     "text": [
      "/home/autodeploy/.local/lib/python3.5/site-packages/ipykernel_launcher.py:39: RuntimeWarning: invalid value encountered in less_equal\n",
      "/home/autodeploy/.local/lib/python3.5/site-packages/ipykernel_launcher.py:39: RuntimeWarning: invalid value encountered in less_equal\n",
      "/home/autodeploy/.local/lib/python3.5/site-packages/ipykernel_launcher.py:39: RuntimeWarning: invalid value encountered in less_equal\n",
      "/home/autodeploy/.local/lib/python3.5/site-packages/ipykernel_launcher.py:40: RuntimeWarning: invalid value encountered in greater_equal\n",
      "/home/autodeploy/.local/lib/python3.5/site-packages/ipykernel_launcher.py:40: RuntimeWarning: invalid value encountered in greater_equal\n",
      "/home/autodeploy/.local/lib/python3.5/site-packages/ipykernel_launcher.py:40: RuntimeWarning: invalid value encountered in greater_equal\n",
      "/home/autodeploy/.local/lib/python3.5/site-packages/ipykernel_launcher.py:40: RuntimeWarning: invalid value encountered in greater_equal\n",
      "/home/autodeploy/.local/lib/python3.5/site-packages/ipykernel_launcher.py:40: RuntimeWarning: invalid value encountered in greater_equal\n",
      "/home/autodeploy/.local/lib/python3.5/site-packages/ipykernel_launcher.py:40: RuntimeWarning: invalid value encountered in greater_equal\n",
      "/home/autodeploy/.local/lib/python3.5/site-packages/ipykernel_launcher.py:40: RuntimeWarning: invalid value encountered in greater_equal\n",
      "/home/autodeploy/.local/lib/python3.5/site-packages/ipykernel_launcher.py:40: RuntimeWarning: invalid value encountered in greater_equal\n",
      "/home/autodeploy/.local/lib/python3.5/site-packages/ipykernel_launcher.py:40: RuntimeWarning: invalid value encountered in greater_equal\n",
      "/home/autodeploy/.local/lib/python3.5/site-packages/ipykernel_launcher.py:40: RuntimeWarning: invalid value encountered in greater_equal\n",
      "/home/autodeploy/.local/lib/python3.5/site-packages/ipykernel_launcher.py:40: RuntimeWarning: invalid value encountered in greater_equal\n",
      "/home/autodeploy/.local/lib/python3.5/site-packages/ipykernel_launcher.py:40: RuntimeWarning: invalid value encountered in greater_equal\n",
      "/home/autodeploy/.local/lib/python3.5/site-packages/ipykernel_launcher.py:40: RuntimeWarning: invalid value encountered in greater_equal\n",
      "/home/autodeploy/.local/lib/python3.5/site-packages/ipykernel_launcher.py:40: RuntimeWarning: invalid value encountered in greater_equal\n",
      "/home/autodeploy/.local/lib/python3.5/site-packages/ipykernel_launcher.py:40: RuntimeWarning: invalid value encountered in greater_equal\n",
      "/home/autodeploy/.local/lib/python3.5/site-packages/ipykernel_launcher.py:40: RuntimeWarning: invalid value encountered in greater_equal\n",
      "/home/autodeploy/.local/lib/python3.5/site-packages/ipykernel_launcher.py:40: RuntimeWarning: invalid value encountered in greater_equal\n",
      "/home/autodeploy/.local/lib/python3.5/site-packages/ipykernel_launcher.py:40: RuntimeWarning: invalid value encountered in greater_equal\n",
      "/home/autodeploy/.local/lib/python3.5/site-packages/ipykernel_launcher.py:40: RuntimeWarning: invalid value encountered in greater_equal\n",
      "/home/autodeploy/.local/lib/python3.5/site-packages/ipykernel_launcher.py:40: RuntimeWarning: invalid value encountered in greater_equal\n",
      "/home/autodeploy/.local/lib/python3.5/site-packages/ipykernel_launcher.py:40: RuntimeWarning: invalid value encountered in greater_equal\n",
      "/home/autodeploy/.local/lib/python3.5/site-packages/ipykernel_launcher.py:42: RuntimeWarning: invalid value encountered in less_equal\n",
      "/home/autodeploy/.local/lib/python3.5/site-packages/ipykernel_launcher.py:40: RuntimeWarning: invalid value encountered in greater_equal\n",
      "/home/autodeploy/.local/lib/python3.5/site-packages/ipykernel_launcher.py:40: RuntimeWarning: invalid value encountered in greater_equal\n",
      "/home/autodeploy/.local/lib/python3.5/site-packages/ipykernel_launcher.py:40: RuntimeWarning: invalid value encountered in greater_equal\n",
      "/home/autodeploy/.local/lib/python3.5/site-packages/ipykernel_launcher.py:40: RuntimeWarning: invalid value encountered in greater_equal\n",
      "/home/autodeploy/.local/lib/python3.5/site-packages/ipykernel_launcher.py:40: RuntimeWarning: invalid value encountered in greater_equal\n",
      "/home/autodeploy/.local/lib/python3.5/site-packages/ipykernel_launcher.py:40: RuntimeWarning: invalid value encountered in greater_equal\n",
      "/home/autodeploy/.local/lib/python3.5/site-packages/ipykernel_launcher.py:40: RuntimeWarning: invalid value encountered in greater_equal\n",
      "/home/autodeploy/.local/lib/python3.5/site-packages/ipykernel_launcher.py:40: RuntimeWarning: invalid value encountered in greater_equal\n",
      "/home/autodeploy/.local/lib/python3.5/site-packages/ipykernel_launcher.py:40: RuntimeWarning: invalid value encountered in greater_equal\n",
      "/home/autodeploy/.local/lib/python3.5/site-packages/ipykernel_launcher.py:40: RuntimeWarning: invalid value encountered in greater_equal\n",
      "/home/autodeploy/.local/lib/python3.5/site-packages/ipykernel_launcher.py:40: RuntimeWarning: invalid value encountered in greater_equal\n",
      "/home/autodeploy/.local/lib/python3.5/site-packages/ipykernel_launcher.py:40: RuntimeWarning: invalid value encountered in greater_equal\n",
      "/home/autodeploy/.local/lib/python3.5/site-packages/ipykernel_launcher.py:40: RuntimeWarning: invalid value encountered in greater_equal\n",
      "/home/autodeploy/.local/lib/python3.5/site-packages/ipykernel_launcher.py:40: RuntimeWarning: invalid value encountered in greater_equal\n",
      "/home/autodeploy/.local/lib/python3.5/site-packages/ipykernel_launcher.py:40: RuntimeWarning: invalid value encountered in greater_equal\n",
      "/home/autodeploy/.local/lib/python3.5/site-packages/ipykernel_launcher.py:40: RuntimeWarning: invalid value encountered in greater_equal\n",
      "/home/autodeploy/.local/lib/python3.5/site-packages/ipykernel_launcher.py:40: RuntimeWarning: invalid value encountered in greater_equal\n",
      "/home/autodeploy/.local/lib/python3.5/site-packages/ipykernel_launcher.py:40: RuntimeWarning: invalid value encountered in greater_equal\n",
      "/home/autodeploy/.local/lib/python3.5/site-packages/ipykernel_launcher.py:40: RuntimeWarning: invalid value encountered in greater_equal\n",
      "/home/autodeploy/.local/lib/python3.5/site-packages/ipykernel_launcher.py:40: RuntimeWarning: invalid value encountered in greater_equal\n",
      "/home/autodeploy/.local/lib/python3.5/site-packages/ipykernel_launcher.py:40: RuntimeWarning: invalid value encountered in greater_equal\n",
      "/home/autodeploy/.local/lib/python3.5/site-packages/ipykernel_launcher.py:40: RuntimeWarning: invalid value encountered in greater_equal\n",
      "/home/autodeploy/.local/lib/python3.5/site-packages/ipykernel_launcher.py:40: RuntimeWarning: invalid value encountered in greater_equal\n",
      "/home/autodeploy/.local/lib/python3.5/site-packages/ipykernel_launcher.py:40: RuntimeWarning: invalid value encountered in greater_equal\n",
      "/home/autodeploy/.local/lib/python3.5/site-packages/ipykernel_launcher.py:40: RuntimeWarning: invalid value encountered in greater_equal\n",
      "/home/autodeploy/.local/lib/python3.5/site-packages/ipykernel_launcher.py:42: RuntimeWarning: invalid value encountered in less_equal\n",
      "/home/autodeploy/.local/lib/python3.5/site-packages/ipykernel_launcher.py:40: RuntimeWarning: invalid value encountered in greater_equal\n",
      "/home/autodeploy/.local/lib/python3.5/site-packages/ipykernel_launcher.py:40: RuntimeWarning: invalid value encountered in greater_equal\n",
      "/home/autodeploy/.local/lib/python3.5/site-packages/ipykernel_launcher.py:40: RuntimeWarning: invalid value encountered in greater_equal\n",
      "/home/autodeploy/.local/lib/python3.5/site-packages/ipykernel_launcher.py:40: RuntimeWarning: invalid value encountered in greater_equal\n",
      "/home/autodeploy/.local/lib/python3.5/site-packages/ipykernel_launcher.py:40: RuntimeWarning: invalid value encountered in greater_equal\n",
      "/home/autodeploy/.local/lib/python3.5/site-packages/ipykernel_launcher.py:40: RuntimeWarning: invalid value encountered in greater_equal\n",
      "/home/autodeploy/.local/lib/python3.5/site-packages/ipykernel_launcher.py:40: RuntimeWarning: invalid value encountered in greater_equal\n",
      "/home/autodeploy/.local/lib/python3.5/site-packages/ipykernel_launcher.py:40: RuntimeWarning: invalid value encountered in greater_equal\n",
      "/home/autodeploy/.local/lib/python3.5/site-packages/ipykernel_launcher.py:40: RuntimeWarning: invalid value encountered in greater_equal\n"
     ]
    },
    {
     "name": "stderr",
     "output_type": "stream",
     "text": [
      "/home/autodeploy/.local/lib/python3.5/site-packages/ipykernel_launcher.py:40: RuntimeWarning: invalid value encountered in greater_equal\n",
      "/home/autodeploy/.local/lib/python3.5/site-packages/ipykernel_launcher.py:40: RuntimeWarning: invalid value encountered in greater_equal\n",
      "/home/autodeploy/.local/lib/python3.5/site-packages/ipykernel_launcher.py:40: RuntimeWarning: invalid value encountered in greater_equal\n",
      "/home/autodeploy/.local/lib/python3.5/site-packages/ipykernel_launcher.py:40: RuntimeWarning: invalid value encountered in greater_equal\n",
      "/home/autodeploy/.local/lib/python3.5/site-packages/ipykernel_launcher.py:43: RuntimeWarning: invalid value encountered in greater_equal\n",
      "/home/autodeploy/.local/lib/python3.5/site-packages/ipykernel_launcher.py:42: RuntimeWarning: invalid value encountered in less_equal\n",
      "/home/autodeploy/.local/lib/python3.5/site-packages/ipykernel_launcher.py:42: RuntimeWarning: invalid value encountered in less_equal\n",
      "/home/autodeploy/.local/lib/python3.5/site-packages/ipykernel_launcher.py:42: RuntimeWarning: invalid value encountered in less_equal\n",
      "/home/autodeploy/.local/lib/python3.5/site-packages/ipykernel_launcher.py:42: RuntimeWarning: invalid value encountered in less_equal\n",
      "/home/autodeploy/.local/lib/python3.5/site-packages/ipykernel_launcher.py:43: RuntimeWarning: invalid value encountered in greater_equal\n",
      "/home/autodeploy/.local/lib/python3.5/site-packages/ipykernel_launcher.py:42: RuntimeWarning: invalid value encountered in less_equal\n"
     ]
    },
    {
     "name": "stdout",
     "output_type": "stream",
     "text": [
      "N_mined_hypos of type neg 9119\n",
      "Mining 10000 intersections\n"
     ]
    },
    {
     "name": "stderr",
     "output_type": "stream",
     "text": [
      "/home/autodeploy/.local/lib/python3.5/site-packages/ipykernel_launcher.py:43: RuntimeWarning: invalid value encountered in greater_equal\n",
      "/home/autodeploy/.local/lib/python3.5/site-packages/ipykernel_launcher.py:43: RuntimeWarning: invalid value encountered in greater_equal\n",
      "/home/autodeploy/.local/lib/python3.5/site-packages/ipykernel_launcher.py:42: RuntimeWarning: invalid value encountered in less_equal\n",
      "/home/autodeploy/.local/lib/python3.5/site-packages/ipykernel_launcher.py:42: RuntimeWarning: invalid value encountered in less_equal\n",
      "/home/autodeploy/.local/lib/python3.5/site-packages/ipykernel_launcher.py:42: RuntimeWarning: invalid value encountered in less_equal\n",
      "/home/autodeploy/.local/lib/python3.5/site-packages/ipykernel_launcher.py:42: RuntimeWarning: invalid value encountered in less_equal\n",
      "/home/autodeploy/.local/lib/python3.5/site-packages/ipykernel_launcher.py:43: RuntimeWarning: invalid value encountered in greater_equal\n",
      "/home/autodeploy/.local/lib/python3.5/site-packages/ipykernel_launcher.py:42: RuntimeWarning: invalid value encountered in less_equal\n",
      "/home/autodeploy/.local/lib/python3.5/site-packages/ipykernel_launcher.py:43: RuntimeWarning: invalid value encountered in greater_equal\n",
      "/home/autodeploy/.local/lib/python3.5/site-packages/ipykernel_launcher.py:42: RuntimeWarning: invalid value encountered in less_equal\n",
      "/home/autodeploy/.local/lib/python3.5/site-packages/ipykernel_launcher.py:42: RuntimeWarning: invalid value encountered in less_equal\n",
      "/home/autodeploy/.local/lib/python3.5/site-packages/ipykernel_launcher.py:42: RuntimeWarning: invalid value encountered in less_equal\n",
      "/home/autodeploy/.local/lib/python3.5/site-packages/ipykernel_launcher.py:42: RuntimeWarning: invalid value encountered in less_equal\n",
      "/home/autodeploy/.local/lib/python3.5/site-packages/ipykernel_launcher.py:42: RuntimeWarning: invalid value encountered in less_equal\n",
      "/home/autodeploy/.local/lib/python3.5/site-packages/ipykernel_launcher.py:43: RuntimeWarning: invalid value encountered in greater_equal\n",
      "/home/autodeploy/.local/lib/python3.5/site-packages/ipykernel_launcher.py:42: RuntimeWarning: invalid value encountered in less_equal\n",
      "/home/autodeploy/.local/lib/python3.5/site-packages/ipykernel_launcher.py:42: RuntimeWarning: invalid value encountered in less_equal\n",
      "/home/autodeploy/.local/lib/python3.5/site-packages/ipykernel_launcher.py:42: RuntimeWarning: invalid value encountered in less_equal\n",
      "/home/autodeploy/.local/lib/python3.5/site-packages/ipykernel_launcher.py:42: RuntimeWarning: invalid value encountered in less_equal\n"
     ]
    },
    {
     "name": "stdout",
     "output_type": "stream",
     "text": [
      "N_mined_hypos of type neg 9293\n"
     ]
    },
    {
     "name": "stderr",
     "output_type": "stream",
     "text": [
      "/home/autodeploy/.local/lib/python3.5/site-packages/ipykernel_launcher.py:42: RuntimeWarning: invalid value encountered in less_equal\n"
     ]
    },
    {
     "name": "stdout",
     "output_type": "stream",
     "text": [
      "Mining 10000 intersections\n"
     ]
    },
    {
     "name": "stderr",
     "output_type": "stream",
     "text": [
      "/home/autodeploy/.local/lib/python3.5/site-packages/ipykernel_launcher.py:43: RuntimeWarning: invalid value encountered in greater_equal\n",
      "/home/autodeploy/.local/lib/python3.5/site-packages/ipykernel_launcher.py:42: RuntimeWarning: invalid value encountered in less_equal\n",
      "/home/autodeploy/.local/lib/python3.5/site-packages/ipykernel_launcher.py:42: RuntimeWarning: invalid value encountered in less_equal\n",
      "/home/autodeploy/.local/lib/python3.5/site-packages/ipykernel_launcher.py:42: RuntimeWarning: invalid value encountered in less_equal\n",
      "/home/autodeploy/.local/lib/python3.5/site-packages/ipykernel_launcher.py:43: RuntimeWarning: invalid value encountered in greater_equal\n",
      "/home/autodeploy/.local/lib/python3.5/site-packages/ipykernel_launcher.py:42: RuntimeWarning: invalid value encountered in less_equal\n",
      "/home/autodeploy/.local/lib/python3.5/site-packages/ipykernel_launcher.py:43: RuntimeWarning: invalid value encountered in greater_equal\n",
      "/home/autodeploy/.local/lib/python3.5/site-packages/ipykernel_launcher.py:43: RuntimeWarning: invalid value encountered in greater_equal\n",
      "/home/autodeploy/.local/lib/python3.5/site-packages/ipykernel_launcher.py:42: RuntimeWarning: invalid value encountered in less_equal\n"
     ]
    },
    {
     "name": "stdout",
     "output_type": "stream",
     "text": [
      "N_mined_hypos of type neg 9376\n",
      "N_mined_hypos of type neg 9404\n",
      "Mining 10000 intersections\n",
      "Mining 10000 intersections\n"
     ]
    },
    {
     "name": "stderr",
     "output_type": "stream",
     "text": [
      "/home/autodeploy/.local/lib/python3.5/site-packages/ipykernel_launcher.py:42: RuntimeWarning: invalid value encountered in less_equal\n",
      "/home/autodeploy/.local/lib/python3.5/site-packages/ipykernel_launcher.py:42: RuntimeWarning: invalid value encountered in less_equal\n",
      "/home/autodeploy/.local/lib/python3.5/site-packages/ipykernel_launcher.py:42: RuntimeWarning: invalid value encountered in less_equal\n",
      "/home/autodeploy/.local/lib/python3.5/site-packages/ipykernel_launcher.py:42: RuntimeWarning: invalid value encountered in less_equal\n"
     ]
    },
    {
     "name": "stdout",
     "output_type": "stream",
     "text": [
      "N_mined_hypos of type neg 9239\n",
      "Mining 10000 intersections\n",
      "N_mined_hypos of type neg 9368\n",
      "Mining 10000 intersections\n"
     ]
    },
    {
     "name": "stderr",
     "output_type": "stream",
     "text": [
      "/home/autodeploy/.local/lib/python3.5/site-packages/ipykernel_launcher.py:43: RuntimeWarning: invalid value encountered in greater_equal\n",
      "/home/autodeploy/.local/lib/python3.5/site-packages/ipykernel_launcher.py:42: RuntimeWarning: invalid value encountered in less_equal\n"
     ]
    },
    {
     "name": "stdout",
     "output_type": "stream",
     "text": [
      "N_mined_hypos of type neg 9119\n",
      "Mining 10000 intersections\n"
     ]
    },
    {
     "name": "stderr",
     "output_type": "stream",
     "text": [
      "/home/autodeploy/.local/lib/python3.5/site-packages/ipykernel_launcher.py:43: RuntimeWarning: invalid value encountered in greater_equal\n",
      "/home/autodeploy/.local/lib/python3.5/site-packages/ipykernel_launcher.py:42: RuntimeWarning: invalid value encountered in less_equal\n",
      "/home/autodeploy/.local/lib/python3.5/site-packages/ipykernel_launcher.py:42: RuntimeWarning: invalid value encountered in less_equal\n",
      "/home/autodeploy/.local/lib/python3.5/site-packages/ipykernel_launcher.py:43: RuntimeWarning: invalid value encountered in greater_equal\n",
      "/home/autodeploy/.local/lib/python3.5/site-packages/ipykernel_launcher.py:43: RuntimeWarning: invalid value encountered in greater_equal\n",
      "/home/autodeploy/.local/lib/python3.5/site-packages/ipykernel_launcher.py:42: RuntimeWarning: invalid value encountered in less_equal\n",
      "/home/autodeploy/.local/lib/python3.5/site-packages/ipykernel_launcher.py:42: RuntimeWarning: invalid value encountered in less_equal\n",
      "/home/autodeploy/.local/lib/python3.5/site-packages/ipykernel_launcher.py:42: RuntimeWarning: invalid value encountered in less_equal\n",
      "/home/autodeploy/.local/lib/python3.5/site-packages/ipykernel_launcher.py:42: RuntimeWarning: invalid value encountered in less_equal\n",
      "/home/autodeploy/.local/lib/python3.5/site-packages/ipykernel_launcher.py:43: RuntimeWarning: invalid value encountered in greater_equal\n",
      "/home/autodeploy/.local/lib/python3.5/site-packages/ipykernel_launcher.py:42: RuntimeWarning: invalid value encountered in less_equal\n",
      "/home/autodeploy/.local/lib/python3.5/site-packages/ipykernel_launcher.py:42: RuntimeWarning: invalid value encountered in less_equal\n"
     ]
    },
    {
     "name": "stdout",
     "output_type": "stream",
     "text": [
      "N_mined_hypos of type neg 9216\n",
      "Mining 10000 intersections\n"
     ]
    },
    {
     "name": "stderr",
     "output_type": "stream",
     "text": [
      "/home/autodeploy/.local/lib/python3.5/site-packages/ipykernel_launcher.py:42: RuntimeWarning: invalid value encountered in less_equal\n",
      "/home/autodeploy/.local/lib/python3.5/site-packages/ipykernel_launcher.py:42: RuntimeWarning: invalid value encountered in less_equal\n",
      "/home/autodeploy/.local/lib/python3.5/site-packages/ipykernel_launcher.py:43: RuntimeWarning: invalid value encountered in greater_equal\n",
      "/home/autodeploy/.local/lib/python3.5/site-packages/ipykernel_launcher.py:42: RuntimeWarning: invalid value encountered in less_equal\n",
      "/home/autodeploy/.local/lib/python3.5/site-packages/ipykernel_launcher.py:42: RuntimeWarning: invalid value encountered in less_equal\n",
      "/home/autodeploy/.local/lib/python3.5/site-packages/ipykernel_launcher.py:43: RuntimeWarning: invalid value encountered in greater_equal\n",
      "/home/autodeploy/.local/lib/python3.5/site-packages/ipykernel_launcher.py:43: RuntimeWarning: invalid value encountered in greater_equal\n",
      "/home/autodeploy/.local/lib/python3.5/site-packages/ipykernel_launcher.py:42: RuntimeWarning: invalid value encountered in less_equal\n",
      "/home/autodeploy/.local/lib/python3.5/site-packages/ipykernel_launcher.py:43: RuntimeWarning: invalid value encountered in greater_equal\n",
      "/home/autodeploy/.local/lib/python3.5/site-packages/ipykernel_launcher.py:42: RuntimeWarning: invalid value encountered in less_equal\n",
      "/home/autodeploy/.local/lib/python3.5/site-packages/ipykernel_launcher.py:42: RuntimeWarning: invalid value encountered in less_equal\n",
      "/home/autodeploy/.local/lib/python3.5/site-packages/ipykernel_launcher.py:42: RuntimeWarning: invalid value encountered in less_equal\n",
      "/home/autodeploy/.local/lib/python3.5/site-packages/ipykernel_launcher.py:43: RuntimeWarning: invalid value encountered in greater_equal\n",
      "/home/autodeploy/.local/lib/python3.5/site-packages/ipykernel_launcher.py:42: RuntimeWarning: invalid value encountered in less_equal\n",
      "/home/autodeploy/.local/lib/python3.5/site-packages/ipykernel_launcher.py:43: RuntimeWarning: invalid value encountered in greater_equal\n",
      "/home/autodeploy/.local/lib/python3.5/site-packages/ipykernel_launcher.py:43: RuntimeWarning: invalid value encountered in greater_equal\n"
     ]
    },
    {
     "name": "stdout",
     "output_type": "stream",
     "text": [
      "N_mined_hypos of type neg 9331\n"
     ]
    },
    {
     "name": "stderr",
     "output_type": "stream",
     "text": [
      "/home/autodeploy/.local/lib/python3.5/site-packages/ipykernel_launcher.py:42: RuntimeWarning: invalid value encountered in less_equal\n"
     ]
    },
    {
     "name": "stdout",
     "output_type": "stream",
     "text": [
      "Mining 10000 intersections\n",
      "N_mined_hypos of type neg 9385\n"
     ]
    },
    {
     "name": "stderr",
     "output_type": "stream",
     "text": [
      "/home/autodeploy/.local/lib/python3.5/site-packages/ipykernel_launcher.py:42: RuntimeWarning: invalid value encountered in less_equal\n"
     ]
    },
    {
     "name": "stdout",
     "output_type": "stream",
     "text": [
      "Mining 10000 intersections\n"
     ]
    },
    {
     "name": "stderr",
     "output_type": "stream",
     "text": [
      "/home/autodeploy/.local/lib/python3.5/site-packages/ipykernel_launcher.py:42: RuntimeWarning: invalid value encountered in less_equal\n",
      "/home/autodeploy/.local/lib/python3.5/site-packages/ipykernel_launcher.py:42: RuntimeWarning: invalid value encountered in less_equal\n",
      "/home/autodeploy/.local/lib/python3.5/site-packages/ipykernel_launcher.py:42: RuntimeWarning: invalid value encountered in less_equal\n",
      "/home/autodeploy/.local/lib/python3.5/site-packages/ipykernel_launcher.py:43: RuntimeWarning: invalid value encountered in greater_equal\n",
      "/home/autodeploy/.local/lib/python3.5/site-packages/ipykernel_launcher.py:42: RuntimeWarning: invalid value encountered in less_equal\n",
      "/home/autodeploy/.local/lib/python3.5/site-packages/ipykernel_launcher.py:43: RuntimeWarning: invalid value encountered in greater_equal\n"
     ]
    },
    {
     "name": "stdout",
     "output_type": "stream",
     "text": [
      "N_mined_hypos of type neg 9231\n",
      "Mining 10000 intersections\n"
     ]
    },
    {
     "name": "stderr",
     "output_type": "stream",
     "text": [
      "/home/autodeploy/.local/lib/python3.5/site-packages/ipykernel_launcher.py:42: RuntimeWarning: invalid value encountered in less_equal\n",
      "/home/autodeploy/.local/lib/python3.5/site-packages/ipykernel_launcher.py:42: RuntimeWarning: invalid value encountered in less_equal\n"
     ]
    },
    {
     "name": "stdout",
     "output_type": "stream",
     "text": [
      "N_mined_hypos of type neg 9072\n",
      "Mining 10000 intersections\n"
     ]
    },
    {
     "name": "stderr",
     "output_type": "stream",
     "text": [
      "/home/autodeploy/.local/lib/python3.5/site-packages/ipykernel_launcher.py:42: RuntimeWarning: invalid value encountered in less_equal\n",
      "/home/autodeploy/.local/lib/python3.5/site-packages/ipykernel_launcher.py:43: RuntimeWarning: invalid value encountered in greater_equal\n",
      "/home/autodeploy/.local/lib/python3.5/site-packages/ipykernel_launcher.py:42: RuntimeWarning: invalid value encountered in less_equal\n"
     ]
    },
    {
     "name": "stdout",
     "output_type": "stream",
     "text": [
      "N_mined_hypos of type neg 9371\n",
      "Mining 10000 intersections\n"
     ]
    },
    {
     "name": "stderr",
     "output_type": "stream",
     "text": [
      "/home/autodeploy/.local/lib/python3.5/site-packages/ipykernel_launcher.py:43: RuntimeWarning: invalid value encountered in greater_equal\n",
      "/home/autodeploy/.local/lib/python3.5/site-packages/ipykernel_launcher.py:43: RuntimeWarning: invalid value encountered in greater_equal\n",
      "/home/autodeploy/.local/lib/python3.5/site-packages/ipykernel_launcher.py:43: RuntimeWarning: invalid value encountered in greater_equal\n",
      "/home/autodeploy/.local/lib/python3.5/site-packages/ipykernel_launcher.py:42: RuntimeWarning: invalid value encountered in less_equal\n",
      "/home/autodeploy/.local/lib/python3.5/site-packages/ipykernel_launcher.py:43: RuntimeWarning: invalid value encountered in greater_equal\n",
      "/home/autodeploy/.local/lib/python3.5/site-packages/ipykernel_launcher.py:43: RuntimeWarning: invalid value encountered in greater_equal\n",
      "/home/autodeploy/.local/lib/python3.5/site-packages/ipykernel_launcher.py:43: RuntimeWarning: invalid value encountered in greater_equal\n",
      "/home/autodeploy/.local/lib/python3.5/site-packages/ipykernel_launcher.py:43: RuntimeWarning: invalid value encountered in greater_equal\n"
     ]
    },
    {
     "name": "stdout",
     "output_type": "stream",
     "text": [
      "N_mined_hypos of type neg 9291\n",
      "Mining 10000 intersections\n",
      "N_mined_hypos of type neg 9378\n",
      "Mining 10000 intersections\n",
      "N_mined_hypos of type neg 8882\n",
      "Mining 10000 intersections\n"
     ]
    },
    {
     "name": "stderr",
     "output_type": "stream",
     "text": [
      "/home/autodeploy/.local/lib/python3.5/site-packages/ipykernel_launcher.py:43: RuntimeWarning: invalid value encountered in greater_equal\n",
      "/home/autodeploy/.local/lib/python3.5/site-packages/ipykernel_launcher.py:43: RuntimeWarning: invalid value encountered in greater_equal\n",
      "/home/autodeploy/.local/lib/python3.5/site-packages/ipykernel_launcher.py:43: RuntimeWarning: invalid value encountered in greater_equal\n"
     ]
    },
    {
     "name": "stdout",
     "output_type": "stream",
     "text": [
      "N_mined_hypos of type neg 9245\n",
      "Mining 10000 intersections\n"
     ]
    },
    {
     "name": "stderr",
     "output_type": "stream",
     "text": [
      "/home/autodeploy/.local/lib/python3.5/site-packages/ipykernel_launcher.py:43: RuntimeWarning: invalid value encountered in greater_equal\n",
      "/home/autodeploy/.local/lib/python3.5/site-packages/ipykernel_launcher.py:43: RuntimeWarning: invalid value encountered in greater_equal\n",
      "/home/autodeploy/.local/lib/python3.5/site-packages/ipykernel_launcher.py:43: RuntimeWarning: invalid value encountered in greater_equal\n",
      "/home/autodeploy/.local/lib/python3.5/site-packages/ipykernel_launcher.py:43: RuntimeWarning: invalid value encountered in greater_equal\n"
     ]
    },
    {
     "name": "stdout",
     "output_type": "stream",
     "text": [
      "N_mined_hypos of type neg 9145\n"
     ]
    },
    {
     "name": "stderr",
     "output_type": "stream",
     "text": [
      "/home/autodeploy/.local/lib/python3.5/site-packages/ipykernel_launcher.py:43: RuntimeWarning: invalid value encountered in greater_equal\n"
     ]
    },
    {
     "name": "stdout",
     "output_type": "stream",
     "text": [
      "Mining 10000 intersections\n"
     ]
    },
    {
     "name": "stderr",
     "output_type": "stream",
     "text": [
      "/home/autodeploy/.local/lib/python3.5/site-packages/ipykernel_launcher.py:43: RuntimeWarning: invalid value encountered in greater_equal\n"
     ]
    },
    {
     "name": "stdout",
     "output_type": "stream",
     "text": [
      "N_mined_hypos of type neg 9217\n",
      "Mining 10000 intersections\n",
      "N_mined_hypos of type neg 9071\n",
      "Mining 10000 intersections\n"
     ]
    },
    {
     "name": "stderr",
     "output_type": "stream",
     "text": [
      "/home/autodeploy/.local/lib/python3.5/site-packages/ipykernel_launcher.py:43: RuntimeWarning: invalid value encountered in greater_equal\n",
      "/home/autodeploy/.local/lib/python3.5/site-packages/ipykernel_launcher.py:43: RuntimeWarning: invalid value encountered in greater_equal\n"
     ]
    },
    {
     "name": "stdout",
     "output_type": "stream",
     "text": [
      "N_mined_hypos of type neg 9142\n",
      "N_mined_hypos of type neg 9435\n",
      "Mining 10000 intersections\n"
     ]
    },
    {
     "name": "stderr",
     "output_type": "stream",
     "text": [
      "/home/autodeploy/.local/lib/python3.5/site-packages/ipykernel_launcher.py:43: RuntimeWarning: invalid value encountered in greater_equal\n"
     ]
    },
    {
     "name": "stdout",
     "output_type": "stream",
     "text": [
      "N_mined_hypos of type neg 9395\n",
      "Mining 10000 intersections\n",
      "Mining 10000 intersections\n",
      "N_mined_hypos of type neg 8930\n",
      "N_mined_hypos of type neg 8313\n",
      "N_mined_hypos of type neg 8462\n",
      "Mining 10000 intersections\n",
      "N_mined_hypos of type neg 9221\n",
      "Mining 10000 intersections\n"
     ]
    },
    {
     "name": "stderr",
     "output_type": "stream",
     "text": [
      "/home/autodeploy/.local/lib/python3.5/site-packages/ipykernel_launcher.py:43: RuntimeWarning: invalid value encountered in greater_equal\n"
     ]
    },
    {
     "name": "stdout",
     "output_type": "stream",
     "text": [
      "Mining 10000 intersections\n",
      "Mining 10000 intersections\n",
      "N_mined_hypos of type neg 8374\n",
      "Mining 10000 intersections\n"
     ]
    },
    {
     "name": "stderr",
     "output_type": "stream",
     "text": [
      "/home/autodeploy/.local/lib/python3.5/site-packages/ipykernel_launcher.py:43: RuntimeWarning: invalid value encountered in greater_equal\n",
      "/home/autodeploy/.local/lib/python3.5/site-packages/ipykernel_launcher.py:43: RuntimeWarning: invalid value encountered in greater_equal\n"
     ]
    },
    {
     "name": "stdout",
     "output_type": "stream",
     "text": [
      "N_mined_hypos of type neg 8792\n",
      "Mining 10000 intersections\n"
     ]
    },
    {
     "name": "stderr",
     "output_type": "stream",
     "text": [
      "/home/autodeploy/.local/lib/python3.5/site-packages/ipykernel_launcher.py:43: RuntimeWarning: invalid value encountered in greater_equal\n",
      "/home/autodeploy/.local/lib/python3.5/site-packages/ipykernel_launcher.py:43: RuntimeWarning: invalid value encountered in greater_equal\n",
      "/home/autodeploy/.local/lib/python3.5/site-packages/ipykernel_launcher.py:43: RuntimeWarning: invalid value encountered in greater_equal\n",
      "/home/autodeploy/.local/lib/python3.5/site-packages/ipykernel_launcher.py:43: RuntimeWarning: invalid value encountered in greater_equal\n",
      "/home/autodeploy/.local/lib/python3.5/site-packages/ipykernel_launcher.py:43: RuntimeWarning: invalid value encountered in greater_equal\n",
      "/home/autodeploy/.local/lib/python3.5/site-packages/ipykernel_launcher.py:43: RuntimeWarning: invalid value encountered in greater_equal\n",
      "/home/autodeploy/.local/lib/python3.5/site-packages/ipykernel_launcher.py:43: RuntimeWarning: invalid value encountered in greater_equal\n"
     ]
    },
    {
     "name": "stdout",
     "output_type": "stream",
     "text": [
      "N_mined_hypos of type neg 9114\n",
      "Mining 10000 intersections\n"
     ]
    },
    {
     "name": "stderr",
     "output_type": "stream",
     "text": [
      "/home/autodeploy/.local/lib/python3.5/site-packages/ipykernel_launcher.py:43: RuntimeWarning: invalid value encountered in greater_equal\n"
     ]
    },
    {
     "name": "stdout",
     "output_type": "stream",
     "text": [
      "N_mined_hypos of type neg 9099\n",
      "Mining 10000 intersections\n",
      "N_mined_hypos of type neg 8883\n",
      "Mining 10000 intersections\n",
      "N_mined_hypos of type neg 8671\n",
      "N_mined_hypos of type neg 9100\n",
      "Mining 10000 intersections\n",
      "N_mined_hypos of type neg 8981\n",
      "Mining 10000 intersections\n"
     ]
    },
    {
     "name": "stderr",
     "output_type": "stream",
     "text": [
      "/home/autodeploy/.local/lib/python3.5/site-packages/ipykernel_launcher.py:43: RuntimeWarning: invalid value encountered in greater_equal\n"
     ]
    },
    {
     "name": "stdout",
     "output_type": "stream",
     "text": [
      "Mining 10000 intersections\n",
      "N_mined_hypos of type neg 8748\n",
      "Mining 10000 intersections\n"
     ]
    },
    {
     "name": "stderr",
     "output_type": "stream",
     "text": [
      "/home/autodeploy/.local/lib/python3.5/site-packages/ipykernel_launcher.py:43: RuntimeWarning: invalid value encountered in greater_equal\n",
      "/home/autodeploy/.local/lib/python3.5/site-packages/ipykernel_launcher.py:43: RuntimeWarning: invalid value encountered in greater_equal\n"
     ]
    },
    {
     "name": "stdout",
     "output_type": "stream",
     "text": [
      "N_mined_hypos of type neg 9167\n"
     ]
    },
    {
     "name": "stderr",
     "output_type": "stream",
     "text": [
      "/home/autodeploy/.local/lib/python3.5/site-packages/ipykernel_launcher.py:43: RuntimeWarning: invalid value encountered in greater_equal\n"
     ]
    },
    {
     "name": "stdout",
     "output_type": "stream",
     "text": [
      "Mining 10000 intersections\n",
      "N_mined_hypos of type neg 9420\n",
      "Mining 10000 intersections\n",
      "N_mined_hypos of type neg 8920\n",
      "Mining 10000 intersections\n",
      "N_mined_hypos of type neg 8633\n",
      "Mining 10000 intersections\n",
      "N_mined_hypos of type neg 8933\n",
      "Mining 10000 intersections\n",
      "N_mined_hypos of type neg 9469\n",
      "Mining 10000 intersections\n",
      "N_mined_hypos of type neg 9111\n",
      "Mining 10000 intersections\n",
      "N_mined_hypos of type neg 8428\n",
      "Mining 10000 intersections\n",
      "N_mined_hypos of type neg 8535\n",
      "Mining 10000 intersections\n",
      "N_mined_hypos of type neg 8951\n",
      "Mining 10000 intersections\n",
      "N_mined_hypos of type neg 9452\n",
      "Mining 10000 intersections\n",
      "N_mined_hypos of type neg 8976\n",
      "Mining 10000 intersections\n",
      "N_mined_hypos of type neg 9159\n",
      "Mining 10000 intersections\n",
      "N_mined_hypos of type neg 9135\n",
      "Mining 10000 intersections\n",
      "N_mined_hypos of type neg 8931\n",
      "N_mined_hypos of type neg 9388\n",
      "Mining 10000 intersections\n",
      "N_mined_hypos of type neg 8647\n",
      "Mining 10000 intersections\n",
      "Mining 10000 intersections\n",
      "N_mined_hypos of type neg 8986\n",
      "Mining 10000 intersections\n",
      "N_mined_hypos of type neg 9169\n",
      "Mining 10000 intersections\n",
      "N_mined_hypos of type neg 8915\n",
      "Mining 10000 intersections\n",
      "N_mined_hypos of type neg 9402\n",
      "Mining 10000 intersections\n",
      "N_mined_hypos of type neg 8786\n",
      "Mining 10000 intersections\n",
      "N_mined_hypos of type neg 8944\n",
      "N_mined_hypos of type neg 8846\n",
      "Mining 10000 intersections\n",
      "Mining 10000 intersections\n",
      "N_mined_hypos of type neg 18751\n",
      "Mining 10000 intersections\n"
     ]
    },
    {
     "name": "stderr",
     "output_type": "stream",
     "text": [
      "/home/autodeploy/.local/lib/python3.5/site-packages/ipykernel_launcher.py:35: RuntimeWarning: All-NaN slice encountered\n",
      "/home/autodeploy/.local/lib/python3.5/site-packages/ipykernel_launcher.py:36: RuntimeWarning: All-NaN slice encountered\n"
     ]
    },
    {
     "name": "stdout",
     "output_type": "stream",
     "text": [
      "N_mined_hypos of type neg 18243\n",
      "N_mined_hypos of type neg 18803\n",
      "N_mined_hypos of type neg 18762\n",
      "N_mined_hypos of type neg 16890\n",
      "Mining 10000 intersections\n"
     ]
    },
    {
     "name": "stderr",
     "output_type": "stream",
     "text": [
      "/home/autodeploy/.local/lib/python3.5/site-packages/ipykernel_launcher.py:35: RuntimeWarning: All-NaN slice encountered\n",
      "/home/autodeploy/.local/lib/python3.5/site-packages/ipykernel_launcher.py:36: RuntimeWarning: All-NaN slice encountered\n"
     ]
    },
    {
     "name": "stdout",
     "output_type": "stream",
     "text": [
      "N_mined_hypos of type neg 18691\n",
      "Mining 10000 intersections\n"
     ]
    },
    {
     "name": "stderr",
     "output_type": "stream",
     "text": [
      "/home/autodeploy/.local/lib/python3.5/site-packages/ipykernel_launcher.py:35: RuntimeWarning: All-NaN slice encountered\n",
      "/home/autodeploy/.local/lib/python3.5/site-packages/ipykernel_launcher.py:36: RuntimeWarning: All-NaN slice encountered\n"
     ]
    },
    {
     "name": "stdout",
     "output_type": "stream",
     "text": [
      "N_mined_hypos of type neg 18791\n",
      "Mining 10000 intersections\n",
      "N_mined_hypos of type neg 18619\n",
      "N_mined_hypos of type neg 18455\n",
      "N_mined_hypos of type neg 18386\n",
      "N_mined_hypos of type neg 18402\n",
      "Mining 10000 intersections\n",
      "N_mined_hypos of type neg 18243\n",
      "N_mined_hypos of type neg 17817\n",
      "N_mined_hypos of type neg 18117\n",
      "N_mined_hypos of type neg 18457\n",
      "N_mined_hypos of type neg 17593\n",
      "Mining 10000 intersections\n",
      "Mining 10000 intersections\n",
      "N_mined_hypos of type neg 18620\n",
      "Mining 10000 intersections\n",
      "Mining 10000 intersections\n",
      "Mining 10000 intersections\n",
      "Mining 10000 intersections\n",
      "N_mined_hypos of type neg 18087\n",
      "N_mined_hypos of type neg 16713\n",
      "N_mined_hypos of type neg 18179\n",
      "N_mined_hypos of type neg 18242\n",
      "N_mined_hypos of type neg 18406\n",
      "N_mined_hypos of type neg 18778\n",
      "N_mined_hypos of type neg 18563\n",
      "Mining 10000 intersections\n",
      "N_mined_hypos of type neg 18259\n",
      "N_mined_hypos of type neg 18173\n",
      "Mining 10000 intersections\n",
      "Mining 10000 intersections\n",
      "N_mined_hypos of type neg 17814\n",
      "N_mined_hypos of type neg 18839\n",
      "N_mined_hypos of type neg 18438\n",
      "N_mined_hypos of type neg 17878\n",
      "N_mined_hypos of type neg 18863\n",
      "Mining 10000 intersections\n",
      "Mining 10000 intersections\n",
      "Mining 10000 intersections\n",
      "N_mined_hypos of type neg 18805\n",
      "N_mined_hypos of type neg 17910\n",
      "N_mined_hypos of type neg 17288\n",
      "N_mined_hypos of type neg 16722\n",
      "Mining 10000 intersections\n",
      "N_mined_hypos of type neg 17447\n",
      "N_mined_hypos of type neg 18313\n",
      "Mining 10000 intersections\n",
      "Mining 10000 intersections\n",
      "N_mined_hypos of type neg 18379\n",
      "Mining 10000 intersections\n"
     ]
    },
    {
     "name": "stderr",
     "output_type": "stream",
     "text": [
      "/home/autodeploy/.local/lib/python3.5/site-packages/ipykernel_launcher.py:35: RuntimeWarning: All-NaN slice encountered\n",
      "/home/autodeploy/.local/lib/python3.5/site-packages/ipykernel_launcher.py:36: RuntimeWarning: All-NaN slice encountered\n"
     ]
    },
    {
     "name": "stdout",
     "output_type": "stream",
     "text": [
      "N_mined_hypos of type neg 17826\n",
      "Mining 10000 intersections\n",
      "Mining 10000 intersections\n",
      "Mining 10000 intersections\n",
      "N_mined_hypos of type neg 17367\n",
      "N_mined_hypos of type neg 17060\n",
      "Mining 10000 intersections\n",
      "Mining 10000 intersections\n",
      "Mining 10000 intersections\n",
      "Mining 10000 intersections\n",
      "Mining 10000 intersections\n",
      "Mining 10000 intersections\n",
      "Mining 10000 intersections\n",
      "Mining 10000 intersections\n",
      "Mining 10000 intersections\n",
      "N_mined_hypos of type neg 17787\n",
      "Mining 10000 intersections\n",
      "N_mined_hypos of type neg 16819\n",
      "Mining 10000 intersections\n",
      "Mining 10000 intersections\n"
     ]
    },
    {
     "name": "stderr",
     "output_type": "stream",
     "text": [
      "/home/autodeploy/.local/lib/python3.5/site-packages/ipykernel_launcher.py:35: RuntimeWarning: All-NaN slice encountered\n",
      "/home/autodeploy/.local/lib/python3.5/site-packages/ipykernel_launcher.py:36: RuntimeWarning: All-NaN slice encountered\n"
     ]
    },
    {
     "name": "stdout",
     "output_type": "stream",
     "text": [
      "N_mined_hypos of type neg 17940\n",
      "N_mined_hypos of type neg 18289\n",
      "N_mined_hypos of type neg 18978\n",
      "N_mined_hypos of type neg 18287\n",
      "Mining 10000 intersections\n"
     ]
    },
    {
     "name": "stderr",
     "output_type": "stream",
     "text": [
      "/home/autodeploy/.local/lib/python3.5/site-packages/ipykernel_launcher.py:35: RuntimeWarning: All-NaN slice encountered\n"
     ]
    },
    {
     "name": "stdout",
     "output_type": "stream",
     "text": [
      "Mining 10000 intersections\n"
     ]
    },
    {
     "name": "stderr",
     "output_type": "stream",
     "text": [
      "/home/autodeploy/.local/lib/python3.5/site-packages/ipykernel_launcher.py:36: RuntimeWarning: All-NaN slice encountered\n",
      "/home/autodeploy/.local/lib/python3.5/site-packages/ipykernel_launcher.py:35: RuntimeWarning: All-NaN slice encountered\n"
     ]
    },
    {
     "name": "stdout",
     "output_type": "stream",
     "text": [
      "N_mined_hypos of type neg 17678\n",
      "N_mined_hypos of type neg 17943\n"
     ]
    },
    {
     "name": "stderr",
     "output_type": "stream",
     "text": [
      "/home/autodeploy/.local/lib/python3.5/site-packages/ipykernel_launcher.py:36: RuntimeWarning: All-NaN slice encountered\n"
     ]
    },
    {
     "name": "stdout",
     "output_type": "stream",
     "text": [
      "Mining 10000 intersections\n",
      "Mining 10000 intersections\n"
     ]
    },
    {
     "name": "stderr",
     "output_type": "stream",
     "text": [
      "/home/autodeploy/.local/lib/python3.5/site-packages/ipykernel_launcher.py:35: RuntimeWarning: All-NaN slice encountered\n",
      "/home/autodeploy/.local/lib/python3.5/site-packages/ipykernel_launcher.py:36: RuntimeWarning: All-NaN slice encountered\n"
     ]
    },
    {
     "name": "stdout",
     "output_type": "stream",
     "text": [
      "N_mined_hypos of type neg 17494\n",
      "Mining 10000 intersections\n",
      "N_mined_hypos of type neg 18201\n",
      "N_mined_hypos of type neg 17905\n",
      "Mining 10000 intersections\n",
      "Mining 10000 intersections\n",
      "Mining 10000 intersections\n",
      "N_mined_hypos of type neg 17854\n",
      "Mining 10000 intersections\n",
      "Mining 10000 intersections\n",
      "N_mined_hypos of type neg 17269\n",
      "Mining 10000 intersections\n",
      "Mining 10000 intersections\n",
      "N_mined_hypos of type neg 18941\n",
      "Mining 10000 intersections\n",
      "N_mined_hypos of type neg 17888\n",
      "N_mined_hypos of type neg 18854\n",
      "Mining 10000 intersections\n",
      "Mining 10000 intersections\n",
      "N_mined_hypos of type neg 18377\n",
      "Mining 10000 intersections\n",
      "N_mined_hypos of type neg 18812\n",
      "N_mined_hypos of type neg 17748\n",
      "Mining 10000 intersections\n",
      "Mining 10000 intersections\n",
      "Mining 10000 intersections\n",
      "Mining 10000 intersections\n",
      "Mining 10000 intersections\n",
      "Mining 10000 intersections\n"
     ]
    },
    {
     "name": "stderr",
     "output_type": "stream",
     "text": [
      "/home/autodeploy/.local/lib/python3.5/site-packages/ipykernel_launcher.py:35: RuntimeWarning: All-NaN slice encountered\n",
      "/home/autodeploy/.local/lib/python3.5/site-packages/ipykernel_launcher.py:36: RuntimeWarning: All-NaN slice encountered\n"
     ]
    },
    {
     "name": "stdout",
     "output_type": "stream",
     "text": [
      "Mining 10000 intersections\n",
      "Mining 10000 intersections\n"
     ]
    },
    {
     "name": "stderr",
     "output_type": "stream",
     "text": [
      "/home/autodeploy/.local/lib/python3.5/site-packages/ipykernel_launcher.py:35: RuntimeWarning: All-NaN slice encountered\n",
      "/home/autodeploy/.local/lib/python3.5/site-packages/ipykernel_launcher.py:36: RuntimeWarning: All-NaN slice encountered\n"
     ]
    },
    {
     "name": "stdout",
     "output_type": "stream",
     "text": [
      "N_mined_hypos of type neg 8711\n",
      "Mining 10000 intersections\n",
      "N_mined_hypos of type neg 8200\n",
      "Mining 10000 intersections\n",
      "N_mined_hypos of type neg 8601\n",
      "Mining 10000 intersections\n",
      "N_mined_hypos of type neg 8694\n",
      "Mining 10000 intersections\n",
      "N_mined_hypos of type neg 8552\n",
      "Mining 10000 intersections\n",
      "N_mined_hypos of type neg 8699\n",
      "Mining 10000 intersections\n",
      "N_mined_hypos of type neg 7388\n",
      "Mining 10000 intersections\n",
      "N_mined_hypos of type neg 7929\n",
      "Mining 10000 intersections\n",
      "N_mined_hypos of type neg 7618\n",
      "Mining 10000 intersections\n",
      "N_mined_hypos of type neg 8460\n",
      "Mining 10000 intersections\n",
      "N_mined_hypos of type neg 8319\n",
      "N_mined_hypos of type neg 7535\n",
      "Mining 10000 intersections\n",
      "Mining 10000 intersections\n",
      "N_mined_hypos of type neg 6201\n",
      "Mining 10000 intersections\n",
      "N_mined_hypos of type neg 7856\n",
      "N_mined_hypos of type neg 8706\n",
      "Mining 10000 intersections\n",
      "Mining 10000 intersections\n",
      "N_mined_hypos of type neg 7724\n",
      "Mining 10000 intersections\n",
      "N_mined_hypos of type neg 8147\n",
      "Mining 10000 intersections\n",
      "N_mined_hypos of type neg 8022\n",
      "Mining 10000 intersections\n",
      "N_mined_hypos of type neg 7221\n",
      "Mining 10000 intersections\n",
      "N_mined_hypos of type neg 8436\n",
      "Mining 10000 intersections\n",
      "N_mined_hypos of type neg 6331\n",
      "Mining 10000 intersections\n",
      "N_mined_hypos of type neg 9424\n",
      "Mining 10000 intersections\n",
      "N_mined_hypos of type neg 7287\n",
      "Mining 10000 intersections\n",
      "N_mined_hypos of type neg 8621\n",
      "Mining 10000 intersections\n",
      "N_mined_hypos of type neg 7003\n",
      "Mining 10000 intersections\n",
      "N_mined_hypos of type neg 8061\n",
      "Mining 10000 intersections\n",
      "N_mined_hypos of type neg 6777\n",
      "Mining 10000 intersections\n",
      "N_mined_hypos of type neg 6578\n",
      "Mining 10000 intersections\n",
      "N_mined_hypos of type neg 7437\n",
      "N_mined_hypos of type neg 8461\n",
      "Mining 10000 intersections\n",
      "Mining 10000 intersections\n",
      "N_mined_hypos of type neg 8207\n",
      "N_mined_hypos of type neg 8377\n",
      "Mining 10000 intersections\n",
      "Mining 10000 intersections\n",
      "N_mined_hypos of type neg 8132\n",
      "Mining 10000 intersections\n",
      "N_mined_hypos of type neg 7793\n",
      "Mining 10000 intersections\n",
      "N_mined_hypos of type neg 7955\n",
      "Mining 10000 intersections\n",
      "N_mined_hypos of type neg 8508\n",
      "Mining 10000 intersections\n",
      "N_mined_hypos of type neg 8267\n",
      "Mining 10000 intersections\n",
      "N_mined_hypos of type neg 9350\n",
      "Mining 10000 intersections\n",
      "N_mined_hypos of type neg 6911\n",
      "Mining 10000 intersections\n",
      "N_mined_hypos of type neg 8387\n",
      "Mining 10000 intersections\n",
      "N_mined_hypos of type neg 7637\n",
      "Mining 10000 intersections\n",
      "N_mined_hypos of type neg 5956\n",
      "Mining 10000 intersections\n",
      "N_mined_hypos of type neg 7629\n",
      "Mining 10000 intersections\n",
      "N_mined_hypos of type neg 7184\n",
      "Mining 10000 intersections\n",
      "N_mined_hypos of type neg 7501\n",
      "Mining 10000 intersections\n",
      "N_mined_hypos of type neg 6685\n",
      "Mining 10000 intersections\n",
      "N_mined_hypos of type neg 6166\n",
      "Mining 10000 intersections\n",
      "N_mined_hypos of type neg 5645\n",
      "Mining 10000 intersections\n",
      "N_mined_hypos of type neg 7792\n",
      "Mining 10000 intersections\n"
     ]
    },
    {
     "name": "stderr",
     "output_type": "stream",
     "text": [
      "/home/autodeploy/.local/lib/python3.5/site-packages/ipykernel_launcher.py:35: RuntimeWarning: All-NaN slice encountered\n",
      "/home/autodeploy/.local/lib/python3.5/site-packages/ipykernel_launcher.py:36: RuntimeWarning: All-NaN slice encountered\n"
     ]
    },
    {
     "name": "stdout",
     "output_type": "stream",
     "text": [
      "N_mined_hypos of type neg 6474\n",
      "Mining 10000 intersections\n",
      "N_mined_hypos of type neg 5162\n",
      "Mining 10000 intersections\n",
      "N_mined_hypos of type neg 16430\n",
      "N_mined_hypos of type neg 9195\n",
      "Mining 10000 intersections\n",
      "N_mined_hypos of type neg 5321\n",
      "Mining 10000 intersections\n",
      "N_mined_hypos of type neg 5970\n",
      "Mining 10000 intersections\n",
      "N_mined_hypos of type neg 4897\n",
      "Mining 10000 intersections\n",
      "Mining 10000 intersections\n"
     ]
    },
    {
     "name": "stderr",
     "output_type": "stream",
     "text": [
      "/home/autodeploy/.local/lib/python3.5/site-packages/ipykernel_launcher.py:35: RuntimeWarning: All-NaN slice encountered\n",
      "/home/autodeploy/.local/lib/python3.5/site-packages/ipykernel_launcher.py:36: RuntimeWarning: All-NaN slice encountered\n"
     ]
    },
    {
     "name": "stdout",
     "output_type": "stream",
     "text": [
      "N_mined_hypos of type neg 17383\n",
      "N_mined_hypos of type neg 7908\n",
      "Mining 10000 intersections\n",
      "N_mined_hypos of type neg 7744\n",
      "Mining 10000 intersections\n",
      "Mining 10000 intersections\n",
      "N_mined_hypos of type neg 8293\n",
      "Mining 10000 intersections\n",
      "N_mined_hypos of type neg 7540\n",
      "Mining 10000 intersections\n",
      "N_mined_hypos of type neg 8097\n",
      "Mining 10000 intersections\n",
      "N_mined_hypos of type neg 17189\n",
      "N_mined_hypos of type neg 17089\n",
      "N_mined_hypos of type neg 17449\n",
      "Mining 10000 intersections\n",
      "N_mined_hypos of type neg 17315\n",
      "N_mined_hypos of type neg 15699\n",
      "N_mined_hypos of type neg 16709\n",
      "N_mined_hypos of type neg 15013\n",
      "N_mined_hypos of type neg 17477\n",
      "Mining 10000 intersections\n",
      "Mining 10000 intersections\n",
      "Mining 10000 intersections\n",
      "Mining 10000 intersections\n",
      "N_mined_hypos of type neg 14831\n",
      "N_mined_hypos of type neg 15479\n",
      "N_mined_hypos of type neg 15937\n",
      "Mining 10000 intersections\n",
      "N_mined_hypos of type neg 12401\n",
      "N_mined_hypos of type neg 12722\n",
      "Mining 10000 intersections\n",
      "Mining 10000 intersections\n",
      "Mining 10000 intersections\n",
      "N_mined_hypos of type neg 14505\n",
      "N_mined_hypos of type neg 16932\n",
      "Mining 10000 intersections\n",
      "N_mined_hypos of type neg 14827\n",
      "N_mined_hypos of type neg 16891\n",
      "N_mined_hypos of type neg 16247\n",
      "Mining 10000 intersections\n",
      "Mining 10000 intersections\n"
     ]
    },
    {
     "name": "stderr",
     "output_type": "stream",
     "text": [
      "/home/autodeploy/.local/lib/python3.5/site-packages/ipykernel_launcher.py:35: RuntimeWarning: All-NaN slice encountered\n",
      "/home/autodeploy/.local/lib/python3.5/site-packages/ipykernel_launcher.py:36: RuntimeWarning: All-NaN slice encountered\n"
     ]
    },
    {
     "name": "stdout",
     "output_type": "stream",
     "text": [
      "Mining 10000 intersections\n"
     ]
    },
    {
     "name": "stderr",
     "output_type": "stream",
     "text": [
      "/home/autodeploy/.local/lib/python3.5/site-packages/ipykernel_launcher.py:35: RuntimeWarning: All-NaN slice encountered\n",
      "/home/autodeploy/.local/lib/python3.5/site-packages/ipykernel_launcher.py:36: RuntimeWarning: All-NaN slice encountered\n"
     ]
    },
    {
     "name": "stdout",
     "output_type": "stream",
     "text": [
      "N_mined_hypos of type neg 15354\n",
      "N_mined_hypos of type neg 14565\n",
      "N_mined_hypos of type neg 15973\n",
      "Mining 10000 intersections\n",
      "N_mined_hypos of type neg 16230\n"
     ]
    },
    {
     "name": "stderr",
     "output_type": "stream",
     "text": [
      "/home/autodeploy/.local/lib/python3.5/site-packages/ipykernel_launcher.py:35: RuntimeWarning: All-NaN slice encountered\n",
      "/home/autodeploy/.local/lib/python3.5/site-packages/ipykernel_launcher.py:36: RuntimeWarning: All-NaN slice encountered\n"
     ]
    },
    {
     "name": "stdout",
     "output_type": "stream",
     "text": [
      "Mining 10000 intersections\n",
      "Mining 10000 intersections\n",
      "N_mined_hypos of type neg 18838\n"
     ]
    },
    {
     "name": "stderr",
     "output_type": "stream",
     "text": [
      "/home/autodeploy/.local/lib/python3.5/site-packages/ipykernel_launcher.py:35: RuntimeWarning: All-NaN slice encountered\n"
     ]
    },
    {
     "name": "stdout",
     "output_type": "stream",
     "text": [
      "Mining 10000 intersections\n"
     ]
    },
    {
     "name": "stderr",
     "output_type": "stream",
     "text": [
      "/home/autodeploy/.local/lib/python3.5/site-packages/ipykernel_launcher.py:36: RuntimeWarning: All-NaN slice encountered\n"
     ]
    },
    {
     "name": "stdout",
     "output_type": "stream",
     "text": [
      "Mining 10000 intersections\n",
      "N_mined_hypos of type neg 13589\n",
      "N_mined_hypos of type neg 13967\n",
      "N_mined_hypos of type neg 17266\n",
      "N_mined_hypos of type neg 13176\n",
      "Mining 10000 intersections\n",
      "N_mined_hypos of type neg 16251\n",
      "Mining 10000 intersections\n",
      "N_mined_hypos of type neg 16480\n",
      "Mining 10000 intersections\n",
      "N_mined_hypos of type neg 15610\n",
      "Mining 10000 intersections\n",
      "Mining 10000 intersections\n",
      "N_mined_hypos of type neg 17009\n",
      "Mining 10000 intersections\n",
      "N_mined_hypos of type neg 16451\n",
      "N_mined_hypos of type neg 17028\n",
      "Mining 10000 intersections\n",
      "Mining 10000 intersections\n",
      "Mining 10000 intersections\n",
      "Mining 10000 intersections\n",
      "Mining 10000 intersections\n",
      "Mining 10000 intersections\n",
      "N_mined_hypos of type neg 16758\n",
      "N_mined_hypos of type neg 16684\n",
      "N_mined_hypos of type neg 14392\n",
      "Mining 10000 intersections\n",
      "Mining 10000 intersections\n",
      "Mining 10000 intersections\n",
      "N_mined_hypos of type neg 18700\n",
      "N_mined_hypos of type neg 11941\n",
      "Mining 10000 intersections\n",
      "N_mined_hypos of type neg 15910\n",
      "N_mined_hypos of type neg 7114\n",
      "Mining 10000 intersections\n",
      "Mining 10000 intersections\n",
      "N_mined_hypos of type neg 13356\n",
      "N_mined_hypos of type neg 15230\n",
      "N_mined_hypos of type neg 13857\n",
      "Mining 10000 intersections\n",
      "N_mined_hypos of type neg 11381\n"
     ]
    },
    {
     "name": "stderr",
     "output_type": "stream",
     "text": [
      "/home/autodeploy/.local/lib/python3.5/site-packages/ipykernel_launcher.py:35: RuntimeWarning: All-NaN slice encountered\n"
     ]
    },
    {
     "name": "stdout",
     "output_type": "stream",
     "text": [
      "N_mined_hypos of type neg 15282\n"
     ]
    },
    {
     "name": "stderr",
     "output_type": "stream",
     "text": [
      "/home/autodeploy/.local/lib/python3.5/site-packages/ipykernel_launcher.py:36: RuntimeWarning: All-NaN slice encountered\n"
     ]
    },
    {
     "name": "stdout",
     "output_type": "stream",
     "text": [
      "N_mined_hypos of type neg 12352\n",
      "N_mined_hypos of type neg 14978\n",
      "N_mined_hypos of type neg 11879\n",
      "Mining 10000 intersections\n",
      "N_mined_hypos of type neg 15695\n",
      "N_mined_hypos of type neg 10711\n",
      "Mining 10000 intersections\n",
      "N_mined_hypos of type neg 9814\n",
      "Mining 10000 intersections\n",
      "N_mined_hypos of type neg 10277\n",
      "N_mined_hypos of type neg 18398\n",
      "N_mined_hypos of type neg 12927\n",
      "N_mined_hypos of type neg 7337\n",
      "Mining 10000 intersections\n",
      "Mining 10000 intersections\n",
      "Mining 10000 intersections\n",
      "Mining 10000 intersections\n",
      "Mining 10000 intersections\n",
      "Mining 10000 intersections\n",
      "Mining 10000 intersections\n",
      "N_mined_hypos of type neg 5358\n",
      "Mining 10000 intersections\n",
      "Mining 10000 intersections\n",
      "Mining 10000 intersections\n",
      "Mining 10000 intersections\n",
      "Mining 10000 intersections\n",
      "Mining 10000 intersections\n",
      "N_mined_hypos of type neg 15805\n",
      "Mining 10000 intersections\n"
     ]
    },
    {
     "name": "stderr",
     "output_type": "stream",
     "text": [
      "/home/autodeploy/.local/lib/python3.5/site-packages/ipykernel_launcher.py:35: RuntimeWarning: All-NaN slice encountered\n"
     ]
    },
    {
     "name": "stdout",
     "output_type": "stream",
     "text": [
      "N_mined_hypos of type neg 6240\n",
      "Mining 10000 intersections\n",
      "Mining 10000 intersections\n"
     ]
    },
    {
     "name": "stderr",
     "output_type": "stream",
     "text": [
      "/home/autodeploy/.local/lib/python3.5/site-packages/ipykernel_launcher.py:36: RuntimeWarning: All-NaN slice encountered\n"
     ]
    },
    {
     "name": "stdout",
     "output_type": "stream",
     "text": [
      "Mining 10000 intersections\n",
      "N_mined_hypos of type neg 15509\n",
      "N_mined_hypos of type neg 16170\n",
      "N_mined_hypos of type neg 5628\n",
      "Mining 10000 intersections\n",
      "N_mined_hypos of type neg 15100\n",
      "N_mined_hypos of type neg 16612\n",
      "Mining 10000 intersections\n",
      "Mining 10000 intersections\n",
      "Mining 10000 intersections\n",
      "N_mined_hypos of type neg 6876\n",
      "Mining 10000 intersections\n",
      "Mining 10000 intersections\n",
      "Mining 10000 intersections\n",
      "Mining 10000 intersections\n",
      "N_mined_hypos of type neg 5943\n",
      "N_mined_hypos of type neg 7623\n",
      "Mining 10000 intersections\n",
      "N_mined_hypos of type neg 4390\n",
      "Mining 10000 intersections\n",
      "N_mined_hypos of type neg 4653\n",
      "Mining 10000 intersections\n",
      "N_mined_hypos of type neg 6591\n",
      "Mining 10000 intersections\n",
      "N_mined_hypos of type neg 4135\n",
      "Mining 10000 intersections\n",
      "N_mined_hypos of type neg 4970\n",
      "Mining 10000 intersections\n",
      "N_mined_hypos of type neg 7081\n",
      "Mining 10000 intersections\n",
      "N_mined_hypos of type neg 3978\n",
      "Mining 10000 intersections\n",
      "N_mined_hypos of type neg 6717\n",
      "Mining 10000 intersections\n",
      "N_mined_hypos of type neg 7225\n",
      "Mining 10000 intersections\n",
      "N_mined_hypos of type neg 8178\n",
      "Mining 10000 intersections\n",
      "N_mined_hypos of type neg 7777\n",
      "Mining 10000 intersections\n",
      "N_mined_hypos of type neg 9184\n",
      "Mining 10000 intersections\n",
      "N_mined_hypos of type neg 6463\n",
      "Mining 10000 intersections\n",
      "N_mined_hypos of type neg 5091\n",
      "Mining 10000 intersections\n",
      "N_mined_hypos of type neg 3250\n",
      "Mining 10000 intersections\n",
      "N_mined_hypos of type neg 4712\n",
      "Mining 10000 intersections\n",
      "N_mined_hypos of type neg 7976\n",
      "Mining 10000 intersections\n",
      "N_mined_hypos of type neg 14669\n",
      "N_mined_hypos of type neg 3842\n",
      "N_mined_hypos of type neg 5400\n",
      "Mining 10000 intersections\n",
      "Mining 10000 intersections\n",
      "N_mined_hypos of type neg 4106\n",
      "Mining 10000 intersections\n",
      "N_mined_hypos of type neg 14224\n",
      "N_mined_hypos of type neg 3011\n",
      "Mining 10000 intersections\n",
      "N_mined_hypos of type neg 6904\n",
      "N_mined_hypos of type neg 5725\n",
      "Mining 10000 intersections\n",
      "Mining 10000 intersections\n",
      "N_mined_hypos of type neg 6127\n",
      "Mining 10000 intersections\n",
      "Mining 10000 intersections\n",
      "N_mined_hypos of type neg 4390\n",
      "N_mined_hypos of type neg 9156\n",
      "Mining 10000 intersections\n",
      "Mining 10000 intersections\n",
      "N_mined_hypos of type neg 3496\n",
      "Mining 10000 intersections\n",
      "N_mined_hypos of type neg 7501\n",
      "Mining 10000 intersections\n",
      "N_mined_hypos of type neg 7157\n",
      "Mining 10000 intersections\n",
      "N_mined_hypos of type neg 10666\n",
      "Mining 10000 intersections\n",
      "N_mined_hypos of type neg 6598\n",
      "Mining 10000 intersections\n",
      "N_mined_hypos of type neg 5793\n",
      "Mining 10000 intersections\n",
      "Mining 10000 intersections\n",
      "N_mined_hypos of type neg 4981\n",
      "Mining 10000 intersections\n",
      "N_mined_hypos of type neg 15233\n",
      "N_mined_hypos of type neg 3833\n",
      "Mining 10000 intersections\n",
      "N_mined_hypos of type neg 11169\n",
      "N_mined_hypos of type neg 6200\n",
      "Mining 10000 intersections\n",
      "N_mined_hypos of type neg 2312\n",
      "Mining 10000 intersections\n",
      "N_mined_hypos of type neg 5414\n",
      "Mining 10000 intersections\n",
      "N_mined_hypos of type neg 4573\n",
      "Mining 10000 intersections\n",
      "N_mined_hypos of type neg 8775\n",
      "N_mined_hypos of type neg 3071\n",
      "Mining 10000 intersections\n",
      "N_mined_hypos of type neg 3489\n",
      "Mining 10000 intersections\n",
      "Mining 10000 intersections\n",
      "N_mined_hypos of type neg 11896\n",
      "N_mined_hypos of type neg 4159\n",
      "Mining 10000 intersections\n",
      "N_mined_hypos of type neg 2575\n",
      "Mining 10000 intersections\n",
      "Mining 10000 intersections\n",
      "N_mined_hypos of type neg 12419\n",
      "N_mined_hypos of type neg 2027\n",
      "Mining 10000 intersections\n",
      "N_mined_hypos of type neg 2829\n",
      "Mining 10000 intersections\n",
      "N_mined_hypos of type neg 7215\n",
      "Mining 10000 intersections\n",
      "Mining 10000 intersections\n",
      "N_mined_hypos of type neg 6424\n",
      "Mining 10000 intersections\n",
      "N_mined_hypos of type neg 13697\n",
      "N_mined_hypos of type neg 7778\n",
      "Mining 10000 intersections\n",
      "N_mined_hypos of type neg 6852\n",
      "Mining 10000 intersections\n",
      "N_mined_hypos of type neg 5944\n",
      "Mining 10000 intersections\n",
      "N_mined_hypos of type neg 5100\n",
      "Mining 10000 intersections\n",
      "N_mined_hypos of type neg 9126\n",
      "Mining 10000 intersections\n",
      "Mining 10000 intersections\n",
      "Mining 10000 intersections\n",
      "N_mined_hypos of type neg 5501\n",
      "Mining 10000 intersections\n",
      "N_mined_hypos of type neg 9263\n",
      "N_mined_hypos of type neg 10001\n",
      "N_mined_hypos of type neg 4644\n",
      "Mining 10000 intersections\n",
      "Mining 10000 intersections\n",
      "Mining 10000 intersections\n",
      "Mining 10000 intersections\n",
      "N_mined_hypos of type neg 9409\n",
      "N_mined_hypos of type neg 13051\n",
      "N_mined_hypos of type neg 7883\n",
      "N_mined_hypos of type neg 8286\n",
      "N_mined_hypos of type neg 5976\n",
      "Mining 10000 intersections\n"
     ]
    },
    {
     "name": "stderr",
     "output_type": "stream",
     "text": [
      "/home/autodeploy/.local/lib/python3.5/site-packages/ipykernel_launcher.py:35: RuntimeWarning: All-NaN slice encountered\n"
     ]
    },
    {
     "name": "stdout",
     "output_type": "stream",
     "text": [
      "N_mined_hypos of type neg 14127\n"
     ]
    },
    {
     "name": "stderr",
     "output_type": "stream",
     "text": [
      "/home/autodeploy/.local/lib/python3.5/site-packages/ipykernel_launcher.py:36: RuntimeWarning: All-NaN slice encountered\n"
     ]
    },
    {
     "name": "stdout",
     "output_type": "stream",
     "text": [
      "Mining 10000 intersections\n",
      "N_mined_hypos of type neg 13489\n",
      "Mining 10000 intersections\n",
      "Mining 10000 intersections\n"
     ]
    },
    {
     "name": "stderr",
     "output_type": "stream",
     "text": [
      "/home/autodeploy/.local/lib/python3.5/site-packages/ipykernel_launcher.py:35: RuntimeWarning: All-NaN slice encountered\n",
      "/home/autodeploy/.local/lib/python3.5/site-packages/ipykernel_launcher.py:35: RuntimeWarning: All-NaN slice encountered\n",
      "/home/autodeploy/.local/lib/python3.5/site-packages/ipykernel_launcher.py:36: RuntimeWarning: All-NaN slice encountered\n",
      "/home/autodeploy/.local/lib/python3.5/site-packages/ipykernel_launcher.py:36: RuntimeWarning: All-NaN slice encountered\n"
     ]
    },
    {
     "name": "stdout",
     "output_type": "stream",
     "text": [
      "Mining 10000 intersections\n"
     ]
    },
    {
     "name": "stderr",
     "output_type": "stream",
     "text": [
      "/home/autodeploy/.local/lib/python3.5/site-packages/ipykernel_launcher.py:35: RuntimeWarning: All-NaN slice encountered\n",
      "/home/autodeploy/.local/lib/python3.5/site-packages/ipykernel_launcher.py:36: RuntimeWarning: All-NaN slice encountered\n"
     ]
    },
    {
     "name": "stdout",
     "output_type": "stream",
     "text": [
      "N_mined_hypos of type neg 15545\n",
      "N_mined_hypos of type neg 12877\n",
      "N_mined_hypos of type neg 18400\n",
      "N_mined_hypos of type neg 16280\n",
      "N_mined_hypos of type neg 6423\n",
      "N_mined_hypos of type neg 8195\n",
      "N_mined_hypos of type neg 14610\n",
      "N_mined_hypos of type neg 7026\n",
      "Mining 10000 intersections\n",
      "N_mined_hypos of type neg 3783\n",
      "Mining 10000 intersections\n",
      "Mining 10000 intersections\n",
      "N_mined_hypos of type neg 10110\n",
      "N_mined_hypos of type neg 7561\n",
      "Mining 10000 intersections\n",
      "Mining 10000 intersections\n",
      "Mining 10000 intersections\n",
      "Mining 10000 intersections\n",
      "Mining 10000 intersections\n",
      "Mining 10000 intersections\n",
      "Mining 10000 intersections\n",
      "Mining 10000 intersections\n",
      "Mining 10000 intersections\n",
      "N_mined_hypos of type neg 4154\n",
      "Mining 10000 intersections\n",
      "N_mined_hypos of type neg 13752\n",
      "N_mined_hypos of type neg 14359\n",
      "Mining 10000 intersections\n",
      "N_mined_hypos of type neg 15044\n",
      "N_mined_hypos of type neg 10744\n",
      "N_mined_hypos of type neg 16028\n",
      "N_mined_hypos of type neg 11493\n",
      "N_mined_hypos of type neg 2990\n",
      "Mining 10000 intersections\n",
      "N_mined_hypos of type neg 2594\n",
      "Mining 10000 intersections\n",
      "Mining 10000 intersections\n",
      "N_mined_hypos of type neg 8736\n",
      "N_mined_hypos of type neg 18280\n",
      "Mining 10000 intersections\n",
      "Mining 10000 intersections\n",
      "N_mined_hypos of type neg 12250\n",
      "Mining 10000 intersections\n",
      "Mining 10000 intersections\n",
      "Mining 10000 intersections\n",
      "Mining 10000 intersections\n",
      "N_mined_hypos of type neg 3316\n",
      "Mining 10000 intersections\n",
      "Mining 10000 intersections\n",
      "Mining 10000 intersections\n"
     ]
    },
    {
     "name": "stderr",
     "output_type": "stream",
     "text": [
      "/home/autodeploy/.local/lib/python3.5/site-packages/ipykernel_launcher.py:35: RuntimeWarning: All-NaN slice encountered\n",
      "/home/autodeploy/.local/lib/python3.5/site-packages/ipykernel_launcher.py:36: RuntimeWarning: All-NaN slice encountered\n"
     ]
    },
    {
     "name": "stdout",
     "output_type": "stream",
     "text": [
      "N_mined_hypos of type neg 1764\n",
      "Mining 10000 intersections\n",
      "N_mined_hypos of type neg 13139\n",
      "N_mined_hypos of type neg 11604\n",
      "N_mined_hypos of type neg 9946\n",
      "N_mined_hypos of type neg 4487\n",
      "N_mined_hypos of type neg 7640\n",
      "Mining 10000 intersections\n",
      "N_mined_hypos of type neg 10744\n",
      "Mining 10000 intersections\n",
      "Mining 10000 intersections\n",
      "Mining 10000 intersections\n",
      "N_mined_hypos of type neg 8411\n",
      "N_mined_hypos of type neg 1933\n",
      "Mining 10000 intersections\n",
      "N_mined_hypos of type neg 4105\n",
      "N_mined_hypos of type neg 2307\n",
      "Mining 10000 intersections\n",
      "Mining 10000 intersections\n",
      "N_mined_hypos of type neg 6173\n",
      "N_mined_hypos of type neg 6455\n",
      "Mining 10000 intersections\n",
      "N_mined_hypos of type neg 5035\n",
      "N_mined_hypos of type neg 12448\n",
      "N_mined_hypos of type neg 9231\n",
      "N_mined_hypos of type neg 1514\n",
      "Mining 10000 intersections\n",
      "Mining 10000 intersections\n",
      "N_mined_hypos of type neg 14469\n",
      "N_mined_hypos of type neg 6875\n",
      "Mining 10000 intersections\n",
      "Mining 10000 intersections\n",
      "N_mined_hypos of type neg 5597\n",
      "N_mined_hypos of type neg 10203\n",
      "Mining 10000 intersections\n",
      "Mining 10000 intersections\n",
      "N_mined_hypos of type neg 15588\n",
      "N_mined_hypos of type neg 13609\n",
      "Mining 10000 intersections\n",
      "N_mined_hypos of type neg 11941\n",
      "N_mined_hypos of type neg 1384\n",
      "Mining 10000 intersections\n",
      "Mining 10000 intersections\n",
      "Mining 10000 intersections\n",
      "Mining 10000 intersections\n"
     ]
    },
    {
     "name": "stderr",
     "output_type": "stream",
     "text": [
      "/home/autodeploy/.local/lib/python3.5/site-packages/ipykernel_launcher.py:35: RuntimeWarning: All-NaN slice encountered\n",
      "/home/autodeploy/.local/lib/python3.5/site-packages/ipykernel_launcher.py:36: RuntimeWarning: All-NaN slice encountered\n"
     ]
    },
    {
     "name": "stdout",
     "output_type": "stream",
     "text": [
      "Mining 10000 intersections\n",
      "N_mined_hypos of type neg 11009\n",
      "N_mined_hypos of type neg 12809\n",
      "Mining 10000 intersections\n",
      "N_mined_hypos of type neg 9138\n",
      "Mining 10000 intersections\n",
      "N_mined_hypos of type neg 18249\n",
      "N_mined_hypos of type neg 9206\n",
      "Mining 10000 intersections\n",
      "Mining 10000 intersections\n",
      "Mining 10000 intersections\n",
      "Mining 10000 intersections\n",
      "Mining 10000 intersections\n",
      "Mining 10000 intersections\n",
      "Mining 10000 intersections\n",
      "N_mined_hypos of type neg 4849\n",
      "Mining 10000 intersections\n",
      "N_mined_hypos of type neg 5862\n",
      "Mining 10000 intersections\n",
      "N_mined_hypos of type neg 1955\n",
      "Mining 10000 intersections\n",
      "N_mined_hypos of type neg 5913\n",
      "N_mined_hypos of type neg 5459\n",
      "N_mined_hypos of type neg 7741\n",
      "Mining 10000 intersections\n",
      "Mining 10000 intersections\n",
      "N_mined_hypos of type neg 6972\n",
      "Mining 10000 intersections\n",
      "N_mined_hypos of type neg 1175\n",
      "Mining 10000 intersections\n",
      "N_mined_hypos of type neg 3011\n",
      "Mining 10000 intersections\n",
      "N_mined_hypos of type neg 2231\n",
      "Mining 10000 intersections\n",
      "N_mined_hypos of type neg 5236\n",
      "N_mined_hypos of type neg 2579\n",
      "Mining 10000 intersections\n",
      "N_mined_hypos of type neg 1434\n",
      "Mining 10000 intersections\n",
      "N_mined_hypos of type neg 7526\n",
      "Mining 10000 intersections\n",
      "Mining 10000 intersections\n",
      "N_mined_hypos of type neg 4446\n",
      "Mining 10000 intersections\n",
      "Mining 10000 intersections\n",
      "N_mined_hypos of type neg 3795\n",
      "Mining 10000 intersections\n",
      "N_mined_hypos of type neg 3396\n",
      "Mining 10000 intersections\n",
      "N_mined_hypos of type neg 8981\n",
      "Mining 10000 intersections\n",
      "N_mined_hypos of type neg 940\n",
      "Mining 10000 intersections\n",
      "N_mined_hypos of type neg 8277\n",
      "N_mined_hypos of type neg 1636\n",
      "Mining 10000 intersections\n",
      "N_mined_hypos of type neg 997\n",
      "Mining 10000 intersections\n",
      "N_mined_hypos of type neg 3626\n",
      "Mining 10000 intersections\n",
      "Mining 10000 intersections\n",
      "N_mined_hypos of type neg 7378\n",
      "Mining 10000 intersections\n",
      "N_mined_hypos of type neg 6507\n",
      "Mining 10000 intersections\n",
      "N_mined_hypos of type neg 5520\n",
      "Mining 10000 intersections\n",
      "N_mined_hypos of type neg 6576\n",
      "N_mined_hypos of type neg 4838\n",
      "Mining 10000 intersections\n",
      "N_mined_hypos of type neg 3534\n",
      "N_mined_hypos of type neg 5962\n",
      "Mining 10000 intersections\n",
      "Mining 10000 intersections\n",
      "Mining 10000 intersections\n",
      "N_mined_hypos of type neg 4319\n",
      "Mining 10000 intersections\n",
      "N_mined_hypos of type neg 2023\n",
      "Mining 10000 intersections\n",
      "N_mined_hypos of type neg 2842\n",
      "Mining 10000 intersections\n",
      "N_mined_hypos of type neg 3013\n",
      "N_mined_hypos of type neg 3948\n",
      "Mining 10000 intersections\n",
      "N_mined_hypos of type neg 640\n",
      "Mining 10000 intersections\n",
      "N_mined_hypos of type neg 3223\n",
      "Mining 10000 intersections\n",
      "N_mined_hypos of type neg 2343\n",
      "Mining 10000 intersections\n",
      "Mining 10000 intersections\n",
      "N_mined_hypos of type neg 4705\n"
     ]
    },
    {
     "name": "stderr",
     "output_type": "stream",
     "text": [
      "/home/autodeploy/.local/lib/python3.5/site-packages/ipykernel_launcher.py:35: RuntimeWarning: All-NaN slice encountered\n",
      "/home/autodeploy/.local/lib/python3.5/site-packages/ipykernel_launcher.py:36: RuntimeWarning: All-NaN slice encountered\n"
     ]
    },
    {
     "name": "stdout",
     "output_type": "stream",
     "text": [
      "N_mined_hypos of type neg 2744\n",
      "Mining 10000 intersections\n"
     ]
    },
    {
     "name": "stderr",
     "output_type": "stream",
     "text": [
      "/home/autodeploy/.local/lib/python3.5/site-packages/ipykernel_launcher.py:35: RuntimeWarning: All-NaN slice encountered\n",
      "/home/autodeploy/.local/lib/python3.5/site-packages/ipykernel_launcher.py:36: RuntimeWarning: All-NaN slice encountered\n"
     ]
    },
    {
     "name": "stdout",
     "output_type": "stream",
     "text": [
      "N_mined_hypos of type neg 1458\n",
      "Mining 10000 intersections\n",
      "Mining 10000 intersections\n"
     ]
    },
    {
     "name": "stderr",
     "output_type": "stream",
     "text": [
      "/home/autodeploy/.local/lib/python3.5/site-packages/ipykernel_launcher.py:35: RuntimeWarning: All-NaN slice encountered\n",
      "/home/autodeploy/.local/lib/python3.5/site-packages/ipykernel_launcher.py:36: RuntimeWarning: All-NaN slice encountered\n"
     ]
    },
    {
     "name": "stdout",
     "output_type": "stream",
     "text": [
      "N_mined_hypos of type neg 12818\n",
      "N_mined_hypos of type neg 1676\n",
      "N_mined_hypos of type neg 972\n",
      "Mining 10000 intersections\n",
      "Mining 10000 intersections\n",
      "N_mined_hypos of type neg 1099\n",
      "Mining 10000 intersections\n",
      "N_mined_hypos of type neg 826\n",
      "Mining 10000 intersections\n",
      "N_mined_hypos of type neg 18269\n",
      "N_mined_hypos of type neg 6232\n",
      "Mining 10000 intersections\n",
      "Mining 10000 intersections\n",
      "N_mined_hypos of type neg 577\n",
      "Mining 10000 intersections\n",
      "Mining 10000 intersections\n",
      "N_mined_hypos of type neg 7152\n",
      "Mining 10000 intersections\n",
      "N_mined_hypos of type neg 4936\n",
      "Mining 10000 intersections\n",
      "N_mined_hypos of type neg 5594\n",
      "Mining 10000 intersections\n",
      "N_mined_hypos of type neg 8940\n",
      "Mining 10000 intersections\n",
      "N_mined_hypos of type neg 4161\n",
      "Mining 10000 intersections\n",
      "N_mined_hypos of type neg 3689\n",
      "Mining 10000 intersections\n",
      "N_mined_hypos of type neg 3097\n",
      "Mining 10000 intersections\n",
      "N_mined_hypos of type neg 9792\n",
      "N_mined_hypos of type neg 2185\n",
      "Mining 10000 intersections\n",
      "N_mined_hypos of type neg 2595\n",
      "Mining 10000 intersections\n",
      "N_mined_hypos of type neg 1454\n",
      "Mining 10000 intersections\n",
      "N_mined_hypos of type neg 1839\n",
      "Mining 10000 intersections\n",
      "N_mined_hypos of type neg 11776\n",
      "N_mined_hypos of type neg 3904\n",
      "N_mined_hypos of type neg 14768\n",
      "N_mined_hypos of type neg 13812\n",
      "N_mined_hypos of type neg 488\n",
      "Mining 10000 intersections\n",
      "N_mined_hypos of type neg 6000\n",
      "Mining 10000 intersections\n",
      "Mining 10000 intersections\n",
      "N_mined_hypos of type neg 7371\n",
      "Mining 10000 intersections\n",
      "N_mined_hypos of type neg 15500\n",
      "N_mined_hypos of type neg 5216\n",
      "Mining 10000 intersections\n",
      "Mining 10000 intersections\n",
      "N_mined_hypos of type neg 4538\n",
      "N_mined_hypos of type neg 2331\n",
      "Mining 10000 intersections\n",
      "N_mined_hypos of type neg 725\n",
      "Mining 10000 intersections\n",
      "N_mined_hypos of type neg 1821\n",
      "Mining 10000 intersections\n",
      "Mining 10000 intersections\n",
      "Mining 10000 intersections\n",
      "N_mined_hypos of type neg 2841\n",
      "Mining 10000 intersections\n",
      "N_mined_hypos of type neg 10948\n",
      "Mining 10000 intersections\n",
      "Mining 10000 intersections\n",
      "Mining 10000 intersections\n",
      "N_mined_hypos of type neg 1213\n",
      "Mining 10000 intersections\n",
      "N_mined_hypos of type neg 1991\n",
      "N_mined_hypos of type neg 11939\n",
      "N_mined_hypos of type neg 990\n",
      "Mining 10000 intersections\n",
      "N_mined_hypos of type neg 8881\n",
      "Mining 10000 intersections\n",
      "N_mined_hypos of type neg 10912\n",
      "N_mined_hypos of type neg 630\n",
      "Mining 10000 intersections\n",
      "Mining 10000 intersections\n",
      "N_mined_hypos of type neg 392\n",
      "Mining 10000 intersections\n",
      "N_mined_hypos of type neg 7675\n",
      "Mining 10000 intersections\n",
      "N_mined_hypos of type neg 335\n",
      "Mining 10000 intersections\n",
      "Mining 10000 intersections\n",
      "N_mined_hypos of type neg 17969\n",
      "N_mined_hypos of type neg 9695\n",
      "N_mined_hypos of type neg 3328\n",
      "N_mined_hypos of type neg 6854\n",
      "Mining 10000 intersections\n",
      "Mining 10000 intersections\n",
      "N_mined_hypos of type neg 5090\n",
      "Mining 10000 intersections\n",
      "Mining 10000 intersections\n",
      "N_mined_hypos of type neg 13182\n",
      "Mining 10000 intersections\n",
      "Mining 10000 intersections\n",
      "N_mined_hypos of type neg 5911\n",
      "Mining 10000 intersections\n",
      "Mining 10000 intersections\n",
      "N_mined_hypos of type neg 5554\n",
      "N_mined_hypos of type neg 6957\n",
      "Mining 10000 intersections\n",
      "N_mined_hypos of type neg 4065\n",
      "N_mined_hypos of type neg 8547\n",
      "Mining 10000 intersections\n",
      "Mining 10000 intersections\n",
      "Mining 10000 intersections\n",
      "Mining 10000 intersections\n",
      "N_mined_hypos of type neg 8960\n",
      "Mining 10000 intersections\n",
      "N_mined_hypos of type neg 6418\n",
      "N_mined_hypos of type neg 1369\n",
      "Mining 10000 intersections\n",
      "N_mined_hypos of type neg 4711\n",
      "Mining 10000 intersections\n",
      "Mining 10000 intersections\n",
      "N_mined_hypos of type neg 2905\n",
      "N_mined_hypos of type neg 12453\n",
      "N_mined_hypos of type neg 1888\n",
      "N_mined_hypos of type neg 2285\n",
      "N_mined_hypos of type neg 4399\n",
      "N_mined_hypos of type neg 1676\n",
      "Mining 10000 intersections\n",
      "Mining 10000 intersections\n",
      "Mining 10000 intersections\n",
      "Mining 10000 intersections\n"
     ]
    },
    {
     "name": "stderr",
     "output_type": "stream",
     "text": [
      "/home/autodeploy/.local/lib/python3.5/site-packages/ipykernel_launcher.py:35: RuntimeWarning: All-NaN slice encountered\n",
      "/home/autodeploy/.local/lib/python3.5/site-packages/ipykernel_launcher.py:36: RuntimeWarning: All-NaN slice encountered\n"
     ]
    },
    {
     "name": "stdout",
     "output_type": "stream",
     "text": [
      "N_mined_hypos of type neg 3362\n",
      "N_mined_hypos of type neg 1163\n",
      "Mining 10000 intersections\n",
      "Mining 10000 intersections\n"
     ]
    },
    {
     "name": "stderr",
     "output_type": "stream",
     "text": [
      "/home/autodeploy/.local/lib/python3.5/site-packages/ipykernel_launcher.py:35: RuntimeWarning: All-NaN slice encountered\n",
      "/home/autodeploy/.local/lib/python3.5/site-packages/ipykernel_launcher.py:36: RuntimeWarning: All-NaN slice encountered\n"
     ]
    },
    {
     "name": "stdout",
     "output_type": "stream",
     "text": [
      "Mining 10000 intersections\n",
      "N_mined_hypos of type neg 9819\n",
      "N_mined_hypos of type neg 4326\n",
      "Mining 10000 intersections\n",
      "N_mined_hypos of type neg 14298\n",
      "Mining 10000 intersections\n",
      "N_mined_hypos of type neg 11159\n",
      "N_mined_hypos of type neg 3675\n",
      "Mining 10000 intersections\n",
      "N_mined_hypos of type neg 2089\n",
      "Mining 10000 intersections\n",
      "N_mined_hypos of type neg 17893\n",
      "N_mined_hypos of type neg 8356\n",
      "Mining 10000 intersections\n",
      "N_mined_hypos of type neg 6190\n",
      "Mining 10000 intersections\n",
      "Mining 10000 intersections\n",
      "N_mined_hypos of type neg 7363\n",
      "N_mined_hypos of type neg 1067\n",
      "Mining 10000 intersections\n",
      "N_mined_hypos of type neg 3674\n",
      "N_mined_hypos of type neg 2450\n",
      "Mining 10000 intersections\n",
      "N_mined_hypos of type neg 318\n",
      "Mining 10000 intersections\n",
      "Mining 10000 intersections\n",
      "Mining 10000 intersections\n",
      "N_mined_hypos of type neg 400\n",
      "Mining 10000 intersections\n",
      "Mining 10000 intersections\n",
      "N_mined_hypos of type neg 1054\n",
      "Mining 10000 intersections\n",
      "Mining 10000 intersections\n",
      "Mining 10000 intersections\n",
      "N_mined_hypos of type neg 2942\n",
      "N_mined_hypos of type neg 5260\n",
      "Mining 10000 intersections\n",
      "N_mined_hypos of type neg 3022\n",
      "N_mined_hypos of type neg 866\n",
      "Mining 10000 intersections\n",
      "Mining 10000 intersections\n",
      "Mining 10000 intersections\n",
      "N_mined_hypos of type neg 232\n",
      "Mining 10000 intersections\n",
      "N_mined_hypos of type neg 1352\n",
      "Mining 10000 intersections\n",
      "N_mined_hypos of type neg 847\n",
      "N_mined_hypos of type neg 1655\n",
      "Mining 10000 intersections\n",
      "Mining 10000 intersections\n",
      "N_mined_hypos of type neg 1942\n",
      "N_mined_hypos of type neg 1530\n",
      "N_mined_hypos of type neg 2437\n",
      "N_mined_hypos of type neg 484\n",
      "Mining 10000 intersections\n",
      "N_mined_hypos of type neg 193\n",
      "Mining 10000 intersections\n",
      "Mining 10000 intersections\n",
      "Mining 10000 intersections\n",
      "N_mined_hypos of type neg 700\n",
      "Mining 10000 intersections\n",
      "Mining 10000 intersections\n",
      "N_mined_hypos of type neg 8836\n",
      "Mining 10000 intersections\n",
      "N_mined_hypos of type neg 1260\n",
      "Mining 10000 intersections\n",
      "N_mined_hypos of type neg 10109\n",
      "N_mined_hypos of type neg 5463\n",
      "Mining 10000 intersections\n",
      "N_mined_hypos of type neg 1577\n",
      "Mining 10000 intersections\n",
      "N_mined_hypos of type neg 727\n",
      "Mining 10000 intersections\n"
     ]
    },
    {
     "name": "stderr",
     "output_type": "stream",
     "text": [
      "/home/autodeploy/.local/lib/python3.5/site-packages/ipykernel_launcher.py:35: RuntimeWarning: All-NaN slice encountered\n"
     ]
    },
    {
     "name": "stdout",
     "output_type": "stream",
     "text": [
      "N_mined_hypos of type neg 6693\n",
      "Mining 10000 intersections\n"
     ]
    },
    {
     "name": "stderr",
     "output_type": "stream",
     "text": [
      "/home/autodeploy/.local/lib/python3.5/site-packages/ipykernel_launcher.py:36: RuntimeWarning: All-NaN slice encountered\n"
     ]
    },
    {
     "name": "stdout",
     "output_type": "stream",
     "text": [
      "N_mined_hypos of type neg 4707\n",
      "Mining 10000 intersections\n",
      "N_mined_hypos of type neg 1949\n",
      "Mining 10000 intersections\n",
      "Mining 10000 intersections\n",
      "N_mined_hypos of type neg 2554\n",
      "Mining 10000 intersections\n",
      "N_mined_hypos of type neg 3834\n",
      "Mining 10000 intersections\n",
      "N_mined_hypos of type neg 11744\n",
      "N_mined_hypos of type neg 3146\n",
      "Mining 10000 intersections\n",
      "N_mined_hypos of type neg 1200\n",
      "Mining 10000 intersections\n",
      "N_mined_hypos of type neg 14026\n",
      "Mining 10000 intersections\n",
      "N_mined_hypos of type neg 948\n",
      "Mining 10000 intersections\n",
      "N_mined_hypos of type neg 730\n",
      "Mining 10000 intersections\n",
      "N_mined_hypos of type neg 127\n",
      "Mining 10000 intersections\n",
      "N_mined_hypos of type neg 17902\n",
      "N_mined_hypos of type neg 499\n",
      "Mining 10000 intersections\n",
      "N_mined_hypos of type neg 451\n",
      "Mining 10000 intersections\n",
      "Mining 10000 intersections\n",
      "N_mined_hypos of type neg 300\n",
      "Mining 10000 intersections\n",
      "Mining 10000 intersections\n",
      "N_mined_hypos of type neg 8782\n",
      "N_mined_hypos of type neg 249\n",
      "Mining 10000 intersections\n",
      "N_mined_hypos of type neg 6457\n",
      "Mining 10000 intersections\n",
      "N_mined_hypos of type neg 91\n",
      "Mining 10000 intersections\n",
      "N_mined_hypos of type neg 5134\n",
      "Mining 10000 intersections\n",
      "Mining 10000 intersections\n",
      "N_mined_hypos of type neg 605\n",
      "Mining 10000 intersections\n",
      "N_mined_hypos of type neg 170\n",
      "Mining 10000 intersections\n",
      "N_mined_hypos of type neg 2593\n",
      "Mining 10000 intersections\n",
      "N_mined_hypos of type neg 8842\n",
      "Mining 10000 intersections\n",
      "N_mined_hypos of type neg 4190\n",
      "Mining 10000 intersections\n",
      "N_mined_hypos of type neg 2165\n",
      "N_mined_hypos of type neg 7401\n",
      "N_mined_hypos of type neg 3333\n",
      "Mining 10000 intersections\n",
      "Mining 10000 intersections\n",
      "N_mined_hypos of type neg 5003\n",
      "N_mined_hypos of type neg 834\n",
      "Mining 10000 intersections\n",
      "N_mined_hypos of type neg 4118\n",
      "N_mined_hypos of type neg 1575\n",
      "Mining 10000 intersections\n",
      "N_mined_hypos of type neg 289\n",
      "Mining 10000 intersections\n",
      "Mining 10000 intersections\n",
      "Mining 10000 intersections\n",
      "Mining 10000 intersections\n",
      "N_mined_hypos of type neg 2017\n",
      "Mining 10000 intersections\n",
      "N_mined_hypos of type neg 1177\n",
      "Mining 10000 intersections\n",
      "N_mined_hypos of type neg 2693\n",
      "N_mined_hypos of type neg 402\n",
      "N_mined_hypos of type neg 660\n",
      "Mining 10000 intersections\n",
      "Mining 10000 intersections\n",
      "Mining 10000 intersections\n",
      "N_mined_hypos of type neg 877\n",
      "Mining 10000 intersections\n",
      "N_mined_hypos of type neg 477\n",
      "N_mined_hypos of type neg 344\n",
      "Mining 10000 intersections\n",
      "Mining 10000 intersections\n",
      "N_mined_hypos of type neg 1355\n",
      "N_mined_hypos of type neg 80\n",
      "Mining 10000 intersections\n",
      "Mining 10000 intersections\n",
      "N_mined_hypos of type neg 463\n",
      "Mining 10000 intersections\n",
      "N_mined_hypos of type neg 6162\n",
      "N_mined_hypos of type neg 189\n",
      "Mining 10000 intersections\n",
      "N_mined_hypos of type neg 62\n",
      "Mining 10000 intersections\n",
      "N_mined_hypos of type neg 73\n",
      "Mining 10000 intersections\n",
      "N_mined_hypos of type neg 11082\n",
      "N_mined_hypos of type neg 9249\n",
      "N_mined_hypos of type neg 1708\n",
      "N_mined_hypos of type neg 8763\n",
      "Mining 10000 intersections\n",
      "Mining 10000 intersections\n",
      "N_mined_hypos of type neg 6229\n",
      "Mining 10000 intersections\n",
      "N_mined_hypos of type neg 137\n",
      "Mining 10000 intersections\n",
      "Mining 10000 intersections\n",
      "N_mined_hypos of type neg 17658\n",
      "N_mined_hypos of type neg 3280\n",
      "N_mined_hypos of type neg 989\n",
      "N_mined_hypos of type neg 4710\n",
      "Mining 10000 intersections\n",
      "Mining 10000 intersections\n",
      "N_mined_hypos of type neg 13310\n",
      "Mining 10000 intersections\n",
      "Mining 10000 intersections\n",
      "Mining 10000 intersections\n",
      "Mining 10000 intersections\n",
      "N_mined_hypos of type neg 3171\n",
      "N_mined_hypos of type neg 3748\n",
      "Mining 10000 intersections\n",
      "N_mined_hypos of type neg 3969\n",
      "Mining 10000 intersections\n",
      "N_mined_hypos of type neg 2812\n",
      "Mining 10000 intersections\n",
      "Mining 10000 intersections\n",
      "Mining 10000 intersections\n",
      "N_mined_hypos of type neg 5123\n",
      "N_mined_hypos of type neg 2454\n",
      "N_mined_hypos of type neg 7684\n",
      "Mining 10000 intersections\n",
      "Mining 10000 intersections\n",
      "N_mined_hypos of type neg 267\n",
      "Mining 10000 intersections\n",
      "N_mined_hypos of type neg 2160\n",
      "Mining 10000 intersections\n",
      "Mining 10000 intersections\n",
      "N_mined_hypos of type neg 6230\n",
      "N_mined_hypos of type neg 1623\n",
      "Mining 10000 intersections\n",
      "N_mined_hypos of type neg 1910\n",
      "N_mined_hypos of type neg 885\n",
      "N_mined_hypos of type neg 1037\n",
      "Mining 10000 intersections\n",
      "Mining 10000 intersections\n",
      "N_mined_hypos of type neg 1426\n",
      "Mining 10000 intersections\n",
      "Mining 10000 intersections\n",
      "N_mined_hypos of type neg 611\n",
      "Mining 10000 intersections\n",
      "Mining 10000 intersections\n",
      "N_mined_hypos of type neg 492\n",
      "N_mined_hypos of type neg 17647\n",
      "Mining 10000 intersections\n",
      "N_mined_hypos of type neg 882\n",
      "Mining 10000 intersections\n",
      "N_mined_hypos of type neg 47\n",
      "Mining 10000 intersections\n",
      "N_mined_hypos of type neg 202\n",
      "Mining 10000 intersections\n",
      "N_mined_hypos of type neg 1163\n",
      "Mining 10000 intersections\n",
      "N_mined_hypos of type neg 121\n",
      "Mining 10000 intersections\n",
      "Mining 10000 intersections\n",
      "N_mined_hypos of type neg 13027\n",
      "N_mined_hypos of type neg 10282\n",
      "N_mined_hypos of type neg 147\n",
      "Mining 10000 intersections\n",
      "N_mined_hypos of type neg 560\n",
      "N_mined_hypos of type neg 323\n",
      "Mining 10000 intersections\n",
      "Mining 10000 intersections\n",
      "N_mined_hypos of type neg 5223\n",
      "N_mined_hypos of type neg 605\n",
      "Mining 10000 intersections\n",
      "N_mined_hypos of type neg 8350\n",
      "N_mined_hypos of type neg 6677\n",
      "Mining 10000 intersections\n",
      "Mining 10000 intersections\n",
      "N_mined_hypos of type neg 297\n",
      "Mining 10000 intersections\n",
      "N_mined_hypos of type neg 429\n",
      "Mining 10000 intersections\n",
      "Mining 10000 intersections\n",
      "N_mined_hypos of type neg 3151\n",
      "Mining 10000 intersections\n",
      "N_mined_hypos of type neg 68\n",
      "Mining 10000 intersections\n",
      "N_mined_hypos of type neg 230\n",
      "Mining 10000 intersections\n",
      "N_mined_hypos of type neg 2360\n",
      "Mining 10000 intersections\n",
      "N_mined_hypos of type neg 1734\n",
      "N_mined_hypos of type neg 4036\n",
      "Mining 10000 intersections\n",
      "Mining 10000 intersections\n",
      "Mining 10000 intersections\n",
      "N_mined_hypos of type neg 179\n",
      "N_mined_hypos of type neg 1283\n",
      "Mining 10000 intersections\n",
      "N_mined_hypos of type neg 687\n",
      "Mining 10000 intersections\n",
      "Mining 10000 intersections\n",
      "Mining 10000 intersections\n",
      "N_mined_hypos of type neg 929\n",
      "N_mined_hypos of type neg 125\n",
      "N_mined_hypos of type neg 139\n",
      "Mining 10000 intersections\n",
      "Mining 10000 intersections\n",
      "Mining 10000 intersections\n",
      "N_mined_hypos of type neg 379\n",
      "Mining 10000 intersections\n",
      "N_mined_hypos of type neg 39\n",
      "Mining 10000 intersections\n",
      "N_mined_hypos of type neg 261\n",
      "Mining 10000 intersections\n",
      "N_mined_hypos of type neg 32\n",
      "Mining 10000 intersections\n",
      "N_mined_hypos of type neg 1797\n",
      "Mining 10000 intersections\n",
      "N_mined_hypos of type neg 2438\n",
      "Mining 10000 intersections\n",
      "N_mined_hypos of type neg 12434\n",
      "N_mined_hypos of type neg 17529\n",
      "N_mined_hypos of type neg 8683\n",
      "N_mined_hypos of type neg 3272\n",
      "N_mined_hypos of type neg 9512\n",
      "Mining 10000 intersections\n",
      "Mining 10000 intersections\n",
      "N_mined_hypos of type neg 5924\n",
      "Mining 10000 intersections\n",
      "N_mined_hypos of type neg 860\n",
      "Mining 10000 intersections\n",
      "N_mined_hypos of type neg 7444\n",
      "N_mined_hypos of type neg 5733\n",
      "N_mined_hypos of type neg 4402\n",
      "Mining 10000 intersections\n",
      "Mining 10000 intersections\n",
      "Mining 10000 intersections\n",
      "Mining 10000 intersections\n",
      "Mining 10000 intersections\n",
      "N_mined_hypos of type neg 1235\n",
      "Mining 10000 intersections\n",
      "Mining 10000 intersections\n",
      "N_mined_hypos of type neg 185\n",
      "Mining 10000 intersections\n",
      "N_mined_hypos of type neg 543\n",
      "Mining 10000 intersections\n",
      "N_mined_hypos of type neg 4397\n",
      "N_mined_hypos of type neg 2331\n",
      "Mining 10000 intersections\n",
      "Mining 10000 intersections\n",
      "N_mined_hypos of type neg 3308\n",
      "N_mined_hypos of type neg 35\n",
      "Mining 10000 intersections\n",
      "N_mined_hypos of type neg 294\n",
      "Mining 10000 intersections\n",
      "N_mined_hypos of type neg 434\n",
      "Mining 10000 intersections\n",
      "Mining 10000 intersections\n",
      "N_mined_hypos of type neg 59\n",
      "Mining 10000 intersections\n",
      "N_mined_hypos of type neg 145\n",
      "Mining 10000 intersections\n",
      "N_mined_hypos of type neg 16\n",
      "Mining 10000 intersections\n",
      "N_mined_hypos of type neg 109\n",
      "Mining 10000 intersections\n",
      "N_mined_hypos of type neg 17\n",
      "Mining 10000 intersections\n",
      "N_mined_hypos of type neg 92\n",
      "Mining 10000 intersections\n",
      "N_mined_hypos of type neg 2880\n",
      "Mining 10000 intersections\n",
      "N_mined_hypos of type neg 1749\n",
      "N_mined_hypos of type neg 12\n",
      "Mining 10000 intersections\n",
      "N_mined_hypos of type neg 234\n",
      "Mining 10000 intersections\n",
      "Mining 10000 intersections\n",
      "N_mined_hypos of type neg 8736\n",
      "Mining 10000 intersections\n",
      "N_mined_hypos of type neg 293\n",
      "Mining 10000 intersections\n"
     ]
    },
    {
     "name": "stdout",
     "output_type": "stream",
     "text": [
      "N_mined_hypos of type neg 5744\n",
      "Mining 10000 intersections\n",
      "N_mined_hypos of type neg 627\n",
      "N_mined_hypos of type neg 1218\n",
      "Mining 10000 intersections\n",
      "N_mined_hypos of type neg 597\n",
      "Mining 10000 intersections\n",
      "Mining 10000 intersections\n",
      "N_mined_hypos of type neg 4023\n",
      "Mining 10000 intersections\n",
      "N_mined_hypos of type neg 137\n",
      "Mining 10000 intersections\n",
      "N_mined_hypos of type neg 438\n",
      "Mining 10000 intersections\n",
      "N_mined_hypos of type neg 36\n",
      "Mining 10000 intersections\n",
      "N_mined_hypos of type neg 1377\n",
      "Mining 10000 intersections\n",
      "N_mined_hypos of type neg 2011\n",
      "Mining 10000 intersections\n",
      "N_mined_hypos of type neg 934\n",
      "Mining 10000 intersections\n",
      "N_mined_hypos of type neg 869\n",
      "Mining 10000 intersections\n",
      "N_mined_hypos of type neg 54\n",
      "Mining 10000 intersections\n",
      "N_mined_hypos of type neg 14\n",
      "Mining 10000 intersections\n",
      "N_mined_hypos of type neg 120\n",
      "Mining 10000 intersections\n",
      "N_mined_hypos of type neg 58\n",
      "Mining 10000 intersections\n",
      "N_mined_hypos of type neg 8\n",
      "Mining 10000 intersections\n",
      "N_mined_hypos of type neg 391\n",
      "Mining 10000 intersections\n",
      "N_mined_hypos of type neg 6585\n",
      "N_mined_hypos of type neg 10\n",
      "Mining 10000 intersections\n",
      "N_mined_hypos of type neg 291\n",
      "Mining 10000 intersections\n",
      "N_mined_hypos of type neg 4\n",
      "Mining 10000 intersections\n",
      "N_mined_hypos of type neg 35\n",
      "Mining 10000 intersections\n",
      "N_mined_hypos of type neg 5333\n",
      "Mining 10000 intersections\n",
      "N_mined_hypos of type neg 179\n",
      "Mining 10000 intersections\n",
      "N_mined_hypos of type neg 3672\n",
      "Mining 10000 intersections\n",
      "Mining 10000 intersections\n",
      "N_mined_hypos of type neg 71\n",
      "Mining 10000 intersections\n",
      "N_mined_hypos of type neg 8590\n",
      "Mining 10000 intersections\n",
      "N_mined_hypos of type neg 4863\n",
      "N_mined_hypos of type neg 3543\n",
      "Mining 10000 intersections\n",
      "Mining 10000 intersections\n",
      "N_mined_hypos of type neg 2448\n",
      "Mining 10000 intersections\n",
      "N_mined_hypos of type neg 1716\n",
      "N_mined_hypos of type neg 11896\n",
      "Mining 10000 intersections\n",
      "N_mined_hypos of type neg 1133\n",
      "N_mined_hypos of type neg 17418\n",
      "Mining 10000 intersections\n",
      "N_mined_hypos of type neg 2514\n",
      "N_mined_hypos of type neg 8772\n",
      "Mining 10000 intersections\n",
      "Mining 10000 intersections\n",
      "N_mined_hypos of type neg 1058\n",
      "Mining 10000 intersections\n",
      "N_mined_hypos of type neg 1681\n",
      "Mining 10000 intersections\n",
      "Mining 10000 intersections\n",
      "Mining 10000 intersections\n",
      "N_mined_hypos of type neg 682\n",
      "Mining 10000 intersections\n",
      "N_mined_hypos of type neg 388\n",
      "Mining 10000 intersections\n",
      "N_mined_hypos of type neg 24\n",
      "N_mined_hypos of type neg 423\n",
      "Mining 10000 intersections\n",
      "Mining 10000 intersections\n",
      "N_mined_hypos of type neg 1\n",
      "Mining 10000 intersections\n",
      "N_mined_hypos of type neg 274\n",
      "Mining 10000 intersections\n",
      "N_mined_hypos of type neg 159\n",
      "Mining 10000 intersections\n",
      "N_mined_hypos of type neg 267\n",
      "Mining 10000 intersections\n",
      "N_mined_hypos of type neg 114\n",
      "Mining 10000 intersections\n",
      "N_mined_hypos of type neg 73\n",
      "Mining 10000 intersections\n",
      "N_mined_hypos of type neg 600\n",
      "Mining 10000 intersections\n",
      "N_mined_hypos of type neg 113\n",
      "Mining 10000 intersections\n",
      "N_mined_hypos of type neg 40\n",
      "N_mined_hypos of type neg 819\n",
      "Mining 10000 intersections\n",
      "N_mined_hypos of type neg 54\n",
      "Mining 10000 intersections\n",
      "Mining 10000 intersections\n",
      "N_mined_hypos of type neg 35\n",
      "N_mined_hypos of type neg 8\n",
      "Mining 10000 intersections\n",
      "Mining 10000 intersections\n",
      "N_mined_hypos of type neg 27\n",
      "Mining 10000 intersections\n",
      "N_mined_hypos of type neg 195\n",
      "N_mined_hypos of type neg 2\n",
      "Mining 10000 intersections\n",
      "Mining 10000 intersections\n",
      "N_mined_hypos of type neg 12\n",
      "Mining 10000 intersections\n",
      "N_mined_hypos of type neg 5663\n",
      "N_mined_hypos of type neg 28\n",
      "Mining 10000 intersections\n",
      "Mining 10000 intersections\n",
      "N_mined_hypos of type neg 10\n",
      "Mining 10000 intersections\n",
      "N_mined_hypos of type neg 17448\n",
      "N_mined_hypos of type neg 8090\n",
      "N_mined_hypos of type neg 77\n",
      "Mining 10000 intersections\n",
      "N_mined_hypos of type neg 11431\n",
      "N_mined_hypos of type neg 1251\n",
      "Mining 10000 intersections\n",
      "Mining 10000 intersections\n",
      "N_mined_hypos of type neg 5225\n",
      "Mining 10000 intersections\n",
      "Mining 10000 intersections\n",
      "N_mined_hypos of type neg 133\n",
      "N_mined_hypos of type neg 2741\n",
      "Mining 10000 intersections\n",
      "N_mined_hypos of type neg 1851\n",
      "N_mined_hypos of type neg 4066\n",
      "Mining 10000 intersections\n",
      "Mining 10000 intersections\n",
      "Mining 10000 intersections\n",
      "N_mined_hypos of type neg 13\n",
      "Mining 10000 intersections\n",
      "Mining 10000 intersections\n",
      "N_mined_hypos of type neg 8638\n",
      "Mining 10000 intersections\n",
      "N_mined_hypos of type neg 17287\n",
      "N_mined_hypos of type neg 5\n",
      "Mining 10000 intersections\n",
      "N_mined_hypos of type neg 515\n",
      "N_mined_hypos of type neg 29\n",
      "Mining 10000 intersections\n",
      "N_mined_hypos of type neg 799\n",
      "Mining 10000 intersections\n",
      "Mining 10000 intersections\n",
      "N_mined_hypos of type neg 1306\n",
      "Mining 10000 intersections\n",
      "N_mined_hypos of type neg 20\n",
      "Mining 10000 intersections\n",
      "N_mined_hypos of type neg 244\n",
      "Mining 10000 intersections\n",
      "N_mined_hypos of type neg 3344\n",
      "N_mined_hypos of type neg 574\n",
      "Mining 10000 intersections\n",
      "Mining 10000 intersections\n",
      "Mining 10000 intersections\n",
      "N_mined_hypos of type neg 10728\n",
      "N_mined_hypos of type neg 801\n",
      "Mining 10000 intersections\n",
      "N_mined_hypos of type neg 90\n",
      "Mining 10000 intersections\n",
      "N_mined_hypos of type neg 1381\n",
      "N_mined_hypos of type neg 367\n",
      "N_mined_hypos of type neg 60\n",
      "Mining 10000 intersections\n",
      "Mining 10000 intersections\n",
      "Mining 10000 intersections\n",
      "N_mined_hypos of type neg 4934\n",
      "N_mined_hypos of type neg 7222\n",
      "N_mined_hypos of type neg 2136\n",
      "Mining 10000 intersections\n",
      "Mining 10000 intersections\n",
      "Mining 10000 intersections\n",
      "Mining 10000 intersections\n",
      "N_mined_hypos of type neg 291\n",
      "Mining 10000 intersections\n",
      "N_mined_hypos of type neg 2132\n",
      "Mining 10000 intersections\n",
      "N_mined_hypos of type neg 46\n",
      "Mining 10000 intersections\n",
      "N_mined_hypos of type neg 3306\n",
      "N_mined_hypos of type neg 169\n",
      "Mining 10000 intersections\n",
      "N_mined_hypos of type neg 65\n",
      "Mining 10000 intersections\n",
      "Mining 10000 intersections\n",
      "N_mined_hypos of type neg 13\n",
      "Mining 10000 intersections\n",
      "N_mined_hypos of type neg 10\n",
      "Mining 10000 intersections\n",
      "N_mined_hypos of type neg 847\n",
      "Mining 10000 intersections\n",
      "N_mined_hypos of type neg 2\n",
      "Mining 10000 intersections\n",
      "N_mined_hypos of type neg 2\n",
      "N_mined_hypos of type neg 3\n",
      "N_mined_hypos of type neg 313\n",
      "Mining 10000 intersections\n",
      "Mining 10000 intersections\n",
      "Mining 10000 intersections\n",
      "N_mined_hypos of type neg 527\n",
      "Mining 10000 intersections\n",
      "N_mined_hypos of type neg 1754\n",
      "Mining 10000 intersections\n",
      "N_mined_hypos of type neg 2\n",
      "Mining 10000 intersections\n",
      "N_mined_hypos of type neg 215\n",
      "Mining 10000 intersections\n",
      "N_mined_hypos of type neg 0\n",
      "Mining 10000 intersections\n",
      "N_mined_hypos of type neg 11\n",
      "Mining 10000 intersections\n",
      "N_mined_hypos of type neg 1\n",
      "Mining 10000 intersections\n",
      "N_mined_hypos of type neg 124\n",
      "Mining 10000 intersections\n",
      "N_mined_hypos of type neg 4\n",
      "Mining 10000 intersections\n",
      "N_mined_hypos of type neg 42\n",
      "Mining 10000 intersections\n",
      "N_mined_hypos of type neg 26\n",
      "Mining 10000 intersections\n",
      "N_mined_hypos of type neg 66\n",
      "N_mined_hypos of type neg 8647\n",
      "Mining 10000 intersections\n",
      "Mining 10000 intersections\n"
     ]
    },
    {
     "name": "stderr",
     "output_type": "stream",
     "text": [
      "/home/autodeploy/.local/lib/python3.5/site-packages/ipykernel_launcher.py:35: RuntimeWarning: All-NaN slice encountered\n"
     ]
    },
    {
     "name": "stdout",
     "output_type": "stream",
     "text": [
      "N_mined_hypos of type neg 2841\n",
      "Mining 10000 intersections\n"
     ]
    },
    {
     "name": "stderr",
     "output_type": "stream",
     "text": [
      "/home/autodeploy/.local/lib/python3.5/site-packages/ipykernel_launcher.py:36: RuntimeWarning: All-NaN slice encountered\n"
     ]
    },
    {
     "name": "stdout",
     "output_type": "stream",
     "text": [
      "N_mined_hypos of type neg 4925\n",
      "Mining 10000 intersections\n",
      "N_mined_hypos of type neg 10490\n",
      "N_mined_hypos of type neg 17\n",
      "Mining 10000 intersections\n",
      "N_mined_hypos of type neg 1027\n",
      "Mining 10000 intersections\n",
      "Mining 10000 intersections\n",
      "N_mined_hypos of type neg 8\n",
      "Mining 10000 intersections\n",
      "N_mined_hypos of type neg 341\n",
      "Mining 10000 intersections\n",
      "N_mined_hypos of type neg 588\n",
      "Mining 10000 intersections\n",
      "N_mined_hypos of type neg 2624\n",
      "N_mined_hypos of type neg 166\n",
      "Mining 10000 intersections\n",
      "N_mined_hypos of type neg 100\n",
      "Mining 10000 intersections\n",
      "Mining 10000 intersections\n",
      "N_mined_hypos of type neg 66\n",
      "Mining 10000 intersections\n",
      "N_mined_hypos of type neg 0\n",
      "Mining 10000 intersections\n",
      "N_mined_hypos of type neg 0\n",
      "N_mined_hypos of type neg 988\n",
      "Mining 10000 intersections\n",
      "Mining 10000 intersections\n",
      "N_mined_hypos of type neg 5\n",
      "Mining 10000 intersections\n",
      "N_mined_hypos of type neg 31\n",
      "Mining 10000 intersections\n",
      "N_mined_hypos of type neg 19\n",
      "Mining 10000 intersections\n",
      "N_mined_hypos of type neg 4\n",
      "Mining 10000 intersections\n",
      "N_mined_hypos of type neg 17276\n",
      "N_mined_hypos of type neg 57\n",
      "Mining 10000 intersections\n",
      "N_mined_hypos of type neg 2665\n",
      "Mining 10000 intersections\n",
      "N_mined_hypos of type neg 8562\n",
      "Mining 10000 intersections\n",
      "N_mined_hypos of type neg 0\n",
      "Mining 10000 intersections\n",
      "N_mined_hypos of type neg 0\n",
      "Mining 10000 intersections\n",
      "N_mined_hypos of type neg 190\n",
      "Mining 10000 intersections\n",
      "N_mined_hypos of type neg 32\n",
      "Mining 10000 intersections\n",
      "N_mined_hypos of type neg 6620\n",
      "N_mined_hypos of type neg 1613\n",
      "Mining 10000 intersections\n",
      "N_mined_hypos of type neg 780\n",
      "Mining 10000 intersections\n",
      "N_mined_hypos of type neg 1432\n",
      "Mining 10000 intersections\n",
      "Mining 10000 intersections\n",
      "N_mined_hypos of type neg 4735\n",
      "Mining 10000 intersections\n",
      "N_mined_hypos of type neg 4275\n",
      "N_mined_hypos of type neg 2\n",
      "Mining 10000 intersections\n",
      "N_mined_hypos of type neg 390\n",
      "N_mined_hypos of type neg 220\n",
      "Mining 10000 intersections\n",
      "Mining 10000 intersections\n",
      "Mining 10000 intersections\n",
      "N_mined_hypos of type neg 576\n",
      "Mining 10000 intersections\n",
      "Mining 10000 intersections\n",
      "N_mined_hypos of type neg 126\n",
      "Mining 10000 intersections\n",
      "N_mined_hypos of type neg 125\n",
      "Mining 10000 intersections\n",
      "N_mined_hypos of type neg 0\n",
      "Mining 10000 intersections\n",
      "N_mined_hypos of type neg 78\n",
      "Mining 10000 intersections\n",
      "N_mined_hypos of type neg 9\n",
      "Mining 10000 intersections\n",
      "N_mined_hypos of type neg 320\n",
      "Mining 10000 intersections\n",
      "N_mined_hypos of type neg 0\n",
      "Mining 10000 intersections\n",
      "N_mined_hypos of type neg 32\n",
      "Mining 10000 intersections\n",
      "N_mined_hypos of type neg 4\n",
      "Mining 10000 intersections\n",
      "N_mined_hypos of type neg 7\n",
      "Mining 10000 intersections\n",
      "N_mined_hypos of type neg 0\n",
      "Mining 10000 intersections\n",
      "N_mined_hypos of type neg 9\n",
      "Mining 10000 intersections\n",
      "N_mined_hypos of type neg 22\n",
      "N_mined_hypos of type neg 2\n",
      "Mining 10000 intersections\n",
      "Mining 10000 intersections\n"
     ]
    },
    {
     "name": "stderr",
     "output_type": "stream",
     "text": [
      "/home/autodeploy/.local/lib/python3.5/site-packages/ipykernel_launcher.py:35: RuntimeWarning: All-NaN slice encountered\n",
      "/home/autodeploy/.local/lib/python3.5/site-packages/ipykernel_launcher.py:36: RuntimeWarning: All-NaN slice encountered\n"
     ]
    },
    {
     "name": "stdout",
     "output_type": "stream",
     "text": [
      "N_mined_hypos of type neg 1\n",
      "Mining 10000 intersections\n",
      "N_mined_hypos of type neg 0\n",
      "Mining 10000 intersections\n",
      "N_mined_hypos of type neg 1\n",
      "Mining 10000 intersections\n",
      "N_mined_hypos of type neg 0\n",
      "Mining 10000 intersections\n",
      "N_mined_hypos of type neg 3557\n",
      "N_mined_hypos of type neg 0\n",
      "Mining 10000 intersections\n",
      "Mining 10000 intersections\n",
      "N_mined_hypos of type neg 8542\n",
      "Mining 10000 intersections\n",
      "N_mined_hypos of type neg 2241\n",
      "Mining 10000 intersections\n",
      "N_mined_hypos of type neg 4444\n",
      "Mining 10000 intersections\n",
      "N_mined_hypos of type neg 5843\n",
      "N_mined_hypos of type neg 17258\n",
      "N_mined_hypos of type neg 9775\n",
      "Mining 10000 intersections\n",
      "N_mined_hypos of type neg 4\n",
      "Mining 10000 intersections\n",
      "N_mined_hypos of type neg 2043\n",
      "N_mined_hypos of type neg 583\n",
      "Mining 10000 intersections\n",
      "Mining 10000 intersections\n",
      "Mining 10000 intersections\n",
      "Mining 10000 intersections\n",
      "N_mined_hypos of type neg 0\n",
      "Mining 10000 intersections\n",
      "N_mined_hypos of type neg 16\n",
      "Mining 10000 intersections\n",
      "N_mined_hypos of type neg 1172\n",
      "N_mined_hypos of type neg 684\n",
      "N_mined_hypos of type neg 262\n",
      "Mining 10000 intersections\n",
      "Mining 10000 intersections\n",
      "N_mined_hypos of type neg 5232\n",
      "Mining 10000 intersections\n",
      "N_mined_hypos of type neg 205\n",
      "Mining 10000 intersections\n",
      "N_mined_hypos of type neg 1153\n",
      "Mining 10000 intersections\n",
      "Mining 10000 intersections\n",
      "N_mined_hypos of type neg 5\n",
      "Mining 10000 intersections\n",
      "N_mined_hypos of type neg 52\n",
      "Mining 10000 intersections\n",
      "N_mined_hypos of type neg 70\n",
      "Mining 10000 intersections\n",
      "N_mined_hypos of type neg 363\n",
      "Mining 10000 intersections\n",
      "N_mined_hypos of type neg 118\n",
      "Mining 10000 intersections\n",
      "N_mined_hypos of type neg 112\n",
      "Mining 10000 intersections\n",
      "N_mined_hypos of type neg 0\n",
      "Mining 10000 intersections\n",
      "N_mined_hypos of type neg 12\n",
      "Mining 10000 intersections\n",
      "N_mined_hypos of type neg 0\n",
      "Mining 10000 intersections\n",
      "N_mined_hypos of type neg 27\n",
      "Mining 10000 intersections\n",
      "N_mined_hypos of type neg 53\n",
      "Mining 10000 intersections\n",
      "N_mined_hypos of type neg 150\n",
      "Mining 10000 intersections\n",
      "N_mined_hypos of type neg 3\n",
      "Mining 10000 intersections\n",
      "N_mined_hypos of type neg 17129\n",
      "N_mined_hypos of type neg 0\n",
      "Mining 10000 intersections\n",
      "N_mined_hypos of type neg 14\n",
      "Mining 10000 intersections\n",
      "N_mined_hypos of type neg 439\n",
      "Mining 10000 intersections\n",
      "N_mined_hypos of type neg 19\n",
      "Mining 10000 intersections\n",
      "N_mined_hypos of type neg 9455\n",
      "N_mined_hypos of type neg 4\n",
      "Mining 10000 intersections\n",
      "N_mined_hypos of type neg 2897\n",
      "N_mined_hypos of type neg 1588\n",
      "N_mined_hypos of type neg 0\n",
      "Mining 10000 intersections\n",
      "N_mined_hypos of type neg 826\n",
      "N_mined_hypos of type neg 2\n",
      "Mining 10000 intersections\n",
      "N_mined_hypos of type neg 13\n",
      "Mining 10000 intersections\n",
      "N_mined_hypos of type neg 8\n",
      "Mining 10000 intersections\n",
      "Mining 10000 intersections\n",
      "Mining 10000 intersections\n",
      "Mining 10000 intersections\n",
      "Mining 10000 intersections\n",
      "N_mined_hypos of type neg 250\n",
      "Mining 10000 intersections\n",
      "N_mined_hypos of type neg 1\n",
      "N_mined_hypos of type neg 20\n",
      "Mining 10000 intersections\n",
      "Mining 10000 intersections\n",
      "Mining 10000 intersections\n",
      "N_mined_hypos of type neg 3\n",
      "Mining 10000 intersections\n",
      "N_mined_hypos of type neg 0\n",
      "Mining 10000 intersections\n",
      "N_mined_hypos of type neg 0\n",
      "N_mined_hypos of type neg 0\n",
      "Mining 10000 intersections\n",
      "Mining 10000 intersections\n",
      "N_mined_hypos of type neg 0\n",
      "Mining 10000 intersections\n",
      "N_mined_hypos of type neg 2\n",
      "Mining 10000 intersections\n",
      "N_mined_hypos of type neg 1\n",
      "Mining 10000 intersections\n",
      "N_mined_hypos of type neg 0\n",
      "Mining 10000 intersections\n",
      "N_mined_hypos of type neg 0\n",
      "Mining 10000 intersections\n",
      "N_mined_hypos of type neg 8469\n",
      "Mining 10000 intersections\n",
      "N_mined_hypos of type neg 4252\n",
      "Mining 10000 intersections\n",
      "N_mined_hypos of type neg 1989\n",
      "Mining 10000 intersections\n",
      "N_mined_hypos of type neg 856\n",
      "Mining 10000 intersections\n",
      "N_mined_hypos of type neg 17128\n",
      "N_mined_hypos of type neg 1185\n",
      "N_mined_hypos of type neg 41\n",
      "Mining 10000 intersections\n",
      "N_mined_hypos of type neg 4441\n",
      "Mining 10000 intersections\n",
      "N_mined_hypos of type neg 8767\n",
      "N_mined_hypos of type neg 423\n",
      "Mining 10000 intersections\n",
      "Mining 10000 intersections\n",
      "N_mined_hypos of type neg 0\n",
      "Mining 10000 intersections\n",
      "N_mined_hypos of type neg 0\n",
      "Mining 10000 intersections\n",
      "Mining 10000 intersections\n",
      "Mining 10000 intersections\n",
      "N_mined_hypos of type neg 2291\n",
      "N_mined_hypos of type neg 3\n",
      "Mining 10000 intersections\n",
      "Mining 10000 intersections\n",
      "N_mined_hypos of type neg 210\n",
      "Mining 10000 intersections\n",
      "N_mined_hypos of type neg 16\n",
      "Mining 10000 intersections\n",
      "N_mined_hypos of type neg 78\n",
      "Mining 10000 intersections\n",
      "N_mined_hypos of type neg 6\n",
      "Mining 10000 intersections\n",
      "N_mined_hypos of type neg 559\n",
      "N_mined_hypos of type neg 1\n",
      "Mining 10000 intersections\n",
      "Mining 10000 intersections\n",
      "N_mined_hypos of type neg 0\n",
      "Mining 10000 intersections\n",
      "N_mined_hypos of type neg 0\n",
      "Mining 10000 intersections\n",
      "N_mined_hypos of type neg 137\n",
      "Mining 10000 intersections\n",
      "N_mined_hypos of type neg 0\n",
      "Mining 10000 intersections\n",
      "N_mined_hypos of type neg 0\n",
      "Mining 10000 intersections\n",
      "N_mined_hypos of type neg 1725\n",
      "N_mined_hypos of type neg 0\n",
      "Mining 10000 intersections\n",
      "Mining 10000 intersections\n",
      "N_mined_hypos of type neg 8557\n",
      "Mining 10000 intersections\n",
      "N_mined_hypos of type neg 315\n",
      "Mining 10000 intersections\n",
      "N_mined_hypos of type neg 31\n",
      "Mining 10000 intersections\n",
      "N_mined_hypos of type neg 4093\n",
      "Mining 10000 intersections\n",
      "N_mined_hypos of type neg 294\n",
      "Mining 10000 intersections\n",
      "N_mined_hypos of type neg 108\n",
      "Mining 10000 intersections\n",
      "N_mined_hypos of type neg 18\n",
      "Mining 10000 intersections\n",
      "N_mined_hypos of type neg 713\n",
      "N_mined_hypos of type neg 2\n",
      "Mining 10000 intersections\n",
      "Mining 10000 intersections\n",
      "N_mined_hypos of type neg 26\n",
      "Mining 10000 intersections\n",
      "N_mined_hypos of type neg 52\n",
      "Mining 10000 intersections\n",
      "N_mined_hypos of type neg 0\n",
      "Mining 10000 intersections\n",
      "N_mined_hypos of type neg 8530\n",
      "Mining 10000 intersections\n",
      "N_mined_hypos of type neg 0\n",
      "Mining 10000 intersections\n",
      "N_mined_hypos of type neg 3\n",
      "Mining 10000 intersections\n",
      "N_mined_hypos of type neg 3922\n",
      "Mining 10000 intersections\n",
      "N_mined_hypos of type neg 3\n",
      "N_mined_hypos of type neg 48\n",
      "N_mined_hypos of type neg 0\n",
      "Mining 10000 intersections\n",
      "Mining 10000 intersections\n",
      "N_mined_hypos of type neg 0\n",
      "Mining 10000 intersections\n",
      "Mining 10000 intersections\n",
      "N_mined_hypos of type neg 0\n",
      "Mining 10000 intersections\n",
      "N_mined_hypos of type neg 0\n",
      "Mining 10000 intersections\n",
      "N_mined_hypos of type neg 1\n",
      "Mining 10000 intersections\n",
      "N_mined_hypos of type neg 0\n",
      "Mining 10000 intersections\n",
      "N_mined_hypos of type neg 0\n",
      "Mining 10000 intersections\n",
      "N_mined_hypos of type neg 0\n",
      "Mining 10000 intersections\n",
      "N_mined_hypos of type neg 3\n",
      "Mining 10000 intersections\n",
      "N_mined_hypos of type neg 1391\n",
      "Mining 10000 intersections\n",
      "N_mined_hypos of type neg 0\n",
      "Mining 10000 intersections\n",
      "N_mined_hypos of type neg 1723\n",
      "N_mined_hypos of type neg 0\n",
      "Mining 10000 intersections\n",
      "Mining 10000 intersections\n",
      "N_mined_hypos of type neg 0\n",
      "Mining 10000 intersections\n",
      "N_mined_hypos of type neg 0\n",
      "Mining 10000 intersections\n",
      "N_mined_hypos of type neg 0\n",
      "Mining 10000 intersections\n",
      "N_mined_hypos of type neg 17038\n",
      "N_mined_hypos of type neg 8430\n",
      "N_mined_hypos of type neg 504\n",
      "Mining 10000 intersections\n",
      "N_mined_hypos of type neg 25\n",
      "Mining 10000 intersections\n",
      "N_mined_hypos of type neg 3886\n",
      "Mining 10000 intersections\n",
      "Mining 10000 intersections\n",
      "Mining 10000 intersections\n",
      "N_mined_hypos of type neg 84\n",
      "Mining 10000 intersections\n",
      "N_mined_hypos of type neg 2\n",
      "Mining 10000 intersections\n",
      "N_mined_hypos of type neg 6\n",
      "Mining 10000 intersections\n",
      "N_mined_hypos of type neg 5\n",
      "Mining 10000 intersections\n",
      "N_mined_hypos of type neg 0\n",
      "Mining 10000 intersections\n",
      "N_mined_hypos of type neg 0\n",
      "Mining 10000 intersections\n",
      "N_mined_hypos of type neg 834\n",
      "Mining 10000 intersections\n",
      "N_mined_hypos of type neg 54\n",
      "Mining 10000 intersections\n",
      "N_mined_hypos of type neg 183\n",
      "Mining 10000 intersections\n",
      "N_mined_hypos of type neg 10\n",
      "Mining 10000 intersections\n",
      "N_mined_hypos of type neg 13\n",
      "Mining 10000 intersections\n",
      "N_mined_hypos of type neg 1\n",
      "Mining 10000 intersections\n",
      "N_mined_hypos of type neg 166\n",
      "Mining 10000 intersections\n",
      "N_mined_hypos of type neg 34\n",
      "Mining 10000 intersections\n",
      "N_mined_hypos of type neg 399\n",
      "Mining 10000 intersections\n",
      "N_mined_hypos of type neg 0\n",
      "Mining 10000 intersections\n",
      "N_mined_hypos of type neg 17101\n",
      "N_mined_hypos of type neg 0\n",
      "Mining 10000 intersections\n",
      "N_mined_hypos of type neg 3375\n"
     ]
    },
    {
     "name": "stdout",
     "output_type": "stream",
     "text": [
      "N_mined_hypos of type neg 0\n",
      "Mining 10000 intersections\n",
      "N_mined_hypos of type neg 0\n",
      "Mining 10000 intersections\n",
      "N_mined_hypos of type neg 0\n",
      "N_mined_hypos of type neg 0\n",
      "Mining 10000 intersections\n",
      "Mining 10000 intersections\n",
      "Mining 10000 intersections\n",
      "N_mined_hypos of type neg 17066\n",
      "N_mined_hypos of type neg 0\n",
      "Mining 10000 intersections\n",
      "N_mined_hypos of type neg 1\n",
      "Mining 10000 intersections\n",
      "Mining 10000 intersections\n",
      "N_mined_hypos of type neg 9\n",
      "Mining 10000 intersections\n",
      "N_mined_hypos of type neg 8192\n",
      "N_mined_hypos of type neg 0\n",
      "Mining 10000 intersections\n",
      "N_mined_hypos of type neg 0\n",
      "Mining 10000 intersections\n",
      "N_mined_hypos of type neg 563\n",
      "Mining 10000 intersections\n",
      "Mining 10000 intersections\n",
      "N_mined_hypos of type neg 0\n",
      "Mining 10000 intersections\n",
      "N_mined_hypos of type neg 46\n",
      "Mining 10000 intersections\n",
      "N_mined_hypos of type neg 94\n",
      "Mining 10000 intersections\n",
      "Mining 10000 intersections\n",
      "N_mined_hypos of type neg 221\n",
      "Mining 10000 intersections\n",
      "N_mined_hypos of type neg 0\n",
      "Mining 10000 intersections\n",
      "N_mined_hypos of type neg 1382\n",
      "Mining 10000 intersections\n",
      "N_mined_hypos of type neg 0\n",
      "Mining 10000 intersections\n",
      "N_mined_hypos of type neg 0\n",
      "Mining 10000 intersections\n",
      "N_mined_hypos of type neg 0\n",
      "Mining 10000 intersections\n",
      "N_mined_hypos of type neg 0\n",
      "Mining 10000 intersections\n",
      "N_mined_hypos of type neg 5\n",
      "Mining 10000 intersections\n",
      "N_mined_hypos of type neg 7803\n",
      "N_mined_hypos of type neg 2733\n",
      "N_mined_hypos of type neg 0\n",
      "Mining 10000 intersections\n",
      "N_mined_hypos of type neg 8488\n",
      "Mining 10000 intersections\n",
      "N_mined_hypos of type neg 0\n",
      "Mining 10000 intersections\n",
      "N_mined_hypos of type neg 1014\n",
      "Mining 10000 intersections\n",
      "N_mined_hypos of type neg 1\n",
      "N_mined_hypos of type neg 0\n",
      "Mining 10000 intersections\n",
      "Mining 10000 intersections\n",
      "Mining 10000 intersections\n",
      "Mining 10000 intersections\n",
      "N_mined_hypos of type neg 0\n",
      "Mining 10000 intersections\n",
      "N_mined_hypos of type neg 0\n",
      "Mining 10000 intersections\n",
      "N_mined_hypos of type neg 0\n",
      "Mining 10000 intersections\n",
      "N_mined_hypos of type neg 368\n",
      "Mining 10000 intersections\n",
      "N_mined_hypos of type neg 1182\n",
      "Mining 10000 intersections\n",
      "N_mined_hypos of type neg 3790\n",
      "Mining 10000 intersections\n",
      "N_mined_hypos of type neg 0\n",
      "Mining 10000 intersections\n",
      "N_mined_hypos of type neg 48\n",
      "Mining 10000 intersections\n",
      "N_mined_hypos of type neg 5\n",
      "Mining 10000 intersections\n",
      "N_mined_hypos of type neg 1\n",
      "Mining 10000 intersections\n",
      "N_mined_hypos of type neg 105\n",
      "Mining 10000 intersections\n",
      "N_mined_hypos of type neg 27\n",
      "Mining 10000 intersections\n",
      "N_mined_hypos of type neg 0\n",
      "Mining 10000 intersections\n",
      "N_mined_hypos of type neg 9\n",
      "Mining 10000 intersections\n",
      "N_mined_hypos of type neg 7\n",
      "Mining 10000 intersections\n",
      "N_mined_hypos of type neg 0\n",
      "Mining 10000 intersections\n",
      "N_mined_hypos of type neg 0\n",
      "Mining 10000 intersections\n",
      "N_mined_hypos of type neg 135\n",
      "N_mined_hypos of type neg 0\n",
      "Mining 10000 intersections\n",
      "Mining 10000 intersections\n",
      "N_mined_hypos of type neg 22\n",
      "Mining 10000 intersections\n",
      "N_mined_hypos of type neg 370\n",
      "N_mined_hypos of type neg 0\n",
      "Mining 10000 intersections\n",
      "Mining 10000 intersections\n",
      "N_mined_hypos of type neg 0\n",
      "Mining 10000 intersections\n",
      "N_mined_hypos of type neg 0\n",
      "Mining 10000 intersections\n",
      "N_mined_hypos of type neg 0\n",
      "Mining 10000 intersections\n",
      "N_mined_hypos of type neg 0\n",
      "Mining 10000 intersections\n",
      "N_mined_hypos of type neg 0\n",
      "Mining 10000 intersections\n",
      "N_mined_hypos of type neg 1027\n",
      "Mining 10000 intersections\n",
      "N_mined_hypos of type neg 1\n",
      "Mining 10000 intersections\n",
      "N_mined_hypos of type neg 0\n",
      "Mining 10000 intersections\n",
      "N_mined_hypos of type neg 1\n",
      "Mining 10000 intersections\n",
      "N_mined_hypos of type neg 0\n",
      "Mining 10000 intersections\n",
      "N_mined_hypos of type neg 51\n",
      "Mining 10000 intersections\n",
      "N_mined_hypos of type neg 14\n",
      "Mining 10000 intersections\n",
      "N_mined_hypos of type neg 0\n",
      "N_mined_hypos of type neg 0\n",
      "Mining 10000 intersections\n",
      "Mining 10000 intersections\n",
      "N_mined_hypos of type neg 3823\n",
      "Mining 10000 intersections\n",
      "N_mined_hypos of type neg 8456\n",
      "Mining 10000 intersections\n",
      "N_mined_hypos of type neg 236\n",
      "Mining 10000 intersections\n",
      "N_mined_hypos of type neg 0\n",
      "Mining 10000 intersections\n",
      "N_mined_hypos of type neg 0\n",
      "Mining 10000 intersections\n",
      "N_mined_hypos of type neg 1\n",
      "Mining 10000 intersections\n",
      "N_mined_hypos of type neg 0\n",
      "Mining 10000 intersections\n",
      "N_mined_hypos of type neg 2\n",
      "N_mined_hypos of type neg 8531\n",
      "Mining 10000 intersections\n",
      "Mining 10000 intersections\n",
      "N_mined_hypos of type neg 0\n",
      "Mining 10000 intersections\n",
      "N_mined_hypos of type neg 0\n",
      "Mining 10000 intersections\n",
      "N_mined_hypos of type neg 0\n",
      "Mining 10000 intersections\n",
      "N_mined_hypos of type neg 0\n",
      "Mining 10000 intersections\n",
      "N_mined_hypos of type neg 0\n",
      "Mining 10000 intersections\n",
      "N_mined_hypos of type neg 17000\n",
      "N_mined_hypos of type neg 0\n",
      "Mining 10000 intersections\n",
      "N_mined_hypos of type neg 0\n",
      "Mining 10000 intersections\n",
      "N_mined_hypos of type neg 0\n",
      "Mining 10000 intersections\n",
      "N_mined_hypos of type neg 10\n",
      "Mining 10000 intersections\n",
      "N_mined_hypos of type neg 0\n",
      "Mining 10000 intersections\n",
      "Mining 10000 intersections\n",
      "N_mined_hypos of type neg 1042\n",
      "Mining 10000 intersections\n",
      "N_mined_hypos of type neg 0\n",
      "Mining 10000 intersections\n",
      "N_mined_hypos of type neg 714\n",
      "N_mined_hypos of type neg 0\n",
      "Mining 10000 intersections\n",
      "N_mined_hypos of type neg 204\n",
      "Mining 10000 intersections\n"
     ]
    },
    {
     "name": "stderr",
     "output_type": "stream",
     "text": [
      "/home/autodeploy/.local/lib/python3.5/site-packages/ipykernel_launcher.py:35: RuntimeWarning: All-NaN slice encountered\n"
     ]
    },
    {
     "name": "stdout",
     "output_type": "stream",
     "text": [
      "Mining 10000 intersections\n"
     ]
    },
    {
     "name": "stderr",
     "output_type": "stream",
     "text": [
      "/home/autodeploy/.local/lib/python3.5/site-packages/ipykernel_launcher.py:36: RuntimeWarning: All-NaN slice encountered\n"
     ]
    },
    {
     "name": "stdout",
     "output_type": "stream",
     "text": [
      "N_mined_hypos of type neg 2\n",
      "Mining 10000 intersections\n",
      "N_mined_hypos of type neg 3705\n",
      "Mining 10000 intersections\n",
      "N_mined_hypos of type neg 31\n",
      "Mining 10000 intersections\n",
      "N_mined_hypos of type neg 1\n",
      "Mining 10000 intersections\n",
      "N_mined_hypos of type neg 3\n",
      "Mining 10000 intersections\n",
      "N_mined_hypos of type neg 0\n",
      "Mining 10000 intersections\n",
      "N_mined_hypos of type neg 0\n",
      "Mining 10000 intersections\n",
      "N_mined_hypos of type neg 2374\n",
      "N_mined_hypos of type neg 7584\n",
      "Mining 10000 intersections\n",
      "N_mined_hypos of type neg 0\n",
      "N_mined_hypos of type neg 219\n",
      "Mining 10000 intersections\n",
      "N_mined_hypos of type neg 0\n",
      "Mining 10000 intersections\n",
      "Mining 10000 intersections\n",
      "N_mined_hypos of type neg 1\n",
      "Mining 10000 intersections\n",
      "N_mined_hypos of type neg 0\n",
      "Mining 10000 intersections\n",
      "Mining 10000 intersections\n",
      "N_mined_hypos of type neg 19\n",
      "N_mined_hypos of type neg 0\n",
      "Mining 10000 intersections\n",
      "Mining 10000 intersections\n",
      "N_mined_hypos of type neg 0\n",
      "Mining 10000 intersections\n",
      "N_mined_hypos of type neg 71\n",
      "Mining 10000 intersections\n",
      "N_mined_hypos of type neg 0\n",
      "Mining 10000 intersections\n",
      "N_mined_hypos of type neg 0\n",
      "Mining 10000 intersections\n",
      "N_mined_hypos of type neg 0\n",
      "Mining 10000 intersections\n",
      "N_mined_hypos of type neg 0\n",
      "Mining 10000 intersections\n",
      "N_mined_hypos of type neg 0\n",
      "Mining 10000 intersections\n",
      "N_mined_hypos of type neg 0\n",
      "Mining 10000 intersections\n",
      "N_mined_hypos of type neg 4\n",
      "Mining 10000 intersections\n",
      "N_mined_hypos of type neg 0\n",
      "Mining 10000 intersections\n",
      "N_mined_hypos of type neg 0\n",
      "N_mined_hypos of type neg 0\n",
      "N_mined_hypos of type neg 0\n",
      "N_mined_hypos of type neg 0\n",
      "N_mined_hypos of type neg 2028\n",
      "N_mined_hypos of type neg 118\n",
      "N_mined_hypos of type neg 0\n",
      "N_mined_hypos of type neg 26\n",
      "N_mined_hypos of type neg 0\n",
      "N_mined_hypos of type neg 17050\n",
      "N_mined_hypos of type neg 0\n",
      "Mining 10000 intersections\n",
      "N_mined_hypos of type neg 8470\n",
      "Mining 10000 intersections\n",
      "N_mined_hypos of type neg 486\n",
      "N_mined_hypos of type neg 0\n",
      "N_mined_hypos of type neg 2\n",
      "N_mined_hypos of type neg 0\n",
      "N_mined_hypos of type neg 16987\n",
      "N_mined_hypos of type neg 0\n",
      "N_mined_hypos of type neg 7523\n",
      "N_mined_hypos of type neg 0\n",
      "N_mined_hypos of type neg 0\n",
      "Mining 10000 intersections\n",
      "N_mined_hypos of type neg 0\n",
      "N_mined_hypos of type neg 1989\n",
      "N_mined_hypos of type neg 1\n",
      "N_mined_hypos of type neg 0\n",
      "Mining 10000 intersections\n",
      "N_mined_hypos of type neg 988\n",
      "Mining 10000 intersections\n",
      "N_mined_hypos of type neg 0\n",
      "N_mined_hypos of type neg 0\n",
      "Mining 10000 intersections\n",
      "N_mined_hypos of type neg 15\n",
      "N_mined_hypos of type neg 0\n",
      "N_mined_hypos of type neg 0\n",
      "Mining 10000 intersections\n",
      "N_mined_hypos of type neg 0\n",
      "N_mined_hypos of type neg 3\n",
      "Mining 10000 intersections\n",
      "N_mined_hypos of type neg 2\n",
      "N_mined_hypos of type neg 1\n",
      "Mining 10000 intersections\n",
      "N_mined_hypos of type neg 0\n",
      "N_mined_hypos of type neg 410\n",
      "N_mined_hypos of type neg 3717\n",
      "Mining 10000 intersections\n",
      "N_mined_hypos of type neg 0\n",
      "N_mined_hypos of type neg 7478\n",
      "N_mined_hypos of type neg 166\n",
      "Mining 10000 intersections\n",
      "N_mined_hypos of type neg 2\n",
      "N_mined_hypos of type neg 0\n",
      "N_mined_hypos of type neg 39\n",
      "Mining 10000 intersections\n",
      "Mining 10000 intersections\n",
      "N_mined_hypos of type neg 0\n",
      "Mining 10000 intersections\n",
      "N_mined_hypos of type neg 60\n",
      "N_mined_hypos of type neg 0\n",
      "Mining 10000 intersections\n",
      "N_mined_hypos of type neg 0\n",
      "N_mined_hypos of type neg 0\n",
      "Mining 10000 intersections\n",
      "N_mined_hypos of type neg 0\n",
      "N_mined_hypos of type neg 0\n",
      "Mining 10000 intersections\n",
      "N_mined_hypos of type neg 0\n",
      "Mining 10000 intersections\n",
      "N_mined_hypos of type neg 0\n",
      "Mining 10000 intersections\n",
      "N_mined_hypos of type neg 0\n",
      "Mining 10000 intersections\n",
      "N_mined_hypos of type neg 0\n",
      "N_mined_hypos of type neg 0\n",
      "Mining 10000 intersections\n",
      "N_mined_hypos of type neg 0\n",
      "Mining 10000 intersections\n",
      "N_mined_hypos of type neg 0\n",
      "N_mined_hypos of type neg 0\n",
      "N_mined_hypos of type neg 0\n",
      "N_mined_hypos of type neg 16925\n",
      "N_mined_hypos of type neg 0\n",
      "N_mined_hypos of type neg 0\n",
      "N_mined_hypos of type neg 1955\n",
      "N_mined_hypos of type neg 0\n",
      "N_mined_hypos of type neg 0\n",
      "N_mined_hypos of type neg 0\n",
      "N_mined_hypos of type neg 10\n",
      "N_mined_hypos of type neg 2\n",
      "N_mined_hypos of type neg 7370\n",
      "N_mined_hypos of type neg 0\n",
      "N_mined_hypos of type neg 0\n",
      "N_mined_hypos of type neg 0\n",
      "N_mined_hypos of type neg 71\n",
      "N_mined_hypos of type neg 358\n",
      "N_mined_hypos of type neg 0\n",
      "N_mined_hypos of type neg 0\n",
      "N_mined_hypos of type neg 0\n",
      "N_mined_hypos of type neg 0\n",
      "N_mined_hypos of type neg 0\n",
      "N_mined_hypos of type neg 0\n",
      "N_mined_hypos of type neg 0\n",
      "CPU times: user 8.37 s, sys: 5.21 s, total: 13.6 s\n",
      "Wall time: 3min 4s\n"
     ]
    }
   ],
   "source": [
    "%%time\n",
    "from sklearn.model_selection import ParameterGrid\n",
    "import multiprocessing\n",
    "\n",
    "param_grid = {\n",
    "    'subs_size': list(range(2,21)),\n",
    "    'alpha': np.linspace(0.7,1,31), \n",
    "    'hypo_type' : ['neg'],\n",
    "    'N_hypo_need' : [10000],\n",
    "    'N_iterations' : [20000],\n",
    "    'batch_size' : [10000],\n",
    "}\n",
    "\n",
    "### WARNING! round(params['alpha'], 4) ---> for readable folder names\n",
    "MyParamGrid = []\n",
    "for params in ParameterGrid(param_grid):\n",
    "    save_path = os.path.join(DATA_FOLDER, \n",
    "                             'Hypotheses',\n",
    "                             params['hypo_type'] + '_' + \n",
    "                             str(params['subs_size']) + '_' + \n",
    "                             str(round(params['alpha'], 4)))\n",
    "    if not os.path.exists(save_path):\n",
    "        os.mkdir(save_path)\n",
    "    params['save_path'] = save_path\n",
    "    MyParamGrid.append(params)\n",
    "\n",
    "\n",
    "pool = multiprocessing.Pool(processes=60) #use all available cores, otherwise specify the number you want as an argument\n",
    "for args in MyParamGrid:\n",
    "    pool.apply_async(PSM.mine_hypotheses, args=(args['alpha'],\n",
    "                                                args['hypo_type'],\n",
    "                                                args['subs_size'],\n",
    "                                                args['N_hypo_need'],\n",
    "                                                args['N_iterations'],\n",
    "                                                args['batch_size'],\n",
    "                                                args['save_path'],\n",
    "                                               ))\n",
    "pool.close()\n",
    "pool.join()"
   ]
  },
  {
   "cell_type": "markdown",
   "metadata": {},
   "source": [
    "### PatternStructuresClassifier"
   ]
  },
  {
   "cell_type": "code",
   "execution_count": 196,
   "metadata": {},
   "outputs": [],
   "source": [
    "class PatternStructuresClassifier():\n",
    "    \"\"\"\n",
    "    Classifier turns hypotheses given test objects into classifiers\n",
    "    \"\"\"\n",
    "    def __init__(self, data_pos, data_neg, feature_list):\n",
    "        \"\"\"\n",
    "        :param data_pos: Pandas.DataFrame with objects from class 1\n",
    "        :param data_neg: Pandas.DataFrame with objects from class 0\n",
    "        :param feature_list: list of column names used as features\n",
    "        \"\"\"\n",
    "        self.data_pos = data_pos[feature_list]\n",
    "        self.data_neg = data_neg[feature_list]\n",
    "        self.X_pos_expanded = self.data_pos.values[None,:,:]\n",
    "        self.X_neg_expanded = self.data_neg.values[None,:,:]\n",
    "        self.feature_list = feature_list\n",
    "        self.is_nan_X_pos_expanded = np.isnan(self.X_pos_expanded)\n",
    "        self.is_nan_X_neg_expanded = np.isnan(self.X_neg_expanded)\n",
    "        \n",
    "    def classify_test_objects(self, X_test, hypotheses_min, hypotheses_max, alpha, \n",
    "                              save_scores_file_path=None, print_when_over=False):\n",
    "        \"\"\"\n",
    "        :X_test: Pandas.DataFrame with objects from class 1\n",
    "        :hypotheses_min: min_bound of hypotheses of shape (n_hypos, n_feat)\n",
    "        :hypotheses_max: max_bound of hypotheses of shape (n_hypos, n_feat)\n",
    "        :alpha: list of column names used as features\n",
    "        :save_scores_file_path: path to FILE with scores for given test objects\n",
    "        :print_when_over: print a message when completed (useful for parallel computing)\n",
    "        \"\"\"\n",
    "        SCORE_RES = []\n",
    "        for i in range(X_test.shape[0]):\n",
    "            test_obj = X_test[[i],:]\n",
    "\n",
    "            classifier_min = np.nanmin([np.repeat(test_obj, hypotheses_min.shape[0], axis=0), hypotheses_min], axis=0)[:,None,:]\n",
    "            classifier_max = np.nanmax([np.repeat(test_obj, hypotheses_max.shape[0], axis=0), hypotheses_max], axis=0)[:,None,:]\n",
    "\n",
    "\n",
    "            num_POS_objs_in_clfs = ((((classifier_min <= self.X_pos_expanded) | np.isnan(classifier_min)) & \n",
    "                    ((classifier_max >= self.X_pos_expanded) | np.isnan(classifier_max))) | \n",
    "                    self.is_nan_X_pos_expanded).all(axis=-1).sum(axis=-1)\n",
    "            num_NEG_objs_in_clfs = ((((classifier_min <= self.X_neg_expanded) | np.isnan(classifier_min)) & \n",
    "                    ((classifier_max >= self.X_neg_expanded) | np.isnan(classifier_max))) | \n",
    "                    self.is_nan_X_neg_expanded).all(axis=-1).sum(axis=-1)\n",
    "\n",
    "            POS_rate_clf = num_POS_objs_in_clfs / (num_POS_objs_in_clfs + num_NEG_objs_in_clfs)\n",
    "            NEG_rate_clf = 1 - POS_rate_clf\n",
    "\n",
    "            POS_rate_alpha_sum = (num_POS_objs_in_clfs / (num_NEG_objs_in_clfs + num_POS_objs_in_clfs) >= alpha).sum(axis=-1)\n",
    "            NEG_rate_alpha_sum = (num_NEG_objs_in_clfs / (num_NEG_objs_in_clfs + num_POS_objs_in_clfs) >= alpha).sum(axis=-1)\n",
    "\n",
    "\n",
    "            scores_dict = {\n",
    "                'num_POS_objs_in_clfs' : (num_POS_objs_in_clfs).sum(axis=-1),\n",
    "                'num_NEG_objs_in_clfs' : (num_NEG_objs_in_clfs).sum(axis=-1),\n",
    "\n",
    "                'POS_rate_clf' : (POS_rate_clf).sum(axis=-1),\n",
    "                'NEG_rate_clf' : (NEG_rate_clf).sum(axis=-1),\n",
    "\n",
    "                'num_POS2NEG_clf' : (np.divide(num_POS_objs_in_clfs.astype(np.float32), \n",
    "                                       num_NEG_objs_in_clfs.astype(np.float32), \n",
    "                                       out=np.ones_like(num_POS_objs_in_clfs.astype(np.float32))*self.data_pos.shape[0],\n",
    "                                       where=num_NEG_objs_in_clfs.astype(np.float32)!=0)).sum(axis=-1),\n",
    "\n",
    "                'POS_rate_alpha_sum' : POS_rate_alpha_sum,\n",
    "                'NEG_rate_alpha_sum' : NEG_rate_alpha_sum,\n",
    "            }\n",
    "            SCORE_RES.append(scores_dict)\n",
    "            \n",
    "        df_test_scores = pd.DataFrame(SCORE_RES)\n",
    "        if save_scores_file_path:\n",
    "            df_test_scores.to_csv(save_scores_file_path)\n",
    "        \n",
    "        if print_when_over:\n",
    "            print(hypo_source_path, \" is OVER now!!!\")\n",
    "        return df_test_scores"
   ]
  },
  {
   "cell_type": "code",
   "execution_count": 197,
   "metadata": {},
   "outputs": [],
   "source": [
    "features = ['Seniority', 'Time', 'Age', 'Records',\n",
    "       'Expenses', 'Income', 'Assets', 'Debt', 'Amount', 'Price'] + list(map(str,range(16)))"
   ]
  },
  {
   "cell_type": "code",
   "execution_count": 199,
   "metadata": {},
   "outputs": [],
   "source": [
    "PS_clf = PatternStructuresClassifier(df_train_pos, df_train_neg, features)"
   ]
  },
  {
   "cell_type": "markdown",
   "metadata": {},
   "source": [
    "#### Parallel through all combinations of Hyperparams"
   ]
  },
  {
   "cell_type": "code",
   "execution_count": 207,
   "metadata": {},
   "outputs": [],
   "source": [
    "N_HYPO_MAX = 500"
   ]
  },
  {
   "cell_type": "code",
   "execution_count": 208,
   "metadata": {},
   "outputs": [],
   "source": [
    "def is_non_zero_file(fpath):\n",
    "    return True if os.path.isfile(fpath) and os.path.getsize(fpath) > 0 else False\n",
    "\n",
    "listdir = os.listdir(os.path.join(DATA_FOLDER,'Hypotheses'))\n",
    "# listdir.remove('.ipynb_checkpoints')\n",
    "np.random.shuffle(listdir)\n",
    "\n",
    "MyParamGrid = []\n",
    "for hypo_source_dir in listdir:\n",
    "    _, _, alpha = hypo_source_dir.split('_')\n",
    "    alpha = float(alpha)\n",
    "    \n",
    "    hypo_source_path = os.path.join(DATA_FOLDER,'Hypotheses', hypo_source_dir)\n",
    "    hypo_path_min = os.path.join(hypo_source_path, 'hypotheses_min.csv')\n",
    "    hypo_path_max = os.path.join(hypo_source_path, 'hypotheses_max.csv')\n",
    "\n",
    "    if is_non_zero_file(hypo_path_min):\n",
    "        hypotheses_min = pd.read_csv(hypo_path_min, header=None).values[:N_HYPO_MAX]\n",
    "        hypotheses_max = pd.read_csv(hypo_path_max, header=None).values[:N_HYPO_MAX]\n",
    "\n",
    "    args = {\n",
    "        'X_test':X_test,\n",
    "        'hypotheses_min':hypotheses_min,\n",
    "        'hypotheses_max':hypotheses_max,\n",
    "        'alpha':alpha,\n",
    "        'save_scores_file_path':os.path.join(hypo_source_path, 'df_test_scores.csv'),\n",
    "        'print_when_over':True\n",
    "    }\n",
    " \n",
    "    MyParamGrid.append(args)"
   ]
  },
  {
   "cell_type": "markdown",
   "metadata": {},
   "source": [
    "#### Run parallel"
   ]
  },
  {
   "cell_type": "code",
   "execution_count": 212,
   "metadata": {
    "scrolled": true
   },
   "outputs": [
    {
     "name": "stderr",
     "output_type": "stream",
     "text": [
      "/home/autodeploy/.local/lib/python3.5/site-packages/ipykernel_launcher.py:33: RuntimeWarning: All-NaN axis encountered\n",
      "/home/autodeploy/.local/lib/python3.5/site-packages/ipykernel_launcher.py:37: RuntimeWarning: invalid value encountered in less_equal\n",
      "/home/autodeploy/.local/lib/python3.5/site-packages/ipykernel_launcher.py:34: RuntimeWarning: All-NaN axis encountered\n",
      "/home/autodeploy/.local/lib/python3.5/site-packages/ipykernel_launcher.py:38: RuntimeWarning: invalid value encountered in greater_equal\n",
      "/home/autodeploy/.local/lib/python3.5/site-packages/ipykernel_launcher.py:37: RuntimeWarning: invalid value encountered in less_equal\n",
      "/home/autodeploy/.local/lib/python3.5/site-packages/ipykernel_launcher.py:33: RuntimeWarning: All-NaN axis encountered\n",
      "/home/autodeploy/.local/lib/python3.5/site-packages/ipykernel_launcher.py:37: RuntimeWarning: invalid value encountered in less_equal\n",
      "/home/autodeploy/.local/lib/python3.5/site-packages/ipykernel_launcher.py:34: RuntimeWarning: All-NaN axis encountered\n",
      "/home/autodeploy/.local/lib/python3.5/site-packages/ipykernel_launcher.py:40: RuntimeWarning: invalid value encountered in less_equal\n",
      "/home/autodeploy/.local/lib/python3.5/site-packages/ipykernel_launcher.py:33: RuntimeWarning: All-NaN axis encountered\n",
      "/home/autodeploy/.local/lib/python3.5/site-packages/ipykernel_launcher.py:34: RuntimeWarning: All-NaN axis encountered\n",
      "/home/autodeploy/.local/lib/python3.5/site-packages/ipykernel_launcher.py:38: RuntimeWarning: invalid value encountered in greater_equal\n",
      "/home/autodeploy/.local/lib/python3.5/site-packages/ipykernel_launcher.py:37: RuntimeWarning: invalid value encountered in less_equal\n",
      "/home/autodeploy/.local/lib/python3.5/site-packages/ipykernel_launcher.py:41: RuntimeWarning: invalid value encountered in greater_equal\n",
      "/home/autodeploy/.local/lib/python3.5/site-packages/ipykernel_launcher.py:38: RuntimeWarning: invalid value encountered in greater_equal\n",
      "/home/autodeploy/.local/lib/python3.5/site-packages/ipykernel_launcher.py:37: RuntimeWarning: invalid value encountered in less_equal\n",
      "/home/autodeploy/.local/lib/python3.5/site-packages/ipykernel_launcher.py:37: RuntimeWarning: invalid value encountered in less_equal\n",
      "/home/autodeploy/.local/lib/python3.5/site-packages/ipykernel_launcher.py:37: RuntimeWarning: invalid value encountered in less_equal\n",
      "/home/autodeploy/.local/lib/python3.5/site-packages/ipykernel_launcher.py:38: RuntimeWarning: invalid value encountered in greater_equal\n",
      "/home/autodeploy/.local/lib/python3.5/site-packages/ipykernel_launcher.py:38: RuntimeWarning: invalid value encountered in greater_equal\n",
      "/home/autodeploy/.local/lib/python3.5/site-packages/ipykernel_launcher.py:37: RuntimeWarning: invalid value encountered in less_equal\n",
      "/home/autodeploy/.local/lib/python3.5/site-packages/ipykernel_launcher.py:40: RuntimeWarning: invalid value encountered in less_equal\n",
      "/home/autodeploy/.local/lib/python3.5/site-packages/ipykernel_launcher.py:41: RuntimeWarning: invalid value encountered in greater_equal\n",
      "/home/autodeploy/.local/lib/python3.5/site-packages/ipykernel_launcher.py:37: RuntimeWarning: invalid value encountered in less_equal\n",
      "/home/autodeploy/.local/lib/python3.5/site-packages/ipykernel_launcher.py:38: RuntimeWarning: invalid value encountered in greater_equal\n",
      "/home/autodeploy/.local/lib/python3.5/site-packages/ipykernel_launcher.py:38: RuntimeWarning: invalid value encountered in greater_equal\n",
      "/home/autodeploy/.local/lib/python3.5/site-packages/ipykernel_launcher.py:40: RuntimeWarning: invalid value encountered in less_equal\n",
      "/home/autodeploy/.local/lib/python3.5/site-packages/ipykernel_launcher.py:38: RuntimeWarning: invalid value encountered in greater_equal\n",
      "/home/autodeploy/.local/lib/python3.5/site-packages/ipykernel_launcher.py:38: RuntimeWarning: invalid value encountered in greater_equal\n",
      "/home/autodeploy/.local/lib/python3.5/site-packages/ipykernel_launcher.py:40: RuntimeWarning: invalid value encountered in less_equal\n",
      "/home/autodeploy/.local/lib/python3.5/site-packages/ipykernel_launcher.py:40: RuntimeWarning: invalid value encountered in less_equal\n",
      "/home/autodeploy/.local/lib/python3.5/site-packages/ipykernel_launcher.py:41: RuntimeWarning: invalid value encountered in greater_equal\n",
      "/home/autodeploy/.local/lib/python3.5/site-packages/ipykernel_launcher.py:37: RuntimeWarning: invalid value encountered in less_equal\n",
      "/home/autodeploy/.local/lib/python3.5/site-packages/ipykernel_launcher.py:37: RuntimeWarning: invalid value encountered in less_equal\n",
      "/home/autodeploy/.local/lib/python3.5/site-packages/ipykernel_launcher.py:37: RuntimeWarning: invalid value encountered in less_equal\n",
      "/home/autodeploy/.local/lib/python3.5/site-packages/ipykernel_launcher.py:40: RuntimeWarning: invalid value encountered in less_equal\n",
      "/home/autodeploy/.local/lib/python3.5/site-packages/ipykernel_launcher.py:40: RuntimeWarning: invalid value encountered in less_equal\n",
      "/home/autodeploy/.local/lib/python3.5/site-packages/ipykernel_launcher.py:37: RuntimeWarning: invalid value encountered in less_equal\n",
      "/home/autodeploy/.local/lib/python3.5/site-packages/ipykernel_launcher.py:38: RuntimeWarning: invalid value encountered in greater_equal\n",
      "/home/autodeploy/.local/lib/python3.5/site-packages/ipykernel_launcher.py:41: RuntimeWarning: invalid value encountered in greater_equal\n",
      "/home/autodeploy/.local/lib/python3.5/site-packages/ipykernel_launcher.py:38: RuntimeWarning: invalid value encountered in greater_equal\n",
      "/home/autodeploy/.local/lib/python3.5/site-packages/ipykernel_launcher.py:40: RuntimeWarning: invalid value encountered in less_equal\n",
      "/home/autodeploy/.local/lib/python3.5/site-packages/ipykernel_launcher.py:38: RuntimeWarning: invalid value encountered in greater_equal\n",
      "/home/autodeploy/.local/lib/python3.5/site-packages/ipykernel_launcher.py:38: RuntimeWarning: invalid value encountered in greater_equal\n",
      "/home/autodeploy/.local/lib/python3.5/site-packages/ipykernel_launcher.py:40: RuntimeWarning: invalid value encountered in less_equal\n",
      "/home/autodeploy/.local/lib/python3.5/site-packages/ipykernel_launcher.py:41: RuntimeWarning: invalid value encountered in greater_equal\n",
      "/home/autodeploy/.local/lib/python3.5/site-packages/ipykernel_launcher.py:33: RuntimeWarning: All-NaN axis encountered\n",
      "/home/autodeploy/.local/lib/python3.5/site-packages/ipykernel_launcher.py:40: RuntimeWarning: invalid value encountered in less_equal\n",
      "/home/autodeploy/.local/lib/python3.5/site-packages/ipykernel_launcher.py:34: RuntimeWarning: All-NaN axis encountered\n",
      "/home/autodeploy/.local/lib/python3.5/site-packages/ipykernel_launcher.py:37: RuntimeWarning: invalid value encountered in less_equal\n",
      "/home/autodeploy/.local/lib/python3.5/site-packages/ipykernel_launcher.py:41: RuntimeWarning: invalid value encountered in greater_equal\n",
      "/home/autodeploy/.local/lib/python3.5/site-packages/ipykernel_launcher.py:33: RuntimeWarning: All-NaN axis encountered\n",
      "/home/autodeploy/.local/lib/python3.5/site-packages/ipykernel_launcher.py:40: RuntimeWarning: invalid value encountered in less_equal\n",
      "/home/autodeploy/.local/lib/python3.5/site-packages/ipykernel_launcher.py:41: RuntimeWarning: invalid value encountered in greater_equal\n",
      "/home/autodeploy/.local/lib/python3.5/site-packages/ipykernel_launcher.py:34: RuntimeWarning: All-NaN axis encountered\n",
      "/home/autodeploy/.local/lib/python3.5/site-packages/ipykernel_launcher.py:41: RuntimeWarning: invalid value encountered in greater_equal\n",
      "/home/autodeploy/.local/lib/python3.5/site-packages/ipykernel_launcher.py:37: RuntimeWarning: invalid value encountered in less_equal\n",
      "/home/autodeploy/.local/lib/python3.5/site-packages/ipykernel_launcher.py:40: RuntimeWarning: invalid value encountered in less_equal\n",
      "/home/autodeploy/.local/lib/python3.5/site-packages/ipykernel_launcher.py:37: RuntimeWarning: invalid value encountered in less_equal\n",
      "/home/autodeploy/.local/lib/python3.5/site-packages/ipykernel_launcher.py:40: RuntimeWarning: invalid value encountered in less_equal\n",
      "/home/autodeploy/.local/lib/python3.5/site-packages/ipykernel_launcher.py:41: RuntimeWarning: invalid value encountered in greater_equal\n",
      "/home/autodeploy/.local/lib/python3.5/site-packages/ipykernel_launcher.py:41: RuntimeWarning: invalid value encountered in greater_equal\n"
     ]
    },
    {
     "name": "stderr",
     "output_type": "stream",
     "text": [
      "/home/autodeploy/.local/lib/python3.5/site-packages/ipykernel_launcher.py:38: RuntimeWarning: invalid value encountered in greater_equal\n",
      "/home/autodeploy/.local/lib/python3.5/site-packages/ipykernel_launcher.py:41: RuntimeWarning: invalid value encountered in greater_equal\n",
      "/home/autodeploy/.local/lib/python3.5/site-packages/ipykernel_launcher.py:38: RuntimeWarning: invalid value encountered in greater_equal\n",
      "/home/autodeploy/.local/lib/python3.5/site-packages/ipykernel_launcher.py:38: RuntimeWarning: invalid value encountered in greater_equal\n",
      "/home/autodeploy/.local/lib/python3.5/site-packages/ipykernel_launcher.py:37: RuntimeWarning: invalid value encountered in less_equal\n",
      "/home/autodeploy/.local/lib/python3.5/site-packages/ipykernel_launcher.py:37: RuntimeWarning: invalid value encountered in less_equal\n",
      "/home/autodeploy/.local/lib/python3.5/site-packages/ipykernel_launcher.py:37: RuntimeWarning: invalid value encountered in less_equal\n",
      "/home/autodeploy/.local/lib/python3.5/site-packages/ipykernel_launcher.py:33: RuntimeWarning: All-NaN axis encountered\n",
      "/home/autodeploy/.local/lib/python3.5/site-packages/ipykernel_launcher.py:37: RuntimeWarning: invalid value encountered in less_equal\n",
      "/home/autodeploy/.local/lib/python3.5/site-packages/ipykernel_launcher.py:41: RuntimeWarning: invalid value encountered in greater_equal\n",
      "/home/autodeploy/.local/lib/python3.5/site-packages/ipykernel_launcher.py:34: RuntimeWarning: All-NaN axis encountered\n",
      "/home/autodeploy/.local/lib/python3.5/site-packages/ipykernel_launcher.py:37: RuntimeWarning: invalid value encountered in less_equal\n",
      "/home/autodeploy/.local/lib/python3.5/site-packages/ipykernel_launcher.py:38: RuntimeWarning: invalid value encountered in greater_equal\n",
      "/home/autodeploy/.local/lib/python3.5/site-packages/ipykernel_launcher.py:38: RuntimeWarning: invalid value encountered in greater_equal\n",
      "/home/autodeploy/.local/lib/python3.5/site-packages/ipykernel_launcher.py:37: RuntimeWarning: invalid value encountered in less_equal\n",
      "/home/autodeploy/.local/lib/python3.5/site-packages/ipykernel_launcher.py:38: RuntimeWarning: invalid value encountered in greater_equal\n",
      "/home/autodeploy/.local/lib/python3.5/site-packages/ipykernel_launcher.py:41: RuntimeWarning: invalid value encountered in greater_equal\n",
      "/home/autodeploy/.local/lib/python3.5/site-packages/ipykernel_launcher.py:37: RuntimeWarning: invalid value encountered in less_equal\n",
      "/home/autodeploy/.local/lib/python3.5/site-packages/ipykernel_launcher.py:40: RuntimeWarning: invalid value encountered in less_equal\n",
      "/home/autodeploy/.local/lib/python3.5/site-packages/ipykernel_launcher.py:37: RuntimeWarning: invalid value encountered in less_equal\n",
      "/home/autodeploy/.local/lib/python3.5/site-packages/ipykernel_launcher.py:38: RuntimeWarning: invalid value encountered in greater_equal\n",
      "/home/autodeploy/.local/lib/python3.5/site-packages/ipykernel_launcher.py:40: RuntimeWarning: invalid value encountered in less_equal\n",
      "/home/autodeploy/.local/lib/python3.5/site-packages/ipykernel_launcher.py:38: RuntimeWarning: invalid value encountered in greater_equal\n",
      "/home/autodeploy/.local/lib/python3.5/site-packages/ipykernel_launcher.py:40: RuntimeWarning: invalid value encountered in less_equal\n",
      "/home/autodeploy/.local/lib/python3.5/site-packages/ipykernel_launcher.py:38: RuntimeWarning: invalid value encountered in greater_equal\n",
      "/home/autodeploy/.local/lib/python3.5/site-packages/ipykernel_launcher.py:40: RuntimeWarning: invalid value encountered in less_equal\n",
      "/home/autodeploy/.local/lib/python3.5/site-packages/ipykernel_launcher.py:38: RuntimeWarning: invalid value encountered in greater_equal\n",
      "/home/autodeploy/.local/lib/python3.5/site-packages/ipykernel_launcher.py:37: RuntimeWarning: invalid value encountered in less_equal\n",
      "/home/autodeploy/.local/lib/python3.5/site-packages/ipykernel_launcher.py:37: RuntimeWarning: invalid value encountered in less_equal\n",
      "/home/autodeploy/.local/lib/python3.5/site-packages/ipykernel_launcher.py:41: RuntimeWarning: invalid value encountered in greater_equal\n",
      "/home/autodeploy/.local/lib/python3.5/site-packages/ipykernel_launcher.py:38: RuntimeWarning: invalid value encountered in greater_equal\n",
      "/home/autodeploy/.local/lib/python3.5/site-packages/ipykernel_launcher.py:38: RuntimeWarning: invalid value encountered in greater_equal\n",
      "/home/autodeploy/.local/lib/python3.5/site-packages/ipykernel_launcher.py:40: RuntimeWarning: invalid value encountered in less_equal\n",
      "/home/autodeploy/.local/lib/python3.5/site-packages/ipykernel_launcher.py:37: RuntimeWarning: invalid value encountered in less_equal\n",
      "/home/autodeploy/.local/lib/python3.5/site-packages/ipykernel_launcher.py:40: RuntimeWarning: invalid value encountered in less_equal\n",
      "/home/autodeploy/.local/lib/python3.5/site-packages/ipykernel_launcher.py:41: RuntimeWarning: invalid value encountered in greater_equal\n",
      "/home/autodeploy/.local/lib/python3.5/site-packages/ipykernel_launcher.py:38: RuntimeWarning: invalid value encountered in greater_equal\n",
      "/home/autodeploy/.local/lib/python3.5/site-packages/ipykernel_launcher.py:37: RuntimeWarning: invalid value encountered in less_equal\n",
      "/home/autodeploy/.local/lib/python3.5/site-packages/ipykernel_launcher.py:37: RuntimeWarning: invalid value encountered in less_equal\n",
      "/home/autodeploy/.local/lib/python3.5/site-packages/ipykernel_launcher.py:38: RuntimeWarning: invalid value encountered in greater_equal\n",
      "/home/autodeploy/.local/lib/python3.5/site-packages/ipykernel_launcher.py:40: RuntimeWarning: invalid value encountered in less_equal\n",
      "/home/autodeploy/.local/lib/python3.5/site-packages/ipykernel_launcher.py:40: RuntimeWarning: invalid value encountered in less_equal\n",
      "/home/autodeploy/.local/lib/python3.5/site-packages/ipykernel_launcher.py:38: RuntimeWarning: invalid value encountered in greater_equal\n",
      "/home/autodeploy/.local/lib/python3.5/site-packages/ipykernel_launcher.py:41: RuntimeWarning: invalid value encountered in greater_equal\n",
      "/home/autodeploy/.local/lib/python3.5/site-packages/ipykernel_launcher.py:37: RuntimeWarning: invalid value encountered in less_equal\n",
      "/home/autodeploy/.local/lib/python3.5/site-packages/ipykernel_launcher.py:40: RuntimeWarning: invalid value encountered in less_equal\n",
      "/home/autodeploy/.local/lib/python3.5/site-packages/ipykernel_launcher.py:40: RuntimeWarning: invalid value encountered in less_equal\n",
      "/home/autodeploy/.local/lib/python3.5/site-packages/ipykernel_launcher.py:41: RuntimeWarning: invalid value encountered in greater_equal\n",
      "/home/autodeploy/.local/lib/python3.5/site-packages/ipykernel_launcher.py:37: RuntimeWarning: invalid value encountered in less_equal\n",
      "/home/autodeploy/.local/lib/python3.5/site-packages/ipykernel_launcher.py:33: RuntimeWarning: All-NaN axis encountered\n",
      "/home/autodeploy/.local/lib/python3.5/site-packages/ipykernel_launcher.py:40: RuntimeWarning: invalid value encountered in less_equal\n",
      "/home/autodeploy/.local/lib/python3.5/site-packages/ipykernel_launcher.py:41: RuntimeWarning: invalid value encountered in greater_equal\n",
      "/home/autodeploy/.local/lib/python3.5/site-packages/ipykernel_launcher.py:41: RuntimeWarning: invalid value encountered in greater_equal\n",
      "/home/autodeploy/.local/lib/python3.5/site-packages/ipykernel_launcher.py:41: RuntimeWarning: invalid value encountered in greater_equal\n",
      "/home/autodeploy/.local/lib/python3.5/site-packages/ipykernel_launcher.py:34: RuntimeWarning: All-NaN axis encountered\n",
      "/home/autodeploy/.local/lib/python3.5/site-packages/ipykernel_launcher.py:40: RuntimeWarning: invalid value encountered in less_equal\n",
      "/home/autodeploy/.local/lib/python3.5/site-packages/ipykernel_launcher.py:33: RuntimeWarning: All-NaN axis encountered\n",
      "/home/autodeploy/.local/lib/python3.5/site-packages/ipykernel_launcher.py:40: RuntimeWarning: invalid value encountered in less_equal\n",
      "/home/autodeploy/.local/lib/python3.5/site-packages/ipykernel_launcher.py:34: RuntimeWarning: All-NaN axis encountered\n",
      "/home/autodeploy/.local/lib/python3.5/site-packages/ipykernel_launcher.py:38: RuntimeWarning: invalid value encountered in greater_equal\n",
      "/home/autodeploy/.local/lib/python3.5/site-packages/ipykernel_launcher.py:41: RuntimeWarning: invalid value encountered in greater_equal\n",
      "/home/autodeploy/.local/lib/python3.5/site-packages/ipykernel_launcher.py:38: RuntimeWarning: invalid value encountered in greater_equal\n"
     ]
    },
    {
     "name": "stderr",
     "output_type": "stream",
     "text": [
      "/home/autodeploy/.local/lib/python3.5/site-packages/ipykernel_launcher.py:40: RuntimeWarning: invalid value encountered in less_equal\n",
      "/home/autodeploy/.local/lib/python3.5/site-packages/ipykernel_launcher.py:38: RuntimeWarning: invalid value encountered in greater_equal\n",
      "/home/autodeploy/.local/lib/python3.5/site-packages/ipykernel_launcher.py:33: RuntimeWarning: All-NaN axis encountered\n",
      "/home/autodeploy/.local/lib/python3.5/site-packages/ipykernel_launcher.py:37: RuntimeWarning: invalid value encountered in less_equal\n",
      "/home/autodeploy/.local/lib/python3.5/site-packages/ipykernel_launcher.py:41: RuntimeWarning: invalid value encountered in greater_equal\n",
      "/home/autodeploy/.local/lib/python3.5/site-packages/ipykernel_launcher.py:34: RuntimeWarning: All-NaN axis encountered\n",
      "/home/autodeploy/.local/lib/python3.5/site-packages/ipykernel_launcher.py:37: RuntimeWarning: invalid value encountered in less_equal\n",
      "/home/autodeploy/.local/lib/python3.5/site-packages/ipykernel_launcher.py:37: RuntimeWarning: invalid value encountered in less_equal\n",
      "/home/autodeploy/.local/lib/python3.5/site-packages/ipykernel_launcher.py:40: RuntimeWarning: invalid value encountered in less_equal\n",
      "/home/autodeploy/.local/lib/python3.5/site-packages/ipykernel_launcher.py:41: RuntimeWarning: invalid value encountered in greater_equal\n",
      "/home/autodeploy/.local/lib/python3.5/site-packages/ipykernel_launcher.py:41: RuntimeWarning: invalid value encountered in greater_equal\n",
      "/home/autodeploy/.local/lib/python3.5/site-packages/ipykernel_launcher.py:41: RuntimeWarning: invalid value encountered in greater_equal\n",
      "/home/autodeploy/.local/lib/python3.5/site-packages/ipykernel_launcher.py:41: RuntimeWarning: invalid value encountered in greater_equal\n",
      "/home/autodeploy/.local/lib/python3.5/site-packages/ipykernel_launcher.py:37: RuntimeWarning: invalid value encountered in less_equal\n",
      "/home/autodeploy/.local/lib/python3.5/site-packages/ipykernel_launcher.py:38: RuntimeWarning: invalid value encountered in greater_equal\n",
      "/home/autodeploy/.local/lib/python3.5/site-packages/ipykernel_launcher.py:38: RuntimeWarning: invalid value encountered in greater_equal\n",
      "/home/autodeploy/.local/lib/python3.5/site-packages/ipykernel_launcher.py:37: RuntimeWarning: invalid value encountered in less_equal\n",
      "/home/autodeploy/.local/lib/python3.5/site-packages/ipykernel_launcher.py:38: RuntimeWarning: invalid value encountered in greater_equal\n",
      "/home/autodeploy/.local/lib/python3.5/site-packages/ipykernel_launcher.py:37: RuntimeWarning: invalid value encountered in less_equal\n",
      "/home/autodeploy/.local/lib/python3.5/site-packages/ipykernel_launcher.py:40: RuntimeWarning: invalid value encountered in less_equal\n",
      "/home/autodeploy/.local/lib/python3.5/site-packages/ipykernel_launcher.py:37: RuntimeWarning: invalid value encountered in less_equal\n",
      "/home/autodeploy/.local/lib/python3.5/site-packages/ipykernel_launcher.py:38: RuntimeWarning: invalid value encountered in greater_equal\n",
      "/home/autodeploy/.local/lib/python3.5/site-packages/ipykernel_launcher.py:38: RuntimeWarning: invalid value encountered in greater_equal\n",
      "/home/autodeploy/.local/lib/python3.5/site-packages/ipykernel_launcher.py:38: RuntimeWarning: invalid value encountered in greater_equal\n",
      "/home/autodeploy/.local/lib/python3.5/site-packages/ipykernel_launcher.py:38: RuntimeWarning: invalid value encountered in greater_equal\n",
      "/home/autodeploy/.local/lib/python3.5/site-packages/ipykernel_launcher.py:40: RuntimeWarning: invalid value encountered in less_equal\n",
      "/home/autodeploy/.local/lib/python3.5/site-packages/ipykernel_launcher.py:37: RuntimeWarning: invalid value encountered in less_equal\n",
      "/home/autodeploy/.local/lib/python3.5/site-packages/ipykernel_launcher.py:37: RuntimeWarning: invalid value encountered in less_equal\n",
      "/home/autodeploy/.local/lib/python3.5/site-packages/ipykernel_launcher.py:37: RuntimeWarning: invalid value encountered in less_equal\n",
      "/home/autodeploy/.local/lib/python3.5/site-packages/ipykernel_launcher.py:41: RuntimeWarning: invalid value encountered in greater_equal\n",
      "/home/autodeploy/.local/lib/python3.5/site-packages/ipykernel_launcher.py:41: RuntimeWarning: invalid value encountered in greater_equal\n",
      "/home/autodeploy/.local/lib/python3.5/site-packages/ipykernel_launcher.py:40: RuntimeWarning: invalid value encountered in less_equal\n",
      "/home/autodeploy/.local/lib/python3.5/site-packages/ipykernel_launcher.py:37: RuntimeWarning: invalid value encountered in less_equal\n",
      "/home/autodeploy/.local/lib/python3.5/site-packages/ipykernel_launcher.py:37: RuntimeWarning: invalid value encountered in less_equal\n",
      "/home/autodeploy/.local/lib/python3.5/site-packages/ipykernel_launcher.py:40: RuntimeWarning: invalid value encountered in less_equal\n",
      "/home/autodeploy/.local/lib/python3.5/site-packages/ipykernel_launcher.py:41: RuntimeWarning: invalid value encountered in greater_equal\n",
      "/home/autodeploy/.local/lib/python3.5/site-packages/ipykernel_launcher.py:38: RuntimeWarning: invalid value encountered in greater_equal\n",
      "/home/autodeploy/.local/lib/python3.5/site-packages/ipykernel_launcher.py:37: RuntimeWarning: invalid value encountered in less_equal\n",
      "/home/autodeploy/.local/lib/python3.5/site-packages/ipykernel_launcher.py:38: RuntimeWarning: invalid value encountered in greater_equal\n",
      "/home/autodeploy/.local/lib/python3.5/site-packages/ipykernel_launcher.py:40: RuntimeWarning: invalid value encountered in less_equal\n",
      "/home/autodeploy/.local/lib/python3.5/site-packages/ipykernel_launcher.py:38: RuntimeWarning: invalid value encountered in greater_equal\n",
      "/home/autodeploy/.local/lib/python3.5/site-packages/ipykernel_launcher.py:40: RuntimeWarning: invalid value encountered in less_equal\n",
      "/home/autodeploy/.local/lib/python3.5/site-packages/ipykernel_launcher.py:40: RuntimeWarning: invalid value encountered in less_equal\n",
      "/home/autodeploy/.local/lib/python3.5/site-packages/ipykernel_launcher.py:38: RuntimeWarning: invalid value encountered in greater_equal\n",
      "/home/autodeploy/.local/lib/python3.5/site-packages/ipykernel_launcher.py:38: RuntimeWarning: invalid value encountered in greater_equal\n",
      "/home/autodeploy/.local/lib/python3.5/site-packages/ipykernel_launcher.py:41: RuntimeWarning: invalid value encountered in greater_equal\n",
      "/home/autodeploy/.local/lib/python3.5/site-packages/ipykernel_launcher.py:37: RuntimeWarning: invalid value encountered in less_equal\n",
      "/home/autodeploy/.local/lib/python3.5/site-packages/ipykernel_launcher.py:40: RuntimeWarning: invalid value encountered in less_equal\n",
      "/home/autodeploy/.local/lib/python3.5/site-packages/ipykernel_launcher.py:40: RuntimeWarning: invalid value encountered in less_equal\n",
      "/home/autodeploy/.local/lib/python3.5/site-packages/ipykernel_launcher.py:38: RuntimeWarning: invalid value encountered in greater_equal\n",
      "/home/autodeploy/.local/lib/python3.5/site-packages/ipykernel_launcher.py:40: RuntimeWarning: invalid value encountered in less_equal\n",
      "/home/autodeploy/.local/lib/python3.5/site-packages/ipykernel_launcher.py:37: RuntimeWarning: invalid value encountered in less_equal\n",
      "/home/autodeploy/.local/lib/python3.5/site-packages/ipykernel_launcher.py:41: RuntimeWarning: invalid value encountered in greater_equal\n",
      "/home/autodeploy/.local/lib/python3.5/site-packages/ipykernel_launcher.py:37: RuntimeWarning: invalid value encountered in less_equal\n",
      "/home/autodeploy/.local/lib/python3.5/site-packages/ipykernel_launcher.py:37: RuntimeWarning: invalid value encountered in less_equal\n",
      "/home/autodeploy/.local/lib/python3.5/site-packages/ipykernel_launcher.py:41: RuntimeWarning: invalid value encountered in greater_equal\n",
      "/home/autodeploy/.local/lib/python3.5/site-packages/ipykernel_launcher.py:37: RuntimeWarning: invalid value encountered in less_equal\n",
      "/home/autodeploy/.local/lib/python3.5/site-packages/ipykernel_launcher.py:38: RuntimeWarning: invalid value encountered in greater_equal\n",
      "/home/autodeploy/.local/lib/python3.5/site-packages/ipykernel_launcher.py:40: RuntimeWarning: invalid value encountered in less_equal\n",
      "/home/autodeploy/.local/lib/python3.5/site-packages/ipykernel_launcher.py:41: RuntimeWarning: invalid value encountered in greater_equal\n",
      "/home/autodeploy/.local/lib/python3.5/site-packages/ipykernel_launcher.py:41: RuntimeWarning: invalid value encountered in greater_equal\n"
     ]
    },
    {
     "name": "stderr",
     "output_type": "stream",
     "text": [
      "/home/autodeploy/.local/lib/python3.5/site-packages/ipykernel_launcher.py:40: RuntimeWarning: invalid value encountered in less_equal\n",
      "/home/autodeploy/.local/lib/python3.5/site-packages/ipykernel_launcher.py:38: RuntimeWarning: invalid value encountered in greater_equal\n",
      "/home/autodeploy/.local/lib/python3.5/site-packages/ipykernel_launcher.py:40: RuntimeWarning: invalid value encountered in less_equal\n",
      "/home/autodeploy/.local/lib/python3.5/site-packages/ipykernel_launcher.py:37: RuntimeWarning: invalid value encountered in less_equal\n",
      "/home/autodeploy/.local/lib/python3.5/site-packages/ipykernel_launcher.py:38: RuntimeWarning: invalid value encountered in greater_equal\n",
      "/home/autodeploy/.local/lib/python3.5/site-packages/ipykernel_launcher.py:38: RuntimeWarning: invalid value encountered in greater_equal\n",
      "/home/autodeploy/.local/lib/python3.5/site-packages/ipykernel_launcher.py:40: RuntimeWarning: invalid value encountered in less_equal\n",
      "/home/autodeploy/.local/lib/python3.5/site-packages/ipykernel_launcher.py:40: RuntimeWarning: invalid value encountered in less_equal\n",
      "/home/autodeploy/.local/lib/python3.5/site-packages/ipykernel_launcher.py:38: RuntimeWarning: invalid value encountered in greater_equal\n",
      "/home/autodeploy/.local/lib/python3.5/site-packages/ipykernel_launcher.py:41: RuntimeWarning: invalid value encountered in greater_equal\n",
      "/home/autodeploy/.local/lib/python3.5/site-packages/ipykernel_launcher.py:41: RuntimeWarning: invalid value encountered in greater_equal\n",
      "/home/autodeploy/.local/lib/python3.5/site-packages/ipykernel_launcher.py:41: RuntimeWarning: invalid value encountered in greater_equal\n",
      "/home/autodeploy/.local/lib/python3.5/site-packages/ipykernel_launcher.py:38: RuntimeWarning: invalid value encountered in greater_equal\n",
      "/home/autodeploy/.local/lib/python3.5/site-packages/ipykernel_launcher.py:41: RuntimeWarning: invalid value encountered in greater_equal\n",
      "/home/autodeploy/.local/lib/python3.5/site-packages/ipykernel_launcher.py:40: RuntimeWarning: invalid value encountered in less_equal\n",
      "/home/autodeploy/.local/lib/python3.5/site-packages/ipykernel_launcher.py:40: RuntimeWarning: invalid value encountered in less_equal\n",
      "/home/autodeploy/.local/lib/python3.5/site-packages/ipykernel_launcher.py:41: RuntimeWarning: invalid value encountered in greater_equal\n",
      "/home/autodeploy/.local/lib/python3.5/site-packages/ipykernel_launcher.py:40: RuntimeWarning: invalid value encountered in less_equal\n",
      "/home/autodeploy/.local/lib/python3.5/site-packages/ipykernel_launcher.py:41: RuntimeWarning: invalid value encountered in greater_equal\n",
      "/home/autodeploy/.local/lib/python3.5/site-packages/ipykernel_launcher.py:40: RuntimeWarning: invalid value encountered in less_equal\n",
      "/home/autodeploy/.local/lib/python3.5/site-packages/ipykernel_launcher.py:41: RuntimeWarning: invalid value encountered in greater_equal\n",
      "/home/autodeploy/.local/lib/python3.5/site-packages/ipykernel_launcher.py:40: RuntimeWarning: invalid value encountered in less_equal\n",
      "/home/autodeploy/.local/lib/python3.5/site-packages/ipykernel_launcher.py:40: RuntimeWarning: invalid value encountered in less_equal\n",
      "/home/autodeploy/.local/lib/python3.5/site-packages/ipykernel_launcher.py:41: RuntimeWarning: invalid value encountered in greater_equal\n",
      "/home/autodeploy/.local/lib/python3.5/site-packages/ipykernel_launcher.py:40: RuntimeWarning: invalid value encountered in less_equal\n",
      "/home/autodeploy/.local/lib/python3.5/site-packages/ipykernel_launcher.py:41: RuntimeWarning: invalid value encountered in greater_equal\n",
      "/home/autodeploy/.local/lib/python3.5/site-packages/ipykernel_launcher.py:41: RuntimeWarning: invalid value encountered in greater_equal\n",
      "/home/autodeploy/.local/lib/python3.5/site-packages/ipykernel_launcher.py:41: RuntimeWarning: invalid value encountered in greater_equal\n",
      "/home/autodeploy/.local/lib/python3.5/site-packages/ipykernel_launcher.py:41: RuntimeWarning: invalid value encountered in greater_equal\n",
      "/home/autodeploy/.local/lib/python3.5/site-packages/ipykernel_launcher.py:41: RuntimeWarning: invalid value encountered in greater_equal\n",
      "/home/autodeploy/.local/lib/python3.5/site-packages/ipykernel_launcher.py:41: RuntimeWarning: invalid value encountered in greater_equal\n",
      "/home/autodeploy/.local/lib/python3.5/site-packages/ipykernel_launcher.py:41: RuntimeWarning: invalid value encountered in greater_equal\n",
      "/home/autodeploy/.local/lib/python3.5/site-packages/ipykernel_launcher.py:41: RuntimeWarning: invalid value encountered in greater_equal\n"
     ]
    },
    {
     "name": "stdout",
     "output_type": "stream",
     "text": [
      "CreditScoring-master/Hypotheses/pos_14_0.25  is OVER now!!!\n",
      "CreditScoring-master/Hypotheses/pos_14_0.25  is OVER now!!!\n",
      "CreditScoring-master/Hypotheses/pos_14_0.25  is OVER now!!!\n"
     ]
    },
    {
     "name": "stderr",
     "output_type": "stream",
     "text": [
      "/home/autodeploy/.local/lib/python3.5/site-packages/ipykernel_launcher.py:33: RuntimeWarning: All-NaN axis encountered\n",
      "/home/autodeploy/.local/lib/python3.5/site-packages/ipykernel_launcher.py:34: RuntimeWarning: All-NaN axis encountered\n"
     ]
    },
    {
     "name": "stdout",
     "output_type": "stream",
     "text": [
      "CreditScoring-master/Hypotheses/pos_14_0.25  is OVER now!!!\n",
      "CreditScoring-master/Hypotheses/pos_14_0.25  is OVER now!!!\n",
      "CreditScoring-master/Hypotheses/pos_14_0.25  is OVER now!!!\n",
      "CreditScoring-master/Hypotheses/pos_14_0.25  is OVER now!!!\n",
      "CreditScoring-master/Hypotheses/pos_14_0.25  is OVER now!!!\n",
      "CreditScoring-master/Hypotheses/pos_14_0.25  is OVER now!!!\n",
      "CreditScoring-master/Hypotheses/pos_14_0.25  is OVER now!!!\n",
      "CreditScoring-master/Hypotheses/pos_14_0.25  is OVER now!!!\n",
      "CreditScoring-master/Hypotheses/pos_14_0.25  is OVER now!!!\n",
      "CreditScoring-master/Hypotheses/pos_14_0.25  is OVER now!!!\n",
      "CreditScoring-master/Hypotheses/pos_14_0.25  is OVER now!!!\n"
     ]
    },
    {
     "name": "stderr",
     "output_type": "stream",
     "text": [
      "/home/autodeploy/.local/lib/python3.5/site-packages/ipykernel_launcher.py:33: RuntimeWarning: All-NaN axis encountered\n",
      "/home/autodeploy/.local/lib/python3.5/site-packages/ipykernel_launcher.py:34: RuntimeWarning: All-NaN axis encountered\n"
     ]
    },
    {
     "name": "stdout",
     "output_type": "stream",
     "text": [
      "CreditScoring-master/Hypotheses/pos_14_0.25  is OVER now!!!\n",
      "CreditScoring-master/Hypotheses/pos_14_0.25  is OVER now!!!\n",
      "CreditScoring-master/Hypotheses/pos_14_0.25  is OVER now!!!\n",
      "CreditScoring-master/Hypotheses/pos_14_0.25  is OVER now!!!\n",
      "CreditScoring-master/Hypotheses/pos_14_0.25  is OVER now!!!\n"
     ]
    },
    {
     "name": "stderr",
     "output_type": "stream",
     "text": [
      "/home/autodeploy/.local/lib/python3.5/site-packages/ipykernel_launcher.py:33: RuntimeWarning: All-NaN axis encountered\n",
      "/home/autodeploy/.local/lib/python3.5/site-packages/ipykernel_launcher.py:34: RuntimeWarning: All-NaN axis encountered\n"
     ]
    },
    {
     "name": "stdout",
     "output_type": "stream",
     "text": [
      "CreditScoring-master/Hypotheses/pos_14_0.25  is OVER now!!!\n",
      "CreditScoring-master/Hypotheses/pos_14_0.25  is OVER now!!!\n",
      "CreditScoring-master/Hypotheses/pos_14_0.25  is OVER now!!!\n",
      "CreditScoring-master/Hypotheses/pos_14_0.25  is OVER now!!!\n",
      "CreditScoring-master/Hypotheses/pos_14_0.25  is OVER now!!!\n",
      "CreditScoring-master/Hypotheses/pos_14_0.25  is OVER now!!!\n",
      "CreditScoring-master/Hypotheses/pos_14_0.25  is OVER now!!!\n",
      "CreditScoring-master/Hypotheses/pos_14_0.25  is OVER now!!!\n",
      "CreditScoring-master/Hypotheses/pos_14_0.25  is OVER now!!!\n",
      "CreditScoring-master/Hypotheses/pos_14_0.25  is OVER now!!!\n",
      "CreditScoring-master/Hypotheses/pos_14_0.25  is OVER now!!!\n",
      "CreditScoring-master/Hypotheses/pos_14_0.25  is OVER now!!!\n",
      "CreditScoring-master/Hypotheses/pos_14_0.25  is OVER now!!!\n",
      "CreditScoring-master/Hypotheses/pos_14_0.25  is OVER now!!!\n",
      "CreditScoring-master/Hypotheses/pos_14_0.25  is OVER now!!!\n",
      "CreditScoring-master/Hypotheses/pos_14_0.25  is OVER now!!!\n",
      "CreditScoring-master/Hypotheses/pos_14_0.25  is OVER now!!!\n"
     ]
    },
    {
     "name": "stderr",
     "output_type": "stream",
     "text": [
      "/home/autodeploy/.local/lib/python3.5/site-packages/ipykernel_launcher.py:33: RuntimeWarning: All-NaN axis encountered\n",
      "/home/autodeploy/.local/lib/python3.5/site-packages/ipykernel_launcher.py:34: RuntimeWarning: All-NaN axis encountered\n"
     ]
    },
    {
     "name": "stdout",
     "output_type": "stream",
     "text": [
      "CreditScoring-master/Hypotheses/pos_14_0.25  is OVER now!!!\n",
      "CreditScoring-master/Hypotheses/pos_14_0.25  is OVER now!!!\n",
      "CreditScoring-master/Hypotheses/pos_14_0.25  is OVER now!!!\n",
      "CreditScoring-master/Hypotheses/pos_14_0.25  is OVER now!!!\n",
      "CreditScoring-master/Hypotheses/pos_14_0.25  is OVER now!!!\n",
      "CreditScoring-master/Hypotheses/pos_14_0.25  is OVER now!!!\n"
     ]
    },
    {
     "name": "stderr",
     "output_type": "stream",
     "text": [
      "/home/autodeploy/.local/lib/python3.5/site-packages/ipykernel_launcher.py:33: RuntimeWarning: All-NaN axis encountered\n",
      "/home/autodeploy/.local/lib/python3.5/site-packages/ipykernel_launcher.py:34: RuntimeWarning: All-NaN axis encountered\n"
     ]
    },
    {
     "name": "stdout",
     "output_type": "stream",
     "text": [
      "CreditScoring-master/Hypotheses/pos_14_0.25  is OVER now!!!\n",
      "CreditScoring-master/Hypotheses/pos_14_0.25  is OVER now!!!\n",
      "CreditScoring-master/Hypotheses/pos_14_0.25  is OVER now!!!\n",
      "CreditScoring-master/Hypotheses/pos_14_0.25  is OVER now!!!\n",
      "CreditScoring-master/Hypotheses/pos_14_0.25  is OVER now!!!\n",
      "CreditScoring-master/Hypotheses/pos_14_0.25  is OVER now!!!\n",
      "CreditScoring-master/Hypotheses/pos_14_0.25  is OVER now!!!\n",
      "CreditScoring-master/Hypotheses/pos_14_0.25  is OVER now!!!\n"
     ]
    },
    {
     "name": "stderr",
     "output_type": "stream",
     "text": [
      "/home/autodeploy/.local/lib/python3.5/site-packages/ipykernel_launcher.py:33: RuntimeWarning: All-NaN axis encountered\n",
      "/home/autodeploy/.local/lib/python3.5/site-packages/ipykernel_launcher.py:34: RuntimeWarning: All-NaN axis encountered\n"
     ]
    },
    {
     "name": "stdout",
     "output_type": "stream",
     "text": [
      "CreditScoring-master/Hypotheses/pos_14_0.25  is OVER now!!!\n",
      "CreditScoring-master/Hypotheses/pos_14_0.25  is OVER now!!!\n",
      "CreditScoring-master/Hypotheses/pos_14_0.25  is OVER now!!!\n",
      "CreditScoring-master/Hypotheses/pos_14_0.25  is OVER now!!!\n",
      "CreditScoring-master/Hypotheses/pos_14_0.25  is OVER now!!!\n",
      "CreditScoring-master/Hypotheses/pos_14_0.25  is OVER now!!!\n",
      "CreditScoring-master/Hypotheses/pos_14_0.25  is OVER now!!!\n",
      "CreditScoring-master/Hypotheses/pos_14_0.25  is OVER now!!!\n",
      "CreditScoring-master/Hypotheses/pos_14_0.25  is OVER now!!!\n"
     ]
    },
    {
     "name": "stderr",
     "output_type": "stream",
     "text": [
      "/home/autodeploy/.local/lib/python3.5/site-packages/ipykernel_launcher.py:33: RuntimeWarning: All-NaN axis encountered\n",
      "/home/autodeploy/.local/lib/python3.5/site-packages/ipykernel_launcher.py:34: RuntimeWarning: All-NaN axis encountered\n"
     ]
    },
    {
     "name": "stdout",
     "output_type": "stream",
     "text": [
      "CreditScoring-master/Hypotheses/pos_14_0.25  is OVER now!!!\n"
     ]
    },
    {
     "name": "stderr",
     "output_type": "stream",
     "text": [
      "/home/autodeploy/.local/lib/python3.5/site-packages/ipykernel_launcher.py:33: RuntimeWarning: All-NaN axis encountered\n",
      "/home/autodeploy/.local/lib/python3.5/site-packages/ipykernel_launcher.py:34: RuntimeWarning: All-NaN axis encountered\n"
     ]
    },
    {
     "name": "stdout",
     "output_type": "stream",
     "text": [
      "CreditScoring-master/Hypotheses/pos_14_0.25  is OVER now!!!\n"
     ]
    },
    {
     "name": "stderr",
     "output_type": "stream",
     "text": [
      "/home/autodeploy/.local/lib/python3.5/site-packages/ipykernel_launcher.py:33: RuntimeWarning: All-NaN axis encountered\n",
      "/home/autodeploy/.local/lib/python3.5/site-packages/ipykernel_launcher.py:34: RuntimeWarning: All-NaN axis encountered\n"
     ]
    },
    {
     "name": "stdout",
     "output_type": "stream",
     "text": [
      "CreditScoring-master/Hypotheses/pos_14_0.25  is OVER now!!!\n",
      "CreditScoring-master/Hypotheses/pos_14_0.25  is OVER now!!!\n",
      "CreditScoring-master/Hypotheses/pos_14_0.25  is OVER now!!!\n",
      "CreditScoring-master/Hypotheses/pos_14_0.25  is OVER now!!!\n",
      "CreditScoring-master/Hypotheses/pos_14_0.25  is OVER now!!!\n",
      "CreditScoring-master/Hypotheses/pos_14_0.25  is OVER now!!!\n",
      "CreditScoring-master/Hypotheses/pos_14_0.25  is OVER now!!!\n",
      "CreditScoring-master/Hypotheses/pos_14_0.25  is OVER now!!!\n",
      "CreditScoring-master/Hypotheses/pos_14_0.25  is OVER now!!!\n",
      "CreditScoring-master/Hypotheses/pos_14_0.25  is OVER now!!!\n",
      "CreditScoring-master/Hypotheses/pos_14_0.25  is OVER now!!!\n",
      "CreditScoring-master/Hypotheses/pos_14_0.25  is OVER now!!!\n",
      "CreditScoring-master/Hypotheses/pos_14_0.25  is OVER now!!!\n",
      "CreditScoring-master/Hypotheses/pos_14_0.25  is OVER now!!!\n",
      "CreditScoring-master/Hypotheses/pos_14_0.25  is OVER now!!!\n",
      "CreditScoring-master/Hypotheses/pos_14_0.25  is OVER now!!!\n",
      "CreditScoring-master/Hypotheses/pos_14_0.25  is OVER now!!!\n",
      "CreditScoring-master/Hypotheses/pos_14_0.25  is OVER now!!!\n",
      "CreditScoring-master/Hypotheses/pos_14_0.25  is OVER now!!!\n"
     ]
    },
    {
     "name": "stderr",
     "output_type": "stream",
     "text": [
      "/home/autodeploy/.local/lib/python3.5/site-packages/ipykernel_launcher.py:33: RuntimeWarning: All-NaN axis encountered\n",
      "/home/autodeploy/.local/lib/python3.5/site-packages/ipykernel_launcher.py:34: RuntimeWarning: All-NaN axis encountered\n"
     ]
    },
    {
     "name": "stdout",
     "output_type": "stream",
     "text": [
      "CreditScoring-master/Hypotheses/pos_14_0.25  is OVER now!!!\n",
      "CreditScoring-master/Hypotheses/pos_14_0.25  is OVER now!!!\n",
      "CreditScoring-master/Hypotheses/pos_14_0.25  is OVER now!!!\n",
      "CreditScoring-master/Hypotheses/pos_14_0.25  is OVER now!!!\n"
     ]
    },
    {
     "name": "stderr",
     "output_type": "stream",
     "text": [
      "/home/autodeploy/.local/lib/python3.5/site-packages/ipykernel_launcher.py:33: RuntimeWarning: All-NaN axis encountered\n",
      "/home/autodeploy/.local/lib/python3.5/site-packages/ipykernel_launcher.py:34: RuntimeWarning: All-NaN axis encountered\n"
     ]
    },
    {
     "name": "stdout",
     "output_type": "stream",
     "text": [
      "CreditScoring-master/Hypotheses/pos_14_0.25  is OVER now!!!\n",
      "CreditScoring-master/Hypotheses/pos_14_0.25  is OVER now!!!\n",
      "CreditScoring-master/Hypotheses/pos_14_0.25  is OVER now!!!\n",
      "CreditScoring-master/Hypotheses/pos_14_0.25  is OVER now!!!\n",
      "CreditScoring-master/Hypotheses/pos_14_0.25  is OVER now!!!\n",
      "CreditScoring-master/Hypotheses/pos_14_0.25  is OVER now!!!\n",
      "CreditScoring-master/Hypotheses/pos_14_0.25  is OVER now!!!\n",
      "CreditScoring-master/Hypotheses/pos_14_0.25  is OVER now!!!\n"
     ]
    },
    {
     "name": "stderr",
     "output_type": "stream",
     "text": [
      "/home/autodeploy/.local/lib/python3.5/site-packages/ipykernel_launcher.py:33: RuntimeWarning: All-NaN axis encountered\n",
      "/home/autodeploy/.local/lib/python3.5/site-packages/ipykernel_launcher.py:34: RuntimeWarning: All-NaN axis encountered\n"
     ]
    },
    {
     "name": "stdout",
     "output_type": "stream",
     "text": [
      "CreditScoring-master/Hypotheses/pos_14_0.25  is OVER now!!!\n"
     ]
    },
    {
     "name": "stderr",
     "output_type": "stream",
     "text": [
      "/home/autodeploy/.local/lib/python3.5/site-packages/ipykernel_launcher.py:33: RuntimeWarning: All-NaN axis encountered\n",
      "/home/autodeploy/.local/lib/python3.5/site-packages/ipykernel_launcher.py:34: RuntimeWarning: All-NaN axis encountered\n"
     ]
    },
    {
     "name": "stdout",
     "output_type": "stream",
     "text": [
      "CreditScoring-master/Hypotheses/pos_14_0.25  is OVER now!!!\n",
      "CreditScoring-master/Hypotheses/pos_14_0.25  is OVER now!!!\n",
      "CreditScoring-master/Hypotheses/pos_14_0.25  is OVER now!!!\n",
      "CreditScoring-master/Hypotheses/pos_14_0.25  is OVER now!!!\n",
      "CreditScoring-master/Hypotheses/pos_14_0.25  is OVER now!!!\n",
      "CreditScoring-master/Hypotheses/pos_14_0.25  is OVER now!!!\n",
      "CreditScoring-master/Hypotheses/pos_14_0.25  is OVER now!!!\n"
     ]
    },
    {
     "name": "stderr",
     "output_type": "stream",
     "text": [
      "/home/autodeploy/.local/lib/python3.5/site-packages/ipykernel_launcher.py:33: RuntimeWarning: All-NaN axis encountered\n",
      "/home/autodeploy/.local/lib/python3.5/site-packages/ipykernel_launcher.py:34: RuntimeWarning: All-NaN axis encountered\n"
     ]
    },
    {
     "name": "stdout",
     "output_type": "stream",
     "text": [
      "CreditScoring-master/Hypotheses/pos_14_0.25  is OVER now!!!\n",
      "CreditScoring-master/Hypotheses/pos_14_0.25  is OVER now!!!\n",
      "CreditScoring-master/Hypotheses/pos_14_0.25  is OVER now!!!\n",
      "CreditScoring-master/Hypotheses/pos_14_0.25  is OVER now!!!\n",
      "CreditScoring-master/Hypotheses/pos_14_0.25  is OVER now!!!\n",
      "CreditScoring-master/Hypotheses/pos_14_0.25  is OVER now!!!\n",
      "CreditScoring-master/Hypotheses/pos_14_0.25  is OVER now!!!\n",
      "CreditScoring-master/Hypotheses/pos_14_0.25  is OVER now!!!\n",
      "CreditScoring-master/Hypotheses/pos_14_0.25  is OVER now!!!\n",
      "CreditScoring-master/Hypotheses/pos_14_0.25  is OVER now!!!\n",
      "CreditScoring-master/Hypotheses/pos_14_0.25  is OVER now!!!\n",
      "CreditScoring-master/Hypotheses/pos_14_0.25  is OVER now!!!\n",
      "CreditScoring-master/Hypotheses/pos_14_0.25  is OVER now!!!\n"
     ]
    },
    {
     "name": "stderr",
     "output_type": "stream",
     "text": [
      "/home/autodeploy/.local/lib/python3.5/site-packages/ipykernel_launcher.py:33: RuntimeWarning: All-NaN axis encountered\n",
      "/home/autodeploy/.local/lib/python3.5/site-packages/ipykernel_launcher.py:34: RuntimeWarning: All-NaN axis encountered\n"
     ]
    },
    {
     "name": "stdout",
     "output_type": "stream",
     "text": [
      "CreditScoring-master/Hypotheses/pos_14_0.25  is OVER now!!!\n",
      "CreditScoring-master/Hypotheses/pos_14_0.25  is OVER now!!!\n",
      "CreditScoring-master/Hypotheses/pos_14_0.25  is OVER now!!!\n",
      "CreditScoring-master/Hypotheses/pos_14_0.25  is OVER now!!!\n",
      "CreditScoring-master/Hypotheses/pos_14_0.25  is OVER now!!!\n",
      "CreditScoring-master/Hypotheses/pos_14_0.25  is OVER now!!!\n",
      "CreditScoring-master/Hypotheses/pos_14_0.25  is OVER now!!!\n",
      "CreditScoring-master/Hypotheses/pos_14_0.25  is OVER now!!!\n",
      "CreditScoring-master/Hypotheses/pos_14_0.25  is OVER now!!!\n",
      "CreditScoring-master/Hypotheses/pos_14_0.25  is OVER now!!!\n",
      "CreditScoring-master/Hypotheses/pos_14_0.25  is OVER now!!!\n",
      "CreditScoring-master/Hypotheses/pos_14_0.25  is OVER now!!!\n",
      "CreditScoring-master/Hypotheses/pos_14_0.25  is OVER now!!!\n"
     ]
    },
    {
     "name": "stderr",
     "output_type": "stream",
     "text": [
      "/home/autodeploy/.local/lib/python3.5/site-packages/ipykernel_launcher.py:33: RuntimeWarning: All-NaN axis encountered\n",
      "/home/autodeploy/.local/lib/python3.5/site-packages/ipykernel_launcher.py:34: RuntimeWarning: All-NaN axis encountered\n"
     ]
    },
    {
     "name": "stdout",
     "output_type": "stream",
     "text": [
      "CreditScoring-master/Hypotheses/pos_14_0.25  is OVER now!!!\n",
      "CreditScoring-master/Hypotheses/pos_14_0.25  is OVER now!!!\n",
      "CreditScoring-master/Hypotheses/pos_14_0.25  is OVER now!!!\n",
      "CreditScoring-master/Hypotheses/pos_14_0.25  is OVER now!!!\n",
      "CreditScoring-master/Hypotheses/pos_14_0.25  is OVER now!!!\n",
      "CreditScoring-master/Hypotheses/pos_14_0.25  is OVER now!!!\n",
      "CreditScoring-master/Hypotheses/pos_14_0.25  is OVER now!!!\n",
      "CreditScoring-master/Hypotheses/pos_14_0.25  is OVER now!!!\n"
     ]
    },
    {
     "name": "stderr",
     "output_type": "stream",
     "text": [
      "/home/autodeploy/.local/lib/python3.5/site-packages/ipykernel_launcher.py:33: RuntimeWarning: All-NaN axis encountered\n",
      "/home/autodeploy/.local/lib/python3.5/site-packages/ipykernel_launcher.py:34: RuntimeWarning: All-NaN axis encountered\n"
     ]
    },
    {
     "name": "stdout",
     "output_type": "stream",
     "text": [
      "CreditScoring-master/Hypotheses/pos_14_0.25  is OVER now!!!\n",
      "CreditScoring-master/Hypotheses/pos_14_0.25  is OVER now!!!\n",
      "CreditScoring-master/Hypotheses/pos_14_0.25  is OVER now!!!\n",
      "CreditScoring-master/Hypotheses/pos_14_0.25  is OVER now!!!\n",
      "CreditScoring-master/Hypotheses/pos_14_0.25  is OVER now!!!\n",
      "CreditScoring-master/Hypotheses/pos_14_0.25  is OVER now!!!\n",
      "CreditScoring-master/Hypotheses/pos_14_0.25  is OVER now!!!\n"
     ]
    },
    {
     "name": "stderr",
     "output_type": "stream",
     "text": [
      "/home/autodeploy/.local/lib/python3.5/site-packages/ipykernel_launcher.py:33: RuntimeWarning: All-NaN axis encountered\n",
      "/home/autodeploy/.local/lib/python3.5/site-packages/ipykernel_launcher.py:34: RuntimeWarning: All-NaN axis encountered\n"
     ]
    },
    {
     "name": "stdout",
     "output_type": "stream",
     "text": [
      "CreditScoring-master/Hypotheses/pos_14_0.25  is OVER now!!!\n",
      "CreditScoring-master/Hypotheses/pos_14_0.25  is OVER now!!!\n"
     ]
    },
    {
     "name": "stderr",
     "output_type": "stream",
     "text": [
      "/home/autodeploy/.local/lib/python3.5/site-packages/ipykernel_launcher.py:33: RuntimeWarning: All-NaN axis encountered\n",
      "/home/autodeploy/.local/lib/python3.5/site-packages/ipykernel_launcher.py:34: RuntimeWarning: All-NaN axis encountered\n"
     ]
    },
    {
     "name": "stdout",
     "output_type": "stream",
     "text": [
      "CreditScoring-master/Hypotheses/pos_14_0.25  is OVER now!!!\n",
      "CreditScoring-master/Hypotheses/pos_14_0.25  is OVER now!!!\n",
      "CreditScoring-master/Hypotheses/pos_14_0.25  is OVER now!!!\n",
      "CreditScoring-master/Hypotheses/pos_14_0.25  is OVER now!!!\n"
     ]
    },
    {
     "name": "stderr",
     "output_type": "stream",
     "text": [
      "/home/autodeploy/.local/lib/python3.5/site-packages/ipykernel_launcher.py:33: RuntimeWarning: All-NaN axis encountered\n",
      "/home/autodeploy/.local/lib/python3.5/site-packages/ipykernel_launcher.py:34: RuntimeWarning: All-NaN axis encountered\n"
     ]
    },
    {
     "name": "stdout",
     "output_type": "stream",
     "text": [
      "CreditScoring-master/Hypotheses/pos_14_0.25  is OVER now!!!\n",
      "CreditScoring-master/Hypotheses/pos_14_0.25  is OVER now!!!\n",
      "CreditScoring-master/Hypotheses/pos_14_0.25  is OVER now!!!\n",
      "CreditScoring-master/Hypotheses/pos_14_0.25  is OVER now!!!\n",
      "CreditScoring-master/Hypotheses/pos_14_0.25  is OVER now!!!\n",
      "CreditScoring-master/Hypotheses/pos_14_0.25  is OVER now!!!\n",
      "CreditScoring-master/Hypotheses/pos_14_0.25  is OVER now!!!\n",
      "CreditScoring-master/Hypotheses/pos_14_0.25  is OVER now!!!\n",
      "CreditScoring-master/Hypotheses/pos_14_0.25  is OVER now!!!\n",
      "CreditScoring-master/Hypotheses/pos_14_0.25  is OVER now!!!\n",
      "CreditScoring-master/Hypotheses/pos_14_0.25  is OVER now!!!\n",
      "CreditScoring-master/Hypotheses/pos_14_0.25  is OVER now!!!\n",
      "CreditScoring-master/Hypotheses/pos_14_0.25  is OVER now!!!\n",
      "CreditScoring-master/Hypotheses/pos_14_0.25  is OVER now!!!\n"
     ]
    },
    {
     "name": "stderr",
     "output_type": "stream",
     "text": [
      "/home/autodeploy/.local/lib/python3.5/site-packages/ipykernel_launcher.py:33: RuntimeWarning: All-NaN axis encountered\n",
      "/home/autodeploy/.local/lib/python3.5/site-packages/ipykernel_launcher.py:34: RuntimeWarning: All-NaN axis encountered\n"
     ]
    },
    {
     "name": "stdout",
     "output_type": "stream",
     "text": [
      "CreditScoring-master/Hypotheses/pos_14_0.25  is OVER now!!!\n",
      "CreditScoring-master/Hypotheses/pos_14_0.25  is OVER now!!!\n",
      "CreditScoring-master/Hypotheses/pos_14_0.25  is OVER now!!!\n",
      "CreditScoring-master/Hypotheses/pos_14_0.25  is OVER now!!!\n",
      "CreditScoring-master/Hypotheses/pos_14_0.25  is OVER now!!!\n",
      "CreditScoring-master/Hypotheses/pos_14_0.25  is OVER now!!!\n"
     ]
    },
    {
     "name": "stderr",
     "output_type": "stream",
     "text": [
      "/home/autodeploy/.local/lib/python3.5/site-packages/ipykernel_launcher.py:33: RuntimeWarning: All-NaN axis encountered\n",
      "/home/autodeploy/.local/lib/python3.5/site-packages/ipykernel_launcher.py:34: RuntimeWarning: All-NaN axis encountered\n"
     ]
    },
    {
     "name": "stdout",
     "output_type": "stream",
     "text": [
      "CreditScoring-master/Hypotheses/pos_14_0.25  is OVER now!!!\n"
     ]
    },
    {
     "name": "stderr",
     "output_type": "stream",
     "text": [
      "/home/autodeploy/.local/lib/python3.5/site-packages/ipykernel_launcher.py:33: RuntimeWarning: All-NaN axis encountered\n",
      "/home/autodeploy/.local/lib/python3.5/site-packages/ipykernel_launcher.py:34: RuntimeWarning: All-NaN axis encountered\n"
     ]
    },
    {
     "name": "stdout",
     "output_type": "stream",
     "text": [
      "CreditScoring-master/Hypotheses/pos_14_0.25  is OVER now!!!\n",
      "CreditScoring-master/Hypotheses/pos_14_0.25  is OVER now!!!\n",
      "CreditScoring-master/Hypotheses/pos_14_0.25  is OVER now!!!\n",
      "CreditScoring-master/Hypotheses/pos_14_0.25  is OVER now!!!\n",
      "CreditScoring-master/Hypotheses/pos_14_0.25  is OVER now!!!\n",
      "CreditScoring-master/Hypotheses/pos_14_0.25  is OVER now!!!\n"
     ]
    },
    {
     "name": "stderr",
     "output_type": "stream",
     "text": [
      "/home/autodeploy/.local/lib/python3.5/site-packages/ipykernel_launcher.py:33: RuntimeWarning: All-NaN axis encountered\n",
      "/home/autodeploy/.local/lib/python3.5/site-packages/ipykernel_launcher.py:34: RuntimeWarning: All-NaN axis encountered\n"
     ]
    },
    {
     "name": "stdout",
     "output_type": "stream",
     "text": [
      "CreditScoring-master/Hypotheses/pos_14_0.25  is OVER now!!!\n",
      "CreditScoring-master/Hypotheses/pos_14_0.25  is OVER now!!!\n",
      "CreditScoring-master/Hypotheses/pos_14_0.25  is OVER now!!!\n",
      "CreditScoring-master/Hypotheses/pos_14_0.25  is OVER now!!!\n",
      "CreditScoring-master/Hypotheses/pos_14_0.25  is OVER now!!!\n",
      "CreditScoring-master/Hypotheses/pos_14_0.25  is OVER now!!!\n",
      "CreditScoring-master/Hypotheses/pos_14_0.25  is OVER now!!!\n",
      "CreditScoring-master/Hypotheses/pos_14_0.25  is OVER now!!!\n",
      "CreditScoring-master/Hypotheses/pos_14_0.25  is OVER now!!!\n",
      "CreditScoring-master/Hypotheses/pos_14_0.25  is OVER now!!!\n",
      "CreditScoring-master/Hypotheses/pos_14_0.25  is OVER now!!!\n",
      "CreditScoring-master/Hypotheses/pos_14_0.25  is OVER now!!!\n",
      "CreditScoring-master/Hypotheses/pos_14_0.25  is OVER now!!!\n",
      "CreditScoring-master/Hypotheses/pos_14_0.25  is OVER now!!!\n",
      "CreditScoring-master/Hypotheses/pos_14_0.25  is OVER now!!!\n",
      "CreditScoring-master/Hypotheses/pos_14_0.25  is OVER now!!!\n",
      "CreditScoring-master/Hypotheses/pos_14_0.25  is OVER now!!!\n",
      "CreditScoring-master/Hypotheses/pos_14_0.25  is OVER now!!!\n"
     ]
    },
    {
     "name": "stderr",
     "output_type": "stream",
     "text": [
      "/home/autodeploy/.local/lib/python3.5/site-packages/ipykernel_launcher.py:33: RuntimeWarning: All-NaN axis encountered\n",
      "/home/autodeploy/.local/lib/python3.5/site-packages/ipykernel_launcher.py:34: RuntimeWarning: All-NaN axis encountered\n"
     ]
    },
    {
     "name": "stdout",
     "output_type": "stream",
     "text": [
      "CreditScoring-master/Hypotheses/pos_14_0.25  is OVER now!!!\n",
      "CreditScoring-master/Hypotheses/pos_14_0.25  is OVER now!!!\n",
      "CreditScoring-master/Hypotheses/pos_14_0.25  is OVER now!!!\n",
      "CreditScoring-master/Hypotheses/pos_14_0.25  is OVER now!!!\n",
      "CreditScoring-master/Hypotheses/pos_14_0.25  is OVER now!!!\n",
      "CreditScoring-master/Hypotheses/pos_14_0.25  is OVER now!!!\n",
      "CreditScoring-master/Hypotheses/pos_14_0.25  is OVER now!!!\n",
      "CreditScoring-master/Hypotheses/pos_14_0.25  is OVER now!!!\n",
      "CreditScoring-master/Hypotheses/pos_14_0.25  is OVER now!!!\n",
      "CreditScoring-master/Hypotheses/pos_14_0.25  is OVER now!!!\n",
      "CreditScoring-master/Hypotheses/pos_14_0.25  is OVER now!!!\n"
     ]
    },
    {
     "name": "stderr",
     "output_type": "stream",
     "text": [
      "/home/autodeploy/.local/lib/python3.5/site-packages/ipykernel_launcher.py:33: RuntimeWarning: All-NaN axis encountered\n",
      "/home/autodeploy/.local/lib/python3.5/site-packages/ipykernel_launcher.py:34: RuntimeWarning: All-NaN axis encountered\n"
     ]
    },
    {
     "name": "stdout",
     "output_type": "stream",
     "text": [
      "CreditScoring-master/Hypotheses/pos_14_0.25  is OVER now!!!\n",
      "CreditScoring-master/Hypotheses/pos_14_0.25  is OVER now!!!\n",
      "CreditScoring-master/Hypotheses/pos_14_0.25  is OVER now!!!\n",
      "CreditScoring-master/Hypotheses/pos_14_0.25  is OVER now!!!\n",
      "CreditScoring-master/Hypotheses/pos_14_0.25  is OVER now!!!\n"
     ]
    },
    {
     "name": "stderr",
     "output_type": "stream",
     "text": [
      "/home/autodeploy/.local/lib/python3.5/site-packages/ipykernel_launcher.py:33: RuntimeWarning: All-NaN axis encountered\n",
      "/home/autodeploy/.local/lib/python3.5/site-packages/ipykernel_launcher.py:34: RuntimeWarning: All-NaN axis encountered\n"
     ]
    },
    {
     "name": "stdout",
     "output_type": "stream",
     "text": [
      "CreditScoring-master/Hypotheses/pos_14_0.25  is OVER now!!!\n",
      "CreditScoring-master/Hypotheses/pos_14_0.25  is OVER now!!!\n",
      "CreditScoring-master/Hypotheses/pos_14_0.25  is OVER now!!!\n"
     ]
    },
    {
     "name": "stderr",
     "output_type": "stream",
     "text": [
      "/home/autodeploy/.local/lib/python3.5/site-packages/ipykernel_launcher.py:33: RuntimeWarning: All-NaN axis encountered\n",
      "/home/autodeploy/.local/lib/python3.5/site-packages/ipykernel_launcher.py:34: RuntimeWarning: All-NaN axis encountered\n"
     ]
    },
    {
     "name": "stdout",
     "output_type": "stream",
     "text": [
      "CreditScoring-master/Hypotheses/pos_14_0.25  is OVER now!!!\n"
     ]
    },
    {
     "name": "stderr",
     "output_type": "stream",
     "text": [
      "/home/autodeploy/.local/lib/python3.5/site-packages/ipykernel_launcher.py:33: RuntimeWarning: All-NaN axis encountered\n",
      "/home/autodeploy/.local/lib/python3.5/site-packages/ipykernel_launcher.py:34: RuntimeWarning: All-NaN axis encountered\n"
     ]
    },
    {
     "name": "stdout",
     "output_type": "stream",
     "text": [
      "CreditScoring-master/Hypotheses/pos_14_0.25  is OVER now!!!\n",
      "CreditScoring-master/Hypotheses/pos_14_0.25  is OVER now!!!\n",
      "CreditScoring-master/Hypotheses/pos_14_0.25  is OVER now!!!\n",
      "CreditScoring-master/Hypotheses/pos_14_0.25  is OVER now!!!\n",
      "CreditScoring-master/Hypotheses/pos_14_0.25  is OVER now!!!\n",
      "CreditScoring-master/Hypotheses/pos_14_0.25  is OVER now!!!\n",
      "CreditScoring-master/Hypotheses/pos_14_0.25  is OVER now!!!\n",
      "CreditScoring-master/Hypotheses/pos_14_0.25  is OVER now!!!\n",
      "CreditScoring-master/Hypotheses/pos_14_0.25  is OVER now!!!\n",
      "CreditScoring-master/Hypotheses/pos_14_0.25  is OVER now!!!\n",
      "CreditScoring-master/Hypotheses/pos_14_0.25  is OVER now!!!\n",
      "CreditScoring-master/Hypotheses/pos_14_0.25  is OVER now!!!\n",
      "CreditScoring-master/Hypotheses/pos_14_0.25  is OVER now!!!\n",
      "CreditScoring-master/Hypotheses/pos_14_0.25  is OVER now!!!\n",
      "CreditScoring-master/Hypotheses/pos_14_0.25  is OVER now!!!\n",
      "CreditScoring-master/Hypotheses/pos_14_0.25  is OVER now!!!\n",
      "CreditScoring-master/Hypotheses/pos_14_0.25  is OVER now!!!\n",
      "CreditScoring-master/Hypotheses/pos_14_0.25  is OVER now!!!\n",
      "CreditScoring-master/Hypotheses/pos_14_0.25  is OVER now!!!\n",
      "CreditScoring-master/Hypotheses/pos_14_0.25  is OVER now!!!\n",
      "CreditScoring-master/Hypotheses/pos_14_0.25  is OVER now!!!\n",
      "CreditScoring-master/Hypotheses/pos_14_0.25  is OVER now!!!\n",
      "CreditScoring-master/Hypotheses/pos_14_0.25  is OVER now!!!\n",
      "CreditScoring-master/Hypotheses/pos_14_0.25  is OVER now!!!\n"
     ]
    },
    {
     "name": "stderr",
     "output_type": "stream",
     "text": [
      "/home/autodeploy/.local/lib/python3.5/site-packages/ipykernel_launcher.py:33: RuntimeWarning: All-NaN axis encountered\n",
      "/home/autodeploy/.local/lib/python3.5/site-packages/ipykernel_launcher.py:34: RuntimeWarning: All-NaN axis encountered\n"
     ]
    },
    {
     "name": "stdout",
     "output_type": "stream",
     "text": [
      "CreditScoring-master/Hypotheses/pos_14_0.25  is OVER now!!!\n",
      "CreditScoring-master/Hypotheses/pos_14_0.25  is OVER now!!!\n",
      "CreditScoring-master/Hypotheses/pos_14_0.25  is OVER now!!!\n",
      "CreditScoring-master/Hypotheses/pos_14_0.25  is OVER now!!!\n",
      "CreditScoring-master/Hypotheses/pos_14_0.25  is OVER now!!!\n",
      "CreditScoring-master/Hypotheses/pos_14_0.25  is OVER now!!!\n",
      "CreditScoring-master/Hypotheses/pos_14_0.25  is OVER now!!!\n",
      "CreditScoring-master/Hypotheses/pos_14_0.25  is OVER now!!!\n",
      "CreditScoring-master/Hypotheses/pos_14_0.25  is OVER now!!!\n",
      "CreditScoring-master/Hypotheses/pos_14_0.25  is OVER now!!!\n"
     ]
    },
    {
     "name": "stderr",
     "output_type": "stream",
     "text": [
      "/home/autodeploy/.local/lib/python3.5/site-packages/ipykernel_launcher.py:33: RuntimeWarning: All-NaN axis encountered\n",
      "/home/autodeploy/.local/lib/python3.5/site-packages/ipykernel_launcher.py:34: RuntimeWarning: All-NaN axis encountered\n"
     ]
    },
    {
     "name": "stdout",
     "output_type": "stream",
     "text": [
      "CreditScoring-master/Hypotheses/pos_14_0.25  is OVER now!!!\n",
      "CreditScoring-master/Hypotheses/pos_14_0.25  is OVER now!!!\n",
      "CreditScoring-master/Hypotheses/pos_14_0.25  is OVER now!!!\n",
      "CreditScoring-master/Hypotheses/pos_14_0.25  is OVER now!!!\n",
      "CreditScoring-master/Hypotheses/pos_14_0.25  is OVER now!!!\n",
      "CreditScoring-master/Hypotheses/pos_14_0.25  is OVER now!!!\n",
      "CreditScoring-master/Hypotheses/pos_14_0.25  is OVER now!!!\n",
      "CreditScoring-master/Hypotheses/pos_14_0.25  is OVER now!!!\n",
      "CreditScoring-master/Hypotheses/pos_14_0.25  is OVER now!!!\n",
      "CreditScoring-master/Hypotheses/pos_14_0.25  is OVER now!!!\n",
      "CreditScoring-master/Hypotheses/pos_14_0.25  is OVER now!!!\n",
      "CreditScoring-master/Hypotheses/pos_14_0.25  is OVER now!!!\n",
      "CreditScoring-master/Hypotheses/pos_14_0.25  is OVER now!!!\n",
      "CreditScoring-master/Hypotheses/pos_14_0.25  is OVER now!!!\n",
      "CreditScoring-master/Hypotheses/pos_14_0.25  is OVER now!!!\n",
      "CreditScoring-master/Hypotheses/pos_14_0.25  is OVER now!!!\n",
      "CreditScoring-master/Hypotheses/pos_14_0.25  is OVER now!!!\n",
      "CreditScoring-master/Hypotheses/pos_14_0.25  is OVER now!!!\n",
      "CreditScoring-master/Hypotheses/pos_14_0.25  is OVER now!!!\n",
      "CreditScoring-master/Hypotheses/pos_14_0.25  is OVER now!!!\n",
      "CreditScoring-master/Hypotheses/pos_14_0.25  is OVER now!!!\n"
     ]
    },
    {
     "name": "stderr",
     "output_type": "stream",
     "text": [
      "/home/autodeploy/.local/lib/python3.5/site-packages/ipykernel_launcher.py:33: RuntimeWarning: All-NaN axis encountered\n",
      "/home/autodeploy/.local/lib/python3.5/site-packages/ipykernel_launcher.py:34: RuntimeWarning: All-NaN axis encountered\n"
     ]
    },
    {
     "name": "stdout",
     "output_type": "stream",
     "text": [
      "CreditScoring-master/Hypotheses/pos_14_0.25  is OVER now!!!\n",
      "CreditScoring-master/Hypotheses/pos_14_0.25  is OVER now!!!\n",
      "CreditScoring-master/Hypotheses/pos_14_0.25  is OVER now!!!\n",
      "CreditScoring-master/Hypotheses/pos_14_0.25  is OVER now!!!\n",
      "CreditScoring-master/Hypotheses/pos_14_0.25  is OVER now!!!\n",
      "CreditScoring-master/Hypotheses/pos_14_0.25  is OVER now!!!\n",
      "CreditScoring-master/Hypotheses/pos_14_0.25  is OVER now!!!\n",
      "CreditScoring-master/Hypotheses/pos_14_0.25  is OVER now!!!\n",
      "CreditScoring-master/Hypotheses/pos_14_0.25  is OVER now!!!\n",
      "CreditScoring-master/Hypotheses/pos_14_0.25  is OVER now!!!\n",
      "CreditScoring-master/Hypotheses/pos_14_0.25  is OVER now!!!\n",
      "CreditScoring-master/Hypotheses/pos_14_0.25  is OVER now!!!\n",
      "CreditScoring-master/Hypotheses/pos_14_0.25  is OVER now!!!\n",
      "CreditScoring-master/Hypotheses/pos_14_0.25  is OVER now!!!\n",
      "CreditScoring-master/Hypotheses/pos_14_0.25  is OVER now!!!\n",
      "CreditScoring-master/Hypotheses/pos_14_0.25  is OVER now!!!\n",
      "CreditScoring-master/Hypotheses/pos_14_0.25  is OVER now!!!\n",
      "CreditScoring-master/Hypotheses/pos_14_0.25  is OVER now!!!\n",
      "CreditScoring-master/Hypotheses/pos_14_0.25  is OVER now!!!\n",
      "CreditScoring-master/Hypotheses/pos_14_0.25  is OVER now!!!\n",
      "CreditScoring-master/Hypotheses/pos_14_0.25  is OVER now!!!\n",
      "CreditScoring-master/Hypotheses/pos_14_0.25  is OVER now!!!\n",
      "CreditScoring-master/Hypotheses/pos_14_0.25  is OVER now!!!\n"
     ]
    },
    {
     "name": "stderr",
     "output_type": "stream",
     "text": [
      "/home/autodeploy/.local/lib/python3.5/site-packages/ipykernel_launcher.py:33: RuntimeWarning: All-NaN axis encountered\n",
      "/home/autodeploy/.local/lib/python3.5/site-packages/ipykernel_launcher.py:34: RuntimeWarning: All-NaN axis encountered\n"
     ]
    },
    {
     "name": "stdout",
     "output_type": "stream",
     "text": [
      "CreditScoring-master/Hypotheses/pos_14_0.25  is OVER now!!!\n",
      "CreditScoring-master/Hypotheses/pos_14_0.25  is OVER now!!!\n",
      "CreditScoring-master/Hypotheses/pos_14_0.25  is OVER now!!!\n",
      "CreditScoring-master/Hypotheses/pos_14_0.25  is OVER now!!!\n",
      "CreditScoring-master/Hypotheses/pos_14_0.25  is OVER now!!!\n",
      "CreditScoring-master/Hypotheses/pos_14_0.25  is OVER now!!!\n",
      "CreditScoring-master/Hypotheses/pos_14_0.25  is OVER now!!!\n",
      "CreditScoring-master/Hypotheses/pos_14_0.25  is OVER now!!!\n",
      "CreditScoring-master/Hypotheses/pos_14_0.25  is OVER now!!!\n",
      "CreditScoring-master/Hypotheses/pos_14_0.25  is OVER now!!!\n",
      "CreditScoring-master/Hypotheses/pos_14_0.25  is OVER now!!!\n",
      "CreditScoring-master/Hypotheses/pos_14_0.25  is OVER now!!!\n",
      "CreditScoring-master/Hypotheses/pos_14_0.25  is OVER now!!!\n",
      "CreditScoring-master/Hypotheses/pos_14_0.25  is OVER now!!!\n",
      "CreditScoring-master/Hypotheses/pos_14_0.25  is OVER now!!!\n",
      "CreditScoring-master/Hypotheses/pos_14_0.25  is OVER now!!!\n",
      "CreditScoring-master/Hypotheses/pos_14_0.25  is OVER now!!!\n",
      "CreditScoring-master/Hypotheses/pos_14_0.25  is OVER now!!!\n",
      "CreditScoring-master/Hypotheses/pos_14_0.25  is OVER now!!!\n",
      "CreditScoring-master/Hypotheses/pos_14_0.25  is OVER now!!!\n",
      "CreditScoring-master/Hypotheses/pos_14_0.25  is OVER now!!!\n",
      "CreditScoring-master/Hypotheses/pos_14_0.25  is OVER now!!!\n",
      "CreditScoring-master/Hypotheses/pos_14_0.25  is OVER now!!!\n",
      "CreditScoring-master/Hypotheses/pos_14_0.25  is OVER now!!!\n",
      "CreditScoring-master/Hypotheses/pos_14_0.25  is OVER now!!!\n",
      "CreditScoring-master/Hypotheses/pos_14_0.25  is OVER now!!!\n",
      "CreditScoring-master/Hypotheses/pos_14_0.25  is OVER now!!!\n",
      "CreditScoring-master/Hypotheses/pos_14_0.25  is OVER now!!!\n",
      "CreditScoring-master/Hypotheses/pos_14_0.25  is OVER now!!!\n",
      "CreditScoring-master/Hypotheses/pos_14_0.25  is OVER now!!!\n",
      "CreditScoring-master/Hypotheses/pos_14_0.25  is OVER now!!!\n",
      "CreditScoring-master/Hypotheses/pos_14_0.25  is OVER now!!!\n",
      "CreditScoring-master/Hypotheses/pos_14_0.25  is OVER now!!!\n",
      "CreditScoring-master/Hypotheses/pos_14_0.25  is OVER now!!!\n",
      "CreditScoring-master/Hypotheses/pos_14_0.25  is OVER now!!!\n",
      "CreditScoring-master/Hypotheses/pos_14_0.25  is OVER now!!!\n",
      "CreditScoring-master/Hypotheses/pos_14_0.25  is OVER now!!!\n",
      "CreditScoring-master/Hypotheses/pos_14_0.25  is OVER now!!!\n",
      "CreditScoring-master/Hypotheses/pos_14_0.25  is OVER now!!!\n",
      "CreditScoring-master/Hypotheses/pos_14_0.25  is OVER now!!!\n",
      "CreditScoring-master/Hypotheses/pos_14_0.25  is OVER now!!!\n",
      "CreditScoring-master/Hypotheses/pos_14_0.25  is OVER now!!!\n",
      "CreditScoring-master/Hypotheses/pos_14_0.25  is OVER now!!!\n",
      "CreditScoring-master/Hypotheses/pos_14_0.25  is OVER now!!!\n",
      "CreditScoring-master/Hypotheses/pos_14_0.25  is OVER now!!!\n",
      "CreditScoring-master/Hypotheses/pos_14_0.25  is OVER now!!!\n",
      "CreditScoring-master/Hypotheses/pos_14_0.25  is OVER now!!!\n",
      "CreditScoring-master/Hypotheses/pos_14_0.25  is OVER now!!!\n",
      "CreditScoring-master/Hypotheses/pos_14_0.25  is OVER now!!!\n",
      "CreditScoring-master/Hypotheses/pos_14_0.25  is OVER now!!!\n",
      "CreditScoring-master/Hypotheses/pos_14_0.25  is OVER now!!!\n",
      "CreditScoring-master/Hypotheses/pos_14_0.25  is OVER now!!!\n",
      "CreditScoring-master/Hypotheses/pos_14_0.25  is OVER now!!!\n",
      "CreditScoring-master/Hypotheses/pos_14_0.25  is OVER now!!!\n",
      "CreditScoring-master/Hypotheses/pos_14_0.25  is OVER now!!!\n",
      "CreditScoring-master/Hypotheses/pos_14_0.25  is OVER now!!!\n",
      "CreditScoring-master/Hypotheses/pos_14_0.25  is OVER now!!!\n",
      "CreditScoring-master/Hypotheses/pos_14_0.25  is OVER now!!!\n",
      "CreditScoring-master/Hypotheses/pos_14_0.25  is OVER now!!!\n",
      "CreditScoring-master/Hypotheses/pos_14_0.25  is OVER now!!!\n"
     ]
    },
    {
     "name": "stderr",
     "output_type": "stream",
     "text": [
      "/home/autodeploy/.local/lib/python3.5/site-packages/ipykernel_launcher.py:33: RuntimeWarning: All-NaN axis encountered\n",
      "/home/autodeploy/.local/lib/python3.5/site-packages/ipykernel_launcher.py:34: RuntimeWarning: All-NaN axis encountered\n"
     ]
    },
    {
     "name": "stdout",
     "output_type": "stream",
     "text": [
      "CreditScoring-master/Hypotheses/pos_14_0.25  is OVER now!!!\n",
      "CreditScoring-master/Hypotheses/pos_14_0.25  is OVER now!!!\n",
      "CreditScoring-master/Hypotheses/pos_14_0.25  is OVER now!!!\n",
      "CreditScoring-master/Hypotheses/pos_14_0.25  is OVER now!!!\n",
      "CreditScoring-master/Hypotheses/pos_14_0.25  is OVER now!!!\n",
      "CreditScoring-master/Hypotheses/pos_14_0.25  is OVER now!!!\n",
      "CreditScoring-master/Hypotheses/pos_14_0.25  is OVER now!!!\n",
      "CreditScoring-master/Hypotheses/pos_14_0.25  is OVER now!!!\n",
      "CreditScoring-master/Hypotheses/pos_14_0.25  is OVER now!!!\n",
      "CreditScoring-master/Hypotheses/pos_14_0.25  is OVER now!!!\n",
      "CreditScoring-master/Hypotheses/pos_14_0.25  is OVER now!!!\n",
      "CreditScoring-master/Hypotheses/pos_14_0.25  is OVER now!!!\n",
      "CreditScoring-master/Hypotheses/pos_14_0.25  is OVER now!!!\n",
      "CreditScoring-master/Hypotheses/pos_14_0.25  is OVER now!!!\n",
      "CreditScoring-master/Hypotheses/pos_14_0.25  is OVER now!!!\n",
      "CreditScoring-master/Hypotheses/pos_14_0.25  is OVER now!!!\n",
      "CreditScoring-master/Hypotheses/pos_14_0.25  is OVER now!!!\n",
      "CreditScoring-master/Hypotheses/pos_14_0.25  is OVER now!!!\n",
      "CreditScoring-master/Hypotheses/pos_14_0.25  is OVER now!!!\n",
      "CreditScoring-master/Hypotheses/pos_14_0.25  is OVER now!!!\n",
      "CreditScoring-master/Hypotheses/pos_14_0.25  is OVER now!!!\n",
      "CreditScoring-master/Hypotheses/pos_14_0.25  is OVER now!!!\n",
      "CreditScoring-master/Hypotheses/pos_14_0.25  is OVER now!!!\n",
      "CreditScoring-master/Hypotheses/pos_14_0.25  is OVER now!!!\n",
      "CreditScoring-master/Hypotheses/pos_14_0.25  is OVER now!!!\n"
     ]
    },
    {
     "name": "stderr",
     "output_type": "stream",
     "text": [
      "/home/autodeploy/.local/lib/python3.5/site-packages/ipykernel_launcher.py:33: RuntimeWarning: All-NaN axis encountered\n",
      "/home/autodeploy/.local/lib/python3.5/site-packages/ipykernel_launcher.py:34: RuntimeWarning: All-NaN axis encountered\n"
     ]
    },
    {
     "name": "stdout",
     "output_type": "stream",
     "text": [
      "CreditScoring-master/Hypotheses/pos_14_0.25  is OVER now!!!\n",
      "CreditScoring-master/Hypotheses/pos_14_0.25  is OVER now!!!\n",
      "CreditScoring-master/Hypotheses/pos_14_0.25  is OVER now!!!\n",
      "CreditScoring-master/Hypotheses/pos_14_0.25  is OVER now!!!\n",
      "CreditScoring-master/Hypotheses/pos_14_0.25  is OVER now!!!\n"
     ]
    },
    {
     "name": "stderr",
     "output_type": "stream",
     "text": [
      "/home/autodeploy/.local/lib/python3.5/site-packages/ipykernel_launcher.py:33: RuntimeWarning: All-NaN axis encountered\n",
      "/home/autodeploy/.local/lib/python3.5/site-packages/ipykernel_launcher.py:34: RuntimeWarning: All-NaN axis encountered\n"
     ]
    },
    {
     "name": "stdout",
     "output_type": "stream",
     "text": [
      "CreditScoring-master/Hypotheses/pos_14_0.25  is OVER now!!!\n",
      "CreditScoring-master/Hypotheses/pos_14_0.25  is OVER now!!!\n",
      "CreditScoring-master/Hypotheses/pos_14_0.25  is OVER now!!!\n",
      "CreditScoring-master/Hypotheses/pos_14_0.25  is OVER now!!!\n",
      "CreditScoring-master/Hypotheses/pos_14_0.25  is OVER now!!!\n",
      "CreditScoring-master/Hypotheses/pos_14_0.25  is OVER now!!!\n",
      "CreditScoring-master/Hypotheses/pos_14_0.25  is OVER now!!!\n",
      "CreditScoring-master/Hypotheses/pos_14_0.25  is OVER now!!!\n",
      "CreditScoring-master/Hypotheses/pos_14_0.25  is OVER now!!!\n",
      "CreditScoring-master/Hypotheses/pos_14_0.25  is OVER now!!!\n",
      "CreditScoring-master/Hypotheses/pos_14_0.25  is OVER now!!!\n",
      "CreditScoring-master/Hypotheses/pos_14_0.25  is OVER now!!!\n",
      "CreditScoring-master/Hypotheses/pos_14_0.25  is OVER now!!!\n",
      "CreditScoring-master/Hypotheses/pos_14_0.25  is OVER now!!!\n",
      "CreditScoring-master/Hypotheses/pos_14_0.25  is OVER now!!!\n",
      "CreditScoring-master/Hypotheses/pos_14_0.25  is OVER now!!!\n",
      "CreditScoring-master/Hypotheses/pos_14_0.25  is OVER now!!!\n",
      "CreditScoring-master/Hypotheses/pos_14_0.25  is OVER now!!!\n"
     ]
    },
    {
     "name": "stderr",
     "output_type": "stream",
     "text": [
      "/home/autodeploy/.local/lib/python3.5/site-packages/ipykernel_launcher.py:33: RuntimeWarning: All-NaN axis encountered\n",
      "/home/autodeploy/.local/lib/python3.5/site-packages/ipykernel_launcher.py:34: RuntimeWarning: All-NaN axis encountered\n"
     ]
    },
    {
     "name": "stdout",
     "output_type": "stream",
     "text": [
      "CreditScoring-master/Hypotheses/pos_14_0.25  is OVER now!!!\n",
      "CreditScoring-master/Hypotheses/pos_14_0.25  is OVER now!!!\n"
     ]
    },
    {
     "name": "stderr",
     "output_type": "stream",
     "text": [
      "/home/autodeploy/.local/lib/python3.5/site-packages/ipykernel_launcher.py:33: RuntimeWarning: All-NaN axis encountered\n",
      "/home/autodeploy/.local/lib/python3.5/site-packages/ipykernel_launcher.py:34: RuntimeWarning: All-NaN axis encountered\n"
     ]
    },
    {
     "name": "stdout",
     "output_type": "stream",
     "text": [
      "CreditScoring-master/Hypotheses/pos_14_0.25  is OVER now!!!\n",
      "CreditScoring-master/Hypotheses/pos_14_0.25  is OVER now!!!\n",
      "CreditScoring-master/Hypotheses/pos_14_0.25  is OVER now!!!\n",
      "CreditScoring-master/Hypotheses/pos_14_0.25  is OVER now!!!\n",
      "CreditScoring-master/Hypotheses/pos_14_0.25  is OVER now!!!\n",
      "CreditScoring-master/Hypotheses/pos_14_0.25  is OVER now!!!\n",
      "CreditScoring-master/Hypotheses/pos_14_0.25  is OVER now!!!\n",
      "CreditScoring-master/Hypotheses/pos_14_0.25  is OVER now!!!\n",
      "CreditScoring-master/Hypotheses/pos_14_0.25  is OVER now!!!\n",
      "CreditScoring-master/Hypotheses/pos_14_0.25  is OVER now!!!\n",
      "CreditScoring-master/Hypotheses/pos_14_0.25  is OVER now!!!\n",
      "CreditScoring-master/Hypotheses/pos_14_0.25  is OVER now!!!\n",
      "CreditScoring-master/Hypotheses/pos_14_0.25  is OVER now!!!\n",
      "CreditScoring-master/Hypotheses/pos_14_0.25  is OVER now!!!\n",
      "CreditScoring-master/Hypotheses/pos_14_0.25  is OVER now!!!\n",
      "CreditScoring-master/Hypotheses/pos_14_0.25  is OVER now!!!\n",
      "CreditScoring-master/Hypotheses/pos_14_0.25  is OVER now!!!\n",
      "CreditScoring-master/Hypotheses/pos_14_0.25  is OVER now!!!\n",
      "CreditScoring-master/Hypotheses/pos_14_0.25  is OVER now!!!\n",
      "CreditScoring-master/Hypotheses/pos_14_0.25  is OVER now!!!\n",
      "CreditScoring-master/Hypotheses/pos_14_0.25  is OVER now!!!\n",
      "CreditScoring-master/Hypotheses/pos_14_0.25  is OVER now!!!\n",
      "CreditScoring-master/Hypotheses/pos_14_0.25  is OVER now!!!\n",
      "CreditScoring-master/Hypotheses/pos_14_0.25  is OVER now!!!\n",
      "CreditScoring-master/Hypotheses/pos_14_0.25  is OVER now!!!\n",
      "CreditScoring-master/Hypotheses/pos_14_0.25  is OVER now!!!\n",
      "CreditScoring-master/Hypotheses/pos_14_0.25  is OVER now!!!\n",
      "CreditScoring-master/Hypotheses/pos_14_0.25  is OVER now!!!\n",
      "CreditScoring-master/Hypotheses/pos_14_0.25  is OVER now!!!\n",
      "CreditScoring-master/Hypotheses/pos_14_0.25  is OVER now!!!\n",
      "CreditScoring-master/Hypotheses/pos_14_0.25  is OVER now!!!\n",
      "CreditScoring-master/Hypotheses/pos_14_0.25  is OVER now!!!\n",
      "CreditScoring-master/Hypotheses/pos_14_0.25  is OVER now!!!\n",
      "CreditScoring-master/Hypotheses/pos_14_0.25  is OVER now!!!\n",
      "CreditScoring-master/Hypotheses/pos_14_0.25  is OVER now!!!\n",
      "CreditScoring-master/Hypotheses/pos_14_0.25  is OVER now!!!\n",
      "CreditScoring-master/Hypotheses/pos_14_0.25  is OVER now!!!\n",
      "CreditScoring-master/Hypotheses/pos_14_0.25  is OVER now!!!\n",
      "CreditScoring-master/Hypotheses/pos_14_0.25  is OVER now!!!\n",
      "CreditScoring-master/Hypotheses/pos_14_0.25  is OVER now!!!\n",
      "CreditScoring-master/Hypotheses/pos_14_0.25  is OVER now!!!\n",
      "CreditScoring-master/Hypotheses/pos_14_0.25  is OVER now!!!\n",
      "CreditScoring-master/Hypotheses/pos_14_0.25  is OVER now!!!\n",
      "CreditScoring-master/Hypotheses/pos_14_0.25  is OVER now!!!\n",
      "CreditScoring-master/Hypotheses/pos_14_0.25  is OVER now!!!\n",
      "CreditScoring-master/Hypotheses/pos_14_0.25  is OVER now!!!\n",
      "CreditScoring-master/Hypotheses/pos_14_0.25  is OVER now!!!\n",
      "CreditScoring-master/Hypotheses/pos_14_0.25  is OVER now!!!\n",
      "CreditScoring-master/Hypotheses/pos_14_0.25  is OVER now!!!\n",
      "CreditScoring-master/Hypotheses/pos_14_0.25  is OVER now!!!\n",
      "CreditScoring-master/Hypotheses/pos_14_0.25  is OVER now!!!\n",
      "CreditScoring-master/Hypotheses/pos_14_0.25  is OVER now!!!\n",
      "CreditScoring-master/Hypotheses/pos_14_0.25  is OVER now!!!\n",
      "CreditScoring-master/Hypotheses/pos_14_0.25  is OVER now!!!\n",
      "CreditScoring-master/Hypotheses/pos_14_0.25  is OVER now!!!\n",
      "CreditScoring-master/Hypotheses/pos_14_0.25  is OVER now!!!\n",
      "CreditScoring-master/Hypotheses/pos_14_0.25  is OVER now!!!\n",
      "CreditScoring-master/Hypotheses/pos_14_0.25  is OVER now!!!\n"
     ]
    },
    {
     "name": "stderr",
     "output_type": "stream",
     "text": [
      "/home/autodeploy/.local/lib/python3.5/site-packages/ipykernel_launcher.py:33: RuntimeWarning: All-NaN axis encountered\n",
      "/home/autodeploy/.local/lib/python3.5/site-packages/ipykernel_launcher.py:34: RuntimeWarning: All-NaN axis encountered\n"
     ]
    },
    {
     "name": "stdout",
     "output_type": "stream",
     "text": [
      "CreditScoring-master/Hypotheses/pos_14_0.25  is OVER now!!!\n",
      "CreditScoring-master/Hypotheses/pos_14_0.25  is OVER now!!!\n",
      "CreditScoring-master/Hypotheses/pos_14_0.25  is OVER now!!!\n",
      "CreditScoring-master/Hypotheses/pos_14_0.25  is OVER now!!!\n",
      "CreditScoring-master/Hypotheses/pos_14_0.25  is OVER now!!!\n",
      "CreditScoring-master/Hypotheses/pos_14_0.25  is OVER now!!!\n",
      "CreditScoring-master/Hypotheses/pos_14_0.25  is OVER now!!!\n",
      "CreditScoring-master/Hypotheses/pos_14_0.25  is OVER now!!!\n",
      "CreditScoring-master/Hypotheses/pos_14_0.25  is OVER now!!!\n",
      "CreditScoring-master/Hypotheses/pos_14_0.25  is OVER now!!!\n",
      "CreditScoring-master/Hypotheses/pos_14_0.25  is OVER now!!!\n",
      "CreditScoring-master/Hypotheses/pos_14_0.25  is OVER now!!!\n",
      "CreditScoring-master/Hypotheses/pos_14_0.25  is OVER now!!!\n",
      "CreditScoring-master/Hypotheses/pos_14_0.25  is OVER now!!!\n",
      "CreditScoring-master/Hypotheses/pos_14_0.25  is OVER now!!!\n"
     ]
    },
    {
     "name": "stderr",
     "output_type": "stream",
     "text": [
      "/home/autodeploy/.local/lib/python3.5/site-packages/ipykernel_launcher.py:33: RuntimeWarning: All-NaN axis encountered\n",
      "/home/autodeploy/.local/lib/python3.5/site-packages/ipykernel_launcher.py:34: RuntimeWarning: All-NaN axis encountered\n"
     ]
    },
    {
     "name": "stdout",
     "output_type": "stream",
     "text": [
      "CreditScoring-master/Hypotheses/pos_14_0.25  is OVER now!!!\n",
      "CreditScoring-master/Hypotheses/pos_14_0.25  is OVER now!!!\n",
      "CreditScoring-master/Hypotheses/pos_14_0.25  is OVER now!!!\n",
      "CreditScoring-master/Hypotheses/pos_14_0.25  is OVER now!!!\n",
      "CreditScoring-master/Hypotheses/pos_14_0.25  is OVER now!!!\n",
      "CreditScoring-master/Hypotheses/pos_14_0.25  is OVER now!!!\n",
      "CreditScoring-master/Hypotheses/pos_14_0.25  is OVER now!!!\n",
      "CreditScoring-master/Hypotheses/pos_14_0.25  is OVER now!!!\n",
      "CreditScoring-master/Hypotheses/pos_14_0.25  is OVER now!!!\n",
      "CreditScoring-master/Hypotheses/pos_14_0.25  is OVER now!!!\n",
      "CreditScoring-master/Hypotheses/pos_14_0.25  is OVER now!!!\n",
      "CreditScoring-master/Hypotheses/pos_14_0.25  is OVER now!!!\n",
      "CreditScoring-master/Hypotheses/pos_14_0.25  is OVER now!!!\n",
      "CreditScoring-master/Hypotheses/pos_14_0.25  is OVER now!!!\n",
      "CreditScoring-master/Hypotheses/pos_14_0.25  is OVER now!!!\n",
      "CreditScoring-master/Hypotheses/pos_14_0.25  is OVER now!!!\n",
      "CreditScoring-master/Hypotheses/pos_14_0.25  is OVER now!!!\n",
      "CreditScoring-master/Hypotheses/pos_14_0.25  is OVER now!!!\n",
      "CreditScoring-master/Hypotheses/pos_14_0.25  is OVER now!!!\n",
      "CreditScoring-master/Hypotheses/pos_14_0.25  is OVER now!!!\n",
      "CreditScoring-master/Hypotheses/pos_14_0.25  is OVER now!!!\n",
      "CreditScoring-master/Hypotheses/pos_14_0.25  is OVER now!!!\n",
      "CreditScoring-master/Hypotheses/pos_14_0.25  is OVER now!!!\n",
      "CreditScoring-master/Hypotheses/pos_14_0.25  is OVER now!!!\n",
      "CreditScoring-master/Hypotheses/pos_14_0.25  is OVER now!!!\n",
      "CreditScoring-master/Hypotheses/pos_14_0.25  is OVER now!!!\n",
      "CreditScoring-master/Hypotheses/pos_14_0.25  is OVER now!!!\n",
      "CreditScoring-master/Hypotheses/pos_14_0.25  is OVER now!!!\n",
      "CreditScoring-master/Hypotheses/pos_14_0.25  is OVER now!!!\n",
      "CreditScoring-master/Hypotheses/pos_14_0.25  is OVER now!!!\n",
      "CreditScoring-master/Hypotheses/pos_14_0.25  is OVER now!!!\n",
      "CreditScoring-master/Hypotheses/pos_14_0.25  is OVER now!!!\n",
      "CreditScoring-master/Hypotheses/pos_14_0.25  is OVER now!!!\n",
      "CreditScoring-master/Hypotheses/pos_14_0.25  is OVER now!!!\n",
      "CreditScoring-master/Hypotheses/pos_14_0.25  is OVER now!!!\n",
      "CreditScoring-master/Hypotheses/pos_14_0.25  is OVER now!!!\n",
      "CreditScoring-master/Hypotheses/pos_14_0.25  is OVER now!!!\n",
      "CreditScoring-master/Hypotheses/pos_14_0.25  is OVER now!!!\n",
      "CreditScoring-master/Hypotheses/pos_14_0.25  is OVER now!!!\n",
      "CreditScoring-master/Hypotheses/pos_14_0.25  is OVER now!!!\n",
      "CreditScoring-master/Hypotheses/pos_14_0.25  is OVER now!!!\n",
      "CreditScoring-master/Hypotheses/pos_14_0.25  is OVER now!!!\n",
      "CreditScoring-master/Hypotheses/pos_14_0.25  is OVER now!!!\n",
      "CreditScoring-master/Hypotheses/pos_14_0.25  is OVER now!!!\n",
      "CreditScoring-master/Hypotheses/pos_14_0.25  is OVER now!!!\n",
      "CreditScoring-master/Hypotheses/pos_14_0.25  is OVER now!!!\n",
      "CreditScoring-master/Hypotheses/pos_14_0.25  is OVER now!!!\n",
      "CreditScoring-master/Hypotheses/pos_14_0.25  is OVER now!!!\n",
      "CreditScoring-master/Hypotheses/pos_14_0.25  is OVER now!!!\n",
      "CreditScoring-master/Hypotheses/pos_14_0.25  is OVER now!!!\n",
      "CreditScoring-master/Hypotheses/pos_14_0.25  is OVER now!!!\n",
      "CreditScoring-master/Hypotheses/pos_14_0.25  is OVER now!!!\n",
      "CreditScoring-master/Hypotheses/pos_14_0.25  is OVER now!!!\n",
      "CreditScoring-master/Hypotheses/pos_14_0.25  is OVER now!!!\n",
      "CreditScoring-master/Hypotheses/pos_14_0.25  is OVER now!!!\n",
      "CreditScoring-master/Hypotheses/pos_14_0.25  is OVER now!!!\n",
      "CreditScoring-master/Hypotheses/pos_14_0.25  is OVER now!!!\n",
      "CreditScoring-master/Hypotheses/pos_14_0.25  is OVER now!!!\n",
      "CreditScoring-master/Hypotheses/pos_14_0.25  is OVER now!!!\n",
      "CreditScoring-master/Hypotheses/pos_14_0.25  is OVER now!!!\n",
      "CreditScoring-master/Hypotheses/pos_14_0.25  is OVER now!!!\n",
      "CreditScoring-master/Hypotheses/pos_14_0.25  is OVER now!!!\n",
      "CreditScoring-master/Hypotheses/pos_14_0.25  is OVER now!!!\n",
      "CreditScoring-master/Hypotheses/pos_14_0.25  is OVER now!!!\n",
      "CreditScoring-master/Hypotheses/pos_14_0.25  is OVER now!!!\n",
      "CreditScoring-master/Hypotheses/pos_14_0.25  is OVER now!!!\n",
      "CreditScoring-master/Hypotheses/pos_14_0.25  is OVER now!!!\n",
      "CreditScoring-master/Hypotheses/pos_14_0.25  is OVER now!!!\n",
      "CreditScoring-master/Hypotheses/pos_14_0.25  is OVER now!!!\n",
      "CreditScoring-master/Hypotheses/pos_14_0.25  is OVER now!!!\n",
      "CreditScoring-master/Hypotheses/pos_14_0.25  is OVER now!!!\n",
      "CreditScoring-master/Hypotheses/pos_14_0.25  is OVER now!!!\n",
      "CreditScoring-master/Hypotheses/pos_14_0.25  is OVER now!!!\n",
      "CreditScoring-master/Hypotheses/pos_14_0.25  is OVER now!!!\n",
      "CreditScoring-master/Hypotheses/pos_14_0.25  is OVER now!!!\n",
      "CreditScoring-master/Hypotheses/pos_14_0.25  is OVER now!!!\n",
      "CreditScoring-master/Hypotheses/pos_14_0.25  is OVER now!!!\n",
      "CreditScoring-master/Hypotheses/pos_14_0.25  is OVER now!!!\n",
      "CreditScoring-master/Hypotheses/pos_14_0.25  is OVER now!!!\n",
      "CreditScoring-master/Hypotheses/pos_14_0.25  is OVER now!!!\n",
      "CreditScoring-master/Hypotheses/pos_14_0.25  is OVER now!!!\n",
      "CreditScoring-master/Hypotheses/pos_14_0.25  is OVER now!!!\n",
      "CreditScoring-master/Hypotheses/pos_14_0.25  is OVER now!!!\n",
      "CreditScoring-master/Hypotheses/pos_14_0.25  is OVER now!!!\n",
      "CreditScoring-master/Hypotheses/pos_14_0.25  is OVER now!!!\n",
      "CreditScoring-master/Hypotheses/pos_14_0.25  is OVER now!!!\n",
      "CreditScoring-master/Hypotheses/pos_14_0.25  is OVER now!!!\n",
      "CreditScoring-master/Hypotheses/pos_14_0.25  is OVER now!!!\n",
      "CreditScoring-master/Hypotheses/pos_14_0.25  is OVER now!!!\n",
      "CreditScoring-master/Hypotheses/pos_14_0.25  is OVER now!!!\n",
      "CreditScoring-master/Hypotheses/pos_14_0.25  is OVER now!!!\n",
      "CreditScoring-master/Hypotheses/pos_14_0.25  is OVER now!!!\n",
      "CreditScoring-master/Hypotheses/pos_14_0.25  is OVER now!!!\n",
      "CreditScoring-master/Hypotheses/pos_14_0.25  is OVER now!!!\n",
      "CreditScoring-master/Hypotheses/pos_14_0.25  is OVER now!!!\n",
      "CreditScoring-master/Hypotheses/pos_14_0.25  is OVER now!!!\n",
      "CreditScoring-master/Hypotheses/pos_14_0.25  is OVER now!!!\n",
      "CreditScoring-master/Hypotheses/pos_14_0.25  is OVER now!!!\n",
      "CreditScoring-master/Hypotheses/pos_14_0.25  is OVER now!!!\n",
      "CreditScoring-master/Hypotheses/pos_14_0.25  is OVER now!!!\n",
      "CreditScoring-master/Hypotheses/pos_14_0.25  is OVER now!!!\n",
      "CreditScoring-master/Hypotheses/pos_14_0.25  is OVER now!!!\n",
      "CreditScoring-master/Hypotheses/pos_14_0.25  is OVER now!!!\n",
      "CreditScoring-master/Hypotheses/pos_14_0.25  is OVER now!!!\n",
      "CreditScoring-master/Hypotheses/pos_14_0.25  is OVER now!!!\n",
      "CreditScoring-master/Hypotheses/pos_14_0.25  is OVER now!!!\n",
      "CreditScoring-master/Hypotheses/pos_14_0.25  is OVER now!!!\n",
      "CreditScoring-master/Hypotheses/pos_14_0.25  is OVER now!!!\n",
      "CreditScoring-master/Hypotheses/pos_14_0.25  is OVER now!!!\n",
      "CreditScoring-master/Hypotheses/pos_14_0.25  is OVER now!!!\n",
      "CreditScoring-master/Hypotheses/pos_14_0.25  is OVER now!!!\n",
      "CreditScoring-master/Hypotheses/pos_14_0.25  is OVER now!!!\n",
      "CreditScoring-master/Hypotheses/pos_14_0.25  is OVER now!!!\n",
      "CreditScoring-master/Hypotheses/pos_14_0.25  is OVER now!!!\n",
      "CreditScoring-master/Hypotheses/pos_14_0.25  is OVER now!!!\n",
      "CreditScoring-master/Hypotheses/pos_14_0.25  is OVER now!!!\n",
      "CreditScoring-master/Hypotheses/pos_14_0.25  is OVER now!!!\n",
      "CreditScoring-master/Hypotheses/pos_14_0.25  is OVER now!!!\n",
      "CreditScoring-master/Hypotheses/pos_14_0.25  is OVER now!!!\n",
      "CreditScoring-master/Hypotheses/pos_14_0.25  is OVER now!!!\n",
      "CreditScoring-master/Hypotheses/pos_14_0.25  is OVER now!!!\n",
      "CreditScoring-master/Hypotheses/pos_14_0.25  is OVER now!!!\n",
      "CreditScoring-master/Hypotheses/pos_14_0.25  is OVER now!!!\n",
      "CreditScoring-master/Hypotheses/pos_14_0.25  is OVER now!!!\n",
      "CreditScoring-master/Hypotheses/pos_14_0.25  is OVER now!!!\n",
      "CreditScoring-master/Hypotheses/pos_14_0.25  is OVER now!!!\n",
      "CreditScoring-master/Hypotheses/pos_14_0.25  is OVER now!!!\n",
      "CreditScoring-master/Hypotheses/pos_14_0.25  is OVER now!!!\n",
      "CreditScoring-master/Hypotheses/pos_14_0.25  is OVER now!!!\n",
      "CreditScoring-master/Hypotheses/pos_14_0.25  is OVER now!!!\n",
      "CreditScoring-master/Hypotheses/pos_14_0.25  is OVER now!!!\n",
      "CreditScoring-master/Hypotheses/pos_14_0.25  is OVER now!!!\n",
      "CreditScoring-master/Hypotheses/pos_14_0.25  is OVER now!!!\n",
      "CreditScoring-master/Hypotheses/pos_14_0.25  is OVER now!!!\n",
      "CreditScoring-master/Hypotheses/pos_14_0.25  is OVER now!!!\n",
      "CreditScoring-master/Hypotheses/pos_14_0.25  is OVER now!!!\n",
      "CreditScoring-master/Hypotheses/pos_14_0.25  is OVER now!!!\n"
     ]
    },
    {
     "name": "stdout",
     "output_type": "stream",
     "text": [
      "CreditScoring-master/Hypotheses/pos_14_0.25  is OVER now!!!\n",
      "CreditScoring-master/Hypotheses/pos_14_0.25  is OVER now!!!\n",
      "CreditScoring-master/Hypotheses/pos_14_0.25  is OVER now!!!\n",
      "CreditScoring-master/Hypotheses/pos_14_0.25  is OVER now!!!\n",
      "CreditScoring-master/Hypotheses/pos_14_0.25  is OVER now!!!\n",
      "CreditScoring-master/Hypotheses/pos_14_0.25  is OVER now!!!\n",
      "CreditScoring-master/Hypotheses/pos_14_0.25  is OVER now!!!\n",
      "CreditScoring-master/Hypotheses/pos_14_0.25  is OVER now!!!\n",
      "CreditScoring-master/Hypotheses/pos_14_0.25  is OVER now!!!\n",
      "CreditScoring-master/Hypotheses/pos_14_0.25  is OVER now!!!\n",
      "CreditScoring-master/Hypotheses/pos_14_0.25  is OVER now!!!\n",
      "CreditScoring-master/Hypotheses/pos_14_0.25  is OVER now!!!\n",
      "CreditScoring-master/Hypotheses/pos_14_0.25  is OVER now!!!\n",
      "CreditScoring-master/Hypotheses/pos_14_0.25  is OVER now!!!\n",
      "CreditScoring-master/Hypotheses/pos_14_0.25  is OVER now!!!\n",
      "CreditScoring-master/Hypotheses/pos_14_0.25  is OVER now!!!\n",
      "CreditScoring-master/Hypotheses/pos_14_0.25  is OVER now!!!\n",
      "CreditScoring-master/Hypotheses/pos_14_0.25  is OVER now!!!\n",
      "CreditScoring-master/Hypotheses/pos_14_0.25  is OVER now!!!\n",
      "CreditScoring-master/Hypotheses/pos_14_0.25  is OVER now!!!\n",
      "CreditScoring-master/Hypotheses/pos_14_0.25  is OVER now!!!\n",
      "CreditScoring-master/Hypotheses/pos_14_0.25  is OVER now!!!\n",
      "CreditScoring-master/Hypotheses/pos_14_0.25  is OVER now!!!\n",
      "CreditScoring-master/Hypotheses/pos_14_0.25  is OVER now!!!\n",
      "CreditScoring-master/Hypotheses/pos_14_0.25  is OVER now!!!\n",
      "CreditScoring-master/Hypotheses/pos_14_0.25  is OVER now!!!\n",
      "CreditScoring-master/Hypotheses/pos_14_0.25  is OVER now!!!\n",
      "CreditScoring-master/Hypotheses/pos_14_0.25  is OVER now!!!\n",
      "CreditScoring-master/Hypotheses/pos_14_0.25  is OVER now!!!\n",
      "CreditScoring-master/Hypotheses/pos_14_0.25  is OVER now!!!\n",
      "CreditScoring-master/Hypotheses/pos_14_0.25  is OVER now!!!\n",
      "CreditScoring-master/Hypotheses/pos_14_0.25  is OVER now!!!\n",
      "CreditScoring-master/Hypotheses/pos_14_0.25  is OVER now!!!\n",
      "CreditScoring-master/Hypotheses/pos_14_0.25  is OVER now!!!\n",
      "CreditScoring-master/Hypotheses/pos_14_0.25  is OVER now!!!\n",
      "CreditScoring-master/Hypotheses/pos_14_0.25  is OVER now!!!\n",
      "CreditScoring-master/Hypotheses/pos_14_0.25  is OVER now!!!\n",
      "CreditScoring-master/Hypotheses/pos_14_0.25  is OVER now!!!\n",
      "CreditScoring-master/Hypotheses/pos_14_0.25  is OVER now!!!\n",
      "CreditScoring-master/Hypotheses/pos_14_0.25  is OVER now!!!\n",
      "CreditScoring-master/Hypotheses/pos_14_0.25  is OVER now!!!\n",
      "CreditScoring-master/Hypotheses/pos_14_0.25  is OVER now!!!\n",
      "CreditScoring-master/Hypotheses/pos_14_0.25  is OVER now!!!\n",
      "CreditScoring-master/Hypotheses/pos_14_0.25  is OVER now!!!\n",
      "CreditScoring-master/Hypotheses/pos_14_0.25  is OVER now!!!\n",
      "CreditScoring-master/Hypotheses/pos_14_0.25  is OVER now!!!\n",
      "CreditScoring-master/Hypotheses/pos_14_0.25  is OVER now!!!\n",
      "CreditScoring-master/Hypotheses/pos_14_0.25  is OVER now!!!\n",
      "CreditScoring-master/Hypotheses/pos_14_0.25  is OVER now!!!\n",
      "CreditScoring-master/Hypotheses/pos_14_0.25  is OVER now!!!\n",
      "CreditScoring-master/Hypotheses/pos_14_0.25  is OVER now!!!\n",
      "CreditScoring-master/Hypotheses/pos_14_0.25  is OVER now!!!\n",
      "CreditScoring-master/Hypotheses/pos_14_0.25  is OVER now!!!\n",
      "CreditScoring-master/Hypotheses/pos_14_0.25  is OVER now!!!\n",
      "CreditScoring-master/Hypotheses/pos_14_0.25  is OVER now!!!\n",
      "CreditScoring-master/Hypotheses/pos_14_0.25  is OVER now!!!\n",
      "CreditScoring-master/Hypotheses/pos_14_0.25  is OVER now!!!\n",
      "CreditScoring-master/Hypotheses/pos_14_0.25  is OVER now!!!\n",
      "CreditScoring-master/Hypotheses/pos_14_0.25  is OVER now!!!\n",
      "CreditScoring-master/Hypotheses/pos_14_0.25  is OVER now!!!\n",
      "CreditScoring-master/Hypotheses/pos_14_0.25  is OVER now!!!\n",
      "CreditScoring-master/Hypotheses/pos_14_0.25  is OVER now!!!\n",
      "CreditScoring-master/Hypotheses/pos_14_0.25  is OVER now!!!\n",
      "CreditScoring-master/Hypotheses/pos_14_0.25  is OVER now!!!\n",
      "CreditScoring-master/Hypotheses/pos_14_0.25  is OVER now!!!\n",
      "CreditScoring-master/Hypotheses/pos_14_0.25  is OVER now!!!\n",
      "CreditScoring-master/Hypotheses/pos_14_0.25  is OVER now!!!\n",
      "CreditScoring-master/Hypotheses/pos_14_0.25  is OVER now!!!\n",
      "CreditScoring-master/Hypotheses/pos_14_0.25  is OVER now!!!\n",
      "CreditScoring-master/Hypotheses/pos_14_0.25  is OVER now!!!\n",
      "CreditScoring-master/Hypotheses/pos_14_0.25  is OVER now!!!\n",
      "CreditScoring-master/Hypotheses/pos_14_0.25  is OVER now!!!\n",
      "CreditScoring-master/Hypotheses/pos_14_0.25  is OVER now!!!\n",
      "CreditScoring-master/Hypotheses/pos_14_0.25  is OVER now!!!\n",
      "CreditScoring-master/Hypotheses/pos_14_0.25  is OVER now!!!\n",
      "CreditScoring-master/Hypotheses/pos_14_0.25  is OVER now!!!\n",
      "CreditScoring-master/Hypotheses/pos_14_0.25  is OVER now!!!\n",
      "CreditScoring-master/Hypotheses/pos_14_0.25  is OVER now!!!\n",
      "CreditScoring-master/Hypotheses/pos_14_0.25  is OVER now!!!\n",
      "CreditScoring-master/Hypotheses/pos_14_0.25  is OVER now!!!\n",
      "CreditScoring-master/Hypotheses/pos_14_0.25  is OVER now!!!\n",
      "CreditScoring-master/Hypotheses/pos_14_0.25  is OVER now!!!\n",
      "CreditScoring-master/Hypotheses/pos_14_0.25  is OVER now!!!\n",
      "CreditScoring-master/Hypotheses/pos_14_0.25  is OVER now!!!\n",
      "CreditScoring-master/Hypotheses/pos_14_0.25  is OVER now!!!\n",
      "CreditScoring-master/Hypotheses/pos_14_0.25  is OVER now!!!\n",
      "CreditScoring-master/Hypotheses/pos_14_0.25  is OVER now!!!\n",
      "CreditScoring-master/Hypotheses/pos_14_0.25  is OVER now!!!\n",
      "CreditScoring-master/Hypotheses/pos_14_0.25  is OVER now!!!\n",
      "CreditScoring-master/Hypotheses/pos_14_0.25  is OVER now!!!\n",
      "CreditScoring-master/Hypotheses/pos_14_0.25  is OVER now!!!\n",
      "CreditScoring-master/Hypotheses/pos_14_0.25  is OVER now!!!\n",
      "CreditScoring-master/Hypotheses/pos_14_0.25  is OVER now!!!\n",
      "CreditScoring-master/Hypotheses/pos_14_0.25  is OVER now!!!\n",
      "CreditScoring-master/Hypotheses/pos_14_0.25  is OVER now!!!\n",
      "CreditScoring-master/Hypotheses/pos_14_0.25  is OVER now!!!\n",
      "CreditScoring-master/Hypotheses/pos_14_0.25  is OVER now!!!\n",
      "CreditScoring-master/Hypotheses/pos_14_0.25  is OVER now!!!\n",
      "CreditScoring-master/Hypotheses/pos_14_0.25  is OVER now!!!\n",
      "CreditScoring-master/Hypotheses/pos_14_0.25  is OVER now!!!\n",
      "CreditScoring-master/Hypotheses/pos_14_0.25  is OVER now!!!\n",
      "CreditScoring-master/Hypotheses/pos_14_0.25  is OVER now!!!\n",
      "CreditScoring-master/Hypotheses/pos_14_0.25  is OVER now!!!\n",
      "CreditScoring-master/Hypotheses/pos_14_0.25  is OVER now!!!\n",
      "CreditScoring-master/Hypotheses/pos_14_0.25  is OVER now!!!\n",
      "CreditScoring-master/Hypotheses/pos_14_0.25  is OVER now!!!\n",
      "CreditScoring-master/Hypotheses/pos_14_0.25  is OVER now!!!\n",
      "CreditScoring-master/Hypotheses/pos_14_0.25  is OVER now!!!\n",
      "CreditScoring-master/Hypotheses/pos_14_0.25  is OVER now!!!\n",
      "CreditScoring-master/Hypotheses/pos_14_0.25  is OVER now!!!\n",
      "CreditScoring-master/Hypotheses/pos_14_0.25  is OVER now!!!\n",
      "CreditScoring-master/Hypotheses/pos_14_0.25  is OVER now!!!\n",
      "CreditScoring-master/Hypotheses/pos_14_0.25  is OVER now!!!\n",
      "CreditScoring-master/Hypotheses/pos_14_0.25  is OVER now!!!\n",
      "CreditScoring-master/Hypotheses/pos_14_0.25  is OVER now!!!\n",
      "CreditScoring-master/Hypotheses/pos_14_0.25  is OVER now!!!\n",
      "CreditScoring-master/Hypotheses/pos_14_0.25  is OVER now!!!\n",
      "CreditScoring-master/Hypotheses/pos_14_0.25  is OVER now!!!\n",
      "CreditScoring-master/Hypotheses/pos_14_0.25  is OVER now!!!\n",
      "CreditScoring-master/Hypotheses/pos_14_0.25  is OVER now!!!\n",
      "CreditScoring-master/Hypotheses/pos_14_0.25  is OVER now!!!\n",
      "CreditScoring-master/Hypotheses/pos_14_0.25  is OVER now!!!\n",
      "CreditScoring-master/Hypotheses/pos_14_0.25  is OVER now!!!\n",
      "CreditScoring-master/Hypotheses/pos_14_0.25  is OVER now!!!\n",
      "CreditScoring-master/Hypotheses/pos_14_0.25  is OVER now!!!\n",
      "CreditScoring-master/Hypotheses/pos_14_0.25  is OVER now!!!\n",
      "CreditScoring-master/Hypotheses/pos_14_0.25  is OVER now!!!\n",
      "CreditScoring-master/Hypotheses/pos_14_0.25  is OVER now!!!\n",
      "CreditScoring-master/Hypotheses/pos_14_0.25  is OVER now!!!\n",
      "CreditScoring-master/Hypotheses/pos_14_0.25  is OVER now!!!\n",
      "CreditScoring-master/Hypotheses/pos_14_0.25  is OVER now!!!\n",
      "CreditScoring-master/Hypotheses/pos_14_0.25  is OVER now!!!\n",
      "CreditScoring-master/Hypotheses/pos_14_0.25  is OVER now!!!\n",
      "CreditScoring-master/Hypotheses/pos_14_0.25  is OVER now!!!\n",
      "CreditScoring-master/Hypotheses/pos_14_0.25  is OVER now!!!\n",
      "CreditScoring-master/Hypotheses/pos_14_0.25  is OVER now!!!\n",
      "CreditScoring-master/Hypotheses/pos_14_0.25  is OVER now!!!\n"
     ]
    },
    {
     "name": "stdout",
     "output_type": "stream",
     "text": [
      "CreditScoring-master/Hypotheses/pos_14_0.25  is OVER now!!!\n",
      "CreditScoring-master/Hypotheses/pos_14_0.25  is OVER now!!!\n",
      "CreditScoring-master/Hypotheses/pos_14_0.25  is OVER now!!!\n",
      "CreditScoring-master/Hypotheses/pos_14_0.25  is OVER now!!!\n",
      "CreditScoring-master/Hypotheses/pos_14_0.25  is OVER now!!!\n",
      "CreditScoring-master/Hypotheses/pos_14_0.25  is OVER now!!!\n",
      "CreditScoring-master/Hypotheses/pos_14_0.25  is OVER now!!!\n",
      "CreditScoring-master/Hypotheses/pos_14_0.25  is OVER now!!!\n",
      "CreditScoring-master/Hypotheses/pos_14_0.25  is OVER now!!!\n",
      "CreditScoring-master/Hypotheses/pos_14_0.25  is OVER now!!!\n",
      "CreditScoring-master/Hypotheses/pos_14_0.25  is OVER now!!!\n",
      "CreditScoring-master/Hypotheses/pos_14_0.25  is OVER now!!!\n",
      "CreditScoring-master/Hypotheses/pos_14_0.25  is OVER now!!!\n",
      "CreditScoring-master/Hypotheses/pos_14_0.25  is OVER now!!!\n",
      "CreditScoring-master/Hypotheses/pos_14_0.25  is OVER now!!!\n",
      "CreditScoring-master/Hypotheses/pos_14_0.25  is OVER now!!!\n",
      "CreditScoring-master/Hypotheses/pos_14_0.25  is OVER now!!!\n",
      "CreditScoring-master/Hypotheses/pos_14_0.25  is OVER now!!!\n",
      "CreditScoring-master/Hypotheses/pos_14_0.25  is OVER now!!!\n",
      "CreditScoring-master/Hypotheses/pos_14_0.25  is OVER now!!!\n",
      "CreditScoring-master/Hypotheses/pos_14_0.25  is OVER now!!!\n",
      "CreditScoring-master/Hypotheses/pos_14_0.25  is OVER now!!!\n",
      "CreditScoring-master/Hypotheses/pos_14_0.25  is OVER now!!!\n",
      "CreditScoring-master/Hypotheses/pos_14_0.25  is OVER now!!!\n",
      "CreditScoring-master/Hypotheses/pos_14_0.25  is OVER now!!!\n",
      "CreditScoring-master/Hypotheses/pos_14_0.25  is OVER now!!!\n",
      "CreditScoring-master/Hypotheses/pos_14_0.25  is OVER now!!!\n",
      "CreditScoring-master/Hypotheses/pos_14_0.25  is OVER now!!!\n",
      "CreditScoring-master/Hypotheses/pos_14_0.25  is OVER now!!!\n",
      "CreditScoring-master/Hypotheses/pos_14_0.25  is OVER now!!!\n",
      "CreditScoring-master/Hypotheses/pos_14_0.25  is OVER now!!!\n",
      "CreditScoring-master/Hypotheses/pos_14_0.25  is OVER now!!!\n",
      "CreditScoring-master/Hypotheses/pos_14_0.25  is OVER now!!!\n",
      "CreditScoring-master/Hypotheses/pos_14_0.25  is OVER now!!!\n",
      "CreditScoring-master/Hypotheses/pos_14_0.25  is OVER now!!!\n",
      "CreditScoring-master/Hypotheses/pos_14_0.25  is OVER now!!!\n",
      "CreditScoring-master/Hypotheses/pos_14_0.25  is OVER now!!!\n",
      "CreditScoring-master/Hypotheses/pos_14_0.25  is OVER now!!!\n",
      "CreditScoring-master/Hypotheses/pos_14_0.25  is OVER now!!!\n",
      "CreditScoring-master/Hypotheses/pos_14_0.25  is OVER now!!!\n",
      "CreditScoring-master/Hypotheses/pos_14_0.25  is OVER now!!!\n",
      "CreditScoring-master/Hypotheses/pos_14_0.25  is OVER now!!!\n",
      "CreditScoring-master/Hypotheses/pos_14_0.25  is OVER now!!!\n",
      "CreditScoring-master/Hypotheses/pos_14_0.25  is OVER now!!!\n",
      "CreditScoring-master/Hypotheses/pos_14_0.25  is OVER now!!!\n",
      "CreditScoring-master/Hypotheses/pos_14_0.25  is OVER now!!!\n",
      "CreditScoring-master/Hypotheses/pos_14_0.25  is OVER now!!!\n",
      "CreditScoring-master/Hypotheses/pos_14_0.25  is OVER now!!!\n"
     ]
    },
    {
     "name": "stderr",
     "output_type": "stream",
     "text": [
      "/home/autodeploy/.local/lib/python3.5/site-packages/ipykernel_launcher.py:33: RuntimeWarning: All-NaN axis encountered\n",
      "/home/autodeploy/.local/lib/python3.5/site-packages/ipykernel_launcher.py:34: RuntimeWarning: All-NaN axis encountered\n"
     ]
    },
    {
     "name": "stdout",
     "output_type": "stream",
     "text": [
      "CreditScoring-master/Hypotheses/pos_14_0.25  is OVER now!!!\n",
      "CreditScoring-master/Hypotheses/pos_14_0.25  is OVER now!!!\n",
      "CreditScoring-master/Hypotheses/pos_14_0.25  is OVER now!!!\n",
      "CreditScoring-master/Hypotheses/pos_14_0.25  is OVER now!!!\n",
      "CreditScoring-master/Hypotheses/pos_14_0.25  is OVER now!!!\n",
      "CreditScoring-master/Hypotheses/pos_14_0.25  is OVER now!!!\n",
      "CreditScoring-master/Hypotheses/pos_14_0.25  is OVER now!!!\n",
      "CreditScoring-master/Hypotheses/pos_14_0.25  is OVER now!!!\n",
      "CreditScoring-master/Hypotheses/pos_14_0.25  is OVER now!!!\n",
      "CreditScoring-master/Hypotheses/pos_14_0.25  is OVER now!!!\n",
      "CreditScoring-master/Hypotheses/pos_14_0.25  is OVER now!!!\n",
      "CreditScoring-master/Hypotheses/pos_14_0.25  is OVER now!!!\n",
      "CreditScoring-master/Hypotheses/pos_14_0.25  is OVER now!!!\n",
      "CreditScoring-master/Hypotheses/pos_14_0.25  is OVER now!!!\n",
      "CreditScoring-master/Hypotheses/pos_14_0.25  is OVER now!!!\n",
      "CreditScoring-master/Hypotheses/pos_14_0.25  is OVER now!!!\n",
      "CreditScoring-master/Hypotheses/pos_14_0.25  is OVER now!!!\n",
      "CreditScoring-master/Hypotheses/pos_14_0.25  is OVER now!!!\n",
      "CreditScoring-master/Hypotheses/pos_14_0.25  is OVER now!!!\n",
      "CreditScoring-master/Hypotheses/pos_14_0.25  is OVER now!!!\n",
      "CreditScoring-master/Hypotheses/pos_14_0.25  is OVER now!!!\n",
      "CreditScoring-master/Hypotheses/pos_14_0.25  is OVER now!!!\n",
      "CreditScoring-master/Hypotheses/pos_14_0.25  is OVER now!!!\n",
      "CreditScoring-master/Hypotheses/pos_14_0.25  is OVER now!!!\n",
      "CreditScoring-master/Hypotheses/pos_14_0.25  is OVER now!!!\n",
      "CreditScoring-master/Hypotheses/pos_14_0.25  is OVER now!!!\n",
      "CreditScoring-master/Hypotheses/pos_14_0.25  is OVER now!!!\n",
      "CreditScoring-master/Hypotheses/pos_14_0.25  is OVER now!!!\n",
      "CreditScoring-master/Hypotheses/pos_14_0.25  is OVER now!!!\n",
      "CreditScoring-master/Hypotheses/pos_14_0.25  is OVER now!!!\n",
      "CreditScoring-master/Hypotheses/pos_14_0.25  is OVER now!!!\n",
      "CreditScoring-master/Hypotheses/pos_14_0.25  is OVER now!!!\n",
      "CreditScoring-master/Hypotheses/pos_14_0.25  is OVER now!!!\n",
      "CreditScoring-master/Hypotheses/pos_14_0.25  is OVER now!!!\n",
      "CreditScoring-master/Hypotheses/pos_14_0.25  is OVER now!!!\n",
      "CreditScoring-master/Hypotheses/pos_14_0.25  is OVER now!!!\n",
      "CreditScoring-master/Hypotheses/pos_14_0.25  is OVER now!!!\n",
      "CreditScoring-master/Hypotheses/pos_14_0.25  is OVER now!!!\n",
      "CreditScoring-master/Hypotheses/pos_14_0.25  is OVER now!!!\n",
      "CreditScoring-master/Hypotheses/pos_14_0.25  is OVER now!!!\n",
      "CreditScoring-master/Hypotheses/pos_14_0.25  is OVER now!!!\n",
      "CreditScoring-master/Hypotheses/pos_14_0.25  is OVER now!!!\n",
      "CreditScoring-master/Hypotheses/pos_14_0.25  is OVER now!!!\n",
      "CreditScoring-master/Hypotheses/pos_14_0.25  is OVER now!!!\n",
      "CreditScoring-master/Hypotheses/pos_14_0.25  is OVER now!!!\n",
      "CreditScoring-master/Hypotheses/pos_14_0.25  is OVER now!!!\n",
      "CreditScoring-master/Hypotheses/pos_14_0.25  is OVER now!!!\n",
      "CreditScoring-master/Hypotheses/pos_14_0.25  is OVER now!!!\n",
      "CreditScoring-master/Hypotheses/pos_14_0.25  is OVER now!!!\n",
      "CreditScoring-master/Hypotheses/pos_14_0.25  is OVER now!!!\n",
      "CreditScoring-master/Hypotheses/pos_14_0.25  is OVER now!!!\n",
      "CreditScoring-master/Hypotheses/pos_14_0.25  is OVER now!!!\n",
      "CreditScoring-master/Hypotheses/pos_14_0.25  is OVER now!!!\n",
      "CreditScoring-master/Hypotheses/pos_14_0.25  is OVER now!!!\n",
      "CreditScoring-master/Hypotheses/pos_14_0.25  is OVER now!!!\n",
      "CreditScoring-master/Hypotheses/pos_14_0.25  is OVER now!!!\n",
      "CreditScoring-master/Hypotheses/pos_14_0.25  is OVER now!!!\n",
      "CreditScoring-master/Hypotheses/pos_14_0.25  is OVER now!!!\n",
      "CreditScoring-master/Hypotheses/pos_14_0.25  is OVER now!!!\n",
      "CreditScoring-master/Hypotheses/pos_14_0.25  is OVER now!!!\n",
      "CreditScoring-master/Hypotheses/pos_14_0.25  is OVER now!!!\n",
      "CreditScoring-master/Hypotheses/pos_14_0.25  is OVER now!!!\n",
      "CreditScoring-master/Hypotheses/pos_14_0.25  is OVER now!!!\n",
      "CreditScoring-master/Hypotheses/pos_14_0.25  is OVER now!!!\n",
      "CreditScoring-master/Hypotheses/pos_14_0.25  is OVER now!!!\n",
      "CreditScoring-master/Hypotheses/pos_14_0.25  is OVER now!!!\n",
      "CreditScoring-master/Hypotheses/pos_14_0.25  is OVER now!!!\n",
      "CreditScoring-master/Hypotheses/pos_14_0.25  is OVER now!!!\n",
      "CreditScoring-master/Hypotheses/pos_14_0.25  is OVER now!!!\n",
      "CreditScoring-master/Hypotheses/pos_14_0.25  is OVER now!!!\n",
      "CreditScoring-master/Hypotheses/pos_14_0.25  is OVER now!!!\n",
      "CreditScoring-master/Hypotheses/pos_14_0.25  is OVER now!!!\n",
      "CreditScoring-master/Hypotheses/pos_14_0.25  is OVER now!!!\n",
      "CreditScoring-master/Hypotheses/pos_14_0.25  is OVER now!!!\n",
      "CreditScoring-master/Hypotheses/pos_14_0.25  is OVER now!!!\n",
      "CreditScoring-master/Hypotheses/pos_14_0.25  is OVER now!!!\n",
      "CreditScoring-master/Hypotheses/pos_14_0.25  is OVER now!!!\n",
      "CreditScoring-master/Hypotheses/pos_14_0.25  is OVER now!!!\n",
      "CreditScoring-master/Hypotheses/pos_14_0.25  is OVER now!!!\n",
      "CreditScoring-master/Hypotheses/pos_14_0.25  is OVER now!!!\n",
      "CreditScoring-master/Hypotheses/pos_14_0.25  is OVER now!!!\n",
      "CreditScoring-master/Hypotheses/pos_14_0.25  is OVER now!!!\n",
      "CreditScoring-master/Hypotheses/pos_14_0.25  is OVER now!!!\n",
      "CreditScoring-master/Hypotheses/pos_14_0.25  is OVER now!!!\n",
      "CreditScoring-master/Hypotheses/pos_14_0.25  is OVER now!!!\n",
      "CreditScoring-master/Hypotheses/pos_14_0.25  is OVER now!!!\n",
      "CreditScoring-master/Hypotheses/pos_14_0.25  is OVER now!!!\n",
      "CreditScoring-master/Hypotheses/pos_14_0.25  is OVER now!!!\n",
      "CreditScoring-master/Hypotheses/pos_14_0.25  is OVER now!!!\n",
      "CreditScoring-master/Hypotheses/pos_14_0.25  is OVER now!!!\n",
      "CreditScoring-master/Hypotheses/pos_14_0.25  is OVER now!!!\n",
      "CreditScoring-master/Hypotheses/pos_14_0.25  is OVER now!!!\n",
      "CreditScoring-master/Hypotheses/pos_14_0.25  is OVER now!!!\n",
      "CreditScoring-master/Hypotheses/pos_14_0.25  is OVER now!!!\n",
      "CreditScoring-master/Hypotheses/pos_14_0.25  is OVER now!!!\n",
      "CreditScoring-master/Hypotheses/pos_14_0.25  is OVER now!!!\n",
      "CreditScoring-master/Hypotheses/pos_14_0.25  is OVER now!!!\n",
      "CreditScoring-master/Hypotheses/pos_14_0.25  is OVER now!!!\n",
      "CreditScoring-master/Hypotheses/pos_14_0.25  is OVER now!!!\n",
      "CreditScoring-master/Hypotheses/pos_14_0.25  is OVER now!!!\n",
      "CreditScoring-master/Hypotheses/pos_14_0.25  is OVER now!!!\n",
      "CreditScoring-master/Hypotheses/pos_14_0.25  is OVER now!!!\n",
      "CreditScoring-master/Hypotheses/pos_14_0.25  is OVER now!!!\n",
      "CreditScoring-master/Hypotheses/pos_14_0.25  is OVER now!!!\n",
      "CreditScoring-master/Hypotheses/pos_14_0.25  is OVER now!!!\n",
      "CreditScoring-master/Hypotheses/pos_14_0.25  is OVER now!!!\n",
      "CreditScoring-master/Hypotheses/pos_14_0.25  is OVER now!!!\n",
      "CreditScoring-master/Hypotheses/pos_14_0.25  is OVER now!!!\n",
      "CreditScoring-master/Hypotheses/pos_14_0.25  is OVER now!!!\n",
      "CreditScoring-master/Hypotheses/pos_14_0.25  is OVER now!!!\n",
      "CreditScoring-master/Hypotheses/pos_14_0.25  is OVER now!!!\n",
      "CreditScoring-master/Hypotheses/pos_14_0.25  is OVER now!!!\n",
      "CreditScoring-master/Hypotheses/pos_14_0.25  is OVER now!!!\n",
      "CreditScoring-master/Hypotheses/pos_14_0.25  is OVER now!!!\n",
      "CreditScoring-master/Hypotheses/pos_14_0.25  is OVER now!!!\n",
      "CreditScoring-master/Hypotheses/pos_14_0.25  is OVER now!!!\n",
      "CreditScoring-master/Hypotheses/pos_14_0.25  is OVER now!!!\n",
      "CreditScoring-master/Hypotheses/pos_14_0.25  is OVER now!!!\n",
      "CreditScoring-master/Hypotheses/pos_14_0.25  is OVER now!!!\n",
      "CreditScoring-master/Hypotheses/pos_14_0.25  is OVER now!!!\n",
      "CreditScoring-master/Hypotheses/pos_14_0.25  is OVER now!!!\n",
      "CreditScoring-master/Hypotheses/pos_14_0.25  is OVER now!!!\n",
      "CreditScoring-master/Hypotheses/pos_14_0.25  is OVER now!!!\n",
      "CreditScoring-master/Hypotheses/pos_14_0.25  is OVER now!!!\n",
      "CreditScoring-master/Hypotheses/pos_14_0.25  is OVER now!!!\n",
      "CreditScoring-master/Hypotheses/pos_14_0.25  is OVER now!!!\n",
      "CreditScoring-master/Hypotheses/pos_14_0.25  is OVER now!!!\n",
      "CreditScoring-master/Hypotheses/pos_14_0.25  is OVER now!!!\n",
      "CreditScoring-master/Hypotheses/pos_14_0.25  is OVER now!!!\n",
      "CreditScoring-master/Hypotheses/pos_14_0.25  is OVER now!!!\n",
      "CreditScoring-master/Hypotheses/pos_14_0.25  is OVER now!!!\n",
      "CreditScoring-master/Hypotheses/pos_14_0.25  is OVER now!!!\n",
      "CreditScoring-master/Hypotheses/pos_14_0.25  is OVER now!!!\n",
      "CreditScoring-master/Hypotheses/pos_14_0.25  is OVER now!!!\n",
      "CreditScoring-master/Hypotheses/pos_14_0.25  is OVER now!!!\n",
      "CreditScoring-master/Hypotheses/pos_14_0.25  is OVER now!!!\n",
      "CreditScoring-master/Hypotheses/pos_14_0.25  is OVER now!!!\n"
     ]
    },
    {
     "name": "stdout",
     "output_type": "stream",
     "text": [
      "CreditScoring-master/Hypotheses/pos_14_0.25  is OVER now!!!\n",
      "CreditScoring-master/Hypotheses/pos_14_0.25  is OVER now!!!\n",
      "CreditScoring-master/Hypotheses/pos_14_0.25  is OVER now!!!\n",
      "CreditScoring-master/Hypotheses/pos_14_0.25  is OVER now!!!\n",
      "CreditScoring-master/Hypotheses/pos_14_0.25  is OVER now!!!\n",
      "CreditScoring-master/Hypotheses/pos_14_0.25  is OVER now!!!\n",
      "CreditScoring-master/Hypotheses/pos_14_0.25  is OVER now!!!\n",
      "CreditScoring-master/Hypotheses/pos_14_0.25  is OVER now!!!\n",
      "CreditScoring-master/Hypotheses/pos_14_0.25  is OVER now!!!\n",
      "CreditScoring-master/Hypotheses/pos_14_0.25  is OVER now!!!\n",
      "CreditScoring-master/Hypotheses/pos_14_0.25  is OVER now!!!\n",
      "CreditScoring-master/Hypotheses/pos_14_0.25  is OVER now!!!\n",
      "CreditScoring-master/Hypotheses/pos_14_0.25  is OVER now!!!\n",
      "CreditScoring-master/Hypotheses/pos_14_0.25  is OVER now!!!\n",
      "CreditScoring-master/Hypotheses/pos_14_0.25  is OVER now!!!\n",
      "CreditScoring-master/Hypotheses/pos_14_0.25  is OVER now!!!\n",
      "CreditScoring-master/Hypotheses/pos_14_0.25  is OVER now!!!\n",
      "CreditScoring-master/Hypotheses/pos_14_0.25  is OVER now!!!\n",
      "CreditScoring-master/Hypotheses/pos_14_0.25  is OVER now!!!\n",
      "CreditScoring-master/Hypotheses/pos_14_0.25  is OVER now!!!\n",
      "CreditScoring-master/Hypotheses/pos_14_0.25  is OVER now!!!\n",
      "CreditScoring-master/Hypotheses/pos_14_0.25  is OVER now!!!\n",
      "CreditScoring-master/Hypotheses/pos_14_0.25  is OVER now!!!\n",
      "CreditScoring-master/Hypotheses/pos_14_0.25  is OVER now!!!\n",
      "CreditScoring-master/Hypotheses/pos_14_0.25  is OVER now!!!\n",
      "CreditScoring-master/Hypotheses/pos_14_0.25  is OVER now!!!\n",
      "CreditScoring-master/Hypotheses/pos_14_0.25  is OVER now!!!\n",
      "CreditScoring-master/Hypotheses/pos_14_0.25  is OVER now!!!\n",
      "CreditScoring-master/Hypotheses/pos_14_0.25  is OVER now!!!\n",
      "CreditScoring-master/Hypotheses/pos_14_0.25  is OVER now!!!\n",
      "CreditScoring-master/Hypotheses/pos_14_0.25  is OVER now!!!\n",
      "CreditScoring-master/Hypotheses/pos_14_0.25  is OVER now!!!\n",
      "CreditScoring-master/Hypotheses/pos_14_0.25  is OVER now!!!\n",
      "CreditScoring-master/Hypotheses/pos_14_0.25  is OVER now!!!\n",
      "CreditScoring-master/Hypotheses/pos_14_0.25  is OVER now!!!\n",
      "CreditScoring-master/Hypotheses/pos_14_0.25  is OVER now!!!\n",
      "CreditScoring-master/Hypotheses/pos_14_0.25  is OVER now!!!\n",
      "CreditScoring-master/Hypotheses/pos_14_0.25  is OVER now!!!\n",
      "CreditScoring-master/Hypotheses/pos_14_0.25  is OVER now!!!\n",
      "CreditScoring-master/Hypotheses/pos_14_0.25  is OVER now!!!\n",
      "CreditScoring-master/Hypotheses/pos_14_0.25  is OVER now!!!\n",
      "CreditScoring-master/Hypotheses/pos_14_0.25  is OVER now!!!\n",
      "CreditScoring-master/Hypotheses/pos_14_0.25  is OVER now!!!\n",
      "CreditScoring-master/Hypotheses/pos_14_0.25  is OVER now!!!\n",
      "CreditScoring-master/Hypotheses/pos_14_0.25  is OVER now!!!\n",
      "CreditScoring-master/Hypotheses/pos_14_0.25  is OVER now!!!\n",
      "CreditScoring-master/Hypotheses/pos_14_0.25  is OVER now!!!\n",
      "CreditScoring-master/Hypotheses/pos_14_0.25  is OVER now!!!\n",
      "CreditScoring-master/Hypotheses/pos_14_0.25  is OVER now!!!\n",
      "CreditScoring-master/Hypotheses/pos_14_0.25  is OVER now!!!\n",
      "CreditScoring-master/Hypotheses/pos_14_0.25  is OVER now!!!\n",
      "CreditScoring-master/Hypotheses/pos_14_0.25  is OVER now!!!\n",
      "CreditScoring-master/Hypotheses/pos_14_0.25  is OVER now!!!\n",
      "CreditScoring-master/Hypotheses/pos_14_0.25  is OVER now!!!\n",
      "CreditScoring-master/Hypotheses/pos_14_0.25  is OVER now!!!\n",
      "CreditScoring-master/Hypotheses/pos_14_0.25  is OVER now!!!\n",
      "CPU times: user 2min 30s, sys: 2min 22s, total: 4min 52s\n",
      "Wall time: 3h 58min 31s\n"
     ]
    }
   ],
   "source": [
    "%%time\n",
    "import multiprocessing\n",
    "pool = multiprocessing.Pool(processes=50) #use all available cores, otherwise specify the number you want as an argument\n",
    "\n",
    "results = []\n",
    "for args in MyParamGrid:\n",
    "#     print(args)\n",
    "    res = pool.apply_async(PS_clf.classify_test_objects, args=(args['X_test'],\n",
    "                                                               args['hypotheses_min'],\n",
    "                                                               args['hypotheses_max'],\n",
    "                                                               args['alpha'],\n",
    "                                                               args['save_scores_file_path'],\n",
    "                                                               args['print_when_over']\n",
    "                                                              ))\n",
    "    results.append(res)\n",
    "    \n",
    "pool.close()\n",
    "pool.join()#### Run parallel"
   ]
  },
  {
   "cell_type": "code",
   "execution_count": null,
   "metadata": {},
   "outputs": [],
   "source": []
  },
  {
   "cell_type": "code",
   "execution_count": null,
   "metadata": {},
   "outputs": [],
   "source": []
  },
  {
   "cell_type": "code",
   "execution_count": null,
   "metadata": {},
   "outputs": [],
   "source": []
  },
  {
   "cell_type": "code",
   "execution_count": null,
   "metadata": {},
   "outputs": [],
   "source": []
  },
  {
   "cell_type": "markdown",
   "metadata": {},
   "source": [
    "### Benchmarks"
   ]
  },
  {
   "cell_type": "code",
   "execution_count": 33,
   "metadata": {},
   "outputs": [
    {
     "data": {
      "text/plain": [
       "Seniority      0\n",
       "Time           0\n",
       "Age            0\n",
       "Records        0\n",
       "Expenses       0\n",
       "Income         0\n",
       "Assets         0\n",
       "Debt           0\n",
       "Amount         0\n",
       "Price          0\n",
       "0            950\n",
       "1            950\n",
       "2            950\n",
       "3            950\n",
       "4            950\n",
       "5            950\n",
       "6            950\n",
       "7            950\n",
       "8            950\n",
       "9            950\n",
       "10           950\n",
       "11           950\n",
       "12           950\n",
       "13           950\n",
       "14           950\n",
       "15           950\n",
       "dtype: int64"
      ]
     },
     "execution_count": 33,
     "metadata": {},
     "output_type": "execute_result"
    }
   ],
   "source": [
    "df_train.isnull().sum()"
   ]
  },
  {
   "cell_type": "markdown",
   "metadata": {},
   "source": [
    "#### RF"
   ]
  },
  {
   "cell_type": "code",
   "execution_count": 91,
   "metadata": {},
   "outputs": [
    {
     "data": {
      "text/plain": [
       "RandomForestClassifier(bootstrap=True, class_weight=None, criterion='gini',\n",
       "            max_depth=None, max_features='auto', max_leaf_nodes=None,\n",
       "            min_impurity_decrease=0.0, min_impurity_split=None,\n",
       "            min_samples_leaf=5, min_samples_split=7,\n",
       "            min_weight_fraction_leaf=0.0, n_estimators=2000, n_jobs=None,\n",
       "            oob_score=False, random_state=None, verbose=0,\n",
       "            warm_start=False)"
      ]
     },
     "execution_count": 91,
     "metadata": {},
     "output_type": "execute_result"
    },
    {
     "data": {
      "text/plain": [
       "0.9210823213374801"
      ]
     },
     "execution_count": 91,
     "metadata": {},
     "output_type": "execute_result"
    },
    {
     "data": {
      "text/plain": [
       "0.6943099273607747"
      ]
     },
     "execution_count": 91,
     "metadata": {},
     "output_type": "execute_result"
    }
   ],
   "source": [
    "from sklearn import ensemble\n",
    "RF = ensemble.RandomForestClassifier(1000, \n",
    "                                     min_samples_split=7,\n",
    "                                     min_samples_leaf=5)\n",
    "RF.fit(df_train.fillna(df_train.mean()), y_train)\n",
    "2*metrics.roc_auc_score(y_train, RF.predict_proba(df_train.fillna(df_train.mean()))[:,1]) - 1\n",
    "2*metrics.roc_auc_score(y_test, RF.predict_proba(df_test.fillna(df_train.mean()))[:,1]) - 1"
   ]
  },
  {
   "cell_type": "markdown",
   "metadata": {},
   "source": [
    "#### DT"
   ]
  },
  {
   "cell_type": "code",
   "execution_count": 131,
   "metadata": {},
   "outputs": [
    {
     "data": {
      "text/plain": [
       "DecisionTreeClassifier(class_weight=None, criterion='gini', max_depth=7,\n",
       "            max_features=None, max_leaf_nodes=None,\n",
       "            min_impurity_decrease=0.0, min_impurity_split=None,\n",
       "            min_samples_leaf=10, min_samples_split=100,\n",
       "            min_weight_fraction_leaf=0.0, presort=False, random_state=None,\n",
       "            splitter='best')"
      ]
     },
     "execution_count": 131,
     "metadata": {},
     "output_type": "execute_result"
    },
    {
     "data": {
      "text/plain": [
       "0.6837734075463626"
      ]
     },
     "execution_count": 131,
     "metadata": {},
     "output_type": "execute_result"
    },
    {
     "data": {
      "text/plain": [
       "0.5917340453130404"
      ]
     },
     "execution_count": 131,
     "metadata": {},
     "output_type": "execute_result"
    }
   ],
   "source": [
    "from sklearn import tree\n",
    "clf = tree.DecisionTreeClassifier(max_depth=7, min_samples_split=100, min_samples_leaf=10)\n",
    "clf.fit(df_train.fillna(df_train.mean()), y_train)\n",
    "2*metrics.roc_auc_score(y_train, clf.predict_proba(df_train.fillna(df_train.mean()))[:,1]) - 1\n",
    "2*metrics.roc_auc_score(y_test, clf.predict_proba(df_test.fillna(df_train.mean()))[:,1]) - 1"
   ]
  },
  {
   "cell_type": "markdown",
   "metadata": {},
   "source": [
    "#### xgboost"
   ]
  },
  {
   "cell_type": "code",
   "execution_count": 158,
   "metadata": {},
   "outputs": [],
   "source": [
    "import xgboost as xgb"
   ]
  },
  {
   "cell_type": "code",
   "execution_count": 159,
   "metadata": {},
   "outputs": [],
   "source": [
    "dtrain = xgb.DMatrix(df_train.fillna(df_train.mean()), label=y_train)\n",
    "dtest = xgb.DMatrix(df_test.fillna(df_train.mean()), label=y_test)"
   ]
  },
  {
   "cell_type": "code",
   "execution_count": 174,
   "metadata": {
    "scrolled": true
   },
   "outputs": [
    {
     "name": "stdout",
     "output_type": "stream",
     "text": [
      "[0]\ttrain-auc:0.821467\teval-auc:0.781197\n",
      "Multiple eval metrics have been passed: 'eval-auc' will be used for early stopping.\n",
      "\n",
      "Will train until eval-auc hasn't improved in 10 rounds.\n",
      "[1]\ttrain-auc:0.827862\teval-auc:0.79258\n",
      "[2]\ttrain-auc:0.83613\teval-auc:0.799903\n",
      "[3]\ttrain-auc:0.83828\teval-auc:0.803957\n",
      "[4]\ttrain-auc:0.84401\teval-auc:0.809463\n",
      "[5]\ttrain-auc:0.851531\teval-auc:0.817128\n",
      "[6]\ttrain-auc:0.855574\teval-auc:0.818229\n",
      "[7]\ttrain-auc:0.85744\teval-auc:0.819926\n",
      "[8]\ttrain-auc:0.860788\teval-auc:0.821246\n",
      "[9]\ttrain-auc:0.86328\teval-auc:0.822742\n",
      "[10]\ttrain-auc:0.874889\teval-auc:0.82861\n",
      "[11]\ttrain-auc:0.878982\teval-auc:0.83141\n",
      "[12]\ttrain-auc:0.883581\teval-auc:0.833359\n",
      "[13]\ttrain-auc:0.888893\teval-auc:0.836282\n",
      "[14]\ttrain-auc:0.891388\teval-auc:0.836728\n",
      "[15]\ttrain-auc:0.894648\teval-auc:0.838276\n",
      "[16]\ttrain-auc:0.897839\teval-auc:0.839492\n",
      "[17]\ttrain-auc:0.898357\teval-auc:0.839988\n",
      "[18]\ttrain-auc:0.900693\teval-auc:0.842026\n",
      "[19]\ttrain-auc:0.903841\teval-auc:0.84262\n",
      "[20]\ttrain-auc:0.905821\teval-auc:0.843407\n",
      "[21]\ttrain-auc:0.9079\teval-auc:0.844063\n",
      "[22]\ttrain-auc:0.910451\teval-auc:0.84538\n",
      "[23]\ttrain-auc:0.912868\teval-auc:0.845744\n",
      "[24]\ttrain-auc:0.913421\teval-auc:0.845338\n",
      "[25]\ttrain-auc:0.914779\teval-auc:0.846654\n",
      "[26]\ttrain-auc:0.916812\teval-auc:0.847455\n",
      "[27]\ttrain-auc:0.9181\teval-auc:0.848074\n",
      "[28]\ttrain-auc:0.919195\teval-auc:0.848684\n",
      "[29]\ttrain-auc:0.920083\teval-auc:0.848548\n",
      "[30]\ttrain-auc:0.921448\teval-auc:0.84954\n",
      "[31]\ttrain-auc:0.922726\teval-auc:0.850132\n",
      "[32]\ttrain-auc:0.924136\teval-auc:0.85095\n",
      "[33]\ttrain-auc:0.92593\teval-auc:0.851275\n",
      "[34]\ttrain-auc:0.927037\teval-auc:0.851854\n",
      "[35]\ttrain-auc:0.927805\teval-auc:0.851996\n",
      "[36]\ttrain-auc:0.928611\teval-auc:0.851556\n",
      "[37]\ttrain-auc:0.930503\teval-auc:0.851891\n",
      "[38]\ttrain-auc:0.930869\teval-auc:0.852426\n",
      "[39]\ttrain-auc:0.931603\teval-auc:0.853211\n",
      "[40]\ttrain-auc:0.933327\teval-auc:0.853462\n",
      "[41]\ttrain-auc:0.933998\teval-auc:0.853595\n",
      "[42]\ttrain-auc:0.935525\teval-auc:0.8544\n",
      "[43]\ttrain-auc:0.93585\teval-auc:0.854581\n",
      "[44]\ttrain-auc:0.937151\teval-auc:0.854492\n",
      "[45]\ttrain-auc:0.937851\teval-auc:0.854716\n",
      "[46]\ttrain-auc:0.938611\teval-auc:0.855084\n",
      "[47]\ttrain-auc:0.939785\teval-auc:0.854824\n",
      "[48]\ttrain-auc:0.940727\teval-auc:0.854978\n",
      "[49]\ttrain-auc:0.941793\teval-auc:0.854962\n",
      "[50]\ttrain-auc:0.942158\teval-auc:0.85503\n",
      "[51]\ttrain-auc:0.942901\teval-auc:0.854635\n",
      "[52]\ttrain-auc:0.9433\teval-auc:0.854654\n",
      "[53]\ttrain-auc:0.944422\teval-auc:0.854616\n",
      "[54]\ttrain-auc:0.945168\teval-auc:0.854703\n",
      "[55]\ttrain-auc:0.945698\teval-auc:0.854719\n",
      "[56]\ttrain-auc:0.946102\teval-auc:0.854751\n",
      "Stopping. Best iteration:\n",
      "[46]\ttrain-auc:0.938611\teval-auc:0.855084\n",
      "\n"
     ]
    },
    {
     "data": {
      "text/plain": [
       "0.7101679999999999"
      ]
     },
     "execution_count": 174,
     "metadata": {},
     "output_type": "execute_result"
    }
   ],
   "source": [
    "param = {'max_depth': 7,\n",
    "         'eta': 0.1,\n",
    "         'silent': 1,\n",
    "         'objective': 'binary:logistic',\n",
    "         'alpha':3,\n",
    "         'max_leaves':100\n",
    "        }\n",
    "param['nthread'] = 4\n",
    "param['eval_metric'] = 'auc'\n",
    "evallist = [(dtrain, 'train'), (dtest, 'eval')]\n",
    "\n",
    "num_round = 100\n",
    "bst = xgb.train(param, dtrain, num_round, evallist, early_stopping_rounds=10)\n",
    "2*bst.best_score - 1"
   ]
  },
  {
   "cell_type": "code",
   "execution_count": null,
   "metadata": {},
   "outputs": [],
   "source": []
  },
  {
   "cell_type": "code",
   "execution_count": null,
   "metadata": {},
   "outputs": [],
   "source": []
  }
 ],
 "metadata": {
  "anaconda-cloud": {},
  "kernelspec": {
   "display_name": "Python 3",
   "language": "python",
   "name": "python3"
  },
  "language_info": {
   "codemirror_mode": {
    "name": "ipython",
    "version": 3
   },
   "file_extension": ".py",
   "mimetype": "text/x-python",
   "name": "python",
   "nbconvert_exporter": "python",
   "pygments_lexer": "ipython3",
   "version": "3.5.2"
  }
 },
 "nbformat": 4,
 "nbformat_minor": 1
}
